{
 "cells": [
  {
   "cell_type": "code",
   "execution_count": 149,
   "metadata": {},
   "outputs": [
    {
     "output_type": "stream",
     "name": "stdout",
     "text": [
      "d:\\05_Projekte\\04_Research\\08_ManuBrain\\01_Lab\\Demo-Cell-Classification\\02_Preprocessing\n"
     ]
    }
   ],
   "source": [
    "## Current path display\n",
    "\n",
    "import os\n",
    "current_path = os.getcwd()\n",
    "print(current_path)"
   ]
  },
  {
   "cell_type": "code",
   "execution_count": 151,
   "metadata": {},
   "outputs": [],
   "source": [
    "import numpy as np\n",
    "import pandas as pd\n",
    "import matplotlib.pyplot as plt\n",
    "from datetime import datetime\n",
    "from datetime import timedelta  "
   ]
  },
  {
   "cell_type": "markdown",
   "metadata": {},
   "source": [
    "## Functions "
   ]
  },
  {
   "cell_type": "code",
   "execution_count": 153,
   "metadata": {},
   "outputs": [],
   "source": [
    "# return tag from data\n",
    "def fc_tag (data,index):\n",
    "    return data.at[index,'d'].split('=')[2] # [2] equivalent a tag column data en txt file\n",
    "\n",
    "# update tag in main table\n",
    "def fc_tag_update(data, tag):\n",
    "    for i in range(len(tag)):\n",
    "        i = i + 1 \n",
    "        data = data.replace({'PrimaryKey':i}, fc_tag(tag,i), regex = False)\n",
    "    return data\n",
    "\n",
    "#Sync TimeStamp\n",
    "\n",
    "def fc_sync_timestamp2(data,ServerTimeStamp,delta_time): #Requires df, column-name and delta-time\n",
    "    for date in data[ServerTimeStamp]:\n",
    "        source = datetime.fromisoformat(str(date).replace('Z','+00:00'))\n",
    "        date_sync = source - delta_time\n",
    "        data[ServerTimeStamp] = date_sync\n",
    "    return data\n",
    "\n",
    "def fc_sync_timestamp(data,ServerTimeStamp,delta_time): #Requires df, column-name and delta-time\n",
    "    for i in range(len(data)): \n",
    "        source = datetime.fromisoformat(str(data.at[i,ServerTimeStamp]).replace('Z','+00:00'))\n",
    "        date_sync = source - delta_time\n",
    "        data.at[i,ServerTimeStamp] = date_sync\n",
    "    return data"
   ]
  },
  {
   "cell_type": "markdown",
   "metadata": {},
   "source": [
    "## Paths from data set"
   ]
  },
  {
   "cell_type": "code",
   "execution_count": 155,
   "metadata": {},
   "outputs": [],
   "source": [
    "date = 201030\n",
    "uc_num = 5\n",
    "\n",
    "path = str(date) + '/use_case' + str(uc_num)\n",
    "\n",
    "# Conveyor_belt\n",
    "path_data_conv = '../01_Data/' + path + '/Conveyor Speed/DataLogger.csv'\n",
    "path_tag_conv = '../01_Data/' + path + '/Conveyor Speed/tagconfig.txt'\n",
    "\n",
    "# Gate\n",
    "path_data_gate = '../01_Data/' + path + '/Gate/DataLogger.csv'\n",
    "path_tag_gate = '../01_Data/' + path + '/Gate/tagconfig.txt'\n",
    "\n",
    "# Quality_Control\n",
    "path_data_qc = '../01_Data/' + path + '/Quality Control/DataLogger.csv'\n",
    "path_tag_qc = '../01_Data/' + path + '/Quality Control/tagconfig.txt'\n",
    "\n",
    "# Robot_Position\n",
    "path_data_rp = '../01_Data/' + path + '/Robot Position/DataLogger.csv'\n",
    "path_tag_rp = '../01_Data/' + path + '/Robot Position/tagconfig.txt'\n",
    "\n",
    "# Store\n",
    "path_data_st = '../01_Data/' + path + '/Store/DataLogger.csv'\n",
    "path_tag_st = '../01_Data/' + path + '/Store/tagconfig.txt'\n",
    "\n",
    "# Flag\n",
    "path_data_flag = '../01_Data/' + path + '/Flag/DataLogger.csv'\n",
    "path_tag_flag = '../01_Data/' + path + '/Flag/tagconfig.txt'\n",
    "\n",
    "# Processed data\n",
    "\n",
    "path_data_save = '../01_Data/' + path + '/Processed/'\n",
    "path_sample_save = '../01_Data/' + path + '/Processed/Samples/'\n"
   ]
  },
  {
   "cell_type": "markdown",
   "metadata": {},
   "source": [
    "## Import data from csv"
   ]
  },
  {
   "cell_type": "code",
   "execution_count": 157,
   "metadata": {},
   "outputs": [],
   "source": [
    "# Conveyor_belt\n",
    "data_conv =  pd.read_csv(path_data_conv, delimiter = ',')\n",
    "#df_conv = pd.DataFrame(pd.read_csv(path_data_conv, delimiter = ','))\n",
    "\n",
    "# Gate\n",
    "data_gate =  pd.read_csv(path_data_gate, delimiter = ',')\n",
    "#df_gate = pd.DataFrame(pd.read_csv(path_data_gate, delimiter = ','))\n",
    "\n",
    "# Quality_Control\n",
    "data_qc =  pd.read_csv(path_data_qc, delimiter = ',')\n",
    "#df_qc = pd.DataFrame(pd.read_csv(path_data_qc, delimiter = ','))\n",
    "\n",
    "# Robot_Position\n",
    "data_rp =  pd.read_csv(path_data_rp, delimiter = ',')\n",
    "#df_rp = pd.DataFrame(pd.read_csv(path_data_rp, delimiter = ','))\n",
    "\n",
    "# Store\n",
    "data_st =  pd.read_csv(path_data_st, delimiter = ',')\n",
    "#df_st = pd.DataFrame(pd.read_csv(path_data_st, delimiter = ','))\n",
    "\n",
    "# Flag\n",
    "data_flag =  pd.read_csv(path_data_flag, delimiter = ',')\n",
    "#df_flag = pd.DataFrame(pd.read_csv(path_data_st, delimiter = ','))"
   ]
  },
  {
   "cell_type": "markdown",
   "metadata": {},
   "source": [
    "## Import data tags"
   ]
  },
  {
   "cell_type": "code",
   "execution_count": 159,
   "metadata": {},
   "outputs": [],
   "source": [
    "# Conveyor_belt\n",
    "tag_conv =  pd.read_fwf(path_tag_conv, sep=\" \", header=None, names=['a','b','c','d'])\n",
    "tag_conv = tag_conv.drop([0]) # delete first row (trash)\n",
    "\n",
    "# Gate\n",
    "tag_gate =  pd.read_fwf(path_tag_gate, sep=\" \", header=None, names=['a','b','c','d'])\n",
    "tag_gate = tag_gate.drop([0]) # delete first row (trash)\n",
    "\n",
    "# Quality_Control\n",
    "tag_qc =  pd.read_fwf(path_tag_qc, sep=\" \", header=None, names=['a','b','c','d'])\n",
    "tag_qc = tag_qc.drop([0]) # delete first row (trash)\n",
    "\n",
    "# Robot_Position\n",
    "tag_rp =  pd.read_fwf(path_tag_rp, sep=\" \", header=None, names=['a','b','c','d'])\n",
    "tag_rp = tag_rp.drop([0]) # delete first row (trash)\n",
    "\n",
    "# Robot_Position\n",
    "tag_st =  pd.read_fwf(path_tag_st, sep=\" \", header=None, names=['a','b','c','d'])\n",
    "tag_st = tag_st.drop([0]) # delete first row (trash)\n",
    "\n",
    "# Flag\n",
    "tag_flag =  pd.read_fwf(path_tag_flag, sep=\" \", header=None, names=['a','b','c','d'])\n",
    "tag_flag = tag_flag.drop([0]) # delete first row (trash)"
   ]
  },
  {
   "cell_type": "markdown",
   "metadata": {},
   "source": [
    "## Update tags"
   ]
  },
  {
   "cell_type": "code",
   "execution_count": 161,
   "metadata": {},
   "outputs": [],
   "source": [
    "# Conveyor_belt\n",
    "data_conv = fc_tag_update(data_conv, tag_conv)\n",
    "\n",
    "# Gate\n",
    "data_gate = fc_tag_update(data_gate, tag_gate)\n",
    "\n",
    "# Quality_Control\n",
    "data_qc = fc_tag_update(data_qc, tag_qc)\n",
    "\n",
    "# Robot_Position\n",
    "data_rp = fc_tag_update(data_rp, tag_rp)\n",
    "\n",
    "# Store\n",
    "data_st = fc_tag_update(data_st, tag_st)\n",
    "\n",
    "# Flag\n",
    "data_flag = fc_tag_update(data_flag, tag_flag)"
   ]
  },
  {
   "cell_type": "markdown",
   "metadata": {},
   "source": [
    "## Syncronize ServerTimeStamp"
   ]
  },
  {
   "cell_type": "code",
   "execution_count": 163,
   "metadata": {},
   "outputs": [],
   "source": [
    "delta_time_PLC = timedelta(seconds=67)\n",
    "delta_time_SIM = timedelta(seconds=0)"
   ]
  },
  {
   "cell_type": "code",
   "execution_count": 164,
   "metadata": {},
   "outputs": [
    {
     "output_type": "execute_result",
     "data": {
      "text/plain": [
       "  PrimaryKey DataType  Value  StatusCode           SourceTimeStamp  \\\n",
       "0         27   0x0004    300  0x002f0000  2020-10-30T12:46:18.868Z   \n",
       "1         28   0x0004    363  0x002f0000  2020-10-30T12:46:18.868Z   \n",
       "2         29   0x0004    380  0x002f0000  2020-10-30T12:46:18.868Z   \n",
       "\n",
       "                    ServerTimeStamp  \n",
       "0  2020-10-30 12:45:11.868000+00:00  \n",
       "1  2020-10-30 12:45:11.868000+00:00  \n",
       "2  2020-10-30 12:45:11.868000+00:00  "
      ],
      "text/html": "<div>\n<style scoped>\n    .dataframe tbody tr th:only-of-type {\n        vertical-align: middle;\n    }\n\n    .dataframe tbody tr th {\n        vertical-align: top;\n    }\n\n    .dataframe thead th {\n        text-align: right;\n    }\n</style>\n<table border=\"1\" class=\"dataframe\">\n  <thead>\n    <tr style=\"text-align: right;\">\n      <th></th>\n      <th>PrimaryKey</th>\n      <th>DataType</th>\n      <th>Value</th>\n      <th>StatusCode</th>\n      <th>SourceTimeStamp</th>\n      <th>ServerTimeStamp</th>\n    </tr>\n  </thead>\n  <tbody>\n    <tr>\n      <th>0</th>\n      <td>27</td>\n      <td>0x0004</td>\n      <td>300</td>\n      <td>0x002f0000</td>\n      <td>2020-10-30T12:46:18.868Z</td>\n      <td>2020-10-30 12:45:11.868000+00:00</td>\n    </tr>\n    <tr>\n      <th>1</th>\n      <td>28</td>\n      <td>0x0004</td>\n      <td>363</td>\n      <td>0x002f0000</td>\n      <td>2020-10-30T12:46:18.868Z</td>\n      <td>2020-10-30 12:45:11.868000+00:00</td>\n    </tr>\n    <tr>\n      <th>2</th>\n      <td>29</td>\n      <td>0x0004</td>\n      <td>380</td>\n      <td>0x002f0000</td>\n      <td>2020-10-30T12:46:18.868Z</td>\n      <td>2020-10-30 12:45:11.868000+00:00</td>\n    </tr>\n  </tbody>\n</table>\n</div>"
     },
     "metadata": {},
     "execution_count": 164
    }
   ],
   "source": [
    "data_conv = fc_sync_timestamp(data_conv,'ServerTimeStamp',delta_time_PLC)\n",
    "data_conv"
   ]
  },
  {
   "cell_type": "code",
   "execution_count": 165,
   "metadata": {},
   "outputs": [
    {
     "output_type": "execute_result",
     "data": {
      "text/plain": [
       "      PrimaryKey DataType Value  StatusCode           SourceTimeStamp  \\\n",
       "0       Position   0x000b   0.3  0x00000000  2020-10-30T12:45:10.206Z   \n",
       "1       Position   0x000b   0.3  0x00000000  2020-10-30T12:45:10.506Z   \n",
       "2           Safe   0x0001  true  0x00000000  2020-10-30T12:45:10.206Z   \n",
       "3           Safe   0x0001  true  0x00000000  2020-10-30T12:45:10.506Z   \n",
       "4          Speed   0x000b     0  0x00000000  2020-10-30T12:45:10.206Z   \n",
       "...          ...      ...   ...         ...                       ...   \n",
       "18661      Speed   0x000b     0  0x00000000  2020-10-30T13:16:15.906Z   \n",
       "18662      Speed   0x000b     0  0x00000000  2020-10-30T13:16:16.206Z   \n",
       "18663   Position   0x000b   0.3  0x00000000  2020-10-30T13:16:16.506Z   \n",
       "18664       Safe   0x0001  true  0x00000000  2020-10-30T13:16:16.506Z   \n",
       "18665      Speed   0x000b     0  0x00000000  2020-10-30T13:16:16.506Z   \n",
       "\n",
       "                        ServerTimeStamp  \n",
       "0      2020-10-30 12:45:10.206000+00:00  \n",
       "1      2020-10-30 12:45:10.506000+00:00  \n",
       "2      2020-10-30 12:45:10.206000+00:00  \n",
       "3      2020-10-30 12:45:10.506000+00:00  \n",
       "4      2020-10-30 12:45:10.206000+00:00  \n",
       "...                                 ...  \n",
       "18661  2020-10-30 13:16:15.906000+00:00  \n",
       "18662  2020-10-30 13:16:16.206000+00:00  \n",
       "18663  2020-10-30 13:16:16.506000+00:00  \n",
       "18664  2020-10-30 13:16:16.506000+00:00  \n",
       "18665  2020-10-30 13:16:16.506000+00:00  \n",
       "\n",
       "[18666 rows x 6 columns]"
      ],
      "text/html": "<div>\n<style scoped>\n    .dataframe tbody tr th:only-of-type {\n        vertical-align: middle;\n    }\n\n    .dataframe tbody tr th {\n        vertical-align: top;\n    }\n\n    .dataframe thead th {\n        text-align: right;\n    }\n</style>\n<table border=\"1\" class=\"dataframe\">\n  <thead>\n    <tr style=\"text-align: right;\">\n      <th></th>\n      <th>PrimaryKey</th>\n      <th>DataType</th>\n      <th>Value</th>\n      <th>StatusCode</th>\n      <th>SourceTimeStamp</th>\n      <th>ServerTimeStamp</th>\n    </tr>\n  </thead>\n  <tbody>\n    <tr>\n      <th>0</th>\n      <td>Position</td>\n      <td>0x000b</td>\n      <td>0.3</td>\n      <td>0x00000000</td>\n      <td>2020-10-30T12:45:10.206Z</td>\n      <td>2020-10-30 12:45:10.206000+00:00</td>\n    </tr>\n    <tr>\n      <th>1</th>\n      <td>Position</td>\n      <td>0x000b</td>\n      <td>0.3</td>\n      <td>0x00000000</td>\n      <td>2020-10-30T12:45:10.506Z</td>\n      <td>2020-10-30 12:45:10.506000+00:00</td>\n    </tr>\n    <tr>\n      <th>2</th>\n      <td>Safe</td>\n      <td>0x0001</td>\n      <td>true</td>\n      <td>0x00000000</td>\n      <td>2020-10-30T12:45:10.206Z</td>\n      <td>2020-10-30 12:45:10.206000+00:00</td>\n    </tr>\n    <tr>\n      <th>3</th>\n      <td>Safe</td>\n      <td>0x0001</td>\n      <td>true</td>\n      <td>0x00000000</td>\n      <td>2020-10-30T12:45:10.506Z</td>\n      <td>2020-10-30 12:45:10.506000+00:00</td>\n    </tr>\n    <tr>\n      <th>4</th>\n      <td>Speed</td>\n      <td>0x000b</td>\n      <td>0</td>\n      <td>0x00000000</td>\n      <td>2020-10-30T12:45:10.206Z</td>\n      <td>2020-10-30 12:45:10.206000+00:00</td>\n    </tr>\n    <tr>\n      <th>...</th>\n      <td>...</td>\n      <td>...</td>\n      <td>...</td>\n      <td>...</td>\n      <td>...</td>\n      <td>...</td>\n    </tr>\n    <tr>\n      <th>18661</th>\n      <td>Speed</td>\n      <td>0x000b</td>\n      <td>0</td>\n      <td>0x00000000</td>\n      <td>2020-10-30T13:16:15.906Z</td>\n      <td>2020-10-30 13:16:15.906000+00:00</td>\n    </tr>\n    <tr>\n      <th>18662</th>\n      <td>Speed</td>\n      <td>0x000b</td>\n      <td>0</td>\n      <td>0x00000000</td>\n      <td>2020-10-30T13:16:16.206Z</td>\n      <td>2020-10-30 13:16:16.206000+00:00</td>\n    </tr>\n    <tr>\n      <th>18663</th>\n      <td>Position</td>\n      <td>0x000b</td>\n      <td>0.3</td>\n      <td>0x00000000</td>\n      <td>2020-10-30T13:16:16.506Z</td>\n      <td>2020-10-30 13:16:16.506000+00:00</td>\n    </tr>\n    <tr>\n      <th>18664</th>\n      <td>Safe</td>\n      <td>0x0001</td>\n      <td>true</td>\n      <td>0x00000000</td>\n      <td>2020-10-30T13:16:16.506Z</td>\n      <td>2020-10-30 13:16:16.506000+00:00</td>\n    </tr>\n    <tr>\n      <th>18665</th>\n      <td>Speed</td>\n      <td>0x000b</td>\n      <td>0</td>\n      <td>0x00000000</td>\n      <td>2020-10-30T13:16:16.506Z</td>\n      <td>2020-10-30 13:16:16.506000+00:00</td>\n    </tr>\n  </tbody>\n</table>\n<p>18666 rows × 6 columns</p>\n</div>"
     },
     "metadata": {},
     "execution_count": 165
    }
   ],
   "source": [
    "data_gate = fc_sync_timestamp(data_gate,'ServerTimeStamp',delta_time_SIM)\n",
    "data_gate"
   ]
  },
  {
   "cell_type": "code",
   "execution_count": 166,
   "metadata": {
    "tags": []
   },
   "outputs": [
    {
     "output_type": "execute_result",
     "data": {
      "text/plain": [
       "        PrimaryKey DataType     Value  StatusCode           SourceTimeStamp  \\\n",
       "0      DistanceAbs   0x000b  0.777450  0x00000000  2020-10-30T12:45:14.303Z   \n",
       "1      DistanceAbs   0x000b  0.777450  0x00000000  2020-10-30T12:45:14.603Z   \n",
       "2        DistanceX   0x000b  0.433815  0x00000000  2020-10-30T12:45:14.303Z   \n",
       "3        DistanceX   0x000b  0.433815  0x00000000  2020-10-30T12:45:14.603Z   \n",
       "4        DistanceY   0x000b  0.645161  0x00000000  2020-10-30T12:45:14.303Z   \n",
       "...            ...      ...       ...         ...                       ...   \n",
       "24843   ResultCode   0x0006  0.000000  0x00000000  2020-10-30T13:16:17.303Z   \n",
       "24844  DistanceAbs   0x000b  0.645161  0x00000000  2020-10-30T13:16:17.603Z   \n",
       "24845    DistanceX   0x000b  0.000000  0x00000000  2020-10-30T13:16:17.603Z   \n",
       "24846    DistanceY   0x000b  0.645161  0x00000000  2020-10-30T13:16:17.603Z   \n",
       "24847   ResultCode   0x0006  0.000000  0x00000000  2020-10-30T13:16:17.603Z   \n",
       "\n",
       "                        ServerTimeStamp  \n",
       "0      2020-10-30 12:45:14.303000+00:00  \n",
       "1      2020-10-30 12:45:14.603000+00:00  \n",
       "2      2020-10-30 12:45:14.303000+00:00  \n",
       "3      2020-10-30 12:45:14.603000+00:00  \n",
       "4      2020-10-30 12:45:14.303000+00:00  \n",
       "...                                 ...  \n",
       "24843  2020-10-30 13:16:17.303000+00:00  \n",
       "24844  2020-10-30 13:16:17.603000+00:00  \n",
       "24845  2020-10-30 13:16:17.603000+00:00  \n",
       "24846  2020-10-30 13:16:17.603000+00:00  \n",
       "24847  2020-10-30 13:16:17.603000+00:00  \n",
       "\n",
       "[24848 rows x 6 columns]"
      ],
      "text/html": "<div>\n<style scoped>\n    .dataframe tbody tr th:only-of-type {\n        vertical-align: middle;\n    }\n\n    .dataframe tbody tr th {\n        vertical-align: top;\n    }\n\n    .dataframe thead th {\n        text-align: right;\n    }\n</style>\n<table border=\"1\" class=\"dataframe\">\n  <thead>\n    <tr style=\"text-align: right;\">\n      <th></th>\n      <th>PrimaryKey</th>\n      <th>DataType</th>\n      <th>Value</th>\n      <th>StatusCode</th>\n      <th>SourceTimeStamp</th>\n      <th>ServerTimeStamp</th>\n    </tr>\n  </thead>\n  <tbody>\n    <tr>\n      <th>0</th>\n      <td>DistanceAbs</td>\n      <td>0x000b</td>\n      <td>0.777450</td>\n      <td>0x00000000</td>\n      <td>2020-10-30T12:45:14.303Z</td>\n      <td>2020-10-30 12:45:14.303000+00:00</td>\n    </tr>\n    <tr>\n      <th>1</th>\n      <td>DistanceAbs</td>\n      <td>0x000b</td>\n      <td>0.777450</td>\n      <td>0x00000000</td>\n      <td>2020-10-30T12:45:14.603Z</td>\n      <td>2020-10-30 12:45:14.603000+00:00</td>\n    </tr>\n    <tr>\n      <th>2</th>\n      <td>DistanceX</td>\n      <td>0x000b</td>\n      <td>0.433815</td>\n      <td>0x00000000</td>\n      <td>2020-10-30T12:45:14.303Z</td>\n      <td>2020-10-30 12:45:14.303000+00:00</td>\n    </tr>\n    <tr>\n      <th>3</th>\n      <td>DistanceX</td>\n      <td>0x000b</td>\n      <td>0.433815</td>\n      <td>0x00000000</td>\n      <td>2020-10-30T12:45:14.603Z</td>\n      <td>2020-10-30 12:45:14.603000+00:00</td>\n    </tr>\n    <tr>\n      <th>4</th>\n      <td>DistanceY</td>\n      <td>0x000b</td>\n      <td>0.645161</td>\n      <td>0x00000000</td>\n      <td>2020-10-30T12:45:14.303Z</td>\n      <td>2020-10-30 12:45:14.303000+00:00</td>\n    </tr>\n    <tr>\n      <th>...</th>\n      <td>...</td>\n      <td>...</td>\n      <td>...</td>\n      <td>...</td>\n      <td>...</td>\n      <td>...</td>\n    </tr>\n    <tr>\n      <th>24843</th>\n      <td>ResultCode</td>\n      <td>0x0006</td>\n      <td>0.000000</td>\n      <td>0x00000000</td>\n      <td>2020-10-30T13:16:17.303Z</td>\n      <td>2020-10-30 13:16:17.303000+00:00</td>\n    </tr>\n    <tr>\n      <th>24844</th>\n      <td>DistanceAbs</td>\n      <td>0x000b</td>\n      <td>0.645161</td>\n      <td>0x00000000</td>\n      <td>2020-10-30T13:16:17.603Z</td>\n      <td>2020-10-30 13:16:17.603000+00:00</td>\n    </tr>\n    <tr>\n      <th>24845</th>\n      <td>DistanceX</td>\n      <td>0x000b</td>\n      <td>0.000000</td>\n      <td>0x00000000</td>\n      <td>2020-10-30T13:16:17.603Z</td>\n      <td>2020-10-30 13:16:17.603000+00:00</td>\n    </tr>\n    <tr>\n      <th>24846</th>\n      <td>DistanceY</td>\n      <td>0x000b</td>\n      <td>0.645161</td>\n      <td>0x00000000</td>\n      <td>2020-10-30T13:16:17.603Z</td>\n      <td>2020-10-30 13:16:17.603000+00:00</td>\n    </tr>\n    <tr>\n      <th>24847</th>\n      <td>ResultCode</td>\n      <td>0x0006</td>\n      <td>0.000000</td>\n      <td>0x00000000</td>\n      <td>2020-10-30T13:16:17.603Z</td>\n      <td>2020-10-30 13:16:17.603000+00:00</td>\n    </tr>\n  </tbody>\n</table>\n<p>24848 rows × 6 columns</p>\n</div>"
     },
     "metadata": {},
     "execution_count": 166
    }
   ],
   "source": [
    "data_qc = fc_sync_timestamp(data_qc,'ServerTimeStamp',delta_time_SIM)\n",
    "#data_qc\n",
    "\n",
    "data_qc['Value'] = data_qc['Value'].replace(2,1)\n",
    "\n",
    "# for row in data_qc.itertuples():\n",
    "#     # current_row = data_qc[row_no, :]\n",
    "#     if row.PrimaryKey == 'ResultCode':\n",
    "#         if row.Value == 2:\n",
    "#             row.Value = 1\n",
    "#             print(row.Value)\n",
    "\n",
    "data_qc"
   ]
  },
  {
   "cell_type": "code",
   "execution_count": 167,
   "metadata": {},
   "outputs": [
    {
     "output_type": "execute_result",
     "data": {
      "text/plain": [
       "      PrimaryKey DataType       Value  StatusCode           SourceTimeStamp  \\\n",
       "0            527   0x0007  3198142330  0x00000000  2020-10-30T12:46:26.379Z   \n",
       "1            527   0x0007  3198142877  0x00000000  2020-10-30T12:46:26.622Z   \n",
       "2            528   0x0007  3187229088  0x00000000  2020-10-30T12:46:26.382Z   \n",
       "3            528   0x0007  3187230597  0x00000000  2020-10-30T12:46:26.622Z   \n",
       "4            529   0x0007  1053889550  0x00000000  2020-10-30T12:46:26.382Z   \n",
       "...          ...      ...         ...         ...                       ...   \n",
       "22054        527   0x0007  3198146987  0x00000000  2020-10-30T13:17:28.619Z   \n",
       "22055        528   0x0007  3188627387  0x00000000  2020-10-30T13:17:28.369Z   \n",
       "22056        528   0x0007  3188627451  0x00000000  2020-10-30T13:17:28.619Z   \n",
       "22057        529   0x0007  1051184195  0x00000000  2020-10-30T13:17:28.366Z   \n",
       "22058        529   0x0007  1051184101  0x00000000  2020-10-30T13:17:28.616Z   \n",
       "\n",
       "                        ServerTimeStamp  \n",
       "0      2020-10-30 12:45:19.379000+00:00  \n",
       "1      2020-10-30 12:45:19.622000+00:00  \n",
       "2      2020-10-30 12:45:19.382000+00:00  \n",
       "3      2020-10-30 12:45:19.622000+00:00  \n",
       "4      2020-10-30 12:45:19.382000+00:00  \n",
       "...                                 ...  \n",
       "22054  2020-10-30 13:16:21.619000+00:00  \n",
       "22055  2020-10-30 13:16:21.369000+00:00  \n",
       "22056  2020-10-30 13:16:21.619000+00:00  \n",
       "22057  2020-10-30 13:16:21.366000+00:00  \n",
       "22058  2020-10-30 13:16:21.616000+00:00  \n",
       "\n",
       "[22059 rows x 6 columns]"
      ],
      "text/html": "<div>\n<style scoped>\n    .dataframe tbody tr th:only-of-type {\n        vertical-align: middle;\n    }\n\n    .dataframe tbody tr th {\n        vertical-align: top;\n    }\n\n    .dataframe thead th {\n        text-align: right;\n    }\n</style>\n<table border=\"1\" class=\"dataframe\">\n  <thead>\n    <tr style=\"text-align: right;\">\n      <th></th>\n      <th>PrimaryKey</th>\n      <th>DataType</th>\n      <th>Value</th>\n      <th>StatusCode</th>\n      <th>SourceTimeStamp</th>\n      <th>ServerTimeStamp</th>\n    </tr>\n  </thead>\n  <tbody>\n    <tr>\n      <th>0</th>\n      <td>527</td>\n      <td>0x0007</td>\n      <td>3198142330</td>\n      <td>0x00000000</td>\n      <td>2020-10-30T12:46:26.379Z</td>\n      <td>2020-10-30 12:45:19.379000+00:00</td>\n    </tr>\n    <tr>\n      <th>1</th>\n      <td>527</td>\n      <td>0x0007</td>\n      <td>3198142877</td>\n      <td>0x00000000</td>\n      <td>2020-10-30T12:46:26.622Z</td>\n      <td>2020-10-30 12:45:19.622000+00:00</td>\n    </tr>\n    <tr>\n      <th>2</th>\n      <td>528</td>\n      <td>0x0007</td>\n      <td>3187229088</td>\n      <td>0x00000000</td>\n      <td>2020-10-30T12:46:26.382Z</td>\n      <td>2020-10-30 12:45:19.382000+00:00</td>\n    </tr>\n    <tr>\n      <th>3</th>\n      <td>528</td>\n      <td>0x0007</td>\n      <td>3187230597</td>\n      <td>0x00000000</td>\n      <td>2020-10-30T12:46:26.622Z</td>\n      <td>2020-10-30 12:45:19.622000+00:00</td>\n    </tr>\n    <tr>\n      <th>4</th>\n      <td>529</td>\n      <td>0x0007</td>\n      <td>1053889550</td>\n      <td>0x00000000</td>\n      <td>2020-10-30T12:46:26.382Z</td>\n      <td>2020-10-30 12:45:19.382000+00:00</td>\n    </tr>\n    <tr>\n      <th>...</th>\n      <td>...</td>\n      <td>...</td>\n      <td>...</td>\n      <td>...</td>\n      <td>...</td>\n      <td>...</td>\n    </tr>\n    <tr>\n      <th>22054</th>\n      <td>527</td>\n      <td>0x0007</td>\n      <td>3198146987</td>\n      <td>0x00000000</td>\n      <td>2020-10-30T13:17:28.619Z</td>\n      <td>2020-10-30 13:16:21.619000+00:00</td>\n    </tr>\n    <tr>\n      <th>22055</th>\n      <td>528</td>\n      <td>0x0007</td>\n      <td>3188627387</td>\n      <td>0x00000000</td>\n      <td>2020-10-30T13:17:28.369Z</td>\n      <td>2020-10-30 13:16:21.369000+00:00</td>\n    </tr>\n    <tr>\n      <th>22056</th>\n      <td>528</td>\n      <td>0x0007</td>\n      <td>3188627451</td>\n      <td>0x00000000</td>\n      <td>2020-10-30T13:17:28.619Z</td>\n      <td>2020-10-30 13:16:21.619000+00:00</td>\n    </tr>\n    <tr>\n      <th>22057</th>\n      <td>529</td>\n      <td>0x0007</td>\n      <td>1051184195</td>\n      <td>0x00000000</td>\n      <td>2020-10-30T13:17:28.366Z</td>\n      <td>2020-10-30 13:16:21.366000+00:00</td>\n    </tr>\n    <tr>\n      <th>22058</th>\n      <td>529</td>\n      <td>0x0007</td>\n      <td>1051184101</td>\n      <td>0x00000000</td>\n      <td>2020-10-30T13:17:28.616Z</td>\n      <td>2020-10-30 13:16:21.616000+00:00</td>\n    </tr>\n  </tbody>\n</table>\n<p>22059 rows × 6 columns</p>\n</div>"
     },
     "metadata": {},
     "execution_count": 167
    }
   ],
   "source": [
    "data_rp = fc_sync_timestamp(data_rp,'ServerTimeStamp',delta_time_PLC)\n",
    "data_rp"
   ]
  },
  {
   "cell_type": "code",
   "execution_count": 168,
   "metadata": {},
   "outputs": [
    {
     "output_type": "execute_result",
     "data": {
      "text/plain": [
       "     PrimaryKey DataType  Value  StatusCode           SourceTimeStamp  \\\n",
       "0      DiscSize   0x0003      0  0x00000000  2020-10-30T12:45:17.980Z   \n",
       "1      DiscSize   0x0003      1  0x00000000  2020-10-30T12:45:18.280Z   \n",
       "2      DiscSize   0x0003      0  0x00000000  2020-10-30T12:45:18.580Z   \n",
       "3      DiscSize   0x0003      0  0x00000000  2020-10-30T12:45:18.880Z   \n",
       "4      DiscSize   0x0003      0  0x00000000  2020-10-30T12:45:19.180Z   \n",
       "...         ...      ...    ...         ...                       ...   \n",
       "6203   DiscSize   0x0003      0  0x00000000  2020-10-30T13:16:18.880Z   \n",
       "6204   DiscSize   0x0003      0  0x00000000  2020-10-30T13:16:19.180Z   \n",
       "6205   DiscSize   0x0003      0  0x00000000  2020-10-30T13:16:19.480Z   \n",
       "6206   DiscSize   0x0003      0  0x00000000  2020-10-30T13:16:19.780Z   \n",
       "6207   DiscSize   0x0003      0  0x00000000  2020-10-30T13:16:20.080Z   \n",
       "\n",
       "                       ServerTimeStamp  \n",
       "0     2020-10-30 12:45:17.980000+00:00  \n",
       "1     2020-10-30 12:45:18.280000+00:00  \n",
       "2     2020-10-30 12:45:18.580000+00:00  \n",
       "3     2020-10-30 12:45:18.880000+00:00  \n",
       "4     2020-10-30 12:45:19.180000+00:00  \n",
       "...                                ...  \n",
       "6203  2020-10-30 13:16:18.880000+00:00  \n",
       "6204  2020-10-30 13:16:19.180000+00:00  \n",
       "6205  2020-10-30 13:16:19.480000+00:00  \n",
       "6206  2020-10-30 13:16:19.780000+00:00  \n",
       "6207  2020-10-30 13:16:20.080000+00:00  \n",
       "\n",
       "[6208 rows x 6 columns]"
      ],
      "text/html": "<div>\n<style scoped>\n    .dataframe tbody tr th:only-of-type {\n        vertical-align: middle;\n    }\n\n    .dataframe tbody tr th {\n        vertical-align: top;\n    }\n\n    .dataframe thead th {\n        text-align: right;\n    }\n</style>\n<table border=\"1\" class=\"dataframe\">\n  <thead>\n    <tr style=\"text-align: right;\">\n      <th></th>\n      <th>PrimaryKey</th>\n      <th>DataType</th>\n      <th>Value</th>\n      <th>StatusCode</th>\n      <th>SourceTimeStamp</th>\n      <th>ServerTimeStamp</th>\n    </tr>\n  </thead>\n  <tbody>\n    <tr>\n      <th>0</th>\n      <td>DiscSize</td>\n      <td>0x0003</td>\n      <td>0</td>\n      <td>0x00000000</td>\n      <td>2020-10-30T12:45:17.980Z</td>\n      <td>2020-10-30 12:45:17.980000+00:00</td>\n    </tr>\n    <tr>\n      <th>1</th>\n      <td>DiscSize</td>\n      <td>0x0003</td>\n      <td>1</td>\n      <td>0x00000000</td>\n      <td>2020-10-30T12:45:18.280Z</td>\n      <td>2020-10-30 12:45:18.280000+00:00</td>\n    </tr>\n    <tr>\n      <th>2</th>\n      <td>DiscSize</td>\n      <td>0x0003</td>\n      <td>0</td>\n      <td>0x00000000</td>\n      <td>2020-10-30T12:45:18.580Z</td>\n      <td>2020-10-30 12:45:18.580000+00:00</td>\n    </tr>\n    <tr>\n      <th>3</th>\n      <td>DiscSize</td>\n      <td>0x0003</td>\n      <td>0</td>\n      <td>0x00000000</td>\n      <td>2020-10-30T12:45:18.880Z</td>\n      <td>2020-10-30 12:45:18.880000+00:00</td>\n    </tr>\n    <tr>\n      <th>4</th>\n      <td>DiscSize</td>\n      <td>0x0003</td>\n      <td>0</td>\n      <td>0x00000000</td>\n      <td>2020-10-30T12:45:19.180Z</td>\n      <td>2020-10-30 12:45:19.180000+00:00</td>\n    </tr>\n    <tr>\n      <th>...</th>\n      <td>...</td>\n      <td>...</td>\n      <td>...</td>\n      <td>...</td>\n      <td>...</td>\n      <td>...</td>\n    </tr>\n    <tr>\n      <th>6203</th>\n      <td>DiscSize</td>\n      <td>0x0003</td>\n      <td>0</td>\n      <td>0x00000000</td>\n      <td>2020-10-30T13:16:18.880Z</td>\n      <td>2020-10-30 13:16:18.880000+00:00</td>\n    </tr>\n    <tr>\n      <th>6204</th>\n      <td>DiscSize</td>\n      <td>0x0003</td>\n      <td>0</td>\n      <td>0x00000000</td>\n      <td>2020-10-30T13:16:19.180Z</td>\n      <td>2020-10-30 13:16:19.180000+00:00</td>\n    </tr>\n    <tr>\n      <th>6205</th>\n      <td>DiscSize</td>\n      <td>0x0003</td>\n      <td>0</td>\n      <td>0x00000000</td>\n      <td>2020-10-30T13:16:19.480Z</td>\n      <td>2020-10-30 13:16:19.480000+00:00</td>\n    </tr>\n    <tr>\n      <th>6206</th>\n      <td>DiscSize</td>\n      <td>0x0003</td>\n      <td>0</td>\n      <td>0x00000000</td>\n      <td>2020-10-30T13:16:19.780Z</td>\n      <td>2020-10-30 13:16:19.780000+00:00</td>\n    </tr>\n    <tr>\n      <th>6207</th>\n      <td>DiscSize</td>\n      <td>0x0003</td>\n      <td>0</td>\n      <td>0x00000000</td>\n      <td>2020-10-30T13:16:20.080Z</td>\n      <td>2020-10-30 13:16:20.080000+00:00</td>\n    </tr>\n  </tbody>\n</table>\n<p>6208 rows × 6 columns</p>\n</div>"
     },
     "metadata": {},
     "execution_count": 168
    }
   ],
   "source": [
    "data_st = fc_sync_timestamp(data_st,'ServerTimeStamp',delta_time_SIM)\n",
    "data_st"
   ]
  },
  {
   "cell_type": "code",
   "execution_count": 169,
   "metadata": {},
   "outputs": [
    {
     "output_type": "execute_result",
     "data": {
      "text/plain": [
       "    PrimaryKey DataType  Value  StatusCode           SourceTimeStamp  \\\n",
       "0          561   0x0001   true  0x00000000  2020-10-30T12:46:18.868Z   \n",
       "1          560   0x0004      0  0x00000000  2020-10-30T12:46:18.870Z   \n",
       "2          560   0x0004      1  0x00000000  2020-10-30T12:46:21.872Z   \n",
       "3          561   0x0001  false  0x00000000  2020-10-30T12:46:22.368Z   \n",
       "4          560   0x0004      2  0x00000000  2020-10-30T12:46:28.121Z   \n",
       "..         ...      ...    ...         ...                       ...   \n",
       "535        561   0x0001  false  0x00000000  2020-10-30T13:17:07.621Z   \n",
       "536        560   0x0004      0  0x00000000  2020-10-30T13:17:13.870Z   \n",
       "537        561   0x0001   true  0x00000000  2020-10-30T13:17:14.620Z   \n",
       "538        560   0x0004      1  0x00000000  2020-10-30T13:17:21.372Z   \n",
       "539        561   0x0001  false  0x00000000  2020-10-30T13:17:22.120Z   \n",
       "\n",
       "                      ServerTimeStamp  \n",
       "0    2020-10-30 12:45:11.868000+00:00  \n",
       "1    2020-10-30 12:45:11.870000+00:00  \n",
       "2    2020-10-30 12:45:14.872000+00:00  \n",
       "3    2020-10-30 12:45:15.368000+00:00  \n",
       "4    2020-10-30 12:45:21.121000+00:00  \n",
       "..                                ...  \n",
       "535  2020-10-30 13:16:00.621000+00:00  \n",
       "536  2020-10-30 13:16:06.870000+00:00  \n",
       "537  2020-10-30 13:16:07.620000+00:00  \n",
       "538  2020-10-30 13:16:14.372000+00:00  \n",
       "539  2020-10-30 13:16:15.120000+00:00  \n",
       "\n",
       "[540 rows x 6 columns]"
      ],
      "text/html": "<div>\n<style scoped>\n    .dataframe tbody tr th:only-of-type {\n        vertical-align: middle;\n    }\n\n    .dataframe tbody tr th {\n        vertical-align: top;\n    }\n\n    .dataframe thead th {\n        text-align: right;\n    }\n</style>\n<table border=\"1\" class=\"dataframe\">\n  <thead>\n    <tr style=\"text-align: right;\">\n      <th></th>\n      <th>PrimaryKey</th>\n      <th>DataType</th>\n      <th>Value</th>\n      <th>StatusCode</th>\n      <th>SourceTimeStamp</th>\n      <th>ServerTimeStamp</th>\n    </tr>\n  </thead>\n  <tbody>\n    <tr>\n      <th>0</th>\n      <td>561</td>\n      <td>0x0001</td>\n      <td>true</td>\n      <td>0x00000000</td>\n      <td>2020-10-30T12:46:18.868Z</td>\n      <td>2020-10-30 12:45:11.868000+00:00</td>\n    </tr>\n    <tr>\n      <th>1</th>\n      <td>560</td>\n      <td>0x0004</td>\n      <td>0</td>\n      <td>0x00000000</td>\n      <td>2020-10-30T12:46:18.870Z</td>\n      <td>2020-10-30 12:45:11.870000+00:00</td>\n    </tr>\n    <tr>\n      <th>2</th>\n      <td>560</td>\n      <td>0x0004</td>\n      <td>1</td>\n      <td>0x00000000</td>\n      <td>2020-10-30T12:46:21.872Z</td>\n      <td>2020-10-30 12:45:14.872000+00:00</td>\n    </tr>\n    <tr>\n      <th>3</th>\n      <td>561</td>\n      <td>0x0001</td>\n      <td>false</td>\n      <td>0x00000000</td>\n      <td>2020-10-30T12:46:22.368Z</td>\n      <td>2020-10-30 12:45:15.368000+00:00</td>\n    </tr>\n    <tr>\n      <th>4</th>\n      <td>560</td>\n      <td>0x0004</td>\n      <td>2</td>\n      <td>0x00000000</td>\n      <td>2020-10-30T12:46:28.121Z</td>\n      <td>2020-10-30 12:45:21.121000+00:00</td>\n    </tr>\n    <tr>\n      <th>...</th>\n      <td>...</td>\n      <td>...</td>\n      <td>...</td>\n      <td>...</td>\n      <td>...</td>\n      <td>...</td>\n    </tr>\n    <tr>\n      <th>535</th>\n      <td>561</td>\n      <td>0x0001</td>\n      <td>false</td>\n      <td>0x00000000</td>\n      <td>2020-10-30T13:17:07.621Z</td>\n      <td>2020-10-30 13:16:00.621000+00:00</td>\n    </tr>\n    <tr>\n      <th>536</th>\n      <td>560</td>\n      <td>0x0004</td>\n      <td>0</td>\n      <td>0x00000000</td>\n      <td>2020-10-30T13:17:13.870Z</td>\n      <td>2020-10-30 13:16:06.870000+00:00</td>\n    </tr>\n    <tr>\n      <th>537</th>\n      <td>561</td>\n      <td>0x0001</td>\n      <td>true</td>\n      <td>0x00000000</td>\n      <td>2020-10-30T13:17:14.620Z</td>\n      <td>2020-10-30 13:16:07.620000+00:00</td>\n    </tr>\n    <tr>\n      <th>538</th>\n      <td>560</td>\n      <td>0x0004</td>\n      <td>1</td>\n      <td>0x00000000</td>\n      <td>2020-10-30T13:17:21.372Z</td>\n      <td>2020-10-30 13:16:14.372000+00:00</td>\n    </tr>\n    <tr>\n      <th>539</th>\n      <td>561</td>\n      <td>0x0001</td>\n      <td>false</td>\n      <td>0x00000000</td>\n      <td>2020-10-30T13:17:22.120Z</td>\n      <td>2020-10-30 13:16:15.120000+00:00</td>\n    </tr>\n  </tbody>\n</table>\n<p>540 rows × 6 columns</p>\n</div>"
     },
     "metadata": {},
     "execution_count": 169
    }
   ],
   "source": [
    "data_flag = fc_sync_timestamp(data_flag,'ServerTimeStamp',delta_time_PLC)\n",
    "data_flag"
   ]
  },
  {
   "cell_type": "markdown",
   "metadata": {},
   "source": [
    "## Merge Data Sets"
   ]
  },
  {
   "cell_type": "code",
   "execution_count": 170,
   "metadata": {},
   "outputs": [],
   "source": [
    "data_set = [data_conv, data_gate, data_qc, data_rp, data_st, data_flag]\n",
    "data_merge = pd.concat(data_set, keys=['conv', 'gate', 'qc', 'rp', 'store', 'flag'])\n",
    "# Sort the data_set by SourceTimeStamp, reset index and delete aux column\n",
    "data_merge = data_merge.sort_values(by='ServerTimeStamp').reset_index().drop('level_1',1)\n",
    "#del data_merge['level_1'] #delete aux column"
   ]
  },
  {
   "cell_type": "code",
   "execution_count": 171,
   "metadata": {},
   "outputs": [
    {
     "output_type": "execute_result",
     "data": {
      "text/plain": [
       "      level_0 PrimaryKey DataType       Value  StatusCode  \\\n",
       "0        gate   Position   0x000b         0.3  0x00000000   \n",
       "1        gate       Safe   0x0001        true  0x00000000   \n",
       "2        gate      Speed   0x000b           0  0x00000000   \n",
       "3        gate      Speed   0x000b           0  0x00000000   \n",
       "4        gate   Position   0x000b         0.3  0x00000000   \n",
       "...       ...        ...      ...         ...         ...   \n",
       "72319      rp        527   0x0007  3198146937  0x00000000   \n",
       "72320      rp        528   0x0007  3188627387  0x00000000   \n",
       "72321      rp        529   0x0007  1051184101  0x00000000   \n",
       "72322      rp        527   0x0007  3198146987  0x00000000   \n",
       "72323      rp        528   0x0007  3188627451  0x00000000   \n",
       "\n",
       "                SourceTimeStamp                   ServerTimeStamp  \n",
       "0      2020-10-30T12:45:10.206Z  2020-10-30 12:45:10.206000+00:00  \n",
       "1      2020-10-30T12:45:10.206Z  2020-10-30 12:45:10.206000+00:00  \n",
       "2      2020-10-30T12:45:10.206Z  2020-10-30 12:45:10.206000+00:00  \n",
       "3      2020-10-30T12:45:10.506Z  2020-10-30 12:45:10.506000+00:00  \n",
       "4      2020-10-30T12:45:10.506Z  2020-10-30 12:45:10.506000+00:00  \n",
       "...                         ...                               ...  \n",
       "72319  2020-10-30T13:17:28.369Z  2020-10-30 13:16:21.369000+00:00  \n",
       "72320  2020-10-30T13:17:28.369Z  2020-10-30 13:16:21.369000+00:00  \n",
       "72321  2020-10-30T13:17:28.616Z  2020-10-30 13:16:21.616000+00:00  \n",
       "72322  2020-10-30T13:17:28.619Z  2020-10-30 13:16:21.619000+00:00  \n",
       "72323  2020-10-30T13:17:28.619Z  2020-10-30 13:16:21.619000+00:00  \n",
       "\n",
       "[72324 rows x 7 columns]"
      ],
      "text/html": "<div>\n<style scoped>\n    .dataframe tbody tr th:only-of-type {\n        vertical-align: middle;\n    }\n\n    .dataframe tbody tr th {\n        vertical-align: top;\n    }\n\n    .dataframe thead th {\n        text-align: right;\n    }\n</style>\n<table border=\"1\" class=\"dataframe\">\n  <thead>\n    <tr style=\"text-align: right;\">\n      <th></th>\n      <th>level_0</th>\n      <th>PrimaryKey</th>\n      <th>DataType</th>\n      <th>Value</th>\n      <th>StatusCode</th>\n      <th>SourceTimeStamp</th>\n      <th>ServerTimeStamp</th>\n    </tr>\n  </thead>\n  <tbody>\n    <tr>\n      <th>0</th>\n      <td>gate</td>\n      <td>Position</td>\n      <td>0x000b</td>\n      <td>0.3</td>\n      <td>0x00000000</td>\n      <td>2020-10-30T12:45:10.206Z</td>\n      <td>2020-10-30 12:45:10.206000+00:00</td>\n    </tr>\n    <tr>\n      <th>1</th>\n      <td>gate</td>\n      <td>Safe</td>\n      <td>0x0001</td>\n      <td>true</td>\n      <td>0x00000000</td>\n      <td>2020-10-30T12:45:10.206Z</td>\n      <td>2020-10-30 12:45:10.206000+00:00</td>\n    </tr>\n    <tr>\n      <th>2</th>\n      <td>gate</td>\n      <td>Speed</td>\n      <td>0x000b</td>\n      <td>0</td>\n      <td>0x00000000</td>\n      <td>2020-10-30T12:45:10.206Z</td>\n      <td>2020-10-30 12:45:10.206000+00:00</td>\n    </tr>\n    <tr>\n      <th>3</th>\n      <td>gate</td>\n      <td>Speed</td>\n      <td>0x000b</td>\n      <td>0</td>\n      <td>0x00000000</td>\n      <td>2020-10-30T12:45:10.506Z</td>\n      <td>2020-10-30 12:45:10.506000+00:00</td>\n    </tr>\n    <tr>\n      <th>4</th>\n      <td>gate</td>\n      <td>Position</td>\n      <td>0x000b</td>\n      <td>0.3</td>\n      <td>0x00000000</td>\n      <td>2020-10-30T12:45:10.506Z</td>\n      <td>2020-10-30 12:45:10.506000+00:00</td>\n    </tr>\n    <tr>\n      <th>...</th>\n      <td>...</td>\n      <td>...</td>\n      <td>...</td>\n      <td>...</td>\n      <td>...</td>\n      <td>...</td>\n      <td>...</td>\n    </tr>\n    <tr>\n      <th>72319</th>\n      <td>rp</td>\n      <td>527</td>\n      <td>0x0007</td>\n      <td>3198146937</td>\n      <td>0x00000000</td>\n      <td>2020-10-30T13:17:28.369Z</td>\n      <td>2020-10-30 13:16:21.369000+00:00</td>\n    </tr>\n    <tr>\n      <th>72320</th>\n      <td>rp</td>\n      <td>528</td>\n      <td>0x0007</td>\n      <td>3188627387</td>\n      <td>0x00000000</td>\n      <td>2020-10-30T13:17:28.369Z</td>\n      <td>2020-10-30 13:16:21.369000+00:00</td>\n    </tr>\n    <tr>\n      <th>72321</th>\n      <td>rp</td>\n      <td>529</td>\n      <td>0x0007</td>\n      <td>1051184101</td>\n      <td>0x00000000</td>\n      <td>2020-10-30T13:17:28.616Z</td>\n      <td>2020-10-30 13:16:21.616000+00:00</td>\n    </tr>\n    <tr>\n      <th>72322</th>\n      <td>rp</td>\n      <td>527</td>\n      <td>0x0007</td>\n      <td>3198146987</td>\n      <td>0x00000000</td>\n      <td>2020-10-30T13:17:28.619Z</td>\n      <td>2020-10-30 13:16:21.619000+00:00</td>\n    </tr>\n    <tr>\n      <th>72323</th>\n      <td>rp</td>\n      <td>528</td>\n      <td>0x0007</td>\n      <td>3188627451</td>\n      <td>0x00000000</td>\n      <td>2020-10-30T13:17:28.619Z</td>\n      <td>2020-10-30 13:16:21.619000+00:00</td>\n    </tr>\n  </tbody>\n</table>\n<p>72324 rows × 7 columns</p>\n</div>"
     },
     "metadata": {},
     "execution_count": 171
    }
   ],
   "source": [
    "data_merge"
   ]
  },
  {
   "cell_type": "markdown",
   "metadata": {},
   "source": [
    "## Export Data to csv"
   ]
  },
  {
   "cell_type": "code",
   "execution_count": 172,
   "metadata": {},
   "outputs": [
    {
     "output_type": "stream",
     "name": "stdout",
     "text": [
      "The data is saved at ../01_Data/201030/use_case5/Processed/data_merge.csv\n"
     ]
    }
   ],
   "source": [
    "data_merge.to_csv(path_data_save + 'data_merge.csv')\n",
    "print('The data is saved at ' + path_data_save + 'data_merge.csv')"
   ]
  },
  {
   "cell_type": "code",
   "execution_count": 173,
   "metadata": {},
   "outputs": [
    {
     "output_type": "execute_result",
     "data": {
      "text/plain": [
       "72324"
      ]
     },
     "metadata": {},
     "execution_count": 173
    }
   ],
   "source": [
    "len(data_merge)"
   ]
  },
  {
   "cell_type": "markdown",
   "metadata": {},
   "source": [
    "## Determine the starting point of data set"
   ]
  },
  {
   "cell_type": "markdown",
   "metadata": {},
   "source": [
    "#Based on change of DistanceAbs in Data- Set\n",
    "var_actual = 0\n",
    "run_list = [0]\n",
    "for i in range(len(data_merge)):\n",
    "    var_previous = var_actual\n",
    "    if data_merge.at[i,'PrimaryKey'] == 'DistanceAbs':  # if 'PrimaryKey' value = 'DistanceAbs':\n",
    "        var_actual = data_merge.at[i,'Value'] # value of current DistanceAbs\n",
    "    if var_previous != var_actual:\n",
    "        run_list.append(i) #i append to list # This list will tell at how many i contains one sample    "
   ]
  },
  {
   "source": [
    "# Based on grabbing the white disk\n",
    "var_actual = 99\n",
    "disk_actual = 99 # Initial value\n",
    "run_list = [0]\n",
    "disk = False\n",
    "storage_down = False\n",
    "rob_x = 0\n",
    "rob_y = 0\n",
    "rob_z = 0\n",
    "rob_pos = 0\n",
    "pos = [0]*(len(data_merge)-2)\n",
    "for i in range(len(data_merge)-2): # len(data_merge)-2 is considered to avoid border errors\n",
    "    #var_previous = var_actual\n",
    "    #rob_pos = fc_rob_pos(i, data_merge) # review robot position\n",
    "    pos[i] = 0\n",
    "    if data_merge.at[i,'PrimaryKey'] == 'DiscSize':  # if 'PrimaryKey' value = 'DiskSize':\n",
    "        disk_previous = disk_actual\n",
    "        disk_actual = data_merge.at[i,'Value'] # value of current DiskSize\n",
    "        #print(disk_previous, disk_actual, i)\n",
    "        if disk_previous != 2 and disk_actual == 2: # Varialbe 0: unkown; 1: Black disk; 2: white disk\n",
    "            disk = True\n",
    "            #print('New white disk here ' + str(i))\n",
    "    if data_merge.at[i,'PrimaryKey'] == '527':  # if 'PrimaryKey' value = 'x coordinate':\n",
    "        rob_x = data_merge.at[i,'Value'] # value of current 'x coordinate'\n",
    "        #print('x = ' + str(rob_x) + '--' + str(i))\n",
    "    if data_merge.at[i,'PrimaryKey'] == '528':  # if 'PrimaryKey' value = 'y coordinate':\n",
    "        rob_y = data_merge.at[i,'Value'] # value of current 'x coordinate'\n",
    "        #print('y = ' + str(rob_y) + '--' + str(i))\n",
    "    if data_merge.at[i,'PrimaryKey'] == '529':  # if 'PrimaryKey' value = 'z coordinate':\n",
    "        rob_z = data_merge.at[i,'Value'] # value of current 'x coordinate'\n",
    "        #print('z = ' + str(rob_z) + '--' + str(i))\n",
    "    if rob_x > 3100000000 and rob_y > 3100000000 and rob_z < 1051200000: #Robot in storage. Picking up the disk\n",
    "        rob_pos = 1\n",
    "        pos[i] = 1\n",
    "        #print('pos 1 - ' + str(i))\n",
    "    if rob_x < 1052000000 and rob_y > 3100000000 and rob_z < 1052000000 and rob_z > 1051200000 : #Robot in storage. Placing down the disk\n",
    "        rob_pos = 2\n",
    "        pos[i] = 2\n",
    "        #print('pos 2 - ' + str(i))\n",
    "    #print(rob_pos)\n",
    "    if rob_pos == 1: # Robot picking up a disk\n",
    "        storage_down = True\n",
    "        #print(storage_down,i)  \n",
    "    if disk == True and storage_down == True:\n",
    "        #var_actual = rob_pos\n",
    "        disk = False\n",
    "        storage_down = False\n",
    "        run_list.append(i) #i append to list # This list will tell at how many i contains one sample\n",
    "        #print(i)\n",
    "    #if var_previous != var_actual:\n",
    "        #run_list.append(i) #i append to list # This list will tell at how many i contains one sample   \n",
    " "
   ],
   "cell_type": "markdown",
   "metadata": {}
  },
  {
   "source": [
    "# Based on grabbing the white disk\n",
    "run_list = [0]\n",
    "rob_pos_actual = 99\n",
    "rob_pos_old = 0\n",
    "gripper_actual = 99\n",
    "gripper_old = 0\n",
    "gripper = False\n",
    "rob_pos = False\n",
    "for i in range(len(data_merge)-2): # len(data_merge)-2 is considered to avoid border errors\n",
    "    #var_previous = var_actual\n",
    "    #rob_pos = fc_rob_pos(i, data_merge) # review robot position\n",
    "    if data_merge.at[i,'PrimaryKey'] == '561':  # if 'PrimaryKey' value = 'gripper open (0), close (1)':\n",
    "        gripper_old = gripper_actual\n",
    "        gripper_actual = data_merge.at[i,'Value'] # value of current 'x coordinate'\n",
    "        if gripper_old != gripper_actual:\n",
    "            gripper = True\n",
    "    if data_merge.at[i,'PrimaryKey'] == '560':  # if 'PrimaryKey' value = 'position of robot based in certain conditions':\n",
    "        # 0: Black disk in store\n",
    "        # 1: Black disk in gate\n",
    "        # 2: White disk in store\n",
    "        # 3: White disk in gate\n",
    "        rob_pos_old = rob_pos_actual\n",
    "        rob_pos_actual = int(data_merge.at[i,'Value']) # value of current 'x coordinate'\n",
    "        if rob_pos_old != rob_pos_actual and rob_pos_actual == 2:\n",
    "            rob_pos = True\n",
    "    if rob_pos == True and gripper == True:\n",
    "        rob_pos = False\n",
    "        gripper = False\n",
    "        run_list.append(i) #i append to list # This list will tell at how many i contains one sample\n",
    "        #print(i)\n",
    " "
   ],
   "cell_type": "code",
   "metadata": {},
   "execution_count": 174,
   "outputs": []
  },
  {
   "cell_type": "code",
   "execution_count": 175,
   "metadata": {},
   "outputs": [
    {
     "output_type": "stream",
     "name": "stdout",
     "text": [
      "[0, 243, 1305, 2357, 3420, 4471, 5530, 6581, 7644, 8696, 10393, 11464, 12515, 13577, 14629, 15688, 16751, 17803, 18866, 19918, 20982, 22033, 23092, 24156, 25213, 26266, 27328, 28380, 29443, 30495, 31558, 32610, 33670, 34722, 35784, 36836, 37905, 38957, 40020, 41071, 42134, 43862, 44912, 45975, 47027, 48086, 49137, 50200, 51252, 52315, 53367, 54430, 55482, 56541, 57593, 58656, 59708, 60767, 61819, 62882, 63934, 64997, 66049, 67113, 68165, 69225, 70276, 71339]\n68\n"
     ]
    }
   ],
   "source": [
    "print(run_list) # Starting points. \n",
    "print(len(run_list))"
   ]
  },
  {
   "cell_type": "code",
   "execution_count": 176,
   "metadata": {},
   "outputs": [],
   "source": [
    "# data_merge.iloc[list(range(0,3))]"
   ]
  },
  {
   "cell_type": "code",
   "execution_count": 177,
   "metadata": {},
   "outputs": [
    {
     "output_type": "execute_result",
     "data": {
      "text/plain": [
       "      level_0 PrimaryKey DataType       Value  StatusCode  \\\n",
       "0        gate   Position   0x000b         0.3  0x00000000   \n",
       "1        gate       Safe   0x0001        true  0x00000000   \n",
       "2        gate      Speed   0x000b           0  0x00000000   \n",
       "3        gate      Speed   0x000b           0  0x00000000   \n",
       "4        gate   Position   0x000b         0.3  0x00000000   \n",
       "...       ...        ...      ...         ...         ...   \n",
       "72319      rp        527   0x0007  3198146937  0x00000000   \n",
       "72320      rp        528   0x0007  3188627387  0x00000000   \n",
       "72321      rp        529   0x0007  1051184101  0x00000000   \n",
       "72322      rp        527   0x0007  3198146987  0x00000000   \n",
       "72323      rp        528   0x0007  3188627451  0x00000000   \n",
       "\n",
       "                SourceTimeStamp                   ServerTimeStamp  \n",
       "0      2020-10-30T12:45:10.206Z  2020-10-30 12:45:10.206000+00:00  \n",
       "1      2020-10-30T12:45:10.206Z  2020-10-30 12:45:10.206000+00:00  \n",
       "2      2020-10-30T12:45:10.206Z  2020-10-30 12:45:10.206000+00:00  \n",
       "3      2020-10-30T12:45:10.506Z  2020-10-30 12:45:10.506000+00:00  \n",
       "4      2020-10-30T12:45:10.506Z  2020-10-30 12:45:10.506000+00:00  \n",
       "...                         ...                               ...  \n",
       "72319  2020-10-30T13:17:28.369Z  2020-10-30 13:16:21.369000+00:00  \n",
       "72320  2020-10-30T13:17:28.369Z  2020-10-30 13:16:21.369000+00:00  \n",
       "72321  2020-10-30T13:17:28.616Z  2020-10-30 13:16:21.616000+00:00  \n",
       "72322  2020-10-30T13:17:28.619Z  2020-10-30 13:16:21.619000+00:00  \n",
       "72323  2020-10-30T13:17:28.619Z  2020-10-30 13:16:21.619000+00:00  \n",
       "\n",
       "[72324 rows x 7 columns]"
      ],
      "text/html": "<div>\n<style scoped>\n    .dataframe tbody tr th:only-of-type {\n        vertical-align: middle;\n    }\n\n    .dataframe tbody tr th {\n        vertical-align: top;\n    }\n\n    .dataframe thead th {\n        text-align: right;\n    }\n</style>\n<table border=\"1\" class=\"dataframe\">\n  <thead>\n    <tr style=\"text-align: right;\">\n      <th></th>\n      <th>level_0</th>\n      <th>PrimaryKey</th>\n      <th>DataType</th>\n      <th>Value</th>\n      <th>StatusCode</th>\n      <th>SourceTimeStamp</th>\n      <th>ServerTimeStamp</th>\n    </tr>\n  </thead>\n  <tbody>\n    <tr>\n      <th>0</th>\n      <td>gate</td>\n      <td>Position</td>\n      <td>0x000b</td>\n      <td>0.3</td>\n      <td>0x00000000</td>\n      <td>2020-10-30T12:45:10.206Z</td>\n      <td>2020-10-30 12:45:10.206000+00:00</td>\n    </tr>\n    <tr>\n      <th>1</th>\n      <td>gate</td>\n      <td>Safe</td>\n      <td>0x0001</td>\n      <td>true</td>\n      <td>0x00000000</td>\n      <td>2020-10-30T12:45:10.206Z</td>\n      <td>2020-10-30 12:45:10.206000+00:00</td>\n    </tr>\n    <tr>\n      <th>2</th>\n      <td>gate</td>\n      <td>Speed</td>\n      <td>0x000b</td>\n      <td>0</td>\n      <td>0x00000000</td>\n      <td>2020-10-30T12:45:10.206Z</td>\n      <td>2020-10-30 12:45:10.206000+00:00</td>\n    </tr>\n    <tr>\n      <th>3</th>\n      <td>gate</td>\n      <td>Speed</td>\n      <td>0x000b</td>\n      <td>0</td>\n      <td>0x00000000</td>\n      <td>2020-10-30T12:45:10.506Z</td>\n      <td>2020-10-30 12:45:10.506000+00:00</td>\n    </tr>\n    <tr>\n      <th>4</th>\n      <td>gate</td>\n      <td>Position</td>\n      <td>0x000b</td>\n      <td>0.3</td>\n      <td>0x00000000</td>\n      <td>2020-10-30T12:45:10.506Z</td>\n      <td>2020-10-30 12:45:10.506000+00:00</td>\n    </tr>\n    <tr>\n      <th>...</th>\n      <td>...</td>\n      <td>...</td>\n      <td>...</td>\n      <td>...</td>\n      <td>...</td>\n      <td>...</td>\n      <td>...</td>\n    </tr>\n    <tr>\n      <th>72319</th>\n      <td>rp</td>\n      <td>527</td>\n      <td>0x0007</td>\n      <td>3198146937</td>\n      <td>0x00000000</td>\n      <td>2020-10-30T13:17:28.369Z</td>\n      <td>2020-10-30 13:16:21.369000+00:00</td>\n    </tr>\n    <tr>\n      <th>72320</th>\n      <td>rp</td>\n      <td>528</td>\n      <td>0x0007</td>\n      <td>3188627387</td>\n      <td>0x00000000</td>\n      <td>2020-10-30T13:17:28.369Z</td>\n      <td>2020-10-30 13:16:21.369000+00:00</td>\n    </tr>\n    <tr>\n      <th>72321</th>\n      <td>rp</td>\n      <td>529</td>\n      <td>0x0007</td>\n      <td>1051184101</td>\n      <td>0x00000000</td>\n      <td>2020-10-30T13:17:28.616Z</td>\n      <td>2020-10-30 13:16:21.616000+00:00</td>\n    </tr>\n    <tr>\n      <th>72322</th>\n      <td>rp</td>\n      <td>527</td>\n      <td>0x0007</td>\n      <td>3198146987</td>\n      <td>0x00000000</td>\n      <td>2020-10-30T13:17:28.619Z</td>\n      <td>2020-10-30 13:16:21.619000+00:00</td>\n    </tr>\n    <tr>\n      <th>72323</th>\n      <td>rp</td>\n      <td>528</td>\n      <td>0x0007</td>\n      <td>3188627451</td>\n      <td>0x00000000</td>\n      <td>2020-10-30T13:17:28.619Z</td>\n      <td>2020-10-30 13:16:21.619000+00:00</td>\n    </tr>\n  </tbody>\n</table>\n<p>72324 rows × 7 columns</p>\n</div>"
     },
     "metadata": {},
     "execution_count": 177
    }
   ],
   "source": [
    "#df_robpos = pd.DataFrame(pos,columns=['RobPos']) # Position of robot. 0: not important; 1: Robot in storage. Picking up the disk; 2:Robot in storage. Placing down the disk\n",
    "#data_merge = pd.concat([data_merge, df_robpos], axis=1, sort=False)\n",
    "data_merge"
   ]
  },
  {
   "cell_type": "markdown",
   "metadata": {},
   "source": [
    "The list contains the point i when the value is different. To consider the point where the value remains, consider i-1"
   ]
  },
  {
   "cell_type": "code",
   "execution_count": 178,
   "metadata": {},
   "outputs": [
    {
     "output_type": "stream",
     "name": "stdout",
     "text": [
      "Dictionary lenght is:67\n"
     ]
    }
   ],
   "source": [
    "d = {} # Dictionary that holds the sub-data-sets given by the starting point\n",
    "for i in range(len(run_list)-1): # Ignores the last value (set of values)\n",
    "    list_range = list(range(run_list[i],run_list[i+1]))\n",
    "    d['df{0}'.format(i)] = data_merge.iloc[list_range]\n",
    "    \n",
    "print('Dictionary lenght is:' + str(len(d)))"
   ]
  },
  {
   "source": [
    "## Assure conv_speed per sample "
   ],
   "cell_type": "markdown",
   "metadata": {}
  },
  {
   "source": [
    "conv_1 = 0\n",
    "conv_2 = 0\n",
    "conv_3 = 0\n",
    "conv1 = False\n",
    "conv2 = False\n",
    "conv3 = False\n",
    "for j in range(len(d)): # as many samples saved in dictionary\n",
    "    df = d['df'+ str(j)]\n",
    "    for i in range(len(df)): # as many row in the dataFrame\n",
    "        #print(df.iat[i,1])\n",
    "        if df.iat[i,1] == '27': # conv1\n",
    "            conv_1 = df.iat[i,3]\n",
    "            conv1 = True # the value shows at least once in the data set\n",
    "        if df.iat[i,1] == '28': # conv2\n",
    "            conv_2 = df.iat[i,3]\n",
    "            conv2 = True\n",
    "        if df.iat[i,1] == '29': # conv3\n",
    "            conv_3 = df.iat[i,3]\n",
    "            conv3 = True\n",
    "    if conv1 == False: # The value did not occur in this sample. Copy value from previous samples into this one\n",
    "        dic = {'PrimaryKey' : '27', 'Value': str(conv_1)}\n",
    "        df.loc[len(df)+1,'PrimaryKey'] = '27'\n",
    "        df.loc[len(df),'Value'] = str(conv_1)\n",
    "        df.loc[len(df),'DataType'] = 'NA'\n",
    "        df.loc[len(df),'StatusCode'] = 'NA'\n",
    "        df.loc[len(df),'SourceTimeStamp'] = 'NA'\n",
    "        df.loc[len(df),'ServerTimeStamp'] = 'NA'\n",
    "    if conv2 == False:\n",
    "        dic = {'PrimaryKey' : '27', 'Value': str(conv_2)}\n",
    "        df.loc[len(df)+1,'PrimaryKey'] = '28'\n",
    "        df.loc[len(df),'Value'] = str(conv_2)\n",
    "        df.loc[len(df),'DataType'] = 'NA'\n",
    "        df.loc[len(df),'StatusCode'] = 'NA'\n",
    "        df.loc[len(df),'SourceTimeStamp'] = 'NA'\n",
    "        df.loc[len(df),'ServerTimeStamp'] = 'NA'\n",
    "    if conv3 == False:\n",
    "        dic = {'PrimaryKey' : '27', 'Value': str(conv_3)}\n",
    "        df.loc[len(df)+1,'PrimaryKey'] = '29'\n",
    "        df.loc[len(df),'Value'] = str(conv_3)\n",
    "        df.loc[len(df),'DataType'] = 'NA'\n",
    "        df.loc[len(df),'StatusCode'] = 'NA'\n",
    "        df.loc[len(df),'SourceTimeStamp'] = 'NA'\n",
    "        df.loc[len(df),'ServerTimeStamp'] = 'NA'\n",
    "   \n",
    "    conv1 = False # reset conv for the next round\n",
    "    conv2 = False\n",
    "    conv3 = False\n",
    "print(conv_1)\n",
    "print(conv_2)\n",
    "print(conv_3)"
   ],
   "cell_type": "code",
   "metadata": {
    "scrolled": true
   },
   "execution_count": 179,
   "outputs": [
    {
     "output_type": "stream",
     "name": "stdout",
     "text": [
      "300\n363\n380\n"
     ]
    }
   ]
  },
  {
   "cell_type": "markdown",
   "metadata": {},
   "source": [
    "## Export individual data-sample to .csv"
   ]
  },
  {
   "cell_type": "code",
   "execution_count": 180,
   "metadata": {},
   "outputs": [
    {
     "output_type": "stream",
     "name": "stdout",
     "text": [
      "The data is saved at ../01_Data/201030/use_case5/Processed/Samples/sample_x.csv\n"
     ]
    }
   ],
   "source": [
    "for i in range(len(d)):\n",
    "    if i > 0: # always ignore the first sample due to data-acquisition misalligment\n",
    "        d['df' + str(i)].to_csv(path_sample_save + 'sample_' + str(i) + '.csv')\n",
    "print('The data is saved at ' + path_sample_save + 'sample_x.csv')"
   ]
  },
  {
   "cell_type": "markdown",
   "metadata": {},
   "source": [
    "## Testing area"
   ]
  },
  {
   "cell_type": "code",
   "execution_count": 181,
   "metadata": {},
   "outputs": [
    {
     "output_type": "stream",
     "name": "stdout",
     "text": [
      "done\n"
     ]
    }
   ],
   "source": [
    "print(\"done\")"
   ]
  },
  {
   "cell_type": "code",
   "execution_count": 182,
   "metadata": {},
   "outputs": [],
   "source": [
    "# list_range = list(range(run_list[0],run_list[1]))\n",
    "# print(list_range)"
   ]
  },
  {
   "cell_type": "code",
   "execution_count": 183,
   "metadata": {},
   "outputs": [],
   "source": [
    "# data_merge.iloc[list_range]"
   ]
  },
  {
   "cell_type": "code",
   "execution_count": 184,
   "metadata": {
    "scrolled": true
   },
   "outputs": [],
   "source": [
    "# data_rp.loc[:, 'PrimaryKey'] = '529_z'\n",
    "# data_rp"
   ]
  },
  {
   "cell_type": "code",
   "execution_count": 185,
   "metadata": {},
   "outputs": [],
   "source": [
    "# %matplotlib notebook \n",
    "# data_gate.head(400).plot(x='SourceTimeStamp', y= 'Value')\n",
    "# plt.xticks(rotation=45)"
   ]
  },
  {
   "cell_type": "code",
   "execution_count": 186,
   "metadata": {},
   "outputs": [],
   "source": [
    "# %matplotlib notebook \n",
    "# data_rp.head(200).plot( y= 'Value')\n",
    "# plt.xticks(rotation=45)"
   ]
  }
 ],
 "metadata": {
  "kernelspec": {
   "display_name": "Python 3",
   "language": "python",
   "name": "python3"
  },
  "language_info": {
   "codemirror_mode": {
    "name": "ipython",
    "version": 3
   },
   "file_extension": ".py",
   "mimetype": "text/x-python",
   "name": "python",
   "nbconvert_exporter": "python",
   "pygments_lexer": "ipython3",
   "version": "3.8.5-final"
  }
 },
 "nbformat": 4,
 "nbformat_minor": 4
}