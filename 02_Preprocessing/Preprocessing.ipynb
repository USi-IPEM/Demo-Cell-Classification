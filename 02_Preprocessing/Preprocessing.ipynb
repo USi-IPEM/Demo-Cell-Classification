{
 "cells": [
  {
   "cell_type": "code",
   "execution_count": 1,
   "metadata": {},
   "outputs": [
    {
     "output_type": "stream",
     "name": "stdout",
     "text": [
      "d:\\05_Projekte\\04_Research\\08_ManuBrain\\01_Lab\\Demo-Cell-Classification\\Demo-Cell-Classification\\02_Preprocessing\n"
     ]
    }
   ],
   "source": [
    "## Current path display\n",
    "\n",
    "import os\n",
    "current_path = os.getcwd()\n",
    "print(current_path)"
   ]
  },
  {
   "cell_type": "code",
   "execution_count": 2,
   "metadata": {},
   "outputs": [],
   "source": [
    "import numpy as np\n",
    "import pandas as pd\n",
    "import matplotlib.pyplot as plt\n",
    "from datetime import datetime\n",
    "from datetime import timedelta  "
   ]
  },
  {
   "cell_type": "markdown",
   "metadata": {},
   "source": [
    "## Functions "
   ]
  },
  {
   "cell_type": "code",
   "execution_count": 3,
   "metadata": {},
   "outputs": [],
   "source": [
    "# return tag from data\n",
    "def fc_tag (data,index):\n",
    "    return data.at[index,'d'].split('=')[2] # [2] equivalent a tag column data en txt file\n",
    "\n",
    "# update tag in main table\n",
    "def fc_tag_update(data, tag):\n",
    "    for i in range(len(tag)):\n",
    "        i = i + 1 \n",
    "        data = data.replace({'PrimaryKey':i}, fc_tag(tag,i), regex = False)\n",
    "    return data\n",
    "\n",
    "#Sync TimeStamp\n",
    "\n",
    "def fc_sync_timestamp2(data,ServerTimeStamp,delta_time): #Requires df, column-name and delta-time\n",
    "    for date in data[ServerTimeStamp]:\n",
    "        source = datetime.fromisoformat(str(date).replace('Z','+00:00'))\n",
    "        date_sync = source - delta_time\n",
    "        data[ServerTimeStamp] = date_sync\n",
    "    return data\n",
    "\n",
    "def fc_sync_timestamp(data,ServerTimeStamp,delta_time): #Requires df, column-name and delta-time\n",
    "    for i in range(len(data)): \n",
    "        source = datetime.fromisoformat(str(data.at[i,ServerTimeStamp]).replace('Z','+00:00'))\n",
    "        date_sync = source - delta_time\n",
    "        data.at[i,ServerTimeStamp] = date_sync\n",
    "    return data"
   ]
  },
  {
   "cell_type": "markdown",
   "metadata": {},
   "source": [
    "## Paths from data set"
   ]
  },
  {
   "cell_type": "code",
   "execution_count": 4,
   "metadata": {},
   "outputs": [],
   "source": [
    "date = 201012\n",
    "uc_num = 2\n",
    "\n",
    "path = str(date) + '/use_case' + str(uc_num)\n",
    "\n",
    "# Conveyor_belt\n",
    "path_data_conv = '../01_Data/' + path + '/Conveyor Speed/DataLogger.csv'\n",
    "path_tag_conv = '../01_Data/' + path + '/Conveyor Speed/tagconfig.txt'\n",
    "\n",
    "# Gate\n",
    "path_data_gate = '../01_Data/' + path + '/Gate/DataLogger.csv'\n",
    "path_tag_gate = '../01_Data/' + path + '/Gate/tagconfig.txt'\n",
    "\n",
    "# Quality_Control\n",
    "path_data_qc = '../01_Data/' + path + '/Quality Control/DataLogger.csv'\n",
    "path_tag_qc = '../01_Data/' + path + '/Quality Control/tagconfig.txt'\n",
    "\n",
    "# Robot_Position\n",
    "path_data_rp = '../01_Data/' + path + '/Robot Position/DataLogger.csv'\n",
    "path_tag_rp = '../01_Data/' + path + '/Robot Position/tagconfig.txt'\n",
    "\n",
    "# Store\n",
    "path_data_st = '../01_Data/' + path + '/Store/DataLogger.csv'\n",
    "path_tag_st = '../01_Data/' + path + '/Store/tagconfig.txt'\n",
    "\n",
    "# Processed data\n",
    "\n",
    "path_data_save = '../01_Data/' + path + '/Processed/'\n",
    "path_sample_save = '../01_Data/' + path + '/Processed/Samples/'"
   ]
  },
  {
   "cell_type": "markdown",
   "metadata": {},
   "source": [
    "## Import data from csv"
   ]
  },
  {
   "cell_type": "code",
   "execution_count": 5,
   "metadata": {},
   "outputs": [],
   "source": [
    "# Conveyor_belt\n",
    "data_conv =  pd.read_csv(path_data_conv, delimiter = ',')\n",
    "#df_conv = pd.DataFrame(pd.read_csv(path_data_conv, delimiter = ','))\n",
    "\n",
    "# Gate\n",
    "data_gate =  pd.read_csv(path_data_gate, delimiter = ',')\n",
    "#df_gate = pd.DataFrame(pd.read_csv(path_data_gate, delimiter = ','))\n",
    "\n",
    "# Quality_Control\n",
    "data_qc =  pd.read_csv(path_data_qc, delimiter = ',')\n",
    "#df_qc = pd.DataFrame(pd.read_csv(path_data_qc, delimiter = ','))\n",
    "\n",
    "# Robot_Position\n",
    "data_rp =  pd.read_csv(path_data_rp, delimiter = ',')\n",
    "#df_rp = pd.DataFrame(pd.read_csv(path_data_rp, delimiter = ','))\n",
    "\n",
    "# Store\n",
    "data_st =  pd.read_csv(path_data_st, delimiter = ',')\n",
    "#df_st = pd.DataFrame(pd.read_csv(path_data_st, delimiter = ','))"
   ]
  },
  {
   "cell_type": "markdown",
   "metadata": {},
   "source": [
    "## Import data tags"
   ]
  },
  {
   "cell_type": "code",
   "execution_count": 6,
   "metadata": {},
   "outputs": [],
   "source": [
    "# Conveyor_belt\n",
    "tag_conv =  pd.read_fwf(path_tag_conv, sep=\" \", header=None, names=['a','b','c','d'])\n",
    "tag_conv = tag_conv.drop([0]) # delete first row (trash)\n",
    "\n",
    "# Gate\n",
    "tag_gate =  pd.read_fwf(path_tag_gate, sep=\" \", header=None, names=['a','b','c','d'])\n",
    "tag_gate = tag_gate.drop([0]) # delete first row (trash)\n",
    "\n",
    "# Quality_Control\n",
    "tag_qc =  pd.read_fwf(path_tag_qc, sep=\" \", header=None, names=['a','b','c','d'])\n",
    "tag_qc = tag_qc.drop([0]) # delete first row (trash)\n",
    "\n",
    "# Robot_Position\n",
    "tag_rp =  pd.read_fwf(path_tag_rp, sep=\" \", header=None, names=['a','b','c','d'])\n",
    "tag_rp = tag_rp.drop([0]) # delete first row (trash)\n",
    "\n",
    "# Robot_Position\n",
    "tag_st =  pd.read_fwf(path_tag_st, sep=\" \", header=None, names=['a','b','c','d'])\n",
    "tag_st = tag_st.drop([0]) # delete first row (trash)"
   ]
  },
  {
   "cell_type": "markdown",
   "metadata": {},
   "source": [
    "## Update tags"
   ]
  },
  {
   "cell_type": "code",
   "execution_count": 7,
   "metadata": {},
   "outputs": [],
   "source": [
    "# Conveyor_belt\n",
    "data_conv = fc_tag_update(data_conv, tag_conv)\n",
    "\n",
    "# Gate\n",
    "data_gate = fc_tag_update(data_gate, tag_gate)\n",
    "\n",
    "# Quality_Control\n",
    "data_qc = fc_tag_update(data_qc, tag_qc)\n",
    "\n",
    "# Robot_Position\n",
    "data_rp = fc_tag_update(data_rp, tag_rp)\n",
    "\n",
    "# Store\n",
    "data_st = fc_tag_update(data_st, tag_st)"
   ]
  },
  {
   "cell_type": "markdown",
   "metadata": {},
   "source": [
    "## Syncronize ServerTimeStamp"
   ]
  },
  {
   "cell_type": "code",
   "execution_count": 8,
   "metadata": {},
   "outputs": [],
   "source": [
    "delta_time_PLC = timedelta(seconds=0)\n",
    "delta_time_SIM = timedelta(seconds=55)"
   ]
  },
  {
   "cell_type": "code",
   "execution_count": 9,
   "metadata": {},
   "outputs": [
    {
     "output_type": "execute_result",
     "data": {
      "text/plain": [
       "   PrimaryKey DataType  Value  StatusCode           SourceTimeStamp  \\\n",
       "0          27   0x0004    414  0x00000000  2020-10-12T09:27:38.979Z   \n",
       "1          28   0x0004    551  0x00000000  2020-10-12T09:27:38.980Z   \n",
       "2          29   0x0004    584  0x00000000  2020-10-12T09:27:38.980Z   \n",
       "3          27   0x0004    300  0x00000000  2020-10-12T09:27:39.728Z   \n",
       "4          28   0x0004    363  0x00000000  2020-10-12T09:27:39.729Z   \n",
       "5          29   0x0004    380  0x00000000  2020-10-12T09:27:39.729Z   \n",
       "6          27   0x0004    300  0x002f0000  2020-10-12T09:43:03.228Z   \n",
       "7          27   0x0004    300  0x00000000  2020-10-12T09:43:03.479Z   \n",
       "8          28   0x0004    363  0x002f0000  2020-10-12T09:43:03.228Z   \n",
       "9          28   0x0004    363  0x00000000  2020-10-12T09:43:03.479Z   \n",
       "10         29   0x0004    380  0x002f0000  2020-10-12T09:43:03.231Z   \n",
       "11         29   0x0004    380  0x00000000  2020-10-12T09:43:03.481Z   \n",
       "\n",
       "                     ServerTimeStamp  \n",
       "0   2020-10-12 09:27:38.979000+00:00  \n",
       "1   2020-10-12 09:27:38.980000+00:00  \n",
       "2   2020-10-12 09:27:38.980000+00:00  \n",
       "3   2020-10-12 09:27:39.728000+00:00  \n",
       "4   2020-10-12 09:27:39.729000+00:00  \n",
       "5   2020-10-12 09:27:39.729000+00:00  \n",
       "6   2020-10-12 09:43:03.228000+00:00  \n",
       "7   2020-10-12 09:43:03.479000+00:00  \n",
       "8   2020-10-12 09:43:03.228000+00:00  \n",
       "9   2020-10-12 09:43:03.479000+00:00  \n",
       "10  2020-10-12 09:43:03.231000+00:00  \n",
       "11  2020-10-12 09:43:03.481000+00:00  "
      ],
      "text/html": "<div>\n<style scoped>\n    .dataframe tbody tr th:only-of-type {\n        vertical-align: middle;\n    }\n\n    .dataframe tbody tr th {\n        vertical-align: top;\n    }\n\n    .dataframe thead th {\n        text-align: right;\n    }\n</style>\n<table border=\"1\" class=\"dataframe\">\n  <thead>\n    <tr style=\"text-align: right;\">\n      <th></th>\n      <th>PrimaryKey</th>\n      <th>DataType</th>\n      <th>Value</th>\n      <th>StatusCode</th>\n      <th>SourceTimeStamp</th>\n      <th>ServerTimeStamp</th>\n    </tr>\n  </thead>\n  <tbody>\n    <tr>\n      <th>0</th>\n      <td>27</td>\n      <td>0x0004</td>\n      <td>414</td>\n      <td>0x00000000</td>\n      <td>2020-10-12T09:27:38.979Z</td>\n      <td>2020-10-12 09:27:38.979000+00:00</td>\n    </tr>\n    <tr>\n      <th>1</th>\n      <td>28</td>\n      <td>0x0004</td>\n      <td>551</td>\n      <td>0x00000000</td>\n      <td>2020-10-12T09:27:38.980Z</td>\n      <td>2020-10-12 09:27:38.980000+00:00</td>\n    </tr>\n    <tr>\n      <th>2</th>\n      <td>29</td>\n      <td>0x0004</td>\n      <td>584</td>\n      <td>0x00000000</td>\n      <td>2020-10-12T09:27:38.980Z</td>\n      <td>2020-10-12 09:27:38.980000+00:00</td>\n    </tr>\n    <tr>\n      <th>3</th>\n      <td>27</td>\n      <td>0x0004</td>\n      <td>300</td>\n      <td>0x00000000</td>\n      <td>2020-10-12T09:27:39.728Z</td>\n      <td>2020-10-12 09:27:39.728000+00:00</td>\n    </tr>\n    <tr>\n      <th>4</th>\n      <td>28</td>\n      <td>0x0004</td>\n      <td>363</td>\n      <td>0x00000000</td>\n      <td>2020-10-12T09:27:39.729Z</td>\n      <td>2020-10-12 09:27:39.729000+00:00</td>\n    </tr>\n    <tr>\n      <th>5</th>\n      <td>29</td>\n      <td>0x0004</td>\n      <td>380</td>\n      <td>0x00000000</td>\n      <td>2020-10-12T09:27:39.729Z</td>\n      <td>2020-10-12 09:27:39.729000+00:00</td>\n    </tr>\n    <tr>\n      <th>6</th>\n      <td>27</td>\n      <td>0x0004</td>\n      <td>300</td>\n      <td>0x002f0000</td>\n      <td>2020-10-12T09:43:03.228Z</td>\n      <td>2020-10-12 09:43:03.228000+00:00</td>\n    </tr>\n    <tr>\n      <th>7</th>\n      <td>27</td>\n      <td>0x0004</td>\n      <td>300</td>\n      <td>0x00000000</td>\n      <td>2020-10-12T09:43:03.479Z</td>\n      <td>2020-10-12 09:43:03.479000+00:00</td>\n    </tr>\n    <tr>\n      <th>8</th>\n      <td>28</td>\n      <td>0x0004</td>\n      <td>363</td>\n      <td>0x002f0000</td>\n      <td>2020-10-12T09:43:03.228Z</td>\n      <td>2020-10-12 09:43:03.228000+00:00</td>\n    </tr>\n    <tr>\n      <th>9</th>\n      <td>28</td>\n      <td>0x0004</td>\n      <td>363</td>\n      <td>0x00000000</td>\n      <td>2020-10-12T09:43:03.479Z</td>\n      <td>2020-10-12 09:43:03.479000+00:00</td>\n    </tr>\n    <tr>\n      <th>10</th>\n      <td>29</td>\n      <td>0x0004</td>\n      <td>380</td>\n      <td>0x002f0000</td>\n      <td>2020-10-12T09:43:03.231Z</td>\n      <td>2020-10-12 09:43:03.231000+00:00</td>\n    </tr>\n    <tr>\n      <th>11</th>\n      <td>29</td>\n      <td>0x0004</td>\n      <td>380</td>\n      <td>0x00000000</td>\n      <td>2020-10-12T09:43:03.481Z</td>\n      <td>2020-10-12 09:43:03.481000+00:00</td>\n    </tr>\n  </tbody>\n</table>\n</div>"
     },
     "metadata": {},
     "execution_count": 9
    }
   ],
   "source": [
    "data_conv = fc_sync_timestamp(data_conv,'ServerTimeStamp',delta_time_PLC)\n",
    "data_conv"
   ]
  },
  {
   "cell_type": "code",
   "execution_count": 10,
   "metadata": {},
   "outputs": [
    {
     "output_type": "execute_result",
     "data": {
      "text/plain": [
       "      PrimaryKey DataType Value  StatusCode           SourceTimeStamp  \\\n",
       "0       Position   0x000b   0.3  0x00000000  2020-10-12T09:26:48.068Z   \n",
       "1       Position   0x000b   0.3  0x00000000  2020-10-12T09:26:48.368Z   \n",
       "2           Safe   0x0001  true  0x00000000  2020-10-12T09:26:48.068Z   \n",
       "3           Safe   0x0001  true  0x00000000  2020-10-12T09:26:48.368Z   \n",
       "4          Speed   0x000b     0  0x00000000  2020-10-12T09:26:48.068Z   \n",
       "...          ...      ...   ...         ...                       ...   \n",
       "23578      Speed   0x000b     0  0x00000000  2020-10-12T10:06:05.468Z   \n",
       "23579      Speed   0x000b     0  0x00000000  2020-10-12T10:06:05.768Z   \n",
       "23580   Position   0x000b   0.3  0x00000000  2020-10-12T10:06:06.068Z   \n",
       "23581       Safe   0x0001  true  0x00000000  2020-10-12T10:06:06.068Z   \n",
       "23582      Speed   0x000b     0  0x00000000  2020-10-12T10:06:06.068Z   \n",
       "\n",
       "                        ServerTimeStamp  \n",
       "0      2020-10-12 09:25:53.068000+00:00  \n",
       "1      2020-10-12 09:25:53.368000+00:00  \n",
       "2      2020-10-12 09:25:53.068000+00:00  \n",
       "3      2020-10-12 09:25:53.368000+00:00  \n",
       "4      2020-10-12 09:25:53.068000+00:00  \n",
       "...                                 ...  \n",
       "23578  2020-10-12 10:05:10.468000+00:00  \n",
       "23579  2020-10-12 10:05:10.768000+00:00  \n",
       "23580  2020-10-12 10:05:11.068000+00:00  \n",
       "23581  2020-10-12 10:05:11.068000+00:00  \n",
       "23582  2020-10-12 10:05:11.068000+00:00  \n",
       "\n",
       "[23583 rows x 6 columns]"
      ],
      "text/html": "<div>\n<style scoped>\n    .dataframe tbody tr th:only-of-type {\n        vertical-align: middle;\n    }\n\n    .dataframe tbody tr th {\n        vertical-align: top;\n    }\n\n    .dataframe thead th {\n        text-align: right;\n    }\n</style>\n<table border=\"1\" class=\"dataframe\">\n  <thead>\n    <tr style=\"text-align: right;\">\n      <th></th>\n      <th>PrimaryKey</th>\n      <th>DataType</th>\n      <th>Value</th>\n      <th>StatusCode</th>\n      <th>SourceTimeStamp</th>\n      <th>ServerTimeStamp</th>\n    </tr>\n  </thead>\n  <tbody>\n    <tr>\n      <th>0</th>\n      <td>Position</td>\n      <td>0x000b</td>\n      <td>0.3</td>\n      <td>0x00000000</td>\n      <td>2020-10-12T09:26:48.068Z</td>\n      <td>2020-10-12 09:25:53.068000+00:00</td>\n    </tr>\n    <tr>\n      <th>1</th>\n      <td>Position</td>\n      <td>0x000b</td>\n      <td>0.3</td>\n      <td>0x00000000</td>\n      <td>2020-10-12T09:26:48.368Z</td>\n      <td>2020-10-12 09:25:53.368000+00:00</td>\n    </tr>\n    <tr>\n      <th>2</th>\n      <td>Safe</td>\n      <td>0x0001</td>\n      <td>true</td>\n      <td>0x00000000</td>\n      <td>2020-10-12T09:26:48.068Z</td>\n      <td>2020-10-12 09:25:53.068000+00:00</td>\n    </tr>\n    <tr>\n      <th>3</th>\n      <td>Safe</td>\n      <td>0x0001</td>\n      <td>true</td>\n      <td>0x00000000</td>\n      <td>2020-10-12T09:26:48.368Z</td>\n      <td>2020-10-12 09:25:53.368000+00:00</td>\n    </tr>\n    <tr>\n      <th>4</th>\n      <td>Speed</td>\n      <td>0x000b</td>\n      <td>0</td>\n      <td>0x00000000</td>\n      <td>2020-10-12T09:26:48.068Z</td>\n      <td>2020-10-12 09:25:53.068000+00:00</td>\n    </tr>\n    <tr>\n      <th>...</th>\n      <td>...</td>\n      <td>...</td>\n      <td>...</td>\n      <td>...</td>\n      <td>...</td>\n      <td>...</td>\n    </tr>\n    <tr>\n      <th>23578</th>\n      <td>Speed</td>\n      <td>0x000b</td>\n      <td>0</td>\n      <td>0x00000000</td>\n      <td>2020-10-12T10:06:05.468Z</td>\n      <td>2020-10-12 10:05:10.468000+00:00</td>\n    </tr>\n    <tr>\n      <th>23579</th>\n      <td>Speed</td>\n      <td>0x000b</td>\n      <td>0</td>\n      <td>0x00000000</td>\n      <td>2020-10-12T10:06:05.768Z</td>\n      <td>2020-10-12 10:05:10.768000+00:00</td>\n    </tr>\n    <tr>\n      <th>23580</th>\n      <td>Position</td>\n      <td>0x000b</td>\n      <td>0.3</td>\n      <td>0x00000000</td>\n      <td>2020-10-12T10:06:06.068Z</td>\n      <td>2020-10-12 10:05:11.068000+00:00</td>\n    </tr>\n    <tr>\n      <th>23581</th>\n      <td>Safe</td>\n      <td>0x0001</td>\n      <td>true</td>\n      <td>0x00000000</td>\n      <td>2020-10-12T10:06:06.068Z</td>\n      <td>2020-10-12 10:05:11.068000+00:00</td>\n    </tr>\n    <tr>\n      <th>23582</th>\n      <td>Speed</td>\n      <td>0x000b</td>\n      <td>0</td>\n      <td>0x00000000</td>\n      <td>2020-10-12T10:06:06.068Z</td>\n      <td>2020-10-12 10:05:11.068000+00:00</td>\n    </tr>\n  </tbody>\n</table>\n<p>23583 rows × 6 columns</p>\n</div>"
     },
     "metadata": {},
     "execution_count": 10
    }
   ],
   "source": [
    "data_gate = fc_sync_timestamp(data_gate,'ServerTimeStamp',delta_time_SIM)\n",
    "data_gate"
   ]
  },
  {
   "cell_type": "code",
   "execution_count": 11,
   "metadata": {},
   "outputs": [
    {
     "output_type": "execute_result",
     "data": {
      "text/plain": [
       "        PrimaryKey DataType     Value  StatusCode           SourceTimeStamp  \\\n",
       "0        DistanceX   0x000b  2.385984  0x00000000  2020-10-12T09:26:50.218Z   \n",
       "1        DistanceX   0x000b  2.385984  0x00000000  2020-10-12T09:26:50.518Z   \n",
       "2        DistanceY   0x000b  5.591398  0x00000000  2020-10-12T09:26:50.218Z   \n",
       "3        DistanceY   0x000b  5.591398  0x00000000  2020-10-12T09:26:50.518Z   \n",
       "4      DistanceAbs   0x000b  6.079198  0x00000000  2020-10-12T09:26:50.218Z   \n",
       "...            ...      ...       ...         ...                       ...   \n",
       "23575    DistanceX   0x000b  0.867630  0x00000000  2020-10-12T10:06:07.918Z   \n",
       "23576    DistanceY   0x000b  5.806451  0x00000000  2020-10-12T10:06:07.618Z   \n",
       "23577    DistanceY   0x000b  5.806451  0x00000000  2020-10-12T10:06:07.918Z   \n",
       "23578  DistanceAbs   0x000b  5.870916  0x00000000  2020-10-12T10:06:07.618Z   \n",
       "23579  DistanceAbs   0x000b  5.870916  0x00000000  2020-10-12T10:06:07.918Z   \n",
       "\n",
       "                        ServerTimeStamp  \n",
       "0      2020-10-12 09:25:55.218000+00:00  \n",
       "1      2020-10-12 09:25:55.518000+00:00  \n",
       "2      2020-10-12 09:25:55.218000+00:00  \n",
       "3      2020-10-12 09:25:55.518000+00:00  \n",
       "4      2020-10-12 09:25:55.218000+00:00  \n",
       "...                                 ...  \n",
       "23575  2020-10-12 10:05:12.918000+00:00  \n",
       "23576  2020-10-12 10:05:12.618000+00:00  \n",
       "23577  2020-10-12 10:05:12.918000+00:00  \n",
       "23578  2020-10-12 10:05:12.618000+00:00  \n",
       "23579  2020-10-12 10:05:12.918000+00:00  \n",
       "\n",
       "[23580 rows x 6 columns]"
      ],
      "text/html": "<div>\n<style scoped>\n    .dataframe tbody tr th:only-of-type {\n        vertical-align: middle;\n    }\n\n    .dataframe tbody tr th {\n        vertical-align: top;\n    }\n\n    .dataframe thead th {\n        text-align: right;\n    }\n</style>\n<table border=\"1\" class=\"dataframe\">\n  <thead>\n    <tr style=\"text-align: right;\">\n      <th></th>\n      <th>PrimaryKey</th>\n      <th>DataType</th>\n      <th>Value</th>\n      <th>StatusCode</th>\n      <th>SourceTimeStamp</th>\n      <th>ServerTimeStamp</th>\n    </tr>\n  </thead>\n  <tbody>\n    <tr>\n      <th>0</th>\n      <td>DistanceX</td>\n      <td>0x000b</td>\n      <td>2.385984</td>\n      <td>0x00000000</td>\n      <td>2020-10-12T09:26:50.218Z</td>\n      <td>2020-10-12 09:25:55.218000+00:00</td>\n    </tr>\n    <tr>\n      <th>1</th>\n      <td>DistanceX</td>\n      <td>0x000b</td>\n      <td>2.385984</td>\n      <td>0x00000000</td>\n      <td>2020-10-12T09:26:50.518Z</td>\n      <td>2020-10-12 09:25:55.518000+00:00</td>\n    </tr>\n    <tr>\n      <th>2</th>\n      <td>DistanceY</td>\n      <td>0x000b</td>\n      <td>5.591398</td>\n      <td>0x00000000</td>\n      <td>2020-10-12T09:26:50.218Z</td>\n      <td>2020-10-12 09:25:55.218000+00:00</td>\n    </tr>\n    <tr>\n      <th>3</th>\n      <td>DistanceY</td>\n      <td>0x000b</td>\n      <td>5.591398</td>\n      <td>0x00000000</td>\n      <td>2020-10-12T09:26:50.518Z</td>\n      <td>2020-10-12 09:25:55.518000+00:00</td>\n    </tr>\n    <tr>\n      <th>4</th>\n      <td>DistanceAbs</td>\n      <td>0x000b</td>\n      <td>6.079198</td>\n      <td>0x00000000</td>\n      <td>2020-10-12T09:26:50.218Z</td>\n      <td>2020-10-12 09:25:55.218000+00:00</td>\n    </tr>\n    <tr>\n      <th>...</th>\n      <td>...</td>\n      <td>...</td>\n      <td>...</td>\n      <td>...</td>\n      <td>...</td>\n      <td>...</td>\n    </tr>\n    <tr>\n      <th>23575</th>\n      <td>DistanceX</td>\n      <td>0x000b</td>\n      <td>0.867630</td>\n      <td>0x00000000</td>\n      <td>2020-10-12T10:06:07.918Z</td>\n      <td>2020-10-12 10:05:12.918000+00:00</td>\n    </tr>\n    <tr>\n      <th>23576</th>\n      <td>DistanceY</td>\n      <td>0x000b</td>\n      <td>5.806451</td>\n      <td>0x00000000</td>\n      <td>2020-10-12T10:06:07.618Z</td>\n      <td>2020-10-12 10:05:12.618000+00:00</td>\n    </tr>\n    <tr>\n      <th>23577</th>\n      <td>DistanceY</td>\n      <td>0x000b</td>\n      <td>5.806451</td>\n      <td>0x00000000</td>\n      <td>2020-10-12T10:06:07.918Z</td>\n      <td>2020-10-12 10:05:12.918000+00:00</td>\n    </tr>\n    <tr>\n      <th>23578</th>\n      <td>DistanceAbs</td>\n      <td>0x000b</td>\n      <td>5.870916</td>\n      <td>0x00000000</td>\n      <td>2020-10-12T10:06:07.618Z</td>\n      <td>2020-10-12 10:05:12.618000+00:00</td>\n    </tr>\n    <tr>\n      <th>23579</th>\n      <td>DistanceAbs</td>\n      <td>0x000b</td>\n      <td>5.870916</td>\n      <td>0x00000000</td>\n      <td>2020-10-12T10:06:07.918Z</td>\n      <td>2020-10-12 10:05:12.918000+00:00</td>\n    </tr>\n  </tbody>\n</table>\n<p>23580 rows × 6 columns</p>\n</div>"
     },
     "metadata": {},
     "execution_count": 11
    }
   ],
   "source": [
    "data_qc = fc_sync_timestamp(data_qc,'ServerTimeStamp',delta_time_SIM)\n",
    "data_qc"
   ]
  },
  {
   "cell_type": "code",
   "execution_count": 12,
   "metadata": {},
   "outputs": [
    {
     "output_type": "execute_result",
     "data": {
      "text/plain": [
       "      PrimaryKey DataType       Value  StatusCode           SourceTimeStamp  \\\n",
       "0            527   0x0007  3191752653  0x00000000  2020-10-12T09:27:48.231Z   \n",
       "1            527   0x0007  3195966703  0x00000000  2020-10-12T09:27:48.480Z   \n",
       "2            528   0x0007  3188997867  0x00000000  2020-10-12T09:27:48.232Z   \n",
       "3            528   0x0007  3188236741  0x00000000  2020-10-12T09:27:48.482Z   \n",
       "4            529   0x0007  1054183454  0x00000000  2020-10-12T09:27:48.234Z   \n",
       "...          ...      ...         ...         ...                       ...   \n",
       "28155        527   0x0007  3181613994  0x00000000  2020-10-12T10:07:05.233Z   \n",
       "28156        528   0x0007  3190259491  0x00000000  2020-10-12T10:07:04.987Z   \n",
       "28157        528   0x0007  3190440406  0x00000000  2020-10-12T10:07:05.230Z   \n",
       "28158        529   0x0007  1054429098  0x00000000  2020-10-12T10:07:04.985Z   \n",
       "28159        529   0x0007  1054422942  0x00000000  2020-10-12T10:07:05.228Z   \n",
       "\n",
       "                        ServerTimeStamp  \n",
       "0      2020-10-12 09:27:48.231000+00:00  \n",
       "1      2020-10-12 09:27:48.480000+00:00  \n",
       "2      2020-10-12 09:27:48.232000+00:00  \n",
       "3      2020-10-12 09:27:48.482000+00:00  \n",
       "4      2020-10-12 09:27:48.234000+00:00  \n",
       "...                                 ...  \n",
       "28155  2020-10-12 10:07:05.233000+00:00  \n",
       "28156  2020-10-12 10:07:04.987000+00:00  \n",
       "28157  2020-10-12 10:07:05.230000+00:00  \n",
       "28158  2020-10-12 10:07:04.985000+00:00  \n",
       "28159  2020-10-12 10:07:05.228000+00:00  \n",
       "\n",
       "[28160 rows x 6 columns]"
      ],
      "text/html": "<div>\n<style scoped>\n    .dataframe tbody tr th:only-of-type {\n        vertical-align: middle;\n    }\n\n    .dataframe tbody tr th {\n        vertical-align: top;\n    }\n\n    .dataframe thead th {\n        text-align: right;\n    }\n</style>\n<table border=\"1\" class=\"dataframe\">\n  <thead>\n    <tr style=\"text-align: right;\">\n      <th></th>\n      <th>PrimaryKey</th>\n      <th>DataType</th>\n      <th>Value</th>\n      <th>StatusCode</th>\n      <th>SourceTimeStamp</th>\n      <th>ServerTimeStamp</th>\n    </tr>\n  </thead>\n  <tbody>\n    <tr>\n      <th>0</th>\n      <td>527</td>\n      <td>0x0007</td>\n      <td>3191752653</td>\n      <td>0x00000000</td>\n      <td>2020-10-12T09:27:48.231Z</td>\n      <td>2020-10-12 09:27:48.231000+00:00</td>\n    </tr>\n    <tr>\n      <th>1</th>\n      <td>527</td>\n      <td>0x0007</td>\n      <td>3195966703</td>\n      <td>0x00000000</td>\n      <td>2020-10-12T09:27:48.480Z</td>\n      <td>2020-10-12 09:27:48.480000+00:00</td>\n    </tr>\n    <tr>\n      <th>2</th>\n      <td>528</td>\n      <td>0x0007</td>\n      <td>3188997867</td>\n      <td>0x00000000</td>\n      <td>2020-10-12T09:27:48.232Z</td>\n      <td>2020-10-12 09:27:48.232000+00:00</td>\n    </tr>\n    <tr>\n      <th>3</th>\n      <td>528</td>\n      <td>0x0007</td>\n      <td>3188236741</td>\n      <td>0x00000000</td>\n      <td>2020-10-12T09:27:48.482Z</td>\n      <td>2020-10-12 09:27:48.482000+00:00</td>\n    </tr>\n    <tr>\n      <th>4</th>\n      <td>529</td>\n      <td>0x0007</td>\n      <td>1054183454</td>\n      <td>0x00000000</td>\n      <td>2020-10-12T09:27:48.234Z</td>\n      <td>2020-10-12 09:27:48.234000+00:00</td>\n    </tr>\n    <tr>\n      <th>...</th>\n      <td>...</td>\n      <td>...</td>\n      <td>...</td>\n      <td>...</td>\n      <td>...</td>\n      <td>...</td>\n    </tr>\n    <tr>\n      <th>28155</th>\n      <td>527</td>\n      <td>0x0007</td>\n      <td>3181613994</td>\n      <td>0x00000000</td>\n      <td>2020-10-12T10:07:05.233Z</td>\n      <td>2020-10-12 10:07:05.233000+00:00</td>\n    </tr>\n    <tr>\n      <th>28156</th>\n      <td>528</td>\n      <td>0x0007</td>\n      <td>3190259491</td>\n      <td>0x00000000</td>\n      <td>2020-10-12T10:07:04.987Z</td>\n      <td>2020-10-12 10:07:04.987000+00:00</td>\n    </tr>\n    <tr>\n      <th>28157</th>\n      <td>528</td>\n      <td>0x0007</td>\n      <td>3190440406</td>\n      <td>0x00000000</td>\n      <td>2020-10-12T10:07:05.230Z</td>\n      <td>2020-10-12 10:07:05.230000+00:00</td>\n    </tr>\n    <tr>\n      <th>28158</th>\n      <td>529</td>\n      <td>0x0007</td>\n      <td>1054429098</td>\n      <td>0x00000000</td>\n      <td>2020-10-12T10:07:04.985Z</td>\n      <td>2020-10-12 10:07:04.985000+00:00</td>\n    </tr>\n    <tr>\n      <th>28159</th>\n      <td>529</td>\n      <td>0x0007</td>\n      <td>1054422942</td>\n      <td>0x00000000</td>\n      <td>2020-10-12T10:07:05.228Z</td>\n      <td>2020-10-12 10:07:05.228000+00:00</td>\n    </tr>\n  </tbody>\n</table>\n<p>28160 rows × 6 columns</p>\n</div>"
     },
     "metadata": {},
     "execution_count": 12
    }
   ],
   "source": [
    "data_rp = fc_sync_timestamp(data_rp,'ServerTimeStamp',delta_time_PLC)\n",
    "data_rp"
   ]
  },
  {
   "cell_type": "code",
   "execution_count": 13,
   "metadata": {},
   "outputs": [
    {
     "output_type": "execute_result",
     "data": {
      "text/plain": [
       "     PrimaryKey DataType  Value  StatusCode           SourceTimeStamp  \\\n",
       "0      DiscSize   0x0003      1  0x00000000  2020-10-12T09:26:54.397Z   \n",
       "1      DiscSize   0x0003      1  0x00000000  2020-10-12T09:26:54.697Z   \n",
       "2      DiscSize   0x0003      0  0x00000000  2020-10-12T09:26:54.997Z   \n",
       "3      DiscSize   0x0003      2  0x00000000  2020-10-12T09:26:55.297Z   \n",
       "4      DiscSize   0x0003      0  0x00000000  2020-10-12T09:26:55.597Z   \n",
       "...         ...      ...    ...         ...                       ...   \n",
       "7855   DiscSize   0x0003      1  0x00000000  2020-10-12T10:06:10.897Z   \n",
       "7856   DiscSize   0x0003      1  0x00000000  2020-10-12T10:06:11.197Z   \n",
       "7857   DiscSize   0x0003      1  0x00000000  2020-10-12T10:06:11.497Z   \n",
       "7858   DiscSize   0x0003      1  0x00000000  2020-10-12T10:06:11.797Z   \n",
       "7859   DiscSize   0x0003      1  0x00000000  2020-10-12T10:06:12.097Z   \n",
       "\n",
       "                       ServerTimeStamp  \n",
       "0     2020-10-12 09:25:59.397000+00:00  \n",
       "1     2020-10-12 09:25:59.697000+00:00  \n",
       "2     2020-10-12 09:25:59.997000+00:00  \n",
       "3     2020-10-12 09:26:00.297000+00:00  \n",
       "4     2020-10-12 09:26:00.597000+00:00  \n",
       "...                                ...  \n",
       "7855  2020-10-12 10:05:15.897000+00:00  \n",
       "7856  2020-10-12 10:05:16.197000+00:00  \n",
       "7857  2020-10-12 10:05:16.497000+00:00  \n",
       "7858  2020-10-12 10:05:16.797000+00:00  \n",
       "7859  2020-10-12 10:05:17.097000+00:00  \n",
       "\n",
       "[7860 rows x 6 columns]"
      ],
      "text/html": "<div>\n<style scoped>\n    .dataframe tbody tr th:only-of-type {\n        vertical-align: middle;\n    }\n\n    .dataframe tbody tr th {\n        vertical-align: top;\n    }\n\n    .dataframe thead th {\n        text-align: right;\n    }\n</style>\n<table border=\"1\" class=\"dataframe\">\n  <thead>\n    <tr style=\"text-align: right;\">\n      <th></th>\n      <th>PrimaryKey</th>\n      <th>DataType</th>\n      <th>Value</th>\n      <th>StatusCode</th>\n      <th>SourceTimeStamp</th>\n      <th>ServerTimeStamp</th>\n    </tr>\n  </thead>\n  <tbody>\n    <tr>\n      <th>0</th>\n      <td>DiscSize</td>\n      <td>0x0003</td>\n      <td>1</td>\n      <td>0x00000000</td>\n      <td>2020-10-12T09:26:54.397Z</td>\n      <td>2020-10-12 09:25:59.397000+00:00</td>\n    </tr>\n    <tr>\n      <th>1</th>\n      <td>DiscSize</td>\n      <td>0x0003</td>\n      <td>1</td>\n      <td>0x00000000</td>\n      <td>2020-10-12T09:26:54.697Z</td>\n      <td>2020-10-12 09:25:59.697000+00:00</td>\n    </tr>\n    <tr>\n      <th>2</th>\n      <td>DiscSize</td>\n      <td>0x0003</td>\n      <td>0</td>\n      <td>0x00000000</td>\n      <td>2020-10-12T09:26:54.997Z</td>\n      <td>2020-10-12 09:25:59.997000+00:00</td>\n    </tr>\n    <tr>\n      <th>3</th>\n      <td>DiscSize</td>\n      <td>0x0003</td>\n      <td>2</td>\n      <td>0x00000000</td>\n      <td>2020-10-12T09:26:55.297Z</td>\n      <td>2020-10-12 09:26:00.297000+00:00</td>\n    </tr>\n    <tr>\n      <th>4</th>\n      <td>DiscSize</td>\n      <td>0x0003</td>\n      <td>0</td>\n      <td>0x00000000</td>\n      <td>2020-10-12T09:26:55.597Z</td>\n      <td>2020-10-12 09:26:00.597000+00:00</td>\n    </tr>\n    <tr>\n      <th>...</th>\n      <td>...</td>\n      <td>...</td>\n      <td>...</td>\n      <td>...</td>\n      <td>...</td>\n      <td>...</td>\n    </tr>\n    <tr>\n      <th>7855</th>\n      <td>DiscSize</td>\n      <td>0x0003</td>\n      <td>1</td>\n      <td>0x00000000</td>\n      <td>2020-10-12T10:06:10.897Z</td>\n      <td>2020-10-12 10:05:15.897000+00:00</td>\n    </tr>\n    <tr>\n      <th>7856</th>\n      <td>DiscSize</td>\n      <td>0x0003</td>\n      <td>1</td>\n      <td>0x00000000</td>\n      <td>2020-10-12T10:06:11.197Z</td>\n      <td>2020-10-12 10:05:16.197000+00:00</td>\n    </tr>\n    <tr>\n      <th>7857</th>\n      <td>DiscSize</td>\n      <td>0x0003</td>\n      <td>1</td>\n      <td>0x00000000</td>\n      <td>2020-10-12T10:06:11.497Z</td>\n      <td>2020-10-12 10:05:16.497000+00:00</td>\n    </tr>\n    <tr>\n      <th>7858</th>\n      <td>DiscSize</td>\n      <td>0x0003</td>\n      <td>1</td>\n      <td>0x00000000</td>\n      <td>2020-10-12T10:06:11.797Z</td>\n      <td>2020-10-12 10:05:16.797000+00:00</td>\n    </tr>\n    <tr>\n      <th>7859</th>\n      <td>DiscSize</td>\n      <td>0x0003</td>\n      <td>1</td>\n      <td>0x00000000</td>\n      <td>2020-10-12T10:06:12.097Z</td>\n      <td>2020-10-12 10:05:17.097000+00:00</td>\n    </tr>\n  </tbody>\n</table>\n<p>7860 rows × 6 columns</p>\n</div>"
     },
     "metadata": {},
     "execution_count": 13
    }
   ],
   "source": [
    "data_st = fc_sync_timestamp(data_st,'ServerTimeStamp',delta_time_SIM)\n",
    "data_st"
   ]
  },
  {
   "cell_type": "markdown",
   "metadata": {},
   "source": [
    "## Merge Data Sets"
   ]
  },
  {
   "cell_type": "code",
   "execution_count": 14,
   "metadata": {},
   "outputs": [],
   "source": [
    "data_set = [data_conv, data_gate, data_qc, data_rp, data_st]\n",
    "data_merge = pd.concat(data_set, keys=['conv', 'gate', 'qc', 'rp', 'store'])\n",
    "# Sort the data_set by SourceTimeStamp, reset index and delete aux column\n",
    "data_merge = data_merge.sort_values(by='ServerTimeStamp').reset_index().drop('level_1',1)\n",
    "#del data_merge['level_1'] #delete aux column"
   ]
  },
  {
   "cell_type": "code",
   "execution_count": 15,
   "metadata": {},
   "outputs": [
    {
     "output_type": "execute_result",
     "data": {
      "text/plain": [
       "      level_0 PrimaryKey DataType       Value  StatusCode  \\\n",
       "0        gate   Position   0x000b         0.3  0x00000000   \n",
       "1        gate      Speed   0x000b           0  0x00000000   \n",
       "2        gate       Safe   0x0001        true  0x00000000   \n",
       "3        gate      Speed   0x000b           0  0x00000000   \n",
       "4        gate       Safe   0x0001        true  0x00000000   \n",
       "...       ...        ...      ...         ...         ...   \n",
       "83190      rp        528   0x0007  3190259491  0x00000000   \n",
       "83191      rp        527   0x0007  3182876373  0x00000000   \n",
       "83192      rp        529   0x0007  1054422942  0x00000000   \n",
       "83193      rp        528   0x0007  3190440406  0x00000000   \n",
       "83194      rp        527   0x0007  3181613994  0x00000000   \n",
       "\n",
       "                SourceTimeStamp                   ServerTimeStamp  \n",
       "0      2020-10-12T09:26:48.068Z  2020-10-12 09:25:53.068000+00:00  \n",
       "1      2020-10-12T09:26:48.068Z  2020-10-12 09:25:53.068000+00:00  \n",
       "2      2020-10-12T09:26:48.068Z  2020-10-12 09:25:53.068000+00:00  \n",
       "3      2020-10-12T09:26:48.368Z  2020-10-12 09:25:53.368000+00:00  \n",
       "4      2020-10-12T09:26:48.368Z  2020-10-12 09:25:53.368000+00:00  \n",
       "...                         ...                               ...  \n",
       "83190  2020-10-12T10:07:04.987Z  2020-10-12 10:07:04.987000+00:00  \n",
       "83191  2020-10-12T10:07:04.988Z  2020-10-12 10:07:04.988000+00:00  \n",
       "83192  2020-10-12T10:07:05.228Z  2020-10-12 10:07:05.228000+00:00  \n",
       "83193  2020-10-12T10:07:05.230Z  2020-10-12 10:07:05.230000+00:00  \n",
       "83194  2020-10-12T10:07:05.233Z  2020-10-12 10:07:05.233000+00:00  \n",
       "\n",
       "[83195 rows x 7 columns]"
      ],
      "text/html": "<div>\n<style scoped>\n    .dataframe tbody tr th:only-of-type {\n        vertical-align: middle;\n    }\n\n    .dataframe tbody tr th {\n        vertical-align: top;\n    }\n\n    .dataframe thead th {\n        text-align: right;\n    }\n</style>\n<table border=\"1\" class=\"dataframe\">\n  <thead>\n    <tr style=\"text-align: right;\">\n      <th></th>\n      <th>level_0</th>\n      <th>PrimaryKey</th>\n      <th>DataType</th>\n      <th>Value</th>\n      <th>StatusCode</th>\n      <th>SourceTimeStamp</th>\n      <th>ServerTimeStamp</th>\n    </tr>\n  </thead>\n  <tbody>\n    <tr>\n      <th>0</th>\n      <td>gate</td>\n      <td>Position</td>\n      <td>0x000b</td>\n      <td>0.3</td>\n      <td>0x00000000</td>\n      <td>2020-10-12T09:26:48.068Z</td>\n      <td>2020-10-12 09:25:53.068000+00:00</td>\n    </tr>\n    <tr>\n      <th>1</th>\n      <td>gate</td>\n      <td>Speed</td>\n      <td>0x000b</td>\n      <td>0</td>\n      <td>0x00000000</td>\n      <td>2020-10-12T09:26:48.068Z</td>\n      <td>2020-10-12 09:25:53.068000+00:00</td>\n    </tr>\n    <tr>\n      <th>2</th>\n      <td>gate</td>\n      <td>Safe</td>\n      <td>0x0001</td>\n      <td>true</td>\n      <td>0x00000000</td>\n      <td>2020-10-12T09:26:48.068Z</td>\n      <td>2020-10-12 09:25:53.068000+00:00</td>\n    </tr>\n    <tr>\n      <th>3</th>\n      <td>gate</td>\n      <td>Speed</td>\n      <td>0x000b</td>\n      <td>0</td>\n      <td>0x00000000</td>\n      <td>2020-10-12T09:26:48.368Z</td>\n      <td>2020-10-12 09:25:53.368000+00:00</td>\n    </tr>\n    <tr>\n      <th>4</th>\n      <td>gate</td>\n      <td>Safe</td>\n      <td>0x0001</td>\n      <td>true</td>\n      <td>0x00000000</td>\n      <td>2020-10-12T09:26:48.368Z</td>\n      <td>2020-10-12 09:25:53.368000+00:00</td>\n    </tr>\n    <tr>\n      <th>...</th>\n      <td>...</td>\n      <td>...</td>\n      <td>...</td>\n      <td>...</td>\n      <td>...</td>\n      <td>...</td>\n      <td>...</td>\n    </tr>\n    <tr>\n      <th>83190</th>\n      <td>rp</td>\n      <td>528</td>\n      <td>0x0007</td>\n      <td>3190259491</td>\n      <td>0x00000000</td>\n      <td>2020-10-12T10:07:04.987Z</td>\n      <td>2020-10-12 10:07:04.987000+00:00</td>\n    </tr>\n    <tr>\n      <th>83191</th>\n      <td>rp</td>\n      <td>527</td>\n      <td>0x0007</td>\n      <td>3182876373</td>\n      <td>0x00000000</td>\n      <td>2020-10-12T10:07:04.988Z</td>\n      <td>2020-10-12 10:07:04.988000+00:00</td>\n    </tr>\n    <tr>\n      <th>83192</th>\n      <td>rp</td>\n      <td>529</td>\n      <td>0x0007</td>\n      <td>1054422942</td>\n      <td>0x00000000</td>\n      <td>2020-10-12T10:07:05.228Z</td>\n      <td>2020-10-12 10:07:05.228000+00:00</td>\n    </tr>\n    <tr>\n      <th>83193</th>\n      <td>rp</td>\n      <td>528</td>\n      <td>0x0007</td>\n      <td>3190440406</td>\n      <td>0x00000000</td>\n      <td>2020-10-12T10:07:05.230Z</td>\n      <td>2020-10-12 10:07:05.230000+00:00</td>\n    </tr>\n    <tr>\n      <th>83194</th>\n      <td>rp</td>\n      <td>527</td>\n      <td>0x0007</td>\n      <td>3181613994</td>\n      <td>0x00000000</td>\n      <td>2020-10-12T10:07:05.233Z</td>\n      <td>2020-10-12 10:07:05.233000+00:00</td>\n    </tr>\n  </tbody>\n</table>\n<p>83195 rows × 7 columns</p>\n</div>"
     },
     "metadata": {},
     "execution_count": 15
    }
   ],
   "source": [
    "data_merge"
   ]
  },
  {
   "cell_type": "markdown",
   "metadata": {},
   "source": [
    "## Export Data to csv"
   ]
  },
  {
   "cell_type": "code",
   "execution_count": 16,
   "metadata": {},
   "outputs": [
    {
     "output_type": "stream",
     "name": "stdout",
     "text": [
      "The data is saved at ../01_Data/201012/use_case2/Processed/data_merge.csv\n"
     ]
    }
   ],
   "source": [
    "data_merge.to_csv(path_data_save + 'data_merge.csv')\n",
    "print('The data is saved at ' + path_data_save + 'data_merge.csv')"
   ]
  },
  {
   "cell_type": "code",
   "execution_count": 17,
   "metadata": {},
   "outputs": [
    {
     "output_type": "execute_result",
     "data": {
      "text/plain": [
       "83195"
      ]
     },
     "metadata": {},
     "execution_count": 17
    }
   ],
   "source": [
    "len(data_merge)"
   ]
  },
  {
   "cell_type": "markdown",
   "metadata": {},
   "source": [
    "## Determine the starting point of data set"
   ]
  },
  {
   "cell_type": "markdown",
   "metadata": {},
   "source": [
    "#Based on change of DistanceAbs in Data- Set\n",
    "var_actual = 0\n",
    "run_list = [0]\n",
    "for i in range(len(data_merge)):\n",
    "    var_previous = var_actual\n",
    "    if data_merge.at[i,'PrimaryKey'] == 'DistanceAbs':  # if 'PrimaryKey' value = 'DistanceAbs':\n",
    "        var_actual = data_merge.at[i,'Value'] # value of current DistanceAbs\n",
    "    if var_previous != var_actual:\n",
    "        run_list.append(i) #i append to list # This list will tell at how many i contains one sample    "
   ]
  },
  {
   "cell_type": "code",
   "execution_count": 18,
   "metadata": {},
   "outputs": [],
   "source": [
    "# Based on grabbing the white disk\n",
    "var_actual = 99\n",
    "disk_actual = 99 # Initial value\n",
    "run_list = [0]\n",
    "disk = False\n",
    "storage_down = False\n",
    "rob_x = 0\n",
    "rob_y = 0\n",
    "rob_z = 0\n",
    "rob_pos = 0\n",
    "pos = [0]*(len(data_merge)-2)\n",
    "for i in range(len(data_merge)-2): # len(data_merge)-2 is considered to avoid border errors\n",
    "    #var_previous = var_actual\n",
    "    #rob_pos = fc_rob_pos(i, data_merge) # review robot position\n",
    "    pos[i] = 0\n",
    "    if data_merge.at[i,'PrimaryKey'] == 'DiscSize':  # if 'PrimaryKey' value = 'DiskSize':\n",
    "        disk_previous = disk_actual\n",
    "        disk_actual = data_merge.at[i,'Value'] # value of current DiskSize\n",
    "        #print(disk_previous, disk_actual, i)\n",
    "        if disk_previous != 2 and disk_actual == 2: # Varialbe 0: unkown; 1: Black disk; 2: white disk\n",
    "            disk = True\n",
    "            #print('New white disk here ' + str(i))\n",
    "    if data_merge.at[i,'PrimaryKey'] == '527':  # if 'PrimaryKey' value = 'x coordinate':\n",
    "        rob_x = data_merge.at[i,'Value'] # value of current 'x coordinate'\n",
    "        #print('x = ' + str(rob_x) + '--' + str(i))\n",
    "    if data_merge.at[i,'PrimaryKey'] == '528':  # if 'PrimaryKey' value = 'y coordinate':\n",
    "        rob_y = data_merge.at[i,'Value'] # value of current 'x coordinate'\n",
    "        #print('y = ' + str(rob_y) + '--' + str(i))\n",
    "    if data_merge.at[i,'PrimaryKey'] == '529':  # if 'PrimaryKey' value = 'z coordinate':\n",
    "        rob_z = data_merge.at[i,'Value'] # value of current 'x coordinate'\n",
    "        #print('z = ' + str(rob_z) + '--' + str(i))\n",
    "    if rob_x > 3100000000 and rob_y > 3100000000 and rob_z < 1051200000: #Robot in storage. Picking up the disk\n",
    "        rob_pos = 1\n",
    "        pos[i] = 1\n",
    "        #print('pos 1 - ' + str(i))\n",
    "    if rob_x < 1052000000 and rob_y > 3100000000 and rob_z < 1052000000 and rob_z > 1051200000 : #Robot in storage. Placing down the disk\n",
    "        rob_pos = 2\n",
    "        pos[i] = 2\n",
    "        #print('pos 2 - ' + str(i))\n",
    "    #print(rob_pos)\n",
    "    if rob_pos == 1: # Robot picking up a disk\n",
    "        storage_down = True\n",
    "        #print(storage_down,i)  \n",
    "    if disk == True and storage_down == True:\n",
    "        #var_actual = rob_pos\n",
    "        disk = False\n",
    "        storage_down = False\n",
    "        run_list.append(i) #i append to list # This list will tell at how many i contains one sample\n",
    "        #print(i)\n",
    "    #if var_previous != var_actual:\n",
    "        #run_list.append(i) #i append to list # This list will tell at how many i contains one sample   \n",
    " "
   ]
  },
  {
   "cell_type": "code",
   "execution_count": 19,
   "metadata": {},
   "outputs": [
    {
     "output_type": "stream",
     "name": "stdout",
     "text": [
      "[0, 2653, 2688, 3642, 4586, 5434, 5568, 6464, 7405, 8349, 9292, 10236, 11084, 11226, 12028, 12159, 13055, 13999, 14943, 15874, 16818, 17761, 18692, 19646, 20590, 21523, 22467, 23408, 24352, 25286, 26230, 27171, 28115, 28963, 29097, 29993, 30934, 31878, 32822, 33766, 34710, 36277, 37125, 37221, 38152, 38979, 39923, 40867, 41715, 41853, 42659, 42801, 43603, 43735, 44630, 45574, 46518, 47459, 48393, 49347, 50195, 50333, 51222, 52165, 53013, 53158, 54043, 54984, 55918, 56872, 57720, 57857, 58747, 59691, 60635, 61579, 62523, 63371, 63503, 64312, 64447, 65342, 66296, 67240, 68088, 68210, 69115, 70059, 71003, 71944, 72805, 72927, 73746, 73871, 74776, 75720, 76661, 77605, 78549, 79503, 80437, 81378]\n102\n"
     ]
    }
   ],
   "source": [
    "print(run_list) # Starting points. \n",
    "print(len(run_list))"
   ]
  },
  {
   "cell_type": "code",
   "execution_count": 20,
   "metadata": {},
   "outputs": [],
   "source": [
    "# data_merge.iloc[list(range(0,3))]"
   ]
  },
  {
   "cell_type": "code",
   "execution_count": 21,
   "metadata": {},
   "outputs": [
    {
     "output_type": "execute_result",
     "data": {
      "text/plain": [
       "      level_0 PrimaryKey DataType       Value  StatusCode  \\\n",
       "0        gate   Position   0x000b         0.3  0x00000000   \n",
       "1        gate      Speed   0x000b           0  0x00000000   \n",
       "2        gate       Safe   0x0001        true  0x00000000   \n",
       "3        gate      Speed   0x000b           0  0x00000000   \n",
       "4        gate       Safe   0x0001        true  0x00000000   \n",
       "...       ...        ...      ...         ...         ...   \n",
       "83190      rp        528   0x0007  3190259491  0x00000000   \n",
       "83191      rp        527   0x0007  3182876373  0x00000000   \n",
       "83192      rp        529   0x0007  1054422942  0x00000000   \n",
       "83193      rp        528   0x0007  3190440406  0x00000000   \n",
       "83194      rp        527   0x0007  3181613994  0x00000000   \n",
       "\n",
       "                SourceTimeStamp                   ServerTimeStamp  RobPos  \n",
       "0      2020-10-12T09:26:48.068Z  2020-10-12 09:25:53.068000+00:00     0.0  \n",
       "1      2020-10-12T09:26:48.068Z  2020-10-12 09:25:53.068000+00:00     0.0  \n",
       "2      2020-10-12T09:26:48.068Z  2020-10-12 09:25:53.068000+00:00     0.0  \n",
       "3      2020-10-12T09:26:48.368Z  2020-10-12 09:25:53.368000+00:00     0.0  \n",
       "4      2020-10-12T09:26:48.368Z  2020-10-12 09:25:53.368000+00:00     0.0  \n",
       "...                         ...                               ...     ...  \n",
       "83190  2020-10-12T10:07:04.987Z  2020-10-12 10:07:04.987000+00:00     0.0  \n",
       "83191  2020-10-12T10:07:04.988Z  2020-10-12 10:07:04.988000+00:00     0.0  \n",
       "83192  2020-10-12T10:07:05.228Z  2020-10-12 10:07:05.228000+00:00     0.0  \n",
       "83193  2020-10-12T10:07:05.230Z  2020-10-12 10:07:05.230000+00:00     NaN  \n",
       "83194  2020-10-12T10:07:05.233Z  2020-10-12 10:07:05.233000+00:00     NaN  \n",
       "\n",
       "[83195 rows x 8 columns]"
      ],
      "text/html": "<div>\n<style scoped>\n    .dataframe tbody tr th:only-of-type {\n        vertical-align: middle;\n    }\n\n    .dataframe tbody tr th {\n        vertical-align: top;\n    }\n\n    .dataframe thead th {\n        text-align: right;\n    }\n</style>\n<table border=\"1\" class=\"dataframe\">\n  <thead>\n    <tr style=\"text-align: right;\">\n      <th></th>\n      <th>level_0</th>\n      <th>PrimaryKey</th>\n      <th>DataType</th>\n      <th>Value</th>\n      <th>StatusCode</th>\n      <th>SourceTimeStamp</th>\n      <th>ServerTimeStamp</th>\n      <th>RobPos</th>\n    </tr>\n  </thead>\n  <tbody>\n    <tr>\n      <th>0</th>\n      <td>gate</td>\n      <td>Position</td>\n      <td>0x000b</td>\n      <td>0.3</td>\n      <td>0x00000000</td>\n      <td>2020-10-12T09:26:48.068Z</td>\n      <td>2020-10-12 09:25:53.068000+00:00</td>\n      <td>0.0</td>\n    </tr>\n    <tr>\n      <th>1</th>\n      <td>gate</td>\n      <td>Speed</td>\n      <td>0x000b</td>\n      <td>0</td>\n      <td>0x00000000</td>\n      <td>2020-10-12T09:26:48.068Z</td>\n      <td>2020-10-12 09:25:53.068000+00:00</td>\n      <td>0.0</td>\n    </tr>\n    <tr>\n      <th>2</th>\n      <td>gate</td>\n      <td>Safe</td>\n      <td>0x0001</td>\n      <td>true</td>\n      <td>0x00000000</td>\n      <td>2020-10-12T09:26:48.068Z</td>\n      <td>2020-10-12 09:25:53.068000+00:00</td>\n      <td>0.0</td>\n    </tr>\n    <tr>\n      <th>3</th>\n      <td>gate</td>\n      <td>Speed</td>\n      <td>0x000b</td>\n      <td>0</td>\n      <td>0x00000000</td>\n      <td>2020-10-12T09:26:48.368Z</td>\n      <td>2020-10-12 09:25:53.368000+00:00</td>\n      <td>0.0</td>\n    </tr>\n    <tr>\n      <th>4</th>\n      <td>gate</td>\n      <td>Safe</td>\n      <td>0x0001</td>\n      <td>true</td>\n      <td>0x00000000</td>\n      <td>2020-10-12T09:26:48.368Z</td>\n      <td>2020-10-12 09:25:53.368000+00:00</td>\n      <td>0.0</td>\n    </tr>\n    <tr>\n      <th>...</th>\n      <td>...</td>\n      <td>...</td>\n      <td>...</td>\n      <td>...</td>\n      <td>...</td>\n      <td>...</td>\n      <td>...</td>\n      <td>...</td>\n    </tr>\n    <tr>\n      <th>83190</th>\n      <td>rp</td>\n      <td>528</td>\n      <td>0x0007</td>\n      <td>3190259491</td>\n      <td>0x00000000</td>\n      <td>2020-10-12T10:07:04.987Z</td>\n      <td>2020-10-12 10:07:04.987000+00:00</td>\n      <td>0.0</td>\n    </tr>\n    <tr>\n      <th>83191</th>\n      <td>rp</td>\n      <td>527</td>\n      <td>0x0007</td>\n      <td>3182876373</td>\n      <td>0x00000000</td>\n      <td>2020-10-12T10:07:04.988Z</td>\n      <td>2020-10-12 10:07:04.988000+00:00</td>\n      <td>0.0</td>\n    </tr>\n    <tr>\n      <th>83192</th>\n      <td>rp</td>\n      <td>529</td>\n      <td>0x0007</td>\n      <td>1054422942</td>\n      <td>0x00000000</td>\n      <td>2020-10-12T10:07:05.228Z</td>\n      <td>2020-10-12 10:07:05.228000+00:00</td>\n      <td>0.0</td>\n    </tr>\n    <tr>\n      <th>83193</th>\n      <td>rp</td>\n      <td>528</td>\n      <td>0x0007</td>\n      <td>3190440406</td>\n      <td>0x00000000</td>\n      <td>2020-10-12T10:07:05.230Z</td>\n      <td>2020-10-12 10:07:05.230000+00:00</td>\n      <td>NaN</td>\n    </tr>\n    <tr>\n      <th>83194</th>\n      <td>rp</td>\n      <td>527</td>\n      <td>0x0007</td>\n      <td>3181613994</td>\n      <td>0x00000000</td>\n      <td>2020-10-12T10:07:05.233Z</td>\n      <td>2020-10-12 10:07:05.233000+00:00</td>\n      <td>NaN</td>\n    </tr>\n  </tbody>\n</table>\n<p>83195 rows × 8 columns</p>\n</div>"
     },
     "metadata": {},
     "execution_count": 21
    }
   ],
   "source": [
    "df_robpos = pd.DataFrame(pos,columns=['RobPos']) # Position of robot. 0: not important; 1: Robot in storage. Picking up the disk; 2:Robot in storage. Placing down the disk\n",
    "data_merge = pd.concat([data_merge, df_robpos], axis=1, sort=False)\n",
    "data_merge"
   ]
  },
  {
   "cell_type": "markdown",
   "metadata": {},
   "source": [
    "The list contains the point i when the value is different. To consider the point where the value remains, consider i-1"
   ]
  },
  {
   "cell_type": "code",
   "execution_count": 22,
   "metadata": {},
   "outputs": [
    {
     "output_type": "stream",
     "name": "stdout",
     "text": [
      "Dictionary lenght is:101\n"
     ]
    }
   ],
   "source": [
    "d = {} # Dictionary that holds the sub-data-sets given by the starting point\n",
    "for i in range(len(run_list)-1): # Ignores the last value (set of values)\n",
    "    list_range = list(range(run_list[i],run_list[i+1]))\n",
    "    d['df{0}'.format(i)] = data_merge.iloc[list_range]\n",
    "    \n",
    "print('Dictionary lenght is:' + str(len(d)))"
   ]
  },
  {
   "cell_type": "markdown",
   "metadata": {},
   "source": [
    "## Assure conv_speed per sample "
   ]
  },
  {
   "cell_type": "code",
   "execution_count": 23,
   "metadata": {
    "scrolled": true
   },
   "outputs": [
    {
     "output_type": "stream",
     "name": "stdout",
     "text": [
      "300\n363\n380\n"
     ]
    }
   ],
   "source": [
    "conv_1 = 0\n",
    "conv_2 = 0\n",
    "conv_3 = 0\n",
    "conv1 = False\n",
    "conv2 = False\n",
    "conv3 = False\n",
    "for j in range(len(d)): # as many samples saved in dictionary\n",
    "    df = d['df'+ str(j)]\n",
    "    for i in range(len(df)): # as many row in the dataFrame\n",
    "        #print(df.iat[i,1])\n",
    "        if df.iat[i,1] == '27': # conv1\n",
    "            conv_1 = df.iat[i,3]\n",
    "            conv1 = True # the value shows at least once in the data set\n",
    "        if df.iat[i,1] == '28': # conv2\n",
    "            conv_2 = df.iat[i,3]\n",
    "            conv2 = True\n",
    "        if df.iat[i,1] == '29': # conv3\n",
    "            conv_3 = df.iat[i,3]\n",
    "            conv3 = True\n",
    "    if conv1 == False: # The value did not occur in this sample. Copy value from previous samples into this one\n",
    "        dic = {'PrimaryKey' : '27', 'Value': str(conv_1)}\n",
    "        df.loc[len(df)+1,'PrimaryKey'] = '27'\n",
    "        df.loc[len(df),'Value'] = str(conv_1)\n",
    "        df.loc[len(df),'DataType'] = 'NA'\n",
    "        df.loc[len(df),'StatusCode'] = 'NA'\n",
    "        df.loc[len(df),'SourceTimeStamp'] = 'NA'\n",
    "        df.loc[len(df),'ServerTimeStamp'] = 'NA'\n",
    "    if conv2 == False:\n",
    "        dic = {'PrimaryKey' : '27', 'Value': str(conv_2)}\n",
    "        df.loc[len(df)+1,'PrimaryKey'] = '28'\n",
    "        df.loc[len(df),'Value'] = str(conv_2)\n",
    "        df.loc[len(df),'DataType'] = 'NA'\n",
    "        df.loc[len(df),'StatusCode'] = 'NA'\n",
    "        df.loc[len(df),'SourceTimeStamp'] = 'NA'\n",
    "        df.loc[len(df),'ServerTimeStamp'] = 'NA'\n",
    "    if conv3 == False:\n",
    "        dic = {'PrimaryKey' : '27', 'Value': str(conv_3)}\n",
    "        df.loc[len(df)+1,'PrimaryKey'] = '29'\n",
    "        df.loc[len(df),'Value'] = str(conv_3)\n",
    "        df.loc[len(df),'DataType'] = 'NA'\n",
    "        df.loc[len(df),'StatusCode'] = 'NA'\n",
    "        df.loc[len(df),'SourceTimeStamp'] = 'NA'\n",
    "        df.loc[len(df),'ServerTimeStamp'] = 'NA'\n",
    "   \n",
    "    conv1 = False # reset conv for the next round\n",
    "    conv2 = False\n",
    "    conv3 = False\n",
    "print(conv_1)\n",
    "print(conv_2)\n",
    "print(conv_3)"
   ]
  },
  {
   "cell_type": "markdown",
   "metadata": {},
   "source": [
    "## Export individual data-sample to .csv"
   ]
  },
  {
   "cell_type": "code",
   "execution_count": 24,
   "metadata": {},
   "outputs": [
    {
     "output_type": "stream",
     "name": "stdout",
     "text": [
      "The data is saved at ../01_Data/201012/use_case2/Processed/Samples/sample_x.csv\n"
     ]
    }
   ],
   "source": [
    "for i in range(len(d)):\n",
    "    if i > 0: # always ignore the first sample due to data-acquisition misalligment\n",
    "        d['df' + str(i)].to_csv(path_sample_save + 'sample_' + str(i) + '.csv')\n",
    "print('The data is saved at ' + path_sample_save + 'sample_x.csv')"
   ]
  },
  {
   "cell_type": "markdown",
   "metadata": {},
   "source": [
    "## Testing area"
   ]
  },
  {
   "cell_type": "code",
   "execution_count": 25,
   "metadata": {},
   "outputs": [],
   "source": [
    "#d['df67']"
   ]
  },
  {
   "cell_type": "code",
   "execution_count": 26,
   "metadata": {},
   "outputs": [],
   "source": [
    "# list_range = list(range(run_list[0],run_list[1]))\n",
    "# print(list_range)"
   ]
  },
  {
   "cell_type": "code",
   "execution_count": 27,
   "metadata": {},
   "outputs": [],
   "source": [
    "# data_merge.iloc[list_range]"
   ]
  },
  {
   "cell_type": "code",
   "execution_count": 28,
   "metadata": {
    "scrolled": true
   },
   "outputs": [],
   "source": [
    "# data_rp.loc[:, 'PrimaryKey'] = '529_z'\n",
    "# data_rp"
   ]
  },
  {
   "cell_type": "code",
   "execution_count": 29,
   "metadata": {},
   "outputs": [],
   "source": [
    "# %matplotlib notebook \n",
    "# data_gate.head(400).plot(x='SourceTimeStamp', y= 'Value')\n",
    "# plt.xticks(rotation=45)"
   ]
  },
  {
   "cell_type": "code",
   "execution_count": 30,
   "metadata": {},
   "outputs": [],
   "source": [
    "# %matplotlib notebook \n",
    "# data_rp.head(200).plot( y= 'Value')\n",
    "# plt.xticks(rotation=45)"
   ]
  }
 ],
 "metadata": {
  "kernelspec": {
   "display_name": "Python 3",
   "language": "python",
   "name": "python3"
  },
  "language_info": {
   "codemirror_mode": {
    "name": "ipython",
    "version": 3
   },
   "file_extension": ".py",
   "mimetype": "text/x-python",
   "name": "python",
   "nbconvert_exporter": "python",
   "pygments_lexer": "ipython3",
   "version": "3.8.5-final"
  }
 },
 "nbformat": 4,
 "nbformat_minor": 4
}