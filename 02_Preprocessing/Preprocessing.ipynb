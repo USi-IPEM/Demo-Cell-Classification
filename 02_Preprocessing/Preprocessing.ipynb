{
 "cells": [
  {
   "cell_type": "code",
   "execution_count": 27,
   "metadata": {},
   "outputs": [
    {
     "output_type": "stream",
     "name": "stdout",
     "text": [
      "d:\\05_Projekte\\04_Research\\08_ManuBrain\\01_Lab\\Demo-Cell-Classification\\02_Preprocessing\n"
     ]
    }
   ],
   "source": [
    "## Current path display\n",
    "\n",
    "import os\n",
    "current_path = os.getcwd()\n",
    "print(current_path)"
   ]
  },
  {
   "cell_type": "code",
   "execution_count": 28,
   "metadata": {},
   "outputs": [],
   "source": [
    "import numpy as np\n",
    "import pandas as pd\n",
    "import matplotlib.pyplot as plt\n",
    "from datetime import datetime\n",
    "from datetime import timedelta  "
   ]
  },
  {
   "cell_type": "markdown",
   "metadata": {},
   "source": [
    "## Functions "
   ]
  },
  {
   "cell_type": "code",
   "execution_count": 29,
   "metadata": {},
   "outputs": [],
   "source": [
    "# return tag from data\n",
    "def fc_tag (data,index):\n",
    "    return data.at[index,'d'].split('=')[2] # [2] equivalent a tag column data en txt file\n",
    "\n",
    "# update tag in main table\n",
    "def fc_tag_update(data, tag):\n",
    "    for i in range(len(tag)):\n",
    "        i = i + 1 \n",
    "        data = data.replace({'PrimaryKey':i}, fc_tag(tag,i), regex = False)\n",
    "    return data\n",
    "\n",
    "#Sync TimeStamp\n",
    "\n",
    "def fc_sync_timestamp2(data,ServerTimeStamp,delta_time): #Requires df, column-name and delta-time\n",
    "    for date in data[ServerTimeStamp]:\n",
    "        source = datetime.fromisoformat(str(date).replace('Z','+00:00'))\n",
    "        date_sync = source - delta_time\n",
    "        data[ServerTimeStamp] = date_sync\n",
    "    return data\n",
    "\n",
    "def fc_sync_timestamp(data,ServerTimeStamp,delta_time): #Requires df, column-name and delta-time\n",
    "    for i in range(len(data)): \n",
    "        source = datetime.fromisoformat(str(data.at[i,ServerTimeStamp]).replace('Z','+00:00'))\n",
    "        date_sync = source - delta_time\n",
    "        data.at[i,ServerTimeStamp] = date_sync\n",
    "    return data"
   ]
  },
  {
   "cell_type": "markdown",
   "metadata": {},
   "source": [
    "## Paths from data set"
   ]
  },
  {
   "cell_type": "code",
   "execution_count": 30,
   "metadata": {},
   "outputs": [],
   "source": [
    "date = 201027\n",
    "uc_num = 2\n",
    "\n",
    "path = str(date) + '/use_case' + str(uc_num)\n",
    "\n",
    "# Conveyor_belt\n",
    "path_data_conv = '../01_Data/' + path + '/Conveyor Speed/DataLogger.csv'\n",
    "path_tag_conv = '../01_Data/' + path + '/Conveyor Speed/tagconfig.txt'\n",
    "\n",
    "# Gate\n",
    "path_data_gate = '../01_Data/' + path + '/Gate/DataLogger.csv'\n",
    "path_tag_gate = '../01_Data/' + path + '/Gate/tagconfig.txt'\n",
    "\n",
    "# Quality_Control\n",
    "path_data_qc = '../01_Data/' + path + '/Quality Control/DataLogger.csv'\n",
    "path_tag_qc = '../01_Data/' + path + '/Quality Control/tagconfig.txt'\n",
    "\n",
    "# Robot_Position\n",
    "path_data_rp = '../01_Data/' + path + '/Robot Position/DataLogger.csv'\n",
    "path_tag_rp = '../01_Data/' + path + '/Robot Position/tagconfig.txt'\n",
    "\n",
    "# Store\n",
    "path_data_st = '../01_Data/' + path + '/Store/DataLogger.csv'\n",
    "path_tag_st = '../01_Data/' + path + '/Store/tagconfig.txt'\n",
    "\n",
    "# Flag\n",
    "path_data_flag = '../01_Data/' + path + '/Flag/DataLogger.csv'\n",
    "path_tag_flag = '../01_Data/' + path + '/Flag/tagconfig.txt'\n",
    "\n",
    "# Processed data\n",
    "\n",
    "path_data_save = '../01_Data/' + path + '/Processed/'\n",
    "path_sample_save = '../01_Data/' + path + '/Processed/Samples/'\n"
   ]
  },
  {
   "cell_type": "markdown",
   "metadata": {},
   "source": [
    "## Import data from csv"
   ]
  },
  {
   "cell_type": "code",
   "execution_count": 31,
   "metadata": {},
   "outputs": [],
   "source": [
    "# Conveyor_belt\n",
    "data_conv =  pd.read_csv(path_data_conv, delimiter = ',')\n",
    "#df_conv = pd.DataFrame(pd.read_csv(path_data_conv, delimiter = ','))\n",
    "\n",
    "# Gate\n",
    "data_gate =  pd.read_csv(path_data_gate, delimiter = ',')\n",
    "#df_gate = pd.DataFrame(pd.read_csv(path_data_gate, delimiter = ','))\n",
    "\n",
    "# Quality_Control\n",
    "data_qc =  pd.read_csv(path_data_qc, delimiter = ',')\n",
    "#df_qc = pd.DataFrame(pd.read_csv(path_data_qc, delimiter = ','))\n",
    "\n",
    "# Robot_Position\n",
    "data_rp =  pd.read_csv(path_data_rp, delimiter = ',')\n",
    "#df_rp = pd.DataFrame(pd.read_csv(path_data_rp, delimiter = ','))\n",
    "\n",
    "# Store\n",
    "data_st =  pd.read_csv(path_data_st, delimiter = ',')\n",
    "#df_st = pd.DataFrame(pd.read_csv(path_data_st, delimiter = ','))\n",
    "\n",
    "# Flag\n",
    "data_flag =  pd.read_csv(path_data_flag, delimiter = ',')\n",
    "#df_flag = pd.DataFrame(pd.read_csv(path_data_st, delimiter = ','))"
   ]
  },
  {
   "cell_type": "markdown",
   "metadata": {},
   "source": [
    "## Import data tags"
   ]
  },
  {
   "cell_type": "code",
   "execution_count": 32,
   "metadata": {},
   "outputs": [],
   "source": [
    "# Conveyor_belt\n",
    "tag_conv =  pd.read_fwf(path_tag_conv, sep=\" \", header=None, names=['a','b','c','d'])\n",
    "tag_conv = tag_conv.drop([0]) # delete first row (trash)\n",
    "\n",
    "# Gate\n",
    "tag_gate =  pd.read_fwf(path_tag_gate, sep=\" \", header=None, names=['a','b','c','d'])\n",
    "tag_gate = tag_gate.drop([0]) # delete first row (trash)\n",
    "\n",
    "# Quality_Control\n",
    "tag_qc =  pd.read_fwf(path_tag_qc, sep=\" \", header=None, names=['a','b','c','d'])\n",
    "tag_qc = tag_qc.drop([0]) # delete first row (trash)\n",
    "\n",
    "# Robot_Position\n",
    "tag_rp =  pd.read_fwf(path_tag_rp, sep=\" \", header=None, names=['a','b','c','d'])\n",
    "tag_rp = tag_rp.drop([0]) # delete first row (trash)\n",
    "\n",
    "# Robot_Position\n",
    "tag_st =  pd.read_fwf(path_tag_st, sep=\" \", header=None, names=['a','b','c','d'])\n",
    "tag_st = tag_st.drop([0]) # delete first row (trash)\n",
    "\n",
    "# Flag\n",
    "tag_flag =  pd.read_fwf(path_tag_flag, sep=\" \", header=None, names=['a','b','c','d'])\n",
    "tag_flag = tag_flag.drop([0]) # delete first row (trash)"
   ]
  },
  {
   "cell_type": "markdown",
   "metadata": {},
   "source": [
    "## Update tags"
   ]
  },
  {
   "cell_type": "code",
   "execution_count": 33,
   "metadata": {},
   "outputs": [],
   "source": [
    "# Conveyor_belt\n",
    "data_conv = fc_tag_update(data_conv, tag_conv)\n",
    "\n",
    "# Gate\n",
    "data_gate = fc_tag_update(data_gate, tag_gate)\n",
    "\n",
    "# Quality_Control\n",
    "data_qc = fc_tag_update(data_qc, tag_qc)\n",
    "\n",
    "# Robot_Position\n",
    "data_rp = fc_tag_update(data_rp, tag_rp)\n",
    "\n",
    "# Store\n",
    "data_st = fc_tag_update(data_st, tag_st)\n",
    "\n",
    "# Flag\n",
    "data_flag = fc_tag_update(data_flag, tag_flag)"
   ]
  },
  {
   "cell_type": "markdown",
   "metadata": {},
   "source": [
    "## Syncronize ServerTimeStamp"
   ]
  },
  {
   "cell_type": "code",
   "execution_count": 34,
   "metadata": {},
   "outputs": [],
   "source": [
    "delta_time_PLC = timedelta(seconds=67)\n",
    "delta_time_SIM = timedelta(seconds=0)"
   ]
  },
  {
   "cell_type": "code",
   "execution_count": 35,
   "metadata": {},
   "outputs": [
    {
     "output_type": "execute_result",
     "data": {
      "text/plain": [
       "  PrimaryKey DataType  Value  StatusCode           SourceTimeStamp  \\\n",
       "0         27   0x0004    300  0x00000000  2020-10-27T14:31:56.627Z   \n",
       "1         28   0x0004    363  0x00000000  2020-10-27T14:31:56.627Z   \n",
       "2         29   0x0004    380  0x00000000  2020-10-27T14:31:56.630Z   \n",
       "\n",
       "                    ServerTimeStamp  \n",
       "0  2020-10-27 14:30:49.627000+00:00  \n",
       "1  2020-10-27 14:30:49.627000+00:00  \n",
       "2  2020-10-27 14:30:49.630000+00:00  "
      ],
      "text/html": "<div>\n<style scoped>\n    .dataframe tbody tr th:only-of-type {\n        vertical-align: middle;\n    }\n\n    .dataframe tbody tr th {\n        vertical-align: top;\n    }\n\n    .dataframe thead th {\n        text-align: right;\n    }\n</style>\n<table border=\"1\" class=\"dataframe\">\n  <thead>\n    <tr style=\"text-align: right;\">\n      <th></th>\n      <th>PrimaryKey</th>\n      <th>DataType</th>\n      <th>Value</th>\n      <th>StatusCode</th>\n      <th>SourceTimeStamp</th>\n      <th>ServerTimeStamp</th>\n    </tr>\n  </thead>\n  <tbody>\n    <tr>\n      <th>0</th>\n      <td>27</td>\n      <td>0x0004</td>\n      <td>300</td>\n      <td>0x00000000</td>\n      <td>2020-10-27T14:31:56.627Z</td>\n      <td>2020-10-27 14:30:49.627000+00:00</td>\n    </tr>\n    <tr>\n      <th>1</th>\n      <td>28</td>\n      <td>0x0004</td>\n      <td>363</td>\n      <td>0x00000000</td>\n      <td>2020-10-27T14:31:56.627Z</td>\n      <td>2020-10-27 14:30:49.627000+00:00</td>\n    </tr>\n    <tr>\n      <th>2</th>\n      <td>29</td>\n      <td>0x0004</td>\n      <td>380</td>\n      <td>0x00000000</td>\n      <td>2020-10-27T14:31:56.630Z</td>\n      <td>2020-10-27 14:30:49.630000+00:00</td>\n    </tr>\n  </tbody>\n</table>\n</div>"
     },
     "metadata": {},
     "execution_count": 35
    }
   ],
   "source": [
    "data_conv = fc_sync_timestamp(data_conv,'ServerTimeStamp',delta_time_PLC)\n",
    "data_conv"
   ]
  },
  {
   "cell_type": "code",
   "execution_count": 36,
   "metadata": {},
   "outputs": [
    {
     "output_type": "execute_result",
     "data": {
      "text/plain": [
       "      PrimaryKey DataType Value  StatusCode           SourceTimeStamp  \\\n",
       "0          Speed   0x000b     0  0x00000000  2020-10-27T14:30:56.854Z   \n",
       "1          Speed   0x000b     0  0x00000000  2020-10-27T14:30:57.155Z   \n",
       "2           Safe   0x0001  true  0x00000000  2020-10-27T14:30:56.854Z   \n",
       "3           Safe   0x0001  true  0x00000000  2020-10-27T14:30:57.155Z   \n",
       "4       Position   0x000b   0.3  0x00000000  2020-10-27T14:30:56.855Z   \n",
       "...          ...      ...   ...         ...                       ...   \n",
       "12871      Speed   0x000b     0  0x00000000  2020-10-27T14:52:24.155Z   \n",
       "12872       Safe   0x0001  true  0x00000000  2020-10-27T14:52:23.855Z   \n",
       "12873       Safe   0x0001  true  0x00000000  2020-10-27T14:52:24.155Z   \n",
       "12874   Position   0x000b   0.2  0x00000000  2020-10-27T14:52:23.855Z   \n",
       "12875   Position   0x000b   0.2  0x00000000  2020-10-27T14:52:24.155Z   \n",
       "\n",
       "                        ServerTimeStamp  \n",
       "0      2020-10-27 14:30:56.854000+00:00  \n",
       "1      2020-10-27 14:30:57.155000+00:00  \n",
       "2      2020-10-27 14:30:56.854000+00:00  \n",
       "3      2020-10-27 14:30:57.155000+00:00  \n",
       "4      2020-10-27 14:30:56.855000+00:00  \n",
       "...                                 ...  \n",
       "12871  2020-10-27 14:52:24.155000+00:00  \n",
       "12872  2020-10-27 14:52:23.855000+00:00  \n",
       "12873  2020-10-27 14:52:24.155000+00:00  \n",
       "12874  2020-10-27 14:52:23.855000+00:00  \n",
       "12875  2020-10-27 14:52:24.155000+00:00  \n",
       "\n",
       "[12876 rows x 6 columns]"
      ],
      "text/html": "<div>\n<style scoped>\n    .dataframe tbody tr th:only-of-type {\n        vertical-align: middle;\n    }\n\n    .dataframe tbody tr th {\n        vertical-align: top;\n    }\n\n    .dataframe thead th {\n        text-align: right;\n    }\n</style>\n<table border=\"1\" class=\"dataframe\">\n  <thead>\n    <tr style=\"text-align: right;\">\n      <th></th>\n      <th>PrimaryKey</th>\n      <th>DataType</th>\n      <th>Value</th>\n      <th>StatusCode</th>\n      <th>SourceTimeStamp</th>\n      <th>ServerTimeStamp</th>\n    </tr>\n  </thead>\n  <tbody>\n    <tr>\n      <th>0</th>\n      <td>Speed</td>\n      <td>0x000b</td>\n      <td>0</td>\n      <td>0x00000000</td>\n      <td>2020-10-27T14:30:56.854Z</td>\n      <td>2020-10-27 14:30:56.854000+00:00</td>\n    </tr>\n    <tr>\n      <th>1</th>\n      <td>Speed</td>\n      <td>0x000b</td>\n      <td>0</td>\n      <td>0x00000000</td>\n      <td>2020-10-27T14:30:57.155Z</td>\n      <td>2020-10-27 14:30:57.155000+00:00</td>\n    </tr>\n    <tr>\n      <th>2</th>\n      <td>Safe</td>\n      <td>0x0001</td>\n      <td>true</td>\n      <td>0x00000000</td>\n      <td>2020-10-27T14:30:56.854Z</td>\n      <td>2020-10-27 14:30:56.854000+00:00</td>\n    </tr>\n    <tr>\n      <th>3</th>\n      <td>Safe</td>\n      <td>0x0001</td>\n      <td>true</td>\n      <td>0x00000000</td>\n      <td>2020-10-27T14:30:57.155Z</td>\n      <td>2020-10-27 14:30:57.155000+00:00</td>\n    </tr>\n    <tr>\n      <th>4</th>\n      <td>Position</td>\n      <td>0x000b</td>\n      <td>0.3</td>\n      <td>0x00000000</td>\n      <td>2020-10-27T14:30:56.855Z</td>\n      <td>2020-10-27 14:30:56.855000+00:00</td>\n    </tr>\n    <tr>\n      <th>...</th>\n      <td>...</td>\n      <td>...</td>\n      <td>...</td>\n      <td>...</td>\n      <td>...</td>\n      <td>...</td>\n    </tr>\n    <tr>\n      <th>12871</th>\n      <td>Speed</td>\n      <td>0x000b</td>\n      <td>0</td>\n      <td>0x00000000</td>\n      <td>2020-10-27T14:52:24.155Z</td>\n      <td>2020-10-27 14:52:24.155000+00:00</td>\n    </tr>\n    <tr>\n      <th>12872</th>\n      <td>Safe</td>\n      <td>0x0001</td>\n      <td>true</td>\n      <td>0x00000000</td>\n      <td>2020-10-27T14:52:23.855Z</td>\n      <td>2020-10-27 14:52:23.855000+00:00</td>\n    </tr>\n    <tr>\n      <th>12873</th>\n      <td>Safe</td>\n      <td>0x0001</td>\n      <td>true</td>\n      <td>0x00000000</td>\n      <td>2020-10-27T14:52:24.155Z</td>\n      <td>2020-10-27 14:52:24.155000+00:00</td>\n    </tr>\n    <tr>\n      <th>12874</th>\n      <td>Position</td>\n      <td>0x000b</td>\n      <td>0.2</td>\n      <td>0x00000000</td>\n      <td>2020-10-27T14:52:23.855Z</td>\n      <td>2020-10-27 14:52:23.855000+00:00</td>\n    </tr>\n    <tr>\n      <th>12875</th>\n      <td>Position</td>\n      <td>0x000b</td>\n      <td>0.2</td>\n      <td>0x00000000</td>\n      <td>2020-10-27T14:52:24.155Z</td>\n      <td>2020-10-27 14:52:24.155000+00:00</td>\n    </tr>\n  </tbody>\n</table>\n<p>12876 rows × 6 columns</p>\n</div>"
     },
     "metadata": {},
     "execution_count": 36
    }
   ],
   "source": [
    "data_gate = fc_sync_timestamp(data_gate,'ServerTimeStamp',delta_time_SIM)\n",
    "data_gate"
   ]
  },
  {
   "cell_type": "code",
   "execution_count": 37,
   "metadata": {},
   "outputs": [
    {
     "output_type": "execute_result",
     "data": {
      "text/plain": [
       "        PrimaryKey DataType     Value  StatusCode           SourceTimeStamp  \\\n",
       "0      DistanceAbs   0x000b  4.918553  0x00000000  2020-10-27T14:30:58.704Z   \n",
       "1      DistanceAbs   0x000b  4.918553  0x00000000  2020-10-27T14:30:59.004Z   \n",
       "2        DistanceX   0x000b  2.385984  0x00000000  2020-10-27T14:30:58.704Z   \n",
       "3        DistanceX   0x000b  2.385984  0x00000000  2020-10-27T14:30:59.004Z   \n",
       "4        DistanceY   0x000b  4.301075  0x00000000  2020-10-27T14:30:58.704Z   \n",
       "...            ...      ...       ...         ...                       ...   \n",
       "17167   ResultCode   0x0006  2.000000  0x00000000  2020-10-27T14:52:26.004Z   \n",
       "17168  DistanceAbs   0x000b  0.000000  0x00000000  2020-10-27T14:52:26.304Z   \n",
       "17169    DistanceX   0x000b  0.000000  0x00000000  2020-10-27T14:52:26.304Z   \n",
       "17170    DistanceY   0x000b  0.000000  0x00000000  2020-10-27T14:52:26.304Z   \n",
       "17171   ResultCode   0x0006  2.000000  0x00000000  2020-10-27T14:52:26.304Z   \n",
       "\n",
       "                        ServerTimeStamp  \n",
       "0      2020-10-27 14:30:58.704000+00:00  \n",
       "1      2020-10-27 14:30:59.004000+00:00  \n",
       "2      2020-10-27 14:30:58.704000+00:00  \n",
       "3      2020-10-27 14:30:59.004000+00:00  \n",
       "4      2020-10-27 14:30:58.704000+00:00  \n",
       "...                                 ...  \n",
       "17167  2020-10-27 14:52:26.004000+00:00  \n",
       "17168  2020-10-27 14:52:26.304000+00:00  \n",
       "17169  2020-10-27 14:52:26.304000+00:00  \n",
       "17170  2020-10-27 14:52:26.304000+00:00  \n",
       "17171  2020-10-27 14:52:26.304000+00:00  \n",
       "\n",
       "[17172 rows x 6 columns]"
      ],
      "text/html": "<div>\n<style scoped>\n    .dataframe tbody tr th:only-of-type {\n        vertical-align: middle;\n    }\n\n    .dataframe tbody tr th {\n        vertical-align: top;\n    }\n\n    .dataframe thead th {\n        text-align: right;\n    }\n</style>\n<table border=\"1\" class=\"dataframe\">\n  <thead>\n    <tr style=\"text-align: right;\">\n      <th></th>\n      <th>PrimaryKey</th>\n      <th>DataType</th>\n      <th>Value</th>\n      <th>StatusCode</th>\n      <th>SourceTimeStamp</th>\n      <th>ServerTimeStamp</th>\n    </tr>\n  </thead>\n  <tbody>\n    <tr>\n      <th>0</th>\n      <td>DistanceAbs</td>\n      <td>0x000b</td>\n      <td>4.918553</td>\n      <td>0x00000000</td>\n      <td>2020-10-27T14:30:58.704Z</td>\n      <td>2020-10-27 14:30:58.704000+00:00</td>\n    </tr>\n    <tr>\n      <th>1</th>\n      <td>DistanceAbs</td>\n      <td>0x000b</td>\n      <td>4.918553</td>\n      <td>0x00000000</td>\n      <td>2020-10-27T14:30:59.004Z</td>\n      <td>2020-10-27 14:30:59.004000+00:00</td>\n    </tr>\n    <tr>\n      <th>2</th>\n      <td>DistanceX</td>\n      <td>0x000b</td>\n      <td>2.385984</td>\n      <td>0x00000000</td>\n      <td>2020-10-27T14:30:58.704Z</td>\n      <td>2020-10-27 14:30:58.704000+00:00</td>\n    </tr>\n    <tr>\n      <th>3</th>\n      <td>DistanceX</td>\n      <td>0x000b</td>\n      <td>2.385984</td>\n      <td>0x00000000</td>\n      <td>2020-10-27T14:30:59.004Z</td>\n      <td>2020-10-27 14:30:59.004000+00:00</td>\n    </tr>\n    <tr>\n      <th>4</th>\n      <td>DistanceY</td>\n      <td>0x000b</td>\n      <td>4.301075</td>\n      <td>0x00000000</td>\n      <td>2020-10-27T14:30:58.704Z</td>\n      <td>2020-10-27 14:30:58.704000+00:00</td>\n    </tr>\n    <tr>\n      <th>...</th>\n      <td>...</td>\n      <td>...</td>\n      <td>...</td>\n      <td>...</td>\n      <td>...</td>\n      <td>...</td>\n    </tr>\n    <tr>\n      <th>17167</th>\n      <td>ResultCode</td>\n      <td>0x0006</td>\n      <td>2.000000</td>\n      <td>0x00000000</td>\n      <td>2020-10-27T14:52:26.004Z</td>\n      <td>2020-10-27 14:52:26.004000+00:00</td>\n    </tr>\n    <tr>\n      <th>17168</th>\n      <td>DistanceAbs</td>\n      <td>0x000b</td>\n      <td>0.000000</td>\n      <td>0x00000000</td>\n      <td>2020-10-27T14:52:26.304Z</td>\n      <td>2020-10-27 14:52:26.304000+00:00</td>\n    </tr>\n    <tr>\n      <th>17169</th>\n      <td>DistanceX</td>\n      <td>0x000b</td>\n      <td>0.000000</td>\n      <td>0x00000000</td>\n      <td>2020-10-27T14:52:26.304Z</td>\n      <td>2020-10-27 14:52:26.304000+00:00</td>\n    </tr>\n    <tr>\n      <th>17170</th>\n      <td>DistanceY</td>\n      <td>0x000b</td>\n      <td>0.000000</td>\n      <td>0x00000000</td>\n      <td>2020-10-27T14:52:26.304Z</td>\n      <td>2020-10-27 14:52:26.304000+00:00</td>\n    </tr>\n    <tr>\n      <th>17171</th>\n      <td>ResultCode</td>\n      <td>0x0006</td>\n      <td>2.000000</td>\n      <td>0x00000000</td>\n      <td>2020-10-27T14:52:26.304Z</td>\n      <td>2020-10-27 14:52:26.304000+00:00</td>\n    </tr>\n  </tbody>\n</table>\n<p>17172 rows × 6 columns</p>\n</div>"
     },
     "metadata": {},
     "execution_count": 37
    }
   ],
   "source": [
    "data_qc = fc_sync_timestamp(data_qc,'ServerTimeStamp',delta_time_SIM)\n",
    "data_qc"
   ]
  },
  {
   "cell_type": "code",
   "execution_count": 38,
   "metadata": {},
   "outputs": [
    {
     "output_type": "execute_result",
     "data": {
      "text/plain": [
       "      PrimaryKey DataType       Value  StatusCode           SourceTimeStamp  \\\n",
       "0            527   0x0007  1042334043  0x00000000  2020-10-27T14:32:07.629Z   \n",
       "1            527   0x0007  1046623377  0x00000000  2020-10-27T14:32:07.879Z   \n",
       "2            528   0x0007  3190235282  0x00000000  2020-10-27T14:32:07.632Z   \n",
       "3            528   0x0007  3190237876  0x00000000  2020-10-27T14:32:07.882Z   \n",
       "4            529   0x0007  1054414758  0x00000000  2020-10-27T14:32:07.634Z   \n",
       "...          ...      ...         ...         ...                       ...   \n",
       "15333        527   0x0007  3182800615  0x00000000  2020-10-27T14:53:34.872Z   \n",
       "15334        528   0x0007  3190239826  0x00000000  2020-10-27T14:53:34.634Z   \n",
       "15335        528   0x0007  3190240997  0x00000000  2020-10-27T14:53:34.874Z   \n",
       "15336        529   0x0007  1054419631  0x00000000  2020-10-27T14:53:34.639Z   \n",
       "15337        529   0x0007  1054419222  0x00000000  2020-10-27T14:53:34.874Z   \n",
       "\n",
       "                        ServerTimeStamp  \n",
       "0      2020-10-27 14:31:00.629000+00:00  \n",
       "1      2020-10-27 14:31:00.879000+00:00  \n",
       "2      2020-10-27 14:31:00.632000+00:00  \n",
       "3      2020-10-27 14:31:00.882000+00:00  \n",
       "4      2020-10-27 14:31:00.634000+00:00  \n",
       "...                                 ...  \n",
       "15333  2020-10-27 14:52:27.872000+00:00  \n",
       "15334  2020-10-27 14:52:27.634000+00:00  \n",
       "15335  2020-10-27 14:52:27.874000+00:00  \n",
       "15336  2020-10-27 14:52:27.639000+00:00  \n",
       "15337  2020-10-27 14:52:27.874000+00:00  \n",
       "\n",
       "[15338 rows x 6 columns]"
      ],
      "text/html": "<div>\n<style scoped>\n    .dataframe tbody tr th:only-of-type {\n        vertical-align: middle;\n    }\n\n    .dataframe tbody tr th {\n        vertical-align: top;\n    }\n\n    .dataframe thead th {\n        text-align: right;\n    }\n</style>\n<table border=\"1\" class=\"dataframe\">\n  <thead>\n    <tr style=\"text-align: right;\">\n      <th></th>\n      <th>PrimaryKey</th>\n      <th>DataType</th>\n      <th>Value</th>\n      <th>StatusCode</th>\n      <th>SourceTimeStamp</th>\n      <th>ServerTimeStamp</th>\n    </tr>\n  </thead>\n  <tbody>\n    <tr>\n      <th>0</th>\n      <td>527</td>\n      <td>0x0007</td>\n      <td>1042334043</td>\n      <td>0x00000000</td>\n      <td>2020-10-27T14:32:07.629Z</td>\n      <td>2020-10-27 14:31:00.629000+00:00</td>\n    </tr>\n    <tr>\n      <th>1</th>\n      <td>527</td>\n      <td>0x0007</td>\n      <td>1046623377</td>\n      <td>0x00000000</td>\n      <td>2020-10-27T14:32:07.879Z</td>\n      <td>2020-10-27 14:31:00.879000+00:00</td>\n    </tr>\n    <tr>\n      <th>2</th>\n      <td>528</td>\n      <td>0x0007</td>\n      <td>3190235282</td>\n      <td>0x00000000</td>\n      <td>2020-10-27T14:32:07.632Z</td>\n      <td>2020-10-27 14:31:00.632000+00:00</td>\n    </tr>\n    <tr>\n      <th>3</th>\n      <td>528</td>\n      <td>0x0007</td>\n      <td>3190237876</td>\n      <td>0x00000000</td>\n      <td>2020-10-27T14:32:07.882Z</td>\n      <td>2020-10-27 14:31:00.882000+00:00</td>\n    </tr>\n    <tr>\n      <th>4</th>\n      <td>529</td>\n      <td>0x0007</td>\n      <td>1054414758</td>\n      <td>0x00000000</td>\n      <td>2020-10-27T14:32:07.634Z</td>\n      <td>2020-10-27 14:31:00.634000+00:00</td>\n    </tr>\n    <tr>\n      <th>...</th>\n      <td>...</td>\n      <td>...</td>\n      <td>...</td>\n      <td>...</td>\n      <td>...</td>\n      <td>...</td>\n    </tr>\n    <tr>\n      <th>15333</th>\n      <td>527</td>\n      <td>0x0007</td>\n      <td>3182800615</td>\n      <td>0x00000000</td>\n      <td>2020-10-27T14:53:34.872Z</td>\n      <td>2020-10-27 14:52:27.872000+00:00</td>\n    </tr>\n    <tr>\n      <th>15334</th>\n      <td>528</td>\n      <td>0x0007</td>\n      <td>3190239826</td>\n      <td>0x00000000</td>\n      <td>2020-10-27T14:53:34.634Z</td>\n      <td>2020-10-27 14:52:27.634000+00:00</td>\n    </tr>\n    <tr>\n      <th>15335</th>\n      <td>528</td>\n      <td>0x0007</td>\n      <td>3190240997</td>\n      <td>0x00000000</td>\n      <td>2020-10-27T14:53:34.874Z</td>\n      <td>2020-10-27 14:52:27.874000+00:00</td>\n    </tr>\n    <tr>\n      <th>15336</th>\n      <td>529</td>\n      <td>0x0007</td>\n      <td>1054419631</td>\n      <td>0x00000000</td>\n      <td>2020-10-27T14:53:34.639Z</td>\n      <td>2020-10-27 14:52:27.639000+00:00</td>\n    </tr>\n    <tr>\n      <th>15337</th>\n      <td>529</td>\n      <td>0x0007</td>\n      <td>1054419222</td>\n      <td>0x00000000</td>\n      <td>2020-10-27T14:53:34.874Z</td>\n      <td>2020-10-27 14:52:27.874000+00:00</td>\n    </tr>\n  </tbody>\n</table>\n<p>15338 rows × 6 columns</p>\n</div>"
     },
     "metadata": {},
     "execution_count": 38
    }
   ],
   "source": [
    "data_rp = fc_sync_timestamp(data_rp,'ServerTimeStamp',delta_time_PLC)\n",
    "data_rp"
   ]
  },
  {
   "cell_type": "code",
   "execution_count": 39,
   "metadata": {},
   "outputs": [
    {
     "output_type": "execute_result",
     "data": {
      "text/plain": [
       "     PrimaryKey DataType  Value  StatusCode           SourceTimeStamp  \\\n",
       "0      DiscSize   0x0003      1  0x00000000  2020-10-27T14:31:02.469Z   \n",
       "1      DiscSize   0x0003      1  0x00000000  2020-10-27T14:31:02.769Z   \n",
       "2      DiscSize   0x0003      1  0x00000000  2020-10-27T14:31:03.069Z   \n",
       "3      DiscSize   0x0003      1  0x00000000  2020-10-27T14:31:03.369Z   \n",
       "4      DiscSize   0x0003      1  0x00000000  2020-10-27T14:31:03.669Z   \n",
       "...         ...      ...    ...         ...                       ...   \n",
       "4289   DiscSize   0x0003      2  0x00000000  2020-10-27T14:52:29.169Z   \n",
       "4290   DiscSize   0x0003      2  0x00000000  2020-10-27T14:52:29.469Z   \n",
       "4291   DiscSize   0x0003      2  0x00000000  2020-10-27T14:52:29.769Z   \n",
       "4292   DiscSize   0x0003      2  0x00000000  2020-10-27T14:52:30.069Z   \n",
       "4293   DiscSize   0x0003      2  0x00000000  2020-10-27T14:52:30.369Z   \n",
       "\n",
       "                       ServerTimeStamp  \n",
       "0     2020-10-27 14:31:02.469000+00:00  \n",
       "1     2020-10-27 14:31:02.769000+00:00  \n",
       "2     2020-10-27 14:31:03.069000+00:00  \n",
       "3     2020-10-27 14:31:03.369000+00:00  \n",
       "4     2020-10-27 14:31:03.669000+00:00  \n",
       "...                                ...  \n",
       "4289  2020-10-27 14:52:29.169000+00:00  \n",
       "4290  2020-10-27 14:52:29.469000+00:00  \n",
       "4291  2020-10-27 14:52:29.769000+00:00  \n",
       "4292  2020-10-27 14:52:30.069000+00:00  \n",
       "4293  2020-10-27 14:52:30.369000+00:00  \n",
       "\n",
       "[4294 rows x 6 columns]"
      ],
      "text/html": "<div>\n<style scoped>\n    .dataframe tbody tr th:only-of-type {\n        vertical-align: middle;\n    }\n\n    .dataframe tbody tr th {\n        vertical-align: top;\n    }\n\n    .dataframe thead th {\n        text-align: right;\n    }\n</style>\n<table border=\"1\" class=\"dataframe\">\n  <thead>\n    <tr style=\"text-align: right;\">\n      <th></th>\n      <th>PrimaryKey</th>\n      <th>DataType</th>\n      <th>Value</th>\n      <th>StatusCode</th>\n      <th>SourceTimeStamp</th>\n      <th>ServerTimeStamp</th>\n    </tr>\n  </thead>\n  <tbody>\n    <tr>\n      <th>0</th>\n      <td>DiscSize</td>\n      <td>0x0003</td>\n      <td>1</td>\n      <td>0x00000000</td>\n      <td>2020-10-27T14:31:02.469Z</td>\n      <td>2020-10-27 14:31:02.469000+00:00</td>\n    </tr>\n    <tr>\n      <th>1</th>\n      <td>DiscSize</td>\n      <td>0x0003</td>\n      <td>1</td>\n      <td>0x00000000</td>\n      <td>2020-10-27T14:31:02.769Z</td>\n      <td>2020-10-27 14:31:02.769000+00:00</td>\n    </tr>\n    <tr>\n      <th>2</th>\n      <td>DiscSize</td>\n      <td>0x0003</td>\n      <td>1</td>\n      <td>0x00000000</td>\n      <td>2020-10-27T14:31:03.069Z</td>\n      <td>2020-10-27 14:31:03.069000+00:00</td>\n    </tr>\n    <tr>\n      <th>3</th>\n      <td>DiscSize</td>\n      <td>0x0003</td>\n      <td>1</td>\n      <td>0x00000000</td>\n      <td>2020-10-27T14:31:03.369Z</td>\n      <td>2020-10-27 14:31:03.369000+00:00</td>\n    </tr>\n    <tr>\n      <th>4</th>\n      <td>DiscSize</td>\n      <td>0x0003</td>\n      <td>1</td>\n      <td>0x00000000</td>\n      <td>2020-10-27T14:31:03.669Z</td>\n      <td>2020-10-27 14:31:03.669000+00:00</td>\n    </tr>\n    <tr>\n      <th>...</th>\n      <td>...</td>\n      <td>...</td>\n      <td>...</td>\n      <td>...</td>\n      <td>...</td>\n      <td>...</td>\n    </tr>\n    <tr>\n      <th>4289</th>\n      <td>DiscSize</td>\n      <td>0x0003</td>\n      <td>2</td>\n      <td>0x00000000</td>\n      <td>2020-10-27T14:52:29.169Z</td>\n      <td>2020-10-27 14:52:29.169000+00:00</td>\n    </tr>\n    <tr>\n      <th>4290</th>\n      <td>DiscSize</td>\n      <td>0x0003</td>\n      <td>2</td>\n      <td>0x00000000</td>\n      <td>2020-10-27T14:52:29.469Z</td>\n      <td>2020-10-27 14:52:29.469000+00:00</td>\n    </tr>\n    <tr>\n      <th>4291</th>\n      <td>DiscSize</td>\n      <td>0x0003</td>\n      <td>2</td>\n      <td>0x00000000</td>\n      <td>2020-10-27T14:52:29.769Z</td>\n      <td>2020-10-27 14:52:29.769000+00:00</td>\n    </tr>\n    <tr>\n      <th>4292</th>\n      <td>DiscSize</td>\n      <td>0x0003</td>\n      <td>2</td>\n      <td>0x00000000</td>\n      <td>2020-10-27T14:52:30.069Z</td>\n      <td>2020-10-27 14:52:30.069000+00:00</td>\n    </tr>\n    <tr>\n      <th>4293</th>\n      <td>DiscSize</td>\n      <td>0x0003</td>\n      <td>2</td>\n      <td>0x00000000</td>\n      <td>2020-10-27T14:52:30.369Z</td>\n      <td>2020-10-27 14:52:30.369000+00:00</td>\n    </tr>\n  </tbody>\n</table>\n<p>4294 rows × 6 columns</p>\n</div>"
     },
     "metadata": {},
     "execution_count": 39
    }
   ],
   "source": [
    "data_st = fc_sync_timestamp(data_st,'ServerTimeStamp',delta_time_SIM)\n",
    "data_st"
   ]
  },
  {
   "cell_type": "code",
   "execution_count": 40,
   "metadata": {},
   "outputs": [
    {
     "output_type": "execute_result",
     "data": {
      "text/plain": [
       "    PrimaryKey DataType  Value  StatusCode           SourceTimeStamp  \\\n",
       "0          561   0x0001  false  0x00000000  2020-10-27T14:32:01.126Z   \n",
       "1          560   0x0004      1  0x00000000  2020-10-27T14:32:01.129Z   \n",
       "2          560   0x0004      2  0x00000000  2020-10-27T14:32:02.379Z   \n",
       "3          561   0x0001   true  0x00000000  2020-10-27T14:32:04.378Z   \n",
       "4          560   0x0004      3  0x00000000  2020-10-27T14:32:09.129Z   \n",
       "..         ...      ...    ...         ...                       ...   \n",
       "371        561   0x0001   true  0x00000000  2020-10-27T14:52:12.626Z   \n",
       "372        560   0x0004      3  0x00000000  2020-10-27T14:52:17.380Z   \n",
       "373        561   0x0001  false  0x00000000  2020-10-27T14:52:18.127Z   \n",
       "374        560   0x0004      0  0x00000000  2020-10-27T14:52:40.127Z   \n",
       "375        561   0x0001   true  0x00000000  2020-10-27T14:52:40.878Z   \n",
       "\n",
       "                      ServerTimeStamp  \n",
       "0    2020-10-27 14:30:54.126000+00:00  \n",
       "1    2020-10-27 14:30:54.129000+00:00  \n",
       "2    2020-10-27 14:30:55.379000+00:00  \n",
       "3    2020-10-27 14:30:57.378000+00:00  \n",
       "4    2020-10-27 14:31:02.129000+00:00  \n",
       "..                                ...  \n",
       "371  2020-10-27 14:51:05.626000+00:00  \n",
       "372  2020-10-27 14:51:10.380000+00:00  \n",
       "373  2020-10-27 14:51:11.127000+00:00  \n",
       "374  2020-10-27 14:51:33.127000+00:00  \n",
       "375  2020-10-27 14:51:33.878000+00:00  \n",
       "\n",
       "[376 rows x 6 columns]"
      ],
      "text/html": "<div>\n<style scoped>\n    .dataframe tbody tr th:only-of-type {\n        vertical-align: middle;\n    }\n\n    .dataframe tbody tr th {\n        vertical-align: top;\n    }\n\n    .dataframe thead th {\n        text-align: right;\n    }\n</style>\n<table border=\"1\" class=\"dataframe\">\n  <thead>\n    <tr style=\"text-align: right;\">\n      <th></th>\n      <th>PrimaryKey</th>\n      <th>DataType</th>\n      <th>Value</th>\n      <th>StatusCode</th>\n      <th>SourceTimeStamp</th>\n      <th>ServerTimeStamp</th>\n    </tr>\n  </thead>\n  <tbody>\n    <tr>\n      <th>0</th>\n      <td>561</td>\n      <td>0x0001</td>\n      <td>false</td>\n      <td>0x00000000</td>\n      <td>2020-10-27T14:32:01.126Z</td>\n      <td>2020-10-27 14:30:54.126000+00:00</td>\n    </tr>\n    <tr>\n      <th>1</th>\n      <td>560</td>\n      <td>0x0004</td>\n      <td>1</td>\n      <td>0x00000000</td>\n      <td>2020-10-27T14:32:01.129Z</td>\n      <td>2020-10-27 14:30:54.129000+00:00</td>\n    </tr>\n    <tr>\n      <th>2</th>\n      <td>560</td>\n      <td>0x0004</td>\n      <td>2</td>\n      <td>0x00000000</td>\n      <td>2020-10-27T14:32:02.379Z</td>\n      <td>2020-10-27 14:30:55.379000+00:00</td>\n    </tr>\n    <tr>\n      <th>3</th>\n      <td>561</td>\n      <td>0x0001</td>\n      <td>true</td>\n      <td>0x00000000</td>\n      <td>2020-10-27T14:32:04.378Z</td>\n      <td>2020-10-27 14:30:57.378000+00:00</td>\n    </tr>\n    <tr>\n      <th>4</th>\n      <td>560</td>\n      <td>0x0004</td>\n      <td>3</td>\n      <td>0x00000000</td>\n      <td>2020-10-27T14:32:09.129Z</td>\n      <td>2020-10-27 14:31:02.129000+00:00</td>\n    </tr>\n    <tr>\n      <th>...</th>\n      <td>...</td>\n      <td>...</td>\n      <td>...</td>\n      <td>...</td>\n      <td>...</td>\n      <td>...</td>\n    </tr>\n    <tr>\n      <th>371</th>\n      <td>561</td>\n      <td>0x0001</td>\n      <td>true</td>\n      <td>0x00000000</td>\n      <td>2020-10-27T14:52:12.626Z</td>\n      <td>2020-10-27 14:51:05.626000+00:00</td>\n    </tr>\n    <tr>\n      <th>372</th>\n      <td>560</td>\n      <td>0x0004</td>\n      <td>3</td>\n      <td>0x00000000</td>\n      <td>2020-10-27T14:52:17.380Z</td>\n      <td>2020-10-27 14:51:10.380000+00:00</td>\n    </tr>\n    <tr>\n      <th>373</th>\n      <td>561</td>\n      <td>0x0001</td>\n      <td>false</td>\n      <td>0x00000000</td>\n      <td>2020-10-27T14:52:18.127Z</td>\n      <td>2020-10-27 14:51:11.127000+00:00</td>\n    </tr>\n    <tr>\n      <th>374</th>\n      <td>560</td>\n      <td>0x0004</td>\n      <td>0</td>\n      <td>0x00000000</td>\n      <td>2020-10-27T14:52:40.127Z</td>\n      <td>2020-10-27 14:51:33.127000+00:00</td>\n    </tr>\n    <tr>\n      <th>375</th>\n      <td>561</td>\n      <td>0x0001</td>\n      <td>true</td>\n      <td>0x00000000</td>\n      <td>2020-10-27T14:52:40.878Z</td>\n      <td>2020-10-27 14:51:33.878000+00:00</td>\n    </tr>\n  </tbody>\n</table>\n<p>376 rows × 6 columns</p>\n</div>"
     },
     "metadata": {},
     "execution_count": 40
    }
   ],
   "source": [
    "data_flag = fc_sync_timestamp(data_flag,'ServerTimeStamp',delta_time_PLC)\n",
    "data_flag"
   ]
  },
  {
   "cell_type": "markdown",
   "metadata": {},
   "source": [
    "## Merge Data Sets"
   ]
  },
  {
   "cell_type": "code",
   "execution_count": 41,
   "metadata": {},
   "outputs": [],
   "source": [
    "data_set = [data_conv, data_gate, data_qc, data_rp, data_st, data_flag]\n",
    "data_merge = pd.concat(data_set, keys=['conv', 'gate', 'qc', 'rp', 'store', 'flag'])\n",
    "# Sort the data_set by SourceTimeStamp, reset index and delete aux column\n",
    "data_merge = data_merge.sort_values(by='ServerTimeStamp').reset_index().drop('level_1',1)\n",
    "#del data_merge['level_1'] #delete aux column"
   ]
  },
  {
   "cell_type": "code",
   "execution_count": 42,
   "metadata": {},
   "outputs": [
    {
     "output_type": "execute_result",
     "data": {
      "text/plain": [
       "      level_0 PrimaryKey DataType  Value  StatusCode  \\\n",
       "0        conv         27   0x0004    300  0x00000000   \n",
       "1        conv         28   0x0004    363  0x00000000   \n",
       "2        conv         29   0x0004    380  0x00000000   \n",
       "3        flag        561   0x0001  false  0x00000000   \n",
       "4        flag        560   0x0004      1  0x00000000   \n",
       "...       ...        ...      ...    ...         ...   \n",
       "50054   store   DiscSize   0x0003      2  0x00000000   \n",
       "50055   store   DiscSize   0x0003      2  0x00000000   \n",
       "50056   store   DiscSize   0x0003      2  0x00000000   \n",
       "50057   store   DiscSize   0x0003      2  0x00000000   \n",
       "50058   store   DiscSize   0x0003      2  0x00000000   \n",
       "\n",
       "                SourceTimeStamp                   ServerTimeStamp  \n",
       "0      2020-10-27T14:31:56.627Z  2020-10-27 14:30:49.627000+00:00  \n",
       "1      2020-10-27T14:31:56.627Z  2020-10-27 14:30:49.627000+00:00  \n",
       "2      2020-10-27T14:31:56.630Z  2020-10-27 14:30:49.630000+00:00  \n",
       "3      2020-10-27T14:32:01.126Z  2020-10-27 14:30:54.126000+00:00  \n",
       "4      2020-10-27T14:32:01.129Z  2020-10-27 14:30:54.129000+00:00  \n",
       "...                         ...                               ...  \n",
       "50054  2020-10-27T14:52:29.169Z  2020-10-27 14:52:29.169000+00:00  \n",
       "50055  2020-10-27T14:52:29.469Z  2020-10-27 14:52:29.469000+00:00  \n",
       "50056  2020-10-27T14:52:29.769Z  2020-10-27 14:52:29.769000+00:00  \n",
       "50057  2020-10-27T14:52:30.069Z  2020-10-27 14:52:30.069000+00:00  \n",
       "50058  2020-10-27T14:52:30.369Z  2020-10-27 14:52:30.369000+00:00  \n",
       "\n",
       "[50059 rows x 7 columns]"
      ],
      "text/html": "<div>\n<style scoped>\n    .dataframe tbody tr th:only-of-type {\n        vertical-align: middle;\n    }\n\n    .dataframe tbody tr th {\n        vertical-align: top;\n    }\n\n    .dataframe thead th {\n        text-align: right;\n    }\n</style>\n<table border=\"1\" class=\"dataframe\">\n  <thead>\n    <tr style=\"text-align: right;\">\n      <th></th>\n      <th>level_0</th>\n      <th>PrimaryKey</th>\n      <th>DataType</th>\n      <th>Value</th>\n      <th>StatusCode</th>\n      <th>SourceTimeStamp</th>\n      <th>ServerTimeStamp</th>\n    </tr>\n  </thead>\n  <tbody>\n    <tr>\n      <th>0</th>\n      <td>conv</td>\n      <td>27</td>\n      <td>0x0004</td>\n      <td>300</td>\n      <td>0x00000000</td>\n      <td>2020-10-27T14:31:56.627Z</td>\n      <td>2020-10-27 14:30:49.627000+00:00</td>\n    </tr>\n    <tr>\n      <th>1</th>\n      <td>conv</td>\n      <td>28</td>\n      <td>0x0004</td>\n      <td>363</td>\n      <td>0x00000000</td>\n      <td>2020-10-27T14:31:56.627Z</td>\n      <td>2020-10-27 14:30:49.627000+00:00</td>\n    </tr>\n    <tr>\n      <th>2</th>\n      <td>conv</td>\n      <td>29</td>\n      <td>0x0004</td>\n      <td>380</td>\n      <td>0x00000000</td>\n      <td>2020-10-27T14:31:56.630Z</td>\n      <td>2020-10-27 14:30:49.630000+00:00</td>\n    </tr>\n    <tr>\n      <th>3</th>\n      <td>flag</td>\n      <td>561</td>\n      <td>0x0001</td>\n      <td>false</td>\n      <td>0x00000000</td>\n      <td>2020-10-27T14:32:01.126Z</td>\n      <td>2020-10-27 14:30:54.126000+00:00</td>\n    </tr>\n    <tr>\n      <th>4</th>\n      <td>flag</td>\n      <td>560</td>\n      <td>0x0004</td>\n      <td>1</td>\n      <td>0x00000000</td>\n      <td>2020-10-27T14:32:01.129Z</td>\n      <td>2020-10-27 14:30:54.129000+00:00</td>\n    </tr>\n    <tr>\n      <th>...</th>\n      <td>...</td>\n      <td>...</td>\n      <td>...</td>\n      <td>...</td>\n      <td>...</td>\n      <td>...</td>\n      <td>...</td>\n    </tr>\n    <tr>\n      <th>50054</th>\n      <td>store</td>\n      <td>DiscSize</td>\n      <td>0x0003</td>\n      <td>2</td>\n      <td>0x00000000</td>\n      <td>2020-10-27T14:52:29.169Z</td>\n      <td>2020-10-27 14:52:29.169000+00:00</td>\n    </tr>\n    <tr>\n      <th>50055</th>\n      <td>store</td>\n      <td>DiscSize</td>\n      <td>0x0003</td>\n      <td>2</td>\n      <td>0x00000000</td>\n      <td>2020-10-27T14:52:29.469Z</td>\n      <td>2020-10-27 14:52:29.469000+00:00</td>\n    </tr>\n    <tr>\n      <th>50056</th>\n      <td>store</td>\n      <td>DiscSize</td>\n      <td>0x0003</td>\n      <td>2</td>\n      <td>0x00000000</td>\n      <td>2020-10-27T14:52:29.769Z</td>\n      <td>2020-10-27 14:52:29.769000+00:00</td>\n    </tr>\n    <tr>\n      <th>50057</th>\n      <td>store</td>\n      <td>DiscSize</td>\n      <td>0x0003</td>\n      <td>2</td>\n      <td>0x00000000</td>\n      <td>2020-10-27T14:52:30.069Z</td>\n      <td>2020-10-27 14:52:30.069000+00:00</td>\n    </tr>\n    <tr>\n      <th>50058</th>\n      <td>store</td>\n      <td>DiscSize</td>\n      <td>0x0003</td>\n      <td>2</td>\n      <td>0x00000000</td>\n      <td>2020-10-27T14:52:30.369Z</td>\n      <td>2020-10-27 14:52:30.369000+00:00</td>\n    </tr>\n  </tbody>\n</table>\n<p>50059 rows × 7 columns</p>\n</div>"
     },
     "metadata": {},
     "execution_count": 42
    }
   ],
   "source": [
    "data_merge"
   ]
  },
  {
   "cell_type": "markdown",
   "metadata": {},
   "source": [
    "## Export Data to csv"
   ]
  },
  {
   "cell_type": "code",
   "execution_count": 43,
   "metadata": {},
   "outputs": [
    {
     "output_type": "stream",
     "name": "stdout",
     "text": [
      "The data is saved at ../01_Data/201027/use_case2/Processed/data_merge.csv\n"
     ]
    }
   ],
   "source": [
    "data_merge.to_csv(path_data_save + 'data_merge.csv')\n",
    "print('The data is saved at ' + path_data_save + 'data_merge.csv')"
   ]
  },
  {
   "cell_type": "code",
   "execution_count": 44,
   "metadata": {},
   "outputs": [
    {
     "output_type": "execute_result",
     "data": {
      "text/plain": [
       "50059"
      ]
     },
     "metadata": {},
     "execution_count": 44
    }
   ],
   "source": [
    "len(data_merge)"
   ]
  },
  {
   "cell_type": "markdown",
   "metadata": {},
   "source": [
    "## Determine the starting point of data set"
   ]
  },
  {
   "cell_type": "markdown",
   "metadata": {},
   "source": [
    "#Based on change of DistanceAbs in Data- Set\n",
    "var_actual = 0\n",
    "run_list = [0]\n",
    "for i in range(len(data_merge)):\n",
    "    var_previous = var_actual\n",
    "    if data_merge.at[i,'PrimaryKey'] == 'DistanceAbs':  # if 'PrimaryKey' value = 'DistanceAbs':\n",
    "        var_actual = data_merge.at[i,'Value'] # value of current DistanceAbs\n",
    "    if var_previous != var_actual:\n",
    "        run_list.append(i) #i append to list # This list will tell at how many i contains one sample    "
   ]
  },
  {
   "source": [
    "# Based on grabbing the white disk\n",
    "var_actual = 99\n",
    "disk_actual = 99 # Initial value\n",
    "run_list = [0]\n",
    "disk = False\n",
    "storage_down = False\n",
    "rob_x = 0\n",
    "rob_y = 0\n",
    "rob_z = 0\n",
    "rob_pos = 0\n",
    "pos = [0]*(len(data_merge)-2)\n",
    "for i in range(len(data_merge)-2): # len(data_merge)-2 is considered to avoid border errors\n",
    "    #var_previous = var_actual\n",
    "    #rob_pos = fc_rob_pos(i, data_merge) # review robot position\n",
    "    pos[i] = 0\n",
    "    if data_merge.at[i,'PrimaryKey'] == 'DiscSize':  # if 'PrimaryKey' value = 'DiskSize':\n",
    "        disk_previous = disk_actual\n",
    "        disk_actual = data_merge.at[i,'Value'] # value of current DiskSize\n",
    "        #print(disk_previous, disk_actual, i)\n",
    "        if disk_previous != 2 and disk_actual == 2: # Varialbe 0: unkown; 1: Black disk; 2: white disk\n",
    "            disk = True\n",
    "            #print('New white disk here ' + str(i))\n",
    "    if data_merge.at[i,'PrimaryKey'] == '527':  # if 'PrimaryKey' value = 'x coordinate':\n",
    "        rob_x = data_merge.at[i,'Value'] # value of current 'x coordinate'\n",
    "        #print('x = ' + str(rob_x) + '--' + str(i))\n",
    "    if data_merge.at[i,'PrimaryKey'] == '528':  # if 'PrimaryKey' value = 'y coordinate':\n",
    "        rob_y = data_merge.at[i,'Value'] # value of current 'x coordinate'\n",
    "        #print('y = ' + str(rob_y) + '--' + str(i))\n",
    "    if data_merge.at[i,'PrimaryKey'] == '529':  # if 'PrimaryKey' value = 'z coordinate':\n",
    "        rob_z = data_merge.at[i,'Value'] # value of current 'x coordinate'\n",
    "        #print('z = ' + str(rob_z) + '--' + str(i))\n",
    "    if rob_x > 3100000000 and rob_y > 3100000000 and rob_z < 1051200000: #Robot in storage. Picking up the disk\n",
    "        rob_pos = 1\n",
    "        pos[i] = 1\n",
    "        #print('pos 1 - ' + str(i))\n",
    "    if rob_x < 1052000000 and rob_y > 3100000000 and rob_z < 1052000000 and rob_z > 1051200000 : #Robot in storage. Placing down the disk\n",
    "        rob_pos = 2\n",
    "        pos[i] = 2\n",
    "        #print('pos 2 - ' + str(i))\n",
    "    #print(rob_pos)\n",
    "    if rob_pos == 1: # Robot picking up a disk\n",
    "        storage_down = True\n",
    "        #print(storage_down,i)  \n",
    "    if disk == True and storage_down == True:\n",
    "        #var_actual = rob_pos\n",
    "        disk = False\n",
    "        storage_down = False\n",
    "        run_list.append(i) #i append to list # This list will tell at how many i contains one sample\n",
    "        #print(i)\n",
    "    #if var_previous != var_actual:\n",
    "        #run_list.append(i) #i append to list # This list will tell at how many i contains one sample   \n",
    " "
   ],
   "cell_type": "markdown",
   "metadata": {}
  },
  {
   "source": [
    "# Based on grabbing the white disk\n",
    "run_list = [0]\n",
    "rob_pos_actual = 99\n",
    "rob_pos_old = 0\n",
    "gripper_actual = 99\n",
    "gripper_old = 0\n",
    "gripper = False\n",
    "rob_pos = False\n",
    "for i in range(len(data_merge)-2): # len(data_merge)-2 is considered to avoid border errors\n",
    "    #var_previous = var_actual\n",
    "    #rob_pos = fc_rob_pos(i, data_merge) # review robot position\n",
    "    if data_merge.at[i,'PrimaryKey'] == '561':  # if 'PrimaryKey' value = 'gripper open (0), close (1)':\n",
    "        gripper_old = gripper_actual\n",
    "        gripper_actual = data_merge.at[i,'Value'] # value of current 'x coordinate'\n",
    "        if gripper_old != gripper_actual:\n",
    "            gripper = True\n",
    "    if data_merge.at[i,'PrimaryKey'] == '560':  # if 'PrimaryKey' value = 'position of robot based in certain conditions':\n",
    "        # 0: Black disk in store\n",
    "        # 1: Black disk in gate\n",
    "        # 2: White disk in store\n",
    "        # 3: White disk in gate\n",
    "        rob_pos_old = rob_pos_actual\n",
    "        rob_pos_actual = int(data_merge.at[i,'Value']) # value of current 'x coordinate'\n",
    "        if rob_pos_old != rob_pos_actual and rob_pos_actual == 2:\n",
    "            rob_pos = True\n",
    "    if rob_pos == True and gripper == True:\n",
    "        rob_pos = False\n",
    "        gripper = False\n",
    "        run_list.append(i) #i append to list # This list will tell at how many i contains one sample\n",
    "        #print(i)\n",
    " "
   ],
   "cell_type": "code",
   "metadata": {},
   "execution_count": 45,
   "outputs": []
  },
  {
   "cell_type": "code",
   "execution_count": 46,
   "metadata": {},
   "outputs": [
    {
     "output_type": "stream",
     "name": "stdout",
     "text": [
      "[0, 5, 886, 1909, 2933, 3955, 4989, 6009, 7035, 8055, 9082, 10101, 11127, 12138, 13161, 14184, 15207, 16230, 17253, 18276, 19311, 20331, 21356, 22377, 23403, 24422, 25448, 26468, 27494, 28514, 29540, 30561, 31597, 32617, 33643, 34664, 35689, 36719, 37735, 38765, 39781, 40811, 41833, 42856, 43887, 44913, 45926, 46948]\n48\n"
     ]
    }
   ],
   "source": [
    "print(run_list) # Starting points. \n",
    "print(len(run_list))"
   ]
  },
  {
   "cell_type": "code",
   "execution_count": 47,
   "metadata": {},
   "outputs": [],
   "source": [
    "# data_merge.iloc[list(range(0,3))]"
   ]
  },
  {
   "cell_type": "code",
   "execution_count": 48,
   "metadata": {},
   "outputs": [
    {
     "output_type": "execute_result",
     "data": {
      "text/plain": [
       "      level_0 PrimaryKey DataType  Value  StatusCode  \\\n",
       "0        conv         27   0x0004    300  0x00000000   \n",
       "1        conv         28   0x0004    363  0x00000000   \n",
       "2        conv         29   0x0004    380  0x00000000   \n",
       "3        flag        561   0x0001  false  0x00000000   \n",
       "4        flag        560   0x0004      1  0x00000000   \n",
       "...       ...        ...      ...    ...         ...   \n",
       "50054   store   DiscSize   0x0003      2  0x00000000   \n",
       "50055   store   DiscSize   0x0003      2  0x00000000   \n",
       "50056   store   DiscSize   0x0003      2  0x00000000   \n",
       "50057   store   DiscSize   0x0003      2  0x00000000   \n",
       "50058   store   DiscSize   0x0003      2  0x00000000   \n",
       "\n",
       "                SourceTimeStamp                   ServerTimeStamp  \n",
       "0      2020-10-27T14:31:56.627Z  2020-10-27 14:30:49.627000+00:00  \n",
       "1      2020-10-27T14:31:56.627Z  2020-10-27 14:30:49.627000+00:00  \n",
       "2      2020-10-27T14:31:56.630Z  2020-10-27 14:30:49.630000+00:00  \n",
       "3      2020-10-27T14:32:01.126Z  2020-10-27 14:30:54.126000+00:00  \n",
       "4      2020-10-27T14:32:01.129Z  2020-10-27 14:30:54.129000+00:00  \n",
       "...                         ...                               ...  \n",
       "50054  2020-10-27T14:52:29.169Z  2020-10-27 14:52:29.169000+00:00  \n",
       "50055  2020-10-27T14:52:29.469Z  2020-10-27 14:52:29.469000+00:00  \n",
       "50056  2020-10-27T14:52:29.769Z  2020-10-27 14:52:29.769000+00:00  \n",
       "50057  2020-10-27T14:52:30.069Z  2020-10-27 14:52:30.069000+00:00  \n",
       "50058  2020-10-27T14:52:30.369Z  2020-10-27 14:52:30.369000+00:00  \n",
       "\n",
       "[50059 rows x 7 columns]"
      ],
      "text/html": "<div>\n<style scoped>\n    .dataframe tbody tr th:only-of-type {\n        vertical-align: middle;\n    }\n\n    .dataframe tbody tr th {\n        vertical-align: top;\n    }\n\n    .dataframe thead th {\n        text-align: right;\n    }\n</style>\n<table border=\"1\" class=\"dataframe\">\n  <thead>\n    <tr style=\"text-align: right;\">\n      <th></th>\n      <th>level_0</th>\n      <th>PrimaryKey</th>\n      <th>DataType</th>\n      <th>Value</th>\n      <th>StatusCode</th>\n      <th>SourceTimeStamp</th>\n      <th>ServerTimeStamp</th>\n    </tr>\n  </thead>\n  <tbody>\n    <tr>\n      <th>0</th>\n      <td>conv</td>\n      <td>27</td>\n      <td>0x0004</td>\n      <td>300</td>\n      <td>0x00000000</td>\n      <td>2020-10-27T14:31:56.627Z</td>\n      <td>2020-10-27 14:30:49.627000+00:00</td>\n    </tr>\n    <tr>\n      <th>1</th>\n      <td>conv</td>\n      <td>28</td>\n      <td>0x0004</td>\n      <td>363</td>\n      <td>0x00000000</td>\n      <td>2020-10-27T14:31:56.627Z</td>\n      <td>2020-10-27 14:30:49.627000+00:00</td>\n    </tr>\n    <tr>\n      <th>2</th>\n      <td>conv</td>\n      <td>29</td>\n      <td>0x0004</td>\n      <td>380</td>\n      <td>0x00000000</td>\n      <td>2020-10-27T14:31:56.630Z</td>\n      <td>2020-10-27 14:30:49.630000+00:00</td>\n    </tr>\n    <tr>\n      <th>3</th>\n      <td>flag</td>\n      <td>561</td>\n      <td>0x0001</td>\n      <td>false</td>\n      <td>0x00000000</td>\n      <td>2020-10-27T14:32:01.126Z</td>\n      <td>2020-10-27 14:30:54.126000+00:00</td>\n    </tr>\n    <tr>\n      <th>4</th>\n      <td>flag</td>\n      <td>560</td>\n      <td>0x0004</td>\n      <td>1</td>\n      <td>0x00000000</td>\n      <td>2020-10-27T14:32:01.129Z</td>\n      <td>2020-10-27 14:30:54.129000+00:00</td>\n    </tr>\n    <tr>\n      <th>...</th>\n      <td>...</td>\n      <td>...</td>\n      <td>...</td>\n      <td>...</td>\n      <td>...</td>\n      <td>...</td>\n      <td>...</td>\n    </tr>\n    <tr>\n      <th>50054</th>\n      <td>store</td>\n      <td>DiscSize</td>\n      <td>0x0003</td>\n      <td>2</td>\n      <td>0x00000000</td>\n      <td>2020-10-27T14:52:29.169Z</td>\n      <td>2020-10-27 14:52:29.169000+00:00</td>\n    </tr>\n    <tr>\n      <th>50055</th>\n      <td>store</td>\n      <td>DiscSize</td>\n      <td>0x0003</td>\n      <td>2</td>\n      <td>0x00000000</td>\n      <td>2020-10-27T14:52:29.469Z</td>\n      <td>2020-10-27 14:52:29.469000+00:00</td>\n    </tr>\n    <tr>\n      <th>50056</th>\n      <td>store</td>\n      <td>DiscSize</td>\n      <td>0x0003</td>\n      <td>2</td>\n      <td>0x00000000</td>\n      <td>2020-10-27T14:52:29.769Z</td>\n      <td>2020-10-27 14:52:29.769000+00:00</td>\n    </tr>\n    <tr>\n      <th>50057</th>\n      <td>store</td>\n      <td>DiscSize</td>\n      <td>0x0003</td>\n      <td>2</td>\n      <td>0x00000000</td>\n      <td>2020-10-27T14:52:30.069Z</td>\n      <td>2020-10-27 14:52:30.069000+00:00</td>\n    </tr>\n    <tr>\n      <th>50058</th>\n      <td>store</td>\n      <td>DiscSize</td>\n      <td>0x0003</td>\n      <td>2</td>\n      <td>0x00000000</td>\n      <td>2020-10-27T14:52:30.369Z</td>\n      <td>2020-10-27 14:52:30.369000+00:00</td>\n    </tr>\n  </tbody>\n</table>\n<p>50059 rows × 7 columns</p>\n</div>"
     },
     "metadata": {},
     "execution_count": 48
    }
   ],
   "source": [
    "#df_robpos = pd.DataFrame(pos,columns=['RobPos']) # Position of robot. 0: not important; 1: Robot in storage. Picking up the disk; 2:Robot in storage. Placing down the disk\n",
    "#data_merge = pd.concat([data_merge, df_robpos], axis=1, sort=False)\n",
    "data_merge"
   ]
  },
  {
   "cell_type": "markdown",
   "metadata": {},
   "source": [
    "The list contains the point i when the value is different. To consider the point where the value remains, consider i-1"
   ]
  },
  {
   "cell_type": "code",
   "execution_count": 49,
   "metadata": {},
   "outputs": [
    {
     "output_type": "stream",
     "name": "stdout",
     "text": [
      "Dictionary lenght is:47\n"
     ]
    }
   ],
   "source": [
    "d = {} # Dictionary that holds the sub-data-sets given by the starting point\n",
    "for i in range(len(run_list)-1): # Ignores the last value (set of values)\n",
    "    list_range = list(range(run_list[i],run_list[i+1]))\n",
    "    d['df{0}'.format(i)] = data_merge.iloc[list_range]\n",
    "    \n",
    "print('Dictionary lenght is:' + str(len(d)))"
   ]
  },
  {
   "source": [
    "## Assure conv_speed per sample "
   ],
   "cell_type": "markdown",
   "metadata": {}
  },
  {
   "source": [
    "conv_1 = 0\n",
    "conv_2 = 0\n",
    "conv_3 = 0\n",
    "conv1 = False\n",
    "conv2 = False\n",
    "conv3 = False\n",
    "for j in range(len(d)): # as many samples saved in dictionary\n",
    "    df = d['df'+ str(j)]\n",
    "    for i in range(len(df)): # as many row in the dataFrame\n",
    "        #print(df.iat[i,1])\n",
    "        if df.iat[i,1] == '27': # conv1\n",
    "            conv_1 = df.iat[i,3]\n",
    "            conv1 = True # the value shows at least once in the data set\n",
    "        if df.iat[i,1] == '28': # conv2\n",
    "            conv_2 = df.iat[i,3]\n",
    "            conv2 = True\n",
    "        if df.iat[i,1] == '29': # conv3\n",
    "            conv_3 = df.iat[i,3]\n",
    "            conv3 = True\n",
    "    if conv1 == False: # The value did not occur in this sample. Copy value from previous samples into this one\n",
    "        dic = {'PrimaryKey' : '27', 'Value': str(conv_1)}\n",
    "        df.loc[len(df)+1,'PrimaryKey'] = '27'\n",
    "        df.loc[len(df),'Value'] = str(conv_1)\n",
    "        df.loc[len(df),'DataType'] = 'NA'\n",
    "        df.loc[len(df),'StatusCode'] = 'NA'\n",
    "        df.loc[len(df),'SourceTimeStamp'] = 'NA'\n",
    "        df.loc[len(df),'ServerTimeStamp'] = 'NA'\n",
    "    if conv2 == False:\n",
    "        dic = {'PrimaryKey' : '27', 'Value': str(conv_2)}\n",
    "        df.loc[len(df)+1,'PrimaryKey'] = '28'\n",
    "        df.loc[len(df),'Value'] = str(conv_2)\n",
    "        df.loc[len(df),'DataType'] = 'NA'\n",
    "        df.loc[len(df),'StatusCode'] = 'NA'\n",
    "        df.loc[len(df),'SourceTimeStamp'] = 'NA'\n",
    "        df.loc[len(df),'ServerTimeStamp'] = 'NA'\n",
    "    if conv3 == False:\n",
    "        dic = {'PrimaryKey' : '27', 'Value': str(conv_3)}\n",
    "        df.loc[len(df)+1,'PrimaryKey'] = '29'\n",
    "        df.loc[len(df),'Value'] = str(conv_3)\n",
    "        df.loc[len(df),'DataType'] = 'NA'\n",
    "        df.loc[len(df),'StatusCode'] = 'NA'\n",
    "        df.loc[len(df),'SourceTimeStamp'] = 'NA'\n",
    "        df.loc[len(df),'ServerTimeStamp'] = 'NA'\n",
    "   \n",
    "    conv1 = False # reset conv for the next round\n",
    "    conv2 = False\n",
    "    conv3 = False\n",
    "print(conv_1)\n",
    "print(conv_2)\n",
    "print(conv_3)"
   ],
   "cell_type": "code",
   "metadata": {
    "scrolled": true
   },
   "execution_count": 50,
   "outputs": [
    {
     "output_type": "stream",
     "name": "stdout",
     "text": [
      "300\n363\n380\n"
     ]
    }
   ]
  },
  {
   "cell_type": "markdown",
   "metadata": {},
   "source": [
    "## Export individual data-sample to .csv"
   ]
  },
  {
   "cell_type": "code",
   "execution_count": 51,
   "metadata": {},
   "outputs": [
    {
     "output_type": "stream",
     "name": "stdout",
     "text": [
      "The data is saved at ../01_Data/201027/use_case2/Processed/Samples/sample_x.csv\n"
     ]
    }
   ],
   "source": [
    "for i in range(len(d)):\n",
    "    if i > 0: # always ignore the first sample due to data-acquisition misalligment\n",
    "        d['df' + str(i)].to_csv(path_sample_save + 'sample_' + str(i) + '.csv')\n",
    "print('The data is saved at ' + path_sample_save + 'sample_x.csv')"
   ]
  },
  {
   "cell_type": "markdown",
   "metadata": {},
   "source": [
    "## Testing area"
   ]
  },
  {
   "cell_type": "code",
   "execution_count": 52,
   "metadata": {},
   "outputs": [],
   "source": [
    "#d['df67']"
   ]
  },
  {
   "cell_type": "code",
   "execution_count": 53,
   "metadata": {},
   "outputs": [],
   "source": [
    "# list_range = list(range(run_list[0],run_list[1]))\n",
    "# print(list_range)"
   ]
  },
  {
   "cell_type": "code",
   "execution_count": 54,
   "metadata": {},
   "outputs": [],
   "source": [
    "# data_merge.iloc[list_range]"
   ]
  },
  {
   "cell_type": "code",
   "execution_count": 55,
   "metadata": {
    "scrolled": true
   },
   "outputs": [],
   "source": [
    "# data_rp.loc[:, 'PrimaryKey'] = '529_z'\n",
    "# data_rp"
   ]
  },
  {
   "cell_type": "code",
   "execution_count": 56,
   "metadata": {},
   "outputs": [],
   "source": [
    "# %matplotlib notebook \n",
    "# data_gate.head(400).plot(x='SourceTimeStamp', y= 'Value')\n",
    "# plt.xticks(rotation=45)"
   ]
  },
  {
   "cell_type": "code",
   "execution_count": 57,
   "metadata": {},
   "outputs": [],
   "source": [
    "# %matplotlib notebook \n",
    "# data_rp.head(200).plot( y= 'Value')\n",
    "# plt.xticks(rotation=45)"
   ]
  }
 ],
 "metadata": {
  "kernelspec": {
   "display_name": "Python 3",
   "language": "python",
   "name": "python3"
  },
  "language_info": {
   "codemirror_mode": {
    "name": "ipython",
    "version": 3
   },
   "file_extension": ".py",
   "mimetype": "text/x-python",
   "name": "python",
   "nbconvert_exporter": "python",
   "pygments_lexer": "ipython3",
   "version": "3.8.5-final"
  }
 },
 "nbformat": 4,
 "nbformat_minor": 4
}