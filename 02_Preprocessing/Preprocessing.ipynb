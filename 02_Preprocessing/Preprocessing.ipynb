{
 "cells": [
  {
   "cell_type": "code",
   "execution_count": 187,
   "metadata": {},
   "outputs": [
    {
     "output_type": "stream",
     "name": "stdout",
     "text": [
      "d:\\05_Projekte\\04_Research\\08_ManuBrain\\01_Lab\\Demo-Cell-Classification\\02_Preprocessing\n"
     ]
    }
   ],
   "source": [
    "## Current path display\n",
    "\n",
    "import os\n",
    "current_path = os.getcwd()\n",
    "print(current_path)"
   ]
  },
  {
   "cell_type": "code",
   "execution_count": 188,
   "metadata": {},
   "outputs": [],
   "source": [
    "import numpy as np\n",
    "import pandas as pd\n",
    "import matplotlib.pyplot as plt\n",
    "from datetime import datetime\n",
    "from datetime import timedelta  "
   ]
  },
  {
   "cell_type": "markdown",
   "metadata": {},
   "source": [
    "## Functions "
   ]
  },
  {
   "cell_type": "code",
   "execution_count": 189,
   "metadata": {},
   "outputs": [],
   "source": [
    "# return tag from data\n",
    "def fc_tag (data,index):\n",
    "    return data.at[index,'d'].split('=')[2] # [2] equivalent a tag column data en txt file\n",
    "\n",
    "# update tag in main table\n",
    "def fc_tag_update(data, tag):\n",
    "    for i in range(len(tag)):\n",
    "        i = i + 1 \n",
    "        data = data.replace({'PrimaryKey':i}, fc_tag(tag,i), regex = False)\n",
    "    return data\n",
    "\n",
    "#Sync TimeStamp\n",
    "\n",
    "def fc_sync_timestamp2(data,ServerTimeStamp,delta_time): #Requires df, column-name and delta-time\n",
    "    for date in data[ServerTimeStamp]:\n",
    "        source = datetime.fromisoformat(str(date).replace('Z','+00:00'))\n",
    "        date_sync = source - delta_time\n",
    "        data[ServerTimeStamp] = date_sync\n",
    "    return data\n",
    "\n",
    "def fc_sync_timestamp(data,ServerTimeStamp,delta_time): #Requires df, column-name and delta-time\n",
    "    for i in range(len(data)): \n",
    "        source = datetime.fromisoformat(str(data.at[i,ServerTimeStamp]).replace('Z','+00:00'))\n",
    "        date_sync = source - delta_time\n",
    "        data.at[i,ServerTimeStamp] = date_sync\n",
    "    return data"
   ]
  },
  {
   "cell_type": "markdown",
   "metadata": {},
   "source": [
    "## Paths from data set"
   ]
  },
  {
   "cell_type": "code",
   "execution_count": 190,
   "metadata": {},
   "outputs": [],
   "source": [
    "date = 201030\n",
    "uc_num = 6\n",
    "\n",
    "path = str(date) + '/use_case' + str(uc_num)\n",
    "\n",
    "# Conveyor_belt\n",
    "path_data_conv = '../01_Data/' + path + '/Conveyor Speed/DataLogger.csv'\n",
    "path_tag_conv = '../01_Data/' + path + '/Conveyor Speed/tagconfig.txt'\n",
    "\n",
    "# Gate\n",
    "path_data_gate = '../01_Data/' + path + '/Gate/DataLogger.csv'\n",
    "path_tag_gate = '../01_Data/' + path + '/Gate/tagconfig.txt'\n",
    "\n",
    "# Quality_Control\n",
    "path_data_qc = '../01_Data/' + path + '/Quality Control/DataLogger.csv'\n",
    "path_tag_qc = '../01_Data/' + path + '/Quality Control/tagconfig.txt'\n",
    "\n",
    "# Robot_Position\n",
    "path_data_rp = '../01_Data/' + path + '/Robot Position/DataLogger.csv'\n",
    "path_tag_rp = '../01_Data/' + path + '/Robot Position/tagconfig.txt'\n",
    "\n",
    "# Store\n",
    "path_data_st = '../01_Data/' + path + '/Store/DataLogger.csv'\n",
    "path_tag_st = '../01_Data/' + path + '/Store/tagconfig.txt'\n",
    "\n",
    "# Flag\n",
    "path_data_flag = '../01_Data/' + path + '/Flag/DataLogger.csv'\n",
    "path_tag_flag = '../01_Data/' + path + '/Flag/tagconfig.txt'\n",
    "\n",
    "# Processed data\n",
    "\n",
    "path_data_save = '../01_Data/' + path + '/Processed/'\n",
    "path_sample_save = '../01_Data/' + path + '/Processed/Samples/'\n"
   ]
  },
  {
   "cell_type": "markdown",
   "metadata": {},
   "source": [
    "## Import data from csv"
   ]
  },
  {
   "cell_type": "code",
   "execution_count": 191,
   "metadata": {},
   "outputs": [],
   "source": [
    "# Conveyor_belt\n",
    "data_conv =  pd.read_csv(path_data_conv, delimiter = ',')\n",
    "#df_conv = pd.DataFrame(pd.read_csv(path_data_conv, delimiter = ','))\n",
    "\n",
    "# Gate\n",
    "data_gate =  pd.read_csv(path_data_gate, delimiter = ',')\n",
    "#df_gate = pd.DataFrame(pd.read_csv(path_data_gate, delimiter = ','))\n",
    "\n",
    "# Quality_Control\n",
    "data_qc =  pd.read_csv(path_data_qc, delimiter = ',')\n",
    "#df_qc = pd.DataFrame(pd.read_csv(path_data_qc, delimiter = ','))\n",
    "\n",
    "# Robot_Position\n",
    "data_rp =  pd.read_csv(path_data_rp, delimiter = ',')\n",
    "#df_rp = pd.DataFrame(pd.read_csv(path_data_rp, delimiter = ','))\n",
    "\n",
    "# Store\n",
    "data_st =  pd.read_csv(path_data_st, delimiter = ',')\n",
    "#df_st = pd.DataFrame(pd.read_csv(path_data_st, delimiter = ','))\n",
    "\n",
    "# Flag\n",
    "data_flag =  pd.read_csv(path_data_flag, delimiter = ',')\n",
    "#df_flag = pd.DataFrame(pd.read_csv(path_data_st, delimiter = ','))"
   ]
  },
  {
   "cell_type": "markdown",
   "metadata": {},
   "source": [
    "## Import data tags"
   ]
  },
  {
   "cell_type": "code",
   "execution_count": 192,
   "metadata": {},
   "outputs": [],
   "source": [
    "# Conveyor_belt\n",
    "tag_conv =  pd.read_fwf(path_tag_conv, sep=\" \", header=None, names=['a','b','c','d'])\n",
    "tag_conv = tag_conv.drop([0]) # delete first row (trash)\n",
    "\n",
    "# Gate\n",
    "tag_gate =  pd.read_fwf(path_tag_gate, sep=\" \", header=None, names=['a','b','c','d'])\n",
    "tag_gate = tag_gate.drop([0]) # delete first row (trash)\n",
    "\n",
    "# Quality_Control\n",
    "tag_qc =  pd.read_fwf(path_tag_qc, sep=\" \", header=None, names=['a','b','c','d'])\n",
    "tag_qc = tag_qc.drop([0]) # delete first row (trash)\n",
    "\n",
    "# Robot_Position\n",
    "tag_rp =  pd.read_fwf(path_tag_rp, sep=\" \", header=None, names=['a','b','c','d'])\n",
    "tag_rp = tag_rp.drop([0]) # delete first row (trash)\n",
    "\n",
    "# Robot_Position\n",
    "tag_st =  pd.read_fwf(path_tag_st, sep=\" \", header=None, names=['a','b','c','d'])\n",
    "tag_st = tag_st.drop([0]) # delete first row (trash)\n",
    "\n",
    "# Flag\n",
    "tag_flag =  pd.read_fwf(path_tag_flag, sep=\" \", header=None, names=['a','b','c','d'])\n",
    "tag_flag = tag_flag.drop([0]) # delete first row (trash)"
   ]
  },
  {
   "cell_type": "markdown",
   "metadata": {},
   "source": [
    "## Update tags"
   ]
  },
  {
   "cell_type": "code",
   "execution_count": 193,
   "metadata": {},
   "outputs": [],
   "source": [
    "# Conveyor_belt\n",
    "data_conv = fc_tag_update(data_conv, tag_conv)\n",
    "\n",
    "# Gate\n",
    "data_gate = fc_tag_update(data_gate, tag_gate)\n",
    "\n",
    "# Quality_Control\n",
    "data_qc = fc_tag_update(data_qc, tag_qc)\n",
    "\n",
    "# Robot_Position\n",
    "data_rp = fc_tag_update(data_rp, tag_rp)\n",
    "\n",
    "# Store\n",
    "data_st = fc_tag_update(data_st, tag_st)\n",
    "\n",
    "# Flag\n",
    "data_flag = fc_tag_update(data_flag, tag_flag)"
   ]
  },
  {
   "cell_type": "markdown",
   "metadata": {},
   "source": [
    "## Syncronize ServerTimeStamp"
   ]
  },
  {
   "cell_type": "code",
   "execution_count": 194,
   "metadata": {},
   "outputs": [],
   "source": [
    "delta_time_PLC = timedelta(seconds=67)\n",
    "delta_time_SIM = timedelta(seconds=0)"
   ]
  },
  {
   "cell_type": "code",
   "execution_count": 195,
   "metadata": {},
   "outputs": [
    {
     "output_type": "execute_result",
     "data": {
      "text/plain": [
       "   PrimaryKey DataType  Value  StatusCode           SourceTimeStamp  \\\n",
       "0          27   0x0004    300  0x002f0000  2020-10-30T13:32:59.387Z   \n",
       "1          28   0x0004    363  0x002f0000  2020-10-30T13:32:59.389Z   \n",
       "2          29   0x0004    380  0x002f0000  2020-10-30T13:32:59.391Z   \n",
       "3          27   0x0004    300  0x00000000  2020-10-30T13:32:59.658Z   \n",
       "4          28   0x0004    363  0x00000000  2020-10-30T13:32:59.661Z   \n",
       "5          29   0x0004    380  0x00000000  2020-10-30T13:32:59.663Z   \n",
       "6          27   0x0004    300  0x002f0000  2020-10-30T13:34:03.696Z   \n",
       "7          27   0x0004    300  0x00000000  2020-10-30T13:34:03.905Z   \n",
       "8          28   0x0004    363  0x002f0000  2020-10-30T13:34:03.701Z   \n",
       "9          28   0x0004    363  0x00000000  2020-10-30T13:34:03.908Z   \n",
       "10         29   0x0004    380  0x002f0000  2020-10-30T13:34:03.706Z   \n",
       "11         29   0x0004    380  0x00000000  2020-10-30T13:34:03.916Z   \n",
       "12         27   0x0004    300  0x002f0000  2020-10-30T13:36:19.163Z   \n",
       "13         27   0x0004    300  0x00000000  2020-10-30T13:36:19.376Z   \n",
       "14         28   0x0004    363  0x002f0000  2020-10-30T13:36:19.168Z   \n",
       "15         28   0x0004    363  0x00000000  2020-10-30T13:36:19.378Z   \n",
       "16         29   0x0004    380  0x002f0000  2020-10-30T13:36:19.171Z   \n",
       "17         29   0x0004    380  0x00000000  2020-10-30T13:36:19.378Z   \n",
       "18         27   0x0004    300  0x002f0000  2020-10-30T13:36:32.374Z   \n",
       "19         27   0x0004    300  0x00000000  2020-10-30T13:36:32.660Z   \n",
       "20         28   0x0004    363  0x002f0000  2020-10-30T13:36:32.376Z   \n",
       "21         28   0x0004    363  0x00000000  2020-10-30T13:36:32.663Z   \n",
       "22         29   0x0004    380  0x002f0000  2020-10-30T13:36:32.376Z   \n",
       "23         29   0x0004    380  0x00000000  2020-10-30T13:36:32.670Z   \n",
       "24         27   0x0004    300  0x002f0000  2020-10-30T13:37:25.418Z   \n",
       "25         27   0x0004    300  0x00000000  2020-10-30T13:37:25.633Z   \n",
       "26         28   0x0004    363  0x002f0000  2020-10-30T13:37:25.420Z   \n",
       "27         28   0x0004    363  0x00000000  2020-10-30T13:37:25.636Z   \n",
       "28         29   0x0004    380  0x002f0000  2020-10-30T13:37:25.423Z   \n",
       "29         29   0x0004    380  0x00000000  2020-10-30T13:37:25.638Z   \n",
       "30         27   0x0004    300  0x002f0000  2020-10-30T13:40:34.376Z   \n",
       "31         28   0x0004    363  0x002f0000  2020-10-30T13:40:34.377Z   \n",
       "32         29   0x0004    380  0x002f0000  2020-10-30T13:40:34.379Z   \n",
       "33         27   0x0004    300  0x00000000  2020-10-30T13:40:34.699Z   \n",
       "34         28   0x0004    363  0x00000000  2020-10-30T13:40:34.704Z   \n",
       "35         29   0x0004    380  0x00000000  2020-10-30T13:40:34.714Z   \n",
       "36         27   0x0004    300  0x002f0000  2020-10-30T13:40:51.123Z   \n",
       "37         28   0x0004    363  0x002f0000  2020-10-30T13:40:51.126Z   \n",
       "38         29   0x0004    380  0x002f0000  2020-10-30T13:40:51.128Z   \n",
       "39         27   0x0004    300  0x00000000  2020-10-30T13:40:51.416Z   \n",
       "40         28   0x0004    363  0x00000000  2020-10-30T13:40:51.421Z   \n",
       "41         29   0x0004    380  0x00000000  2020-10-30T13:40:51.429Z   \n",
       "\n",
       "                     ServerTimeStamp  \n",
       "0   2020-10-30 13:31:52.387000+00:00  \n",
       "1   2020-10-30 13:31:52.389000+00:00  \n",
       "2   2020-10-30 13:31:52.391000+00:00  \n",
       "3   2020-10-30 13:31:52.658000+00:00  \n",
       "4   2020-10-30 13:31:52.661000+00:00  \n",
       "5   2020-10-30 13:31:52.663000+00:00  \n",
       "6   2020-10-30 13:32:56.696000+00:00  \n",
       "7   2020-10-30 13:32:56.905000+00:00  \n",
       "8   2020-10-30 13:32:56.701000+00:00  \n",
       "9   2020-10-30 13:32:56.908000+00:00  \n",
       "10  2020-10-30 13:32:56.706000+00:00  \n",
       "11  2020-10-30 13:32:56.916000+00:00  \n",
       "12  2020-10-30 13:35:12.163000+00:00  \n",
       "13  2020-10-30 13:35:12.376000+00:00  \n",
       "14  2020-10-30 13:35:12.168000+00:00  \n",
       "15  2020-10-30 13:35:12.378000+00:00  \n",
       "16  2020-10-30 13:35:12.171000+00:00  \n",
       "17  2020-10-30 13:35:12.378000+00:00  \n",
       "18  2020-10-30 13:35:25.374000+00:00  \n",
       "19  2020-10-30 13:35:25.660000+00:00  \n",
       "20  2020-10-30 13:35:25.376000+00:00  \n",
       "21  2020-10-30 13:35:25.663000+00:00  \n",
       "22  2020-10-30 13:35:25.376000+00:00  \n",
       "23  2020-10-30 13:35:25.670000+00:00  \n",
       "24  2020-10-30 13:36:18.418000+00:00  \n",
       "25  2020-10-30 13:36:18.633000+00:00  \n",
       "26  2020-10-30 13:36:18.420000+00:00  \n",
       "27  2020-10-30 13:36:18.636000+00:00  \n",
       "28  2020-10-30 13:36:18.423000+00:00  \n",
       "29  2020-10-30 13:36:18.638000+00:00  \n",
       "30  2020-10-30 13:39:27.376000+00:00  \n",
       "31  2020-10-30 13:39:27.377000+00:00  \n",
       "32  2020-10-30 13:39:27.379000+00:00  \n",
       "33  2020-10-30 13:39:27.699000+00:00  \n",
       "34  2020-10-30 13:39:27.704000+00:00  \n",
       "35  2020-10-30 13:39:27.714000+00:00  \n",
       "36  2020-10-30 13:39:44.123000+00:00  \n",
       "37  2020-10-30 13:39:44.126000+00:00  \n",
       "38  2020-10-30 13:39:44.128000+00:00  \n",
       "39  2020-10-30 13:39:44.416000+00:00  \n",
       "40  2020-10-30 13:39:44.421000+00:00  \n",
       "41  2020-10-30 13:39:44.429000+00:00  "
      ],
      "text/html": "<div>\n<style scoped>\n    .dataframe tbody tr th:only-of-type {\n        vertical-align: middle;\n    }\n\n    .dataframe tbody tr th {\n        vertical-align: top;\n    }\n\n    .dataframe thead th {\n        text-align: right;\n    }\n</style>\n<table border=\"1\" class=\"dataframe\">\n  <thead>\n    <tr style=\"text-align: right;\">\n      <th></th>\n      <th>PrimaryKey</th>\n      <th>DataType</th>\n      <th>Value</th>\n      <th>StatusCode</th>\n      <th>SourceTimeStamp</th>\n      <th>ServerTimeStamp</th>\n    </tr>\n  </thead>\n  <tbody>\n    <tr>\n      <th>0</th>\n      <td>27</td>\n      <td>0x0004</td>\n      <td>300</td>\n      <td>0x002f0000</td>\n      <td>2020-10-30T13:32:59.387Z</td>\n      <td>2020-10-30 13:31:52.387000+00:00</td>\n    </tr>\n    <tr>\n      <th>1</th>\n      <td>28</td>\n      <td>0x0004</td>\n      <td>363</td>\n      <td>0x002f0000</td>\n      <td>2020-10-30T13:32:59.389Z</td>\n      <td>2020-10-30 13:31:52.389000+00:00</td>\n    </tr>\n    <tr>\n      <th>2</th>\n      <td>29</td>\n      <td>0x0004</td>\n      <td>380</td>\n      <td>0x002f0000</td>\n      <td>2020-10-30T13:32:59.391Z</td>\n      <td>2020-10-30 13:31:52.391000+00:00</td>\n    </tr>\n    <tr>\n      <th>3</th>\n      <td>27</td>\n      <td>0x0004</td>\n      <td>300</td>\n      <td>0x00000000</td>\n      <td>2020-10-30T13:32:59.658Z</td>\n      <td>2020-10-30 13:31:52.658000+00:00</td>\n    </tr>\n    <tr>\n      <th>4</th>\n      <td>28</td>\n      <td>0x0004</td>\n      <td>363</td>\n      <td>0x00000000</td>\n      <td>2020-10-30T13:32:59.661Z</td>\n      <td>2020-10-30 13:31:52.661000+00:00</td>\n    </tr>\n    <tr>\n      <th>5</th>\n      <td>29</td>\n      <td>0x0004</td>\n      <td>380</td>\n      <td>0x00000000</td>\n      <td>2020-10-30T13:32:59.663Z</td>\n      <td>2020-10-30 13:31:52.663000+00:00</td>\n    </tr>\n    <tr>\n      <th>6</th>\n      <td>27</td>\n      <td>0x0004</td>\n      <td>300</td>\n      <td>0x002f0000</td>\n      <td>2020-10-30T13:34:03.696Z</td>\n      <td>2020-10-30 13:32:56.696000+00:00</td>\n    </tr>\n    <tr>\n      <th>7</th>\n      <td>27</td>\n      <td>0x0004</td>\n      <td>300</td>\n      <td>0x00000000</td>\n      <td>2020-10-30T13:34:03.905Z</td>\n      <td>2020-10-30 13:32:56.905000+00:00</td>\n    </tr>\n    <tr>\n      <th>8</th>\n      <td>28</td>\n      <td>0x0004</td>\n      <td>363</td>\n      <td>0x002f0000</td>\n      <td>2020-10-30T13:34:03.701Z</td>\n      <td>2020-10-30 13:32:56.701000+00:00</td>\n    </tr>\n    <tr>\n      <th>9</th>\n      <td>28</td>\n      <td>0x0004</td>\n      <td>363</td>\n      <td>0x00000000</td>\n      <td>2020-10-30T13:34:03.908Z</td>\n      <td>2020-10-30 13:32:56.908000+00:00</td>\n    </tr>\n    <tr>\n      <th>10</th>\n      <td>29</td>\n      <td>0x0004</td>\n      <td>380</td>\n      <td>0x002f0000</td>\n      <td>2020-10-30T13:34:03.706Z</td>\n      <td>2020-10-30 13:32:56.706000+00:00</td>\n    </tr>\n    <tr>\n      <th>11</th>\n      <td>29</td>\n      <td>0x0004</td>\n      <td>380</td>\n      <td>0x00000000</td>\n      <td>2020-10-30T13:34:03.916Z</td>\n      <td>2020-10-30 13:32:56.916000+00:00</td>\n    </tr>\n    <tr>\n      <th>12</th>\n      <td>27</td>\n      <td>0x0004</td>\n      <td>300</td>\n      <td>0x002f0000</td>\n      <td>2020-10-30T13:36:19.163Z</td>\n      <td>2020-10-30 13:35:12.163000+00:00</td>\n    </tr>\n    <tr>\n      <th>13</th>\n      <td>27</td>\n      <td>0x0004</td>\n      <td>300</td>\n      <td>0x00000000</td>\n      <td>2020-10-30T13:36:19.376Z</td>\n      <td>2020-10-30 13:35:12.376000+00:00</td>\n    </tr>\n    <tr>\n      <th>14</th>\n      <td>28</td>\n      <td>0x0004</td>\n      <td>363</td>\n      <td>0x002f0000</td>\n      <td>2020-10-30T13:36:19.168Z</td>\n      <td>2020-10-30 13:35:12.168000+00:00</td>\n    </tr>\n    <tr>\n      <th>15</th>\n      <td>28</td>\n      <td>0x0004</td>\n      <td>363</td>\n      <td>0x00000000</td>\n      <td>2020-10-30T13:36:19.378Z</td>\n      <td>2020-10-30 13:35:12.378000+00:00</td>\n    </tr>\n    <tr>\n      <th>16</th>\n      <td>29</td>\n      <td>0x0004</td>\n      <td>380</td>\n      <td>0x002f0000</td>\n      <td>2020-10-30T13:36:19.171Z</td>\n      <td>2020-10-30 13:35:12.171000+00:00</td>\n    </tr>\n    <tr>\n      <th>17</th>\n      <td>29</td>\n      <td>0x0004</td>\n      <td>380</td>\n      <td>0x00000000</td>\n      <td>2020-10-30T13:36:19.378Z</td>\n      <td>2020-10-30 13:35:12.378000+00:00</td>\n    </tr>\n    <tr>\n      <th>18</th>\n      <td>27</td>\n      <td>0x0004</td>\n      <td>300</td>\n      <td>0x002f0000</td>\n      <td>2020-10-30T13:36:32.374Z</td>\n      <td>2020-10-30 13:35:25.374000+00:00</td>\n    </tr>\n    <tr>\n      <th>19</th>\n      <td>27</td>\n      <td>0x0004</td>\n      <td>300</td>\n      <td>0x00000000</td>\n      <td>2020-10-30T13:36:32.660Z</td>\n      <td>2020-10-30 13:35:25.660000+00:00</td>\n    </tr>\n    <tr>\n      <th>20</th>\n      <td>28</td>\n      <td>0x0004</td>\n      <td>363</td>\n      <td>0x002f0000</td>\n      <td>2020-10-30T13:36:32.376Z</td>\n      <td>2020-10-30 13:35:25.376000+00:00</td>\n    </tr>\n    <tr>\n      <th>21</th>\n      <td>28</td>\n      <td>0x0004</td>\n      <td>363</td>\n      <td>0x00000000</td>\n      <td>2020-10-30T13:36:32.663Z</td>\n      <td>2020-10-30 13:35:25.663000+00:00</td>\n    </tr>\n    <tr>\n      <th>22</th>\n      <td>29</td>\n      <td>0x0004</td>\n      <td>380</td>\n      <td>0x002f0000</td>\n      <td>2020-10-30T13:36:32.376Z</td>\n      <td>2020-10-30 13:35:25.376000+00:00</td>\n    </tr>\n    <tr>\n      <th>23</th>\n      <td>29</td>\n      <td>0x0004</td>\n      <td>380</td>\n      <td>0x00000000</td>\n      <td>2020-10-30T13:36:32.670Z</td>\n      <td>2020-10-30 13:35:25.670000+00:00</td>\n    </tr>\n    <tr>\n      <th>24</th>\n      <td>27</td>\n      <td>0x0004</td>\n      <td>300</td>\n      <td>0x002f0000</td>\n      <td>2020-10-30T13:37:25.418Z</td>\n      <td>2020-10-30 13:36:18.418000+00:00</td>\n    </tr>\n    <tr>\n      <th>25</th>\n      <td>27</td>\n      <td>0x0004</td>\n      <td>300</td>\n      <td>0x00000000</td>\n      <td>2020-10-30T13:37:25.633Z</td>\n      <td>2020-10-30 13:36:18.633000+00:00</td>\n    </tr>\n    <tr>\n      <th>26</th>\n      <td>28</td>\n      <td>0x0004</td>\n      <td>363</td>\n      <td>0x002f0000</td>\n      <td>2020-10-30T13:37:25.420Z</td>\n      <td>2020-10-30 13:36:18.420000+00:00</td>\n    </tr>\n    <tr>\n      <th>27</th>\n      <td>28</td>\n      <td>0x0004</td>\n      <td>363</td>\n      <td>0x00000000</td>\n      <td>2020-10-30T13:37:25.636Z</td>\n      <td>2020-10-30 13:36:18.636000+00:00</td>\n    </tr>\n    <tr>\n      <th>28</th>\n      <td>29</td>\n      <td>0x0004</td>\n      <td>380</td>\n      <td>0x002f0000</td>\n      <td>2020-10-30T13:37:25.423Z</td>\n      <td>2020-10-30 13:36:18.423000+00:00</td>\n    </tr>\n    <tr>\n      <th>29</th>\n      <td>29</td>\n      <td>0x0004</td>\n      <td>380</td>\n      <td>0x00000000</td>\n      <td>2020-10-30T13:37:25.638Z</td>\n      <td>2020-10-30 13:36:18.638000+00:00</td>\n    </tr>\n    <tr>\n      <th>30</th>\n      <td>27</td>\n      <td>0x0004</td>\n      <td>300</td>\n      <td>0x002f0000</td>\n      <td>2020-10-30T13:40:34.376Z</td>\n      <td>2020-10-30 13:39:27.376000+00:00</td>\n    </tr>\n    <tr>\n      <th>31</th>\n      <td>28</td>\n      <td>0x0004</td>\n      <td>363</td>\n      <td>0x002f0000</td>\n      <td>2020-10-30T13:40:34.377Z</td>\n      <td>2020-10-30 13:39:27.377000+00:00</td>\n    </tr>\n    <tr>\n      <th>32</th>\n      <td>29</td>\n      <td>0x0004</td>\n      <td>380</td>\n      <td>0x002f0000</td>\n      <td>2020-10-30T13:40:34.379Z</td>\n      <td>2020-10-30 13:39:27.379000+00:00</td>\n    </tr>\n    <tr>\n      <th>33</th>\n      <td>27</td>\n      <td>0x0004</td>\n      <td>300</td>\n      <td>0x00000000</td>\n      <td>2020-10-30T13:40:34.699Z</td>\n      <td>2020-10-30 13:39:27.699000+00:00</td>\n    </tr>\n    <tr>\n      <th>34</th>\n      <td>28</td>\n      <td>0x0004</td>\n      <td>363</td>\n      <td>0x00000000</td>\n      <td>2020-10-30T13:40:34.704Z</td>\n      <td>2020-10-30 13:39:27.704000+00:00</td>\n    </tr>\n    <tr>\n      <th>35</th>\n      <td>29</td>\n      <td>0x0004</td>\n      <td>380</td>\n      <td>0x00000000</td>\n      <td>2020-10-30T13:40:34.714Z</td>\n      <td>2020-10-30 13:39:27.714000+00:00</td>\n    </tr>\n    <tr>\n      <th>36</th>\n      <td>27</td>\n      <td>0x0004</td>\n      <td>300</td>\n      <td>0x002f0000</td>\n      <td>2020-10-30T13:40:51.123Z</td>\n      <td>2020-10-30 13:39:44.123000+00:00</td>\n    </tr>\n    <tr>\n      <th>37</th>\n      <td>28</td>\n      <td>0x0004</td>\n      <td>363</td>\n      <td>0x002f0000</td>\n      <td>2020-10-30T13:40:51.126Z</td>\n      <td>2020-10-30 13:39:44.126000+00:00</td>\n    </tr>\n    <tr>\n      <th>38</th>\n      <td>29</td>\n      <td>0x0004</td>\n      <td>380</td>\n      <td>0x002f0000</td>\n      <td>2020-10-30T13:40:51.128Z</td>\n      <td>2020-10-30 13:39:44.128000+00:00</td>\n    </tr>\n    <tr>\n      <th>39</th>\n      <td>27</td>\n      <td>0x0004</td>\n      <td>300</td>\n      <td>0x00000000</td>\n      <td>2020-10-30T13:40:51.416Z</td>\n      <td>2020-10-30 13:39:44.416000+00:00</td>\n    </tr>\n    <tr>\n      <th>40</th>\n      <td>28</td>\n      <td>0x0004</td>\n      <td>363</td>\n      <td>0x00000000</td>\n      <td>2020-10-30T13:40:51.421Z</td>\n      <td>2020-10-30 13:39:44.421000+00:00</td>\n    </tr>\n    <tr>\n      <th>41</th>\n      <td>29</td>\n      <td>0x0004</td>\n      <td>380</td>\n      <td>0x00000000</td>\n      <td>2020-10-30T13:40:51.429Z</td>\n      <td>2020-10-30 13:39:44.429000+00:00</td>\n    </tr>\n  </tbody>\n</table>\n</div>"
     },
     "metadata": {},
     "execution_count": 195
    }
   ],
   "source": [
    "data_conv = fc_sync_timestamp(data_conv,'ServerTimeStamp',delta_time_PLC)\n",
    "data_conv"
   ]
  },
  {
   "cell_type": "code",
   "execution_count": 196,
   "metadata": {},
   "outputs": [
    {
     "output_type": "execute_result",
     "data": {
      "text/plain": [
       "      PrimaryKey DataType  Value  StatusCode           SourceTimeStamp  \\\n",
       "0       Position   0x000b    0.3  0x00000000  2020-10-30T13:19:18.888Z   \n",
       "1       Position   0x000b    0.3  0x00000000  2020-10-30T13:19:19.188Z   \n",
       "2           Safe   0x0001   true  0x00000000  2020-10-30T13:19:18.888Z   \n",
       "3           Safe   0x0001   true  0x00000000  2020-10-30T13:19:19.188Z   \n",
       "4          Speed   0x000b      0  0x00000000  2020-10-30T13:19:18.888Z   \n",
       "...          ...      ...    ...         ...                       ...   \n",
       "18328   Position   0x000b     69  0x00000000  2020-10-30T13:49:51.888Z   \n",
       "18329       Safe   0x0001  false  0x00000000  2020-10-30T13:49:51.588Z   \n",
       "18330       Safe   0x0001  false  0x00000000  2020-10-30T13:49:51.888Z   \n",
       "18331      Speed   0x000b    -40  0x00000000  2020-10-30T13:49:51.588Z   \n",
       "18332      Speed   0x000b    -30  0x00000000  2020-10-30T13:49:51.888Z   \n",
       "\n",
       "                        ServerTimeStamp  \n",
       "0      2020-10-30 13:19:18.888000+00:00  \n",
       "1      2020-10-30 13:19:19.188000+00:00  \n",
       "2      2020-10-30 13:19:18.888000+00:00  \n",
       "3      2020-10-30 13:19:19.188000+00:00  \n",
       "4      2020-10-30 13:19:18.888000+00:00  \n",
       "...                                 ...  \n",
       "18328  2020-10-30 13:49:51.888000+00:00  \n",
       "18329  2020-10-30 13:49:51.588000+00:00  \n",
       "18330  2020-10-30 13:49:51.888000+00:00  \n",
       "18331  2020-10-30 13:49:51.588000+00:00  \n",
       "18332  2020-10-30 13:49:51.888000+00:00  \n",
       "\n",
       "[18333 rows x 6 columns]"
      ],
      "text/html": "<div>\n<style scoped>\n    .dataframe tbody tr th:only-of-type {\n        vertical-align: middle;\n    }\n\n    .dataframe tbody tr th {\n        vertical-align: top;\n    }\n\n    .dataframe thead th {\n        text-align: right;\n    }\n</style>\n<table border=\"1\" class=\"dataframe\">\n  <thead>\n    <tr style=\"text-align: right;\">\n      <th></th>\n      <th>PrimaryKey</th>\n      <th>DataType</th>\n      <th>Value</th>\n      <th>StatusCode</th>\n      <th>SourceTimeStamp</th>\n      <th>ServerTimeStamp</th>\n    </tr>\n  </thead>\n  <tbody>\n    <tr>\n      <th>0</th>\n      <td>Position</td>\n      <td>0x000b</td>\n      <td>0.3</td>\n      <td>0x00000000</td>\n      <td>2020-10-30T13:19:18.888Z</td>\n      <td>2020-10-30 13:19:18.888000+00:00</td>\n    </tr>\n    <tr>\n      <th>1</th>\n      <td>Position</td>\n      <td>0x000b</td>\n      <td>0.3</td>\n      <td>0x00000000</td>\n      <td>2020-10-30T13:19:19.188Z</td>\n      <td>2020-10-30 13:19:19.188000+00:00</td>\n    </tr>\n    <tr>\n      <th>2</th>\n      <td>Safe</td>\n      <td>0x0001</td>\n      <td>true</td>\n      <td>0x00000000</td>\n      <td>2020-10-30T13:19:18.888Z</td>\n      <td>2020-10-30 13:19:18.888000+00:00</td>\n    </tr>\n    <tr>\n      <th>3</th>\n      <td>Safe</td>\n      <td>0x0001</td>\n      <td>true</td>\n      <td>0x00000000</td>\n      <td>2020-10-30T13:19:19.188Z</td>\n      <td>2020-10-30 13:19:19.188000+00:00</td>\n    </tr>\n    <tr>\n      <th>4</th>\n      <td>Speed</td>\n      <td>0x000b</td>\n      <td>0</td>\n      <td>0x00000000</td>\n      <td>2020-10-30T13:19:18.888Z</td>\n      <td>2020-10-30 13:19:18.888000+00:00</td>\n    </tr>\n    <tr>\n      <th>...</th>\n      <td>...</td>\n      <td>...</td>\n      <td>...</td>\n      <td>...</td>\n      <td>...</td>\n      <td>...</td>\n    </tr>\n    <tr>\n      <th>18328</th>\n      <td>Position</td>\n      <td>0x000b</td>\n      <td>69</td>\n      <td>0x00000000</td>\n      <td>2020-10-30T13:49:51.888Z</td>\n      <td>2020-10-30 13:49:51.888000+00:00</td>\n    </tr>\n    <tr>\n      <th>18329</th>\n      <td>Safe</td>\n      <td>0x0001</td>\n      <td>false</td>\n      <td>0x00000000</td>\n      <td>2020-10-30T13:49:51.588Z</td>\n      <td>2020-10-30 13:49:51.588000+00:00</td>\n    </tr>\n    <tr>\n      <th>18330</th>\n      <td>Safe</td>\n      <td>0x0001</td>\n      <td>false</td>\n      <td>0x00000000</td>\n      <td>2020-10-30T13:49:51.888Z</td>\n      <td>2020-10-30 13:49:51.888000+00:00</td>\n    </tr>\n    <tr>\n      <th>18331</th>\n      <td>Speed</td>\n      <td>0x000b</td>\n      <td>-40</td>\n      <td>0x00000000</td>\n      <td>2020-10-30T13:49:51.588Z</td>\n      <td>2020-10-30 13:49:51.588000+00:00</td>\n    </tr>\n    <tr>\n      <th>18332</th>\n      <td>Speed</td>\n      <td>0x000b</td>\n      <td>-30</td>\n      <td>0x00000000</td>\n      <td>2020-10-30T13:49:51.888Z</td>\n      <td>2020-10-30 13:49:51.888000+00:00</td>\n    </tr>\n  </tbody>\n</table>\n<p>18333 rows × 6 columns</p>\n</div>"
     },
     "metadata": {},
     "execution_count": 196
    }
   ],
   "source": [
    "data_gate = fc_sync_timestamp(data_gate,'ServerTimeStamp',delta_time_SIM)\n",
    "data_gate"
   ]
  },
  {
   "cell_type": "code",
   "execution_count": 197,
   "metadata": {},
   "outputs": [
    {
     "output_type": "execute_result",
     "data": {
      "text/plain": [
       "        PrimaryKey DataType     Value  StatusCode           SourceTimeStamp  \\\n",
       "0      DistanceAbs   0x000b  6.100943  0x00000000  2020-10-30T13:19:19.903Z   \n",
       "1      DistanceAbs   0x000b  6.100943  0x00000000  2020-10-30T13:19:20.203Z   \n",
       "2        DistanceX   0x000b  5.422691  0x00000000  2020-10-30T13:19:19.903Z   \n",
       "3        DistanceX   0x000b  5.422691  0x00000000  2020-10-30T13:19:20.203Z   \n",
       "4        DistanceY   0x000b  2.795699  0x00000000  2020-10-30T13:19:19.903Z   \n",
       "...            ...      ...       ...         ...                       ...   \n",
       "24439   ResultCode   0x0006  1.000000  0x00000000  2020-10-30T13:49:52.604Z   \n",
       "24440  DistanceAbs   0x000b  5.274006  0x00000000  2020-10-30T13:49:52.903Z   \n",
       "24441    DistanceX   0x000b  1.084538  0x00000000  2020-10-30T13:49:52.903Z   \n",
       "24442    DistanceY   0x000b  5.161290  0x00000000  2020-10-30T13:49:52.903Z   \n",
       "24443   ResultCode   0x0006  1.000000  0x00000000  2020-10-30T13:49:52.904Z   \n",
       "\n",
       "                        ServerTimeStamp  \n",
       "0      2020-10-30 13:19:19.903000+00:00  \n",
       "1      2020-10-30 13:19:20.203000+00:00  \n",
       "2      2020-10-30 13:19:19.903000+00:00  \n",
       "3      2020-10-30 13:19:20.203000+00:00  \n",
       "4      2020-10-30 13:19:19.903000+00:00  \n",
       "...                                 ...  \n",
       "24439  2020-10-30 13:49:52.604000+00:00  \n",
       "24440  2020-10-30 13:49:52.903000+00:00  \n",
       "24441  2020-10-30 13:49:52.903000+00:00  \n",
       "24442  2020-10-30 13:49:52.903000+00:00  \n",
       "24443  2020-10-30 13:49:52.904000+00:00  \n",
       "\n",
       "[24444 rows x 6 columns]"
      ],
      "text/html": "<div>\n<style scoped>\n    .dataframe tbody tr th:only-of-type {\n        vertical-align: middle;\n    }\n\n    .dataframe tbody tr th {\n        vertical-align: top;\n    }\n\n    .dataframe thead th {\n        text-align: right;\n    }\n</style>\n<table border=\"1\" class=\"dataframe\">\n  <thead>\n    <tr style=\"text-align: right;\">\n      <th></th>\n      <th>PrimaryKey</th>\n      <th>DataType</th>\n      <th>Value</th>\n      <th>StatusCode</th>\n      <th>SourceTimeStamp</th>\n      <th>ServerTimeStamp</th>\n    </tr>\n  </thead>\n  <tbody>\n    <tr>\n      <th>0</th>\n      <td>DistanceAbs</td>\n      <td>0x000b</td>\n      <td>6.100943</td>\n      <td>0x00000000</td>\n      <td>2020-10-30T13:19:19.903Z</td>\n      <td>2020-10-30 13:19:19.903000+00:00</td>\n    </tr>\n    <tr>\n      <th>1</th>\n      <td>DistanceAbs</td>\n      <td>0x000b</td>\n      <td>6.100943</td>\n      <td>0x00000000</td>\n      <td>2020-10-30T13:19:20.203Z</td>\n      <td>2020-10-30 13:19:20.203000+00:00</td>\n    </tr>\n    <tr>\n      <th>2</th>\n      <td>DistanceX</td>\n      <td>0x000b</td>\n      <td>5.422691</td>\n      <td>0x00000000</td>\n      <td>2020-10-30T13:19:19.903Z</td>\n      <td>2020-10-30 13:19:19.903000+00:00</td>\n    </tr>\n    <tr>\n      <th>3</th>\n      <td>DistanceX</td>\n      <td>0x000b</td>\n      <td>5.422691</td>\n      <td>0x00000000</td>\n      <td>2020-10-30T13:19:20.203Z</td>\n      <td>2020-10-30 13:19:20.203000+00:00</td>\n    </tr>\n    <tr>\n      <th>4</th>\n      <td>DistanceY</td>\n      <td>0x000b</td>\n      <td>2.795699</td>\n      <td>0x00000000</td>\n      <td>2020-10-30T13:19:19.903Z</td>\n      <td>2020-10-30 13:19:19.903000+00:00</td>\n    </tr>\n    <tr>\n      <th>...</th>\n      <td>...</td>\n      <td>...</td>\n      <td>...</td>\n      <td>...</td>\n      <td>...</td>\n      <td>...</td>\n    </tr>\n    <tr>\n      <th>24439</th>\n      <td>ResultCode</td>\n      <td>0x0006</td>\n      <td>1.000000</td>\n      <td>0x00000000</td>\n      <td>2020-10-30T13:49:52.604Z</td>\n      <td>2020-10-30 13:49:52.604000+00:00</td>\n    </tr>\n    <tr>\n      <th>24440</th>\n      <td>DistanceAbs</td>\n      <td>0x000b</td>\n      <td>5.274006</td>\n      <td>0x00000000</td>\n      <td>2020-10-30T13:49:52.903Z</td>\n      <td>2020-10-30 13:49:52.903000+00:00</td>\n    </tr>\n    <tr>\n      <th>24441</th>\n      <td>DistanceX</td>\n      <td>0x000b</td>\n      <td>1.084538</td>\n      <td>0x00000000</td>\n      <td>2020-10-30T13:49:52.903Z</td>\n      <td>2020-10-30 13:49:52.903000+00:00</td>\n    </tr>\n    <tr>\n      <th>24442</th>\n      <td>DistanceY</td>\n      <td>0x000b</td>\n      <td>5.161290</td>\n      <td>0x00000000</td>\n      <td>2020-10-30T13:49:52.903Z</td>\n      <td>2020-10-30 13:49:52.903000+00:00</td>\n    </tr>\n    <tr>\n      <th>24443</th>\n      <td>ResultCode</td>\n      <td>0x0006</td>\n      <td>1.000000</td>\n      <td>0x00000000</td>\n      <td>2020-10-30T13:49:52.904Z</td>\n      <td>2020-10-30 13:49:52.904000+00:00</td>\n    </tr>\n  </tbody>\n</table>\n<p>24444 rows × 6 columns</p>\n</div>"
     },
     "metadata": {},
     "execution_count": 197
    }
   ],
   "source": [
    "data_qc = fc_sync_timestamp(data_qc,'ServerTimeStamp',delta_time_SIM)\n",
    "data_qc"
   ]
  },
  {
   "cell_type": "code",
   "execution_count": 198,
   "metadata": {},
   "outputs": [
    {
     "output_type": "execute_result",
     "data": {
      "text/plain": [
       "      PrimaryKey DataType       Value  StatusCode           SourceTimeStamp  \\\n",
       "0            527   0x0007  1051168136  0x00000000  2020-10-30T13:20:31.122Z   \n",
       "1            528   0x0007  3188582587  0x00000000  2020-10-30T13:20:31.124Z   \n",
       "2            529   0x0007  1051728003  0x00000000  2020-10-30T13:20:31.127Z   \n",
       "3            527   0x0007  1051169144  0x00000000  2020-10-30T13:20:31.373Z   \n",
       "4            527   0x0007  1051169176  0x00000000  2020-10-30T13:20:31.620Z   \n",
       "...          ...      ...         ...         ...                       ...   \n",
       "21373        527   0x0007  3180520831  0x00000000  2020-10-30T13:51:03.624Z   \n",
       "21374        528   0x0007  3190996050  0x00000000  2020-10-30T13:51:03.397Z   \n",
       "21375        528   0x0007  3190581969  0x00000000  2020-10-30T13:51:03.627Z   \n",
       "21376        529   0x0007  1054427313  0x00000000  2020-10-30T13:51:03.400Z   \n",
       "21377        529   0x0007  1054422475  0x00000000  2020-10-30T13:51:03.627Z   \n",
       "\n",
       "                        ServerTimeStamp  \n",
       "0      2020-10-30 13:19:24.122000+00:00  \n",
       "1      2020-10-30 13:19:24.124000+00:00  \n",
       "2      2020-10-30 13:19:24.127000+00:00  \n",
       "3      2020-10-30 13:19:24.373000+00:00  \n",
       "4      2020-10-30 13:19:24.620000+00:00  \n",
       "...                                 ...  \n",
       "21373  2020-10-30 13:49:56.624000+00:00  \n",
       "21374  2020-10-30 13:49:56.397000+00:00  \n",
       "21375  2020-10-30 13:49:56.627000+00:00  \n",
       "21376  2020-10-30 13:49:56.400000+00:00  \n",
       "21377  2020-10-30 13:49:56.627000+00:00  \n",
       "\n",
       "[21378 rows x 6 columns]"
      ],
      "text/html": "<div>\n<style scoped>\n    .dataframe tbody tr th:only-of-type {\n        vertical-align: middle;\n    }\n\n    .dataframe tbody tr th {\n        vertical-align: top;\n    }\n\n    .dataframe thead th {\n        text-align: right;\n    }\n</style>\n<table border=\"1\" class=\"dataframe\">\n  <thead>\n    <tr style=\"text-align: right;\">\n      <th></th>\n      <th>PrimaryKey</th>\n      <th>DataType</th>\n      <th>Value</th>\n      <th>StatusCode</th>\n      <th>SourceTimeStamp</th>\n      <th>ServerTimeStamp</th>\n    </tr>\n  </thead>\n  <tbody>\n    <tr>\n      <th>0</th>\n      <td>527</td>\n      <td>0x0007</td>\n      <td>1051168136</td>\n      <td>0x00000000</td>\n      <td>2020-10-30T13:20:31.122Z</td>\n      <td>2020-10-30 13:19:24.122000+00:00</td>\n    </tr>\n    <tr>\n      <th>1</th>\n      <td>528</td>\n      <td>0x0007</td>\n      <td>3188582587</td>\n      <td>0x00000000</td>\n      <td>2020-10-30T13:20:31.124Z</td>\n      <td>2020-10-30 13:19:24.124000+00:00</td>\n    </tr>\n    <tr>\n      <th>2</th>\n      <td>529</td>\n      <td>0x0007</td>\n      <td>1051728003</td>\n      <td>0x00000000</td>\n      <td>2020-10-30T13:20:31.127Z</td>\n      <td>2020-10-30 13:19:24.127000+00:00</td>\n    </tr>\n    <tr>\n      <th>3</th>\n      <td>527</td>\n      <td>0x0007</td>\n      <td>1051169144</td>\n      <td>0x00000000</td>\n      <td>2020-10-30T13:20:31.373Z</td>\n      <td>2020-10-30 13:19:24.373000+00:00</td>\n    </tr>\n    <tr>\n      <th>4</th>\n      <td>527</td>\n      <td>0x0007</td>\n      <td>1051169176</td>\n      <td>0x00000000</td>\n      <td>2020-10-30T13:20:31.620Z</td>\n      <td>2020-10-30 13:19:24.620000+00:00</td>\n    </tr>\n    <tr>\n      <th>...</th>\n      <td>...</td>\n      <td>...</td>\n      <td>...</td>\n      <td>...</td>\n      <td>...</td>\n      <td>...</td>\n    </tr>\n    <tr>\n      <th>21373</th>\n      <td>527</td>\n      <td>0x0007</td>\n      <td>3180520831</td>\n      <td>0x00000000</td>\n      <td>2020-10-30T13:51:03.624Z</td>\n      <td>2020-10-30 13:49:56.624000+00:00</td>\n    </tr>\n    <tr>\n      <th>21374</th>\n      <td>528</td>\n      <td>0x0007</td>\n      <td>3190996050</td>\n      <td>0x00000000</td>\n      <td>2020-10-30T13:51:03.397Z</td>\n      <td>2020-10-30 13:49:56.397000+00:00</td>\n    </tr>\n    <tr>\n      <th>21375</th>\n      <td>528</td>\n      <td>0x0007</td>\n      <td>3190581969</td>\n      <td>0x00000000</td>\n      <td>2020-10-30T13:51:03.627Z</td>\n      <td>2020-10-30 13:49:56.627000+00:00</td>\n    </tr>\n    <tr>\n      <th>21376</th>\n      <td>529</td>\n      <td>0x0007</td>\n      <td>1054427313</td>\n      <td>0x00000000</td>\n      <td>2020-10-30T13:51:03.400Z</td>\n      <td>2020-10-30 13:49:56.400000+00:00</td>\n    </tr>\n    <tr>\n      <th>21377</th>\n      <td>529</td>\n      <td>0x0007</td>\n      <td>1054422475</td>\n      <td>0x00000000</td>\n      <td>2020-10-30T13:51:03.627Z</td>\n      <td>2020-10-30 13:49:56.627000+00:00</td>\n    </tr>\n  </tbody>\n</table>\n<p>21378 rows × 6 columns</p>\n</div>"
     },
     "metadata": {},
     "execution_count": 198
    }
   ],
   "source": [
    "data_rp = fc_sync_timestamp(data_rp,'ServerTimeStamp',delta_time_PLC)\n",
    "data_rp"
   ]
  },
  {
   "cell_type": "code",
   "execution_count": 199,
   "metadata": {},
   "outputs": [
    {
     "output_type": "execute_result",
     "data": {
      "text/plain": [
       "     PrimaryKey DataType  Value  StatusCode           SourceTimeStamp  \\\n",
       "0      DiscSize   0x0003      1  0x00000000  2020-10-30T13:19:22.202Z   \n",
       "1      DiscSize   0x0003      1  0x00000000  2020-10-30T13:19:22.502Z   \n",
       "2      DiscSize   0x0003      1  0x00000000  2020-10-30T13:19:22.802Z   \n",
       "3      DiscSize   0x0003      1  0x00000000  2020-10-30T13:19:23.102Z   \n",
       "4      DiscSize   0x0003      1  0x00000000  2020-10-30T13:19:23.402Z   \n",
       "...         ...      ...    ...         ...                       ...   \n",
       "6106   DiscSize   0x0003      2  0x00000000  2020-10-30T13:49:54.002Z   \n",
       "6107   DiscSize   0x0003      2  0x00000000  2020-10-30T13:49:54.302Z   \n",
       "6108   DiscSize   0x0003      2  0x00000000  2020-10-30T13:49:54.602Z   \n",
       "6109   DiscSize   0x0003      2  0x00000000  2020-10-30T13:49:54.902Z   \n",
       "6110   DiscSize   0x0003      2  0x00000000  2020-10-30T13:49:55.202Z   \n",
       "\n",
       "                       ServerTimeStamp  \n",
       "0     2020-10-30 13:19:22.202000+00:00  \n",
       "1     2020-10-30 13:19:22.502000+00:00  \n",
       "2     2020-10-30 13:19:22.802000+00:00  \n",
       "3     2020-10-30 13:19:23.102000+00:00  \n",
       "4     2020-10-30 13:19:23.402000+00:00  \n",
       "...                                ...  \n",
       "6106  2020-10-30 13:49:54.002000+00:00  \n",
       "6107  2020-10-30 13:49:54.302000+00:00  \n",
       "6108  2020-10-30 13:49:54.602000+00:00  \n",
       "6109  2020-10-30 13:49:54.902000+00:00  \n",
       "6110  2020-10-30 13:49:55.202000+00:00  \n",
       "\n",
       "[6111 rows x 6 columns]"
      ],
      "text/html": "<div>\n<style scoped>\n    .dataframe tbody tr th:only-of-type {\n        vertical-align: middle;\n    }\n\n    .dataframe tbody tr th {\n        vertical-align: top;\n    }\n\n    .dataframe thead th {\n        text-align: right;\n    }\n</style>\n<table border=\"1\" class=\"dataframe\">\n  <thead>\n    <tr style=\"text-align: right;\">\n      <th></th>\n      <th>PrimaryKey</th>\n      <th>DataType</th>\n      <th>Value</th>\n      <th>StatusCode</th>\n      <th>SourceTimeStamp</th>\n      <th>ServerTimeStamp</th>\n    </tr>\n  </thead>\n  <tbody>\n    <tr>\n      <th>0</th>\n      <td>DiscSize</td>\n      <td>0x0003</td>\n      <td>1</td>\n      <td>0x00000000</td>\n      <td>2020-10-30T13:19:22.202Z</td>\n      <td>2020-10-30 13:19:22.202000+00:00</td>\n    </tr>\n    <tr>\n      <th>1</th>\n      <td>DiscSize</td>\n      <td>0x0003</td>\n      <td>1</td>\n      <td>0x00000000</td>\n      <td>2020-10-30T13:19:22.502Z</td>\n      <td>2020-10-30 13:19:22.502000+00:00</td>\n    </tr>\n    <tr>\n      <th>2</th>\n      <td>DiscSize</td>\n      <td>0x0003</td>\n      <td>1</td>\n      <td>0x00000000</td>\n      <td>2020-10-30T13:19:22.802Z</td>\n      <td>2020-10-30 13:19:22.802000+00:00</td>\n    </tr>\n    <tr>\n      <th>3</th>\n      <td>DiscSize</td>\n      <td>0x0003</td>\n      <td>1</td>\n      <td>0x00000000</td>\n      <td>2020-10-30T13:19:23.102Z</td>\n      <td>2020-10-30 13:19:23.102000+00:00</td>\n    </tr>\n    <tr>\n      <th>4</th>\n      <td>DiscSize</td>\n      <td>0x0003</td>\n      <td>1</td>\n      <td>0x00000000</td>\n      <td>2020-10-30T13:19:23.402Z</td>\n      <td>2020-10-30 13:19:23.402000+00:00</td>\n    </tr>\n    <tr>\n      <th>...</th>\n      <td>...</td>\n      <td>...</td>\n      <td>...</td>\n      <td>...</td>\n      <td>...</td>\n      <td>...</td>\n    </tr>\n    <tr>\n      <th>6106</th>\n      <td>DiscSize</td>\n      <td>0x0003</td>\n      <td>2</td>\n      <td>0x00000000</td>\n      <td>2020-10-30T13:49:54.002Z</td>\n      <td>2020-10-30 13:49:54.002000+00:00</td>\n    </tr>\n    <tr>\n      <th>6107</th>\n      <td>DiscSize</td>\n      <td>0x0003</td>\n      <td>2</td>\n      <td>0x00000000</td>\n      <td>2020-10-30T13:49:54.302Z</td>\n      <td>2020-10-30 13:49:54.302000+00:00</td>\n    </tr>\n    <tr>\n      <th>6108</th>\n      <td>DiscSize</td>\n      <td>0x0003</td>\n      <td>2</td>\n      <td>0x00000000</td>\n      <td>2020-10-30T13:49:54.602Z</td>\n      <td>2020-10-30 13:49:54.602000+00:00</td>\n    </tr>\n    <tr>\n      <th>6109</th>\n      <td>DiscSize</td>\n      <td>0x0003</td>\n      <td>2</td>\n      <td>0x00000000</td>\n      <td>2020-10-30T13:49:54.902Z</td>\n      <td>2020-10-30 13:49:54.902000+00:00</td>\n    </tr>\n    <tr>\n      <th>6110</th>\n      <td>DiscSize</td>\n      <td>0x0003</td>\n      <td>2</td>\n      <td>0x00000000</td>\n      <td>2020-10-30T13:49:55.202Z</td>\n      <td>2020-10-30 13:49:55.202000+00:00</td>\n    </tr>\n  </tbody>\n</table>\n<p>6111 rows × 6 columns</p>\n</div>"
     },
     "metadata": {},
     "execution_count": 199
    }
   ],
   "source": [
    "data_st = fc_sync_timestamp(data_st,'ServerTimeStamp',delta_time_SIM)\n",
    "data_st"
   ]
  },
  {
   "cell_type": "code",
   "execution_count": 200,
   "metadata": {},
   "outputs": [
    {
     "output_type": "execute_result",
     "data": {
      "text/plain": [
       "    PrimaryKey DataType  Value  StatusCode           SourceTimeStamp  \\\n",
       "0          561   0x0001   true  0x00000000  2020-10-30T13:20:26.618Z   \n",
       "1          560   0x0004      2  0x00000000  2020-10-30T13:20:26.621Z   \n",
       "2          560   0x0004      3  0x00000000  2020-10-30T13:20:31.119Z   \n",
       "3          561   0x0001  false  0x00000000  2020-10-30T13:20:31.871Z   \n",
       "4          560   0x0004      0  0x00000000  2020-10-30T13:20:36.871Z   \n",
       "..         ...      ...    ...         ...                       ...   \n",
       "555        561   0x0001   true  0x00000000  2020-10-30T13:50:48.619Z   \n",
       "556        560   0x0004      3  0x00000000  2020-10-30T13:50:53.372Z   \n",
       "557        561   0x0001  false  0x00000000  2020-10-30T13:50:54.119Z   \n",
       "558        560   0x0004      0  0x00000000  2020-10-30T13:50:59.195Z   \n",
       "559        561   0x0001   true  0x00000000  2020-10-30T13:51:00.126Z   \n",
       "\n",
       "                      ServerTimeStamp  \n",
       "0    2020-10-30 13:19:19.618000+00:00  \n",
       "1    2020-10-30 13:19:19.621000+00:00  \n",
       "2    2020-10-30 13:19:24.119000+00:00  \n",
       "3    2020-10-30 13:19:24.871000+00:00  \n",
       "4    2020-10-30 13:19:29.871000+00:00  \n",
       "..                                ...  \n",
       "555  2020-10-30 13:49:41.619000+00:00  \n",
       "556  2020-10-30 13:49:46.372000+00:00  \n",
       "557  2020-10-30 13:49:47.119000+00:00  \n",
       "558  2020-10-30 13:49:52.195000+00:00  \n",
       "559  2020-10-30 13:49:53.126000+00:00  \n",
       "\n",
       "[560 rows x 6 columns]"
      ],
      "text/html": "<div>\n<style scoped>\n    .dataframe tbody tr th:only-of-type {\n        vertical-align: middle;\n    }\n\n    .dataframe tbody tr th {\n        vertical-align: top;\n    }\n\n    .dataframe thead th {\n        text-align: right;\n    }\n</style>\n<table border=\"1\" class=\"dataframe\">\n  <thead>\n    <tr style=\"text-align: right;\">\n      <th></th>\n      <th>PrimaryKey</th>\n      <th>DataType</th>\n      <th>Value</th>\n      <th>StatusCode</th>\n      <th>SourceTimeStamp</th>\n      <th>ServerTimeStamp</th>\n    </tr>\n  </thead>\n  <tbody>\n    <tr>\n      <th>0</th>\n      <td>561</td>\n      <td>0x0001</td>\n      <td>true</td>\n      <td>0x00000000</td>\n      <td>2020-10-30T13:20:26.618Z</td>\n      <td>2020-10-30 13:19:19.618000+00:00</td>\n    </tr>\n    <tr>\n      <th>1</th>\n      <td>560</td>\n      <td>0x0004</td>\n      <td>2</td>\n      <td>0x00000000</td>\n      <td>2020-10-30T13:20:26.621Z</td>\n      <td>2020-10-30 13:19:19.621000+00:00</td>\n    </tr>\n    <tr>\n      <th>2</th>\n      <td>560</td>\n      <td>0x0004</td>\n      <td>3</td>\n      <td>0x00000000</td>\n      <td>2020-10-30T13:20:31.119Z</td>\n      <td>2020-10-30 13:19:24.119000+00:00</td>\n    </tr>\n    <tr>\n      <th>3</th>\n      <td>561</td>\n      <td>0x0001</td>\n      <td>false</td>\n      <td>0x00000000</td>\n      <td>2020-10-30T13:20:31.871Z</td>\n      <td>2020-10-30 13:19:24.871000+00:00</td>\n    </tr>\n    <tr>\n      <th>4</th>\n      <td>560</td>\n      <td>0x0004</td>\n      <td>0</td>\n      <td>0x00000000</td>\n      <td>2020-10-30T13:20:36.871Z</td>\n      <td>2020-10-30 13:19:29.871000+00:00</td>\n    </tr>\n    <tr>\n      <th>...</th>\n      <td>...</td>\n      <td>...</td>\n      <td>...</td>\n      <td>...</td>\n      <td>...</td>\n      <td>...</td>\n    </tr>\n    <tr>\n      <th>555</th>\n      <td>561</td>\n      <td>0x0001</td>\n      <td>true</td>\n      <td>0x00000000</td>\n      <td>2020-10-30T13:50:48.619Z</td>\n      <td>2020-10-30 13:49:41.619000+00:00</td>\n    </tr>\n    <tr>\n      <th>556</th>\n      <td>560</td>\n      <td>0x0004</td>\n      <td>3</td>\n      <td>0x00000000</td>\n      <td>2020-10-30T13:50:53.372Z</td>\n      <td>2020-10-30 13:49:46.372000+00:00</td>\n    </tr>\n    <tr>\n      <th>557</th>\n      <td>561</td>\n      <td>0x0001</td>\n      <td>false</td>\n      <td>0x00000000</td>\n      <td>2020-10-30T13:50:54.119Z</td>\n      <td>2020-10-30 13:49:47.119000+00:00</td>\n    </tr>\n    <tr>\n      <th>558</th>\n      <td>560</td>\n      <td>0x0004</td>\n      <td>0</td>\n      <td>0x00000000</td>\n      <td>2020-10-30T13:50:59.195Z</td>\n      <td>2020-10-30 13:49:52.195000+00:00</td>\n    </tr>\n    <tr>\n      <th>559</th>\n      <td>561</td>\n      <td>0x0001</td>\n      <td>true</td>\n      <td>0x00000000</td>\n      <td>2020-10-30T13:51:00.126Z</td>\n      <td>2020-10-30 13:49:53.126000+00:00</td>\n    </tr>\n  </tbody>\n</table>\n<p>560 rows × 6 columns</p>\n</div>"
     },
     "metadata": {},
     "execution_count": 200
    }
   ],
   "source": [
    "data_flag = fc_sync_timestamp(data_flag,'ServerTimeStamp',delta_time_PLC)\n",
    "data_flag"
   ]
  },
  {
   "cell_type": "markdown",
   "metadata": {},
   "source": [
    "## Merge Data Sets"
   ]
  },
  {
   "cell_type": "code",
   "execution_count": 201,
   "metadata": {},
   "outputs": [],
   "source": [
    "data_set = [data_conv, data_gate, data_qc, data_rp, data_st, data_flag]\n",
    "data_merge = pd.concat(data_set, keys=['conv', 'gate', 'qc', 'rp', 'store', 'flag'])\n",
    "# Sort the data_set by SourceTimeStamp, reset index and delete aux column\n",
    "data_merge = data_merge.sort_values(by='ServerTimeStamp').reset_index().drop('level_1',1)\n",
    "#del data_merge['level_1'] #delete aux column"
   ]
  },
  {
   "cell_type": "code",
   "execution_count": 202,
   "metadata": {},
   "outputs": [
    {
     "output_type": "execute_result",
     "data": {
      "text/plain": [
       "      level_0 PrimaryKey DataType       Value  StatusCode  \\\n",
       "0        gate       Safe   0x0001        true  0x00000000   \n",
       "1        gate   Position   0x000b         0.3  0x00000000   \n",
       "2        gate      Speed   0x000b           0  0x00000000   \n",
       "3        gate      Speed   0x000b           0  0x00000000   \n",
       "4        gate       Safe   0x0001        true  0x00000000   \n",
       "...       ...        ...      ...         ...         ...   \n",
       "70863      rp        528   0x0007  3190996050  0x00000000   \n",
       "70864      rp        529   0x0007  1054427313  0x00000000   \n",
       "70865      rp        527   0x0007  3180520831  0x00000000   \n",
       "70866      rp        528   0x0007  3190581969  0x00000000   \n",
       "70867      rp        529   0x0007  1054422475  0x00000000   \n",
       "\n",
       "                SourceTimeStamp                   ServerTimeStamp  \n",
       "0      2020-10-30T13:19:18.888Z  2020-10-30 13:19:18.888000+00:00  \n",
       "1      2020-10-30T13:19:18.888Z  2020-10-30 13:19:18.888000+00:00  \n",
       "2      2020-10-30T13:19:18.888Z  2020-10-30 13:19:18.888000+00:00  \n",
       "3      2020-10-30T13:19:19.188Z  2020-10-30 13:19:19.188000+00:00  \n",
       "4      2020-10-30T13:19:19.188Z  2020-10-30 13:19:19.188000+00:00  \n",
       "...                         ...                               ...  \n",
       "70863  2020-10-30T13:51:03.397Z  2020-10-30 13:49:56.397000+00:00  \n",
       "70864  2020-10-30T13:51:03.400Z  2020-10-30 13:49:56.400000+00:00  \n",
       "70865  2020-10-30T13:51:03.624Z  2020-10-30 13:49:56.624000+00:00  \n",
       "70866  2020-10-30T13:51:03.627Z  2020-10-30 13:49:56.627000+00:00  \n",
       "70867  2020-10-30T13:51:03.627Z  2020-10-30 13:49:56.627000+00:00  \n",
       "\n",
       "[70868 rows x 7 columns]"
      ],
      "text/html": "<div>\n<style scoped>\n    .dataframe tbody tr th:only-of-type {\n        vertical-align: middle;\n    }\n\n    .dataframe tbody tr th {\n        vertical-align: top;\n    }\n\n    .dataframe thead th {\n        text-align: right;\n    }\n</style>\n<table border=\"1\" class=\"dataframe\">\n  <thead>\n    <tr style=\"text-align: right;\">\n      <th></th>\n      <th>level_0</th>\n      <th>PrimaryKey</th>\n      <th>DataType</th>\n      <th>Value</th>\n      <th>StatusCode</th>\n      <th>SourceTimeStamp</th>\n      <th>ServerTimeStamp</th>\n    </tr>\n  </thead>\n  <tbody>\n    <tr>\n      <th>0</th>\n      <td>gate</td>\n      <td>Safe</td>\n      <td>0x0001</td>\n      <td>true</td>\n      <td>0x00000000</td>\n      <td>2020-10-30T13:19:18.888Z</td>\n      <td>2020-10-30 13:19:18.888000+00:00</td>\n    </tr>\n    <tr>\n      <th>1</th>\n      <td>gate</td>\n      <td>Position</td>\n      <td>0x000b</td>\n      <td>0.3</td>\n      <td>0x00000000</td>\n      <td>2020-10-30T13:19:18.888Z</td>\n      <td>2020-10-30 13:19:18.888000+00:00</td>\n    </tr>\n    <tr>\n      <th>2</th>\n      <td>gate</td>\n      <td>Speed</td>\n      <td>0x000b</td>\n      <td>0</td>\n      <td>0x00000000</td>\n      <td>2020-10-30T13:19:18.888Z</td>\n      <td>2020-10-30 13:19:18.888000+00:00</td>\n    </tr>\n    <tr>\n      <th>3</th>\n      <td>gate</td>\n      <td>Speed</td>\n      <td>0x000b</td>\n      <td>0</td>\n      <td>0x00000000</td>\n      <td>2020-10-30T13:19:19.188Z</td>\n      <td>2020-10-30 13:19:19.188000+00:00</td>\n    </tr>\n    <tr>\n      <th>4</th>\n      <td>gate</td>\n      <td>Safe</td>\n      <td>0x0001</td>\n      <td>true</td>\n      <td>0x00000000</td>\n      <td>2020-10-30T13:19:19.188Z</td>\n      <td>2020-10-30 13:19:19.188000+00:00</td>\n    </tr>\n    <tr>\n      <th>...</th>\n      <td>...</td>\n      <td>...</td>\n      <td>...</td>\n      <td>...</td>\n      <td>...</td>\n      <td>...</td>\n      <td>...</td>\n    </tr>\n    <tr>\n      <th>70863</th>\n      <td>rp</td>\n      <td>528</td>\n      <td>0x0007</td>\n      <td>3190996050</td>\n      <td>0x00000000</td>\n      <td>2020-10-30T13:51:03.397Z</td>\n      <td>2020-10-30 13:49:56.397000+00:00</td>\n    </tr>\n    <tr>\n      <th>70864</th>\n      <td>rp</td>\n      <td>529</td>\n      <td>0x0007</td>\n      <td>1054427313</td>\n      <td>0x00000000</td>\n      <td>2020-10-30T13:51:03.400Z</td>\n      <td>2020-10-30 13:49:56.400000+00:00</td>\n    </tr>\n    <tr>\n      <th>70865</th>\n      <td>rp</td>\n      <td>527</td>\n      <td>0x0007</td>\n      <td>3180520831</td>\n      <td>0x00000000</td>\n      <td>2020-10-30T13:51:03.624Z</td>\n      <td>2020-10-30 13:49:56.624000+00:00</td>\n    </tr>\n    <tr>\n      <th>70866</th>\n      <td>rp</td>\n      <td>528</td>\n      <td>0x0007</td>\n      <td>3190581969</td>\n      <td>0x00000000</td>\n      <td>2020-10-30T13:51:03.627Z</td>\n      <td>2020-10-30 13:49:56.627000+00:00</td>\n    </tr>\n    <tr>\n      <th>70867</th>\n      <td>rp</td>\n      <td>529</td>\n      <td>0x0007</td>\n      <td>1054422475</td>\n      <td>0x00000000</td>\n      <td>2020-10-30T13:51:03.627Z</td>\n      <td>2020-10-30 13:49:56.627000+00:00</td>\n    </tr>\n  </tbody>\n</table>\n<p>70868 rows × 7 columns</p>\n</div>"
     },
     "metadata": {},
     "execution_count": 202
    }
   ],
   "source": [
    "data_merge"
   ]
  },
  {
   "cell_type": "markdown",
   "metadata": {},
   "source": [
    "## Export Data to csv"
   ]
  },
  {
   "cell_type": "code",
   "execution_count": 203,
   "metadata": {},
   "outputs": [
    {
     "output_type": "stream",
     "name": "stdout",
     "text": [
      "The data is saved at ../01_Data/201030/use_case6/Processed/data_merge.csv\n"
     ]
    }
   ],
   "source": [
    "data_merge.to_csv(path_data_save + 'data_merge.csv')\n",
    "print('The data is saved at ' + path_data_save + 'data_merge.csv')"
   ]
  },
  {
   "cell_type": "code",
   "execution_count": 204,
   "metadata": {},
   "outputs": [
    {
     "output_type": "execute_result",
     "data": {
      "text/plain": [
       "70868"
      ]
     },
     "metadata": {},
     "execution_count": 204
    }
   ],
   "source": [
    "len(data_merge)"
   ]
  },
  {
   "cell_type": "markdown",
   "metadata": {},
   "source": [
    "## Determine the starting point of data set"
   ]
  },
  {
   "cell_type": "markdown",
   "metadata": {},
   "source": [
    "#Based on change of DistanceAbs in Data- Set\n",
    "var_actual = 0\n",
    "run_list = [0]\n",
    "for i in range(len(data_merge)):\n",
    "    var_previous = var_actual\n",
    "    if data_merge.at[i,'PrimaryKey'] == 'DistanceAbs':  # if 'PrimaryKey' value = 'DistanceAbs':\n",
    "        var_actual = data_merge.at[i,'Value'] # value of current DistanceAbs\n",
    "    if var_previous != var_actual:\n",
    "        run_list.append(i) #i append to list # This list will tell at how many i contains one sample    "
   ]
  },
  {
   "source": [
    "# Based on grabbing the white disk\n",
    "var_actual = 99\n",
    "disk_actual = 99 # Initial value\n",
    "run_list = [0]\n",
    "disk = False\n",
    "storage_down = False\n",
    "rob_x = 0\n",
    "rob_y = 0\n",
    "rob_z = 0\n",
    "rob_pos = 0\n",
    "pos = [0]*(len(data_merge)-2)\n",
    "for i in range(len(data_merge)-2): # len(data_merge)-2 is considered to avoid border errors\n",
    "    #var_previous = var_actual\n",
    "    #rob_pos = fc_rob_pos(i, data_merge) # review robot position\n",
    "    pos[i] = 0\n",
    "    if data_merge.at[i,'PrimaryKey'] == 'DiscSize':  # if 'PrimaryKey' value = 'DiskSize':\n",
    "        disk_previous = disk_actual\n",
    "        disk_actual = data_merge.at[i,'Value'] # value of current DiskSize\n",
    "        #print(disk_previous, disk_actual, i)\n",
    "        if disk_previous != 2 and disk_actual == 2: # Varialbe 0: unkown; 1: Black disk; 2: white disk\n",
    "            disk = True\n",
    "            #print('New white disk here ' + str(i))\n",
    "    if data_merge.at[i,'PrimaryKey'] == '527':  # if 'PrimaryKey' value = 'x coordinate':\n",
    "        rob_x = data_merge.at[i,'Value'] # value of current 'x coordinate'\n",
    "        #print('x = ' + str(rob_x) + '--' + str(i))\n",
    "    if data_merge.at[i,'PrimaryKey'] == '528':  # if 'PrimaryKey' value = 'y coordinate':\n",
    "        rob_y = data_merge.at[i,'Value'] # value of current 'x coordinate'\n",
    "        #print('y = ' + str(rob_y) + '--' + str(i))\n",
    "    if data_merge.at[i,'PrimaryKey'] == '529':  # if 'PrimaryKey' value = 'z coordinate':\n",
    "        rob_z = data_merge.at[i,'Value'] # value of current 'x coordinate'\n",
    "        #print('z = ' + str(rob_z) + '--' + str(i))\n",
    "    if rob_x > 3100000000 and rob_y > 3100000000 and rob_z < 1051200000: #Robot in storage. Picking up the disk\n",
    "        rob_pos = 1\n",
    "        pos[i] = 1\n",
    "        #print('pos 1 - ' + str(i))\n",
    "    if rob_x < 1052000000 and rob_y > 3100000000 and rob_z < 1052000000 and rob_z > 1051200000 : #Robot in storage. Placing down the disk\n",
    "        rob_pos = 2\n",
    "        pos[i] = 2\n",
    "        #print('pos 2 - ' + str(i))\n",
    "    #print(rob_pos)\n",
    "    if rob_pos == 1: # Robot picking up a disk\n",
    "        storage_down = True\n",
    "        #print(storage_down,i)  \n",
    "    if disk == True and storage_down == True:\n",
    "        #var_actual = rob_pos\n",
    "        disk = False\n",
    "        storage_down = False\n",
    "        run_list.append(i) #i append to list # This list will tell at how many i contains one sample\n",
    "        #print(i)\n",
    "    #if var_previous != var_actual:\n",
    "        #run_list.append(i) #i append to list # This list will tell at how many i contains one sample   \n",
    " "
   ],
   "cell_type": "markdown",
   "metadata": {}
  },
  {
   "source": [
    "# Based on grabbing the white disk\n",
    "run_list = [0]\n",
    "rob_pos_actual = 99\n",
    "rob_pos_old = 0\n",
    "gripper_actual = 99\n",
    "gripper_old = 0\n",
    "gripper = False\n",
    "rob_pos = False\n",
    "for i in range(len(data_merge)-2): # len(data_merge)-2 is considered to avoid border errors\n",
    "    #var_previous = var_actual\n",
    "    #rob_pos = fc_rob_pos(i, data_merge) # review robot position\n",
    "    if data_merge.at[i,'PrimaryKey'] == '561':  # if 'PrimaryKey' value = 'gripper open (0), close (1)':\n",
    "        gripper_old = gripper_actual\n",
    "        gripper_actual = data_merge.at[i,'Value'] # value of current 'x coordinate'\n",
    "        if gripper_old != gripper_actual:\n",
    "            gripper = True\n",
    "    if data_merge.at[i,'PrimaryKey'] == '560':  # if 'PrimaryKey' value = 'position of robot based in certain conditions':\n",
    "        # 0: Black disk in store\n",
    "        # 1: Black disk in gate\n",
    "        # 2: White disk in store\n",
    "        # 3: White disk in gate\n",
    "        rob_pos_old = rob_pos_actual\n",
    "        rob_pos_actual = int(data_merge.at[i,'Value']) # value of current 'x coordinate'\n",
    "        if rob_pos_old != rob_pos_actual and rob_pos_actual == 2:\n",
    "            rob_pos = True\n",
    "    if rob_pos == True and gripper == True:\n",
    "        rob_pos = False\n",
    "        gripper = False\n",
    "        run_list.append(i) #i append to list # This list will tell at how many i contains one sample\n",
    "        #print(i)\n",
    " "
   ],
   "cell_type": "code",
   "metadata": {},
   "execution_count": 205,
   "outputs": []
  },
  {
   "cell_type": "code",
   "execution_count": 206,
   "metadata": {},
   "outputs": [
    {
     "output_type": "stream",
     "name": "stdout",
     "text": [
      "[0, 10, 883, 1902, 2929, 3948, 4975, 6532, 7555, 8567, 10128, 11151, 12724, 13747, 14781, 15793, 16823, 17846, 18862, 19881, 20908, 21927, 22954, 23973, 24999, 26017, 27044, 28063, 29097, 30116, 31143, 32172, 33203, 34226, 35249, 36272, 37308, 38331, 39360, 40383, 41407, 42429, 43452, 44472, 45499, 46521, 47556, 48578, 49602, 50624, 51646, 52658, 53692, 54715, 55738, 57327, 58358, 60041, 61071, 62098, 63117, 64144, 65174, 66201, 67231, 68254, 69278, 70300]\n68\n"
     ]
    }
   ],
   "source": [
    "print(run_list) # Starting points. \n",
    "print(len(run_list))"
   ]
  },
  {
   "cell_type": "code",
   "execution_count": 207,
   "metadata": {},
   "outputs": [],
   "source": [
    "# data_merge.iloc[list(range(0,3))]"
   ]
  },
  {
   "cell_type": "code",
   "execution_count": 208,
   "metadata": {},
   "outputs": [
    {
     "output_type": "execute_result",
     "data": {
      "text/plain": [
       "      level_0 PrimaryKey DataType       Value  StatusCode  \\\n",
       "0        gate       Safe   0x0001        true  0x00000000   \n",
       "1        gate   Position   0x000b         0.3  0x00000000   \n",
       "2        gate      Speed   0x000b           0  0x00000000   \n",
       "3        gate      Speed   0x000b           0  0x00000000   \n",
       "4        gate       Safe   0x0001        true  0x00000000   \n",
       "...       ...        ...      ...         ...         ...   \n",
       "70863      rp        528   0x0007  3190996050  0x00000000   \n",
       "70864      rp        529   0x0007  1054427313  0x00000000   \n",
       "70865      rp        527   0x0007  3180520831  0x00000000   \n",
       "70866      rp        528   0x0007  3190581969  0x00000000   \n",
       "70867      rp        529   0x0007  1054422475  0x00000000   \n",
       "\n",
       "                SourceTimeStamp                   ServerTimeStamp  \n",
       "0      2020-10-30T13:19:18.888Z  2020-10-30 13:19:18.888000+00:00  \n",
       "1      2020-10-30T13:19:18.888Z  2020-10-30 13:19:18.888000+00:00  \n",
       "2      2020-10-30T13:19:18.888Z  2020-10-30 13:19:18.888000+00:00  \n",
       "3      2020-10-30T13:19:19.188Z  2020-10-30 13:19:19.188000+00:00  \n",
       "4      2020-10-30T13:19:19.188Z  2020-10-30 13:19:19.188000+00:00  \n",
       "...                         ...                               ...  \n",
       "70863  2020-10-30T13:51:03.397Z  2020-10-30 13:49:56.397000+00:00  \n",
       "70864  2020-10-30T13:51:03.400Z  2020-10-30 13:49:56.400000+00:00  \n",
       "70865  2020-10-30T13:51:03.624Z  2020-10-30 13:49:56.624000+00:00  \n",
       "70866  2020-10-30T13:51:03.627Z  2020-10-30 13:49:56.627000+00:00  \n",
       "70867  2020-10-30T13:51:03.627Z  2020-10-30 13:49:56.627000+00:00  \n",
       "\n",
       "[70868 rows x 7 columns]"
      ],
      "text/html": "<div>\n<style scoped>\n    .dataframe tbody tr th:only-of-type {\n        vertical-align: middle;\n    }\n\n    .dataframe tbody tr th {\n        vertical-align: top;\n    }\n\n    .dataframe thead th {\n        text-align: right;\n    }\n</style>\n<table border=\"1\" class=\"dataframe\">\n  <thead>\n    <tr style=\"text-align: right;\">\n      <th></th>\n      <th>level_0</th>\n      <th>PrimaryKey</th>\n      <th>DataType</th>\n      <th>Value</th>\n      <th>StatusCode</th>\n      <th>SourceTimeStamp</th>\n      <th>ServerTimeStamp</th>\n    </tr>\n  </thead>\n  <tbody>\n    <tr>\n      <th>0</th>\n      <td>gate</td>\n      <td>Safe</td>\n      <td>0x0001</td>\n      <td>true</td>\n      <td>0x00000000</td>\n      <td>2020-10-30T13:19:18.888Z</td>\n      <td>2020-10-30 13:19:18.888000+00:00</td>\n    </tr>\n    <tr>\n      <th>1</th>\n      <td>gate</td>\n      <td>Position</td>\n      <td>0x000b</td>\n      <td>0.3</td>\n      <td>0x00000000</td>\n      <td>2020-10-30T13:19:18.888Z</td>\n      <td>2020-10-30 13:19:18.888000+00:00</td>\n    </tr>\n    <tr>\n      <th>2</th>\n      <td>gate</td>\n      <td>Speed</td>\n      <td>0x000b</td>\n      <td>0</td>\n      <td>0x00000000</td>\n      <td>2020-10-30T13:19:18.888Z</td>\n      <td>2020-10-30 13:19:18.888000+00:00</td>\n    </tr>\n    <tr>\n      <th>3</th>\n      <td>gate</td>\n      <td>Speed</td>\n      <td>0x000b</td>\n      <td>0</td>\n      <td>0x00000000</td>\n      <td>2020-10-30T13:19:19.188Z</td>\n      <td>2020-10-30 13:19:19.188000+00:00</td>\n    </tr>\n    <tr>\n      <th>4</th>\n      <td>gate</td>\n      <td>Safe</td>\n      <td>0x0001</td>\n      <td>true</td>\n      <td>0x00000000</td>\n      <td>2020-10-30T13:19:19.188Z</td>\n      <td>2020-10-30 13:19:19.188000+00:00</td>\n    </tr>\n    <tr>\n      <th>...</th>\n      <td>...</td>\n      <td>...</td>\n      <td>...</td>\n      <td>...</td>\n      <td>...</td>\n      <td>...</td>\n      <td>...</td>\n    </tr>\n    <tr>\n      <th>70863</th>\n      <td>rp</td>\n      <td>528</td>\n      <td>0x0007</td>\n      <td>3190996050</td>\n      <td>0x00000000</td>\n      <td>2020-10-30T13:51:03.397Z</td>\n      <td>2020-10-30 13:49:56.397000+00:00</td>\n    </tr>\n    <tr>\n      <th>70864</th>\n      <td>rp</td>\n      <td>529</td>\n      <td>0x0007</td>\n      <td>1054427313</td>\n      <td>0x00000000</td>\n      <td>2020-10-30T13:51:03.400Z</td>\n      <td>2020-10-30 13:49:56.400000+00:00</td>\n    </tr>\n    <tr>\n      <th>70865</th>\n      <td>rp</td>\n      <td>527</td>\n      <td>0x0007</td>\n      <td>3180520831</td>\n      <td>0x00000000</td>\n      <td>2020-10-30T13:51:03.624Z</td>\n      <td>2020-10-30 13:49:56.624000+00:00</td>\n    </tr>\n    <tr>\n      <th>70866</th>\n      <td>rp</td>\n      <td>528</td>\n      <td>0x0007</td>\n      <td>3190581969</td>\n      <td>0x00000000</td>\n      <td>2020-10-30T13:51:03.627Z</td>\n      <td>2020-10-30 13:49:56.627000+00:00</td>\n    </tr>\n    <tr>\n      <th>70867</th>\n      <td>rp</td>\n      <td>529</td>\n      <td>0x0007</td>\n      <td>1054422475</td>\n      <td>0x00000000</td>\n      <td>2020-10-30T13:51:03.627Z</td>\n      <td>2020-10-30 13:49:56.627000+00:00</td>\n    </tr>\n  </tbody>\n</table>\n<p>70868 rows × 7 columns</p>\n</div>"
     },
     "metadata": {},
     "execution_count": 208
    }
   ],
   "source": [
    "#df_robpos = pd.DataFrame(pos,columns=['RobPos']) # Position of robot. 0: not important; 1: Robot in storage. Picking up the disk; 2:Robot in storage. Placing down the disk\n",
    "#data_merge = pd.concat([data_merge, df_robpos], axis=1, sort=False)\n",
    "data_merge"
   ]
  },
  {
   "cell_type": "markdown",
   "metadata": {},
   "source": [
    "The list contains the point i when the value is different. To consider the point where the value remains, consider i-1"
   ]
  },
  {
   "cell_type": "code",
   "execution_count": 209,
   "metadata": {},
   "outputs": [
    {
     "output_type": "stream",
     "name": "stdout",
     "text": [
      "Dictionary lenght is:67\n"
     ]
    }
   ],
   "source": [
    "d = {} # Dictionary that holds the sub-data-sets given by the starting point\n",
    "for i in range(len(run_list)-1): # Ignores the last value (set of values)\n",
    "    list_range = list(range(run_list[i],run_list[i+1]))\n",
    "    d['df{0}'.format(i)] = data_merge.iloc[list_range]\n",
    "    \n",
    "print('Dictionary lenght is:' + str(len(d)))"
   ]
  },
  {
   "source": [
    "## Assure conv_speed per sample "
   ],
   "cell_type": "markdown",
   "metadata": {}
  },
  {
   "source": [
    "conv_1 = 0\n",
    "conv_2 = 0\n",
    "conv_3 = 0\n",
    "conv1 = False\n",
    "conv2 = False\n",
    "conv3 = False\n",
    "for j in range(len(d)): # as many samples saved in dictionary\n",
    "    df = d['df'+ str(j)]\n",
    "    for i in range(len(df)): # as many row in the dataFrame\n",
    "        #print(df.iat[i,1])\n",
    "        if df.iat[i,1] == '27': # conv1\n",
    "            conv_1 = df.iat[i,3]\n",
    "            conv1 = True # the value shows at least once in the data set\n",
    "        if df.iat[i,1] == '28': # conv2\n",
    "            conv_2 = df.iat[i,3]\n",
    "            conv2 = True\n",
    "        if df.iat[i,1] == '29': # conv3\n",
    "            conv_3 = df.iat[i,3]\n",
    "            conv3 = True\n",
    "    if conv1 == False: # The value did not occur in this sample. Copy value from previous samples into this one\n",
    "        dic = {'PrimaryKey' : '27', 'Value': str(conv_1)}\n",
    "        df.loc[len(df)+1,'PrimaryKey'] = '27'\n",
    "        df.loc[len(df),'Value'] = str(conv_1)\n",
    "        df.loc[len(df),'DataType'] = 'NA'\n",
    "        df.loc[len(df),'StatusCode'] = 'NA'\n",
    "        df.loc[len(df),'SourceTimeStamp'] = 'NA'\n",
    "        df.loc[len(df),'ServerTimeStamp'] = 'NA'\n",
    "    if conv2 == False:\n",
    "        dic = {'PrimaryKey' : '27', 'Value': str(conv_2)}\n",
    "        df.loc[len(df)+1,'PrimaryKey'] = '28'\n",
    "        df.loc[len(df),'Value'] = str(conv_2)\n",
    "        df.loc[len(df),'DataType'] = 'NA'\n",
    "        df.loc[len(df),'StatusCode'] = 'NA'\n",
    "        df.loc[len(df),'SourceTimeStamp'] = 'NA'\n",
    "        df.loc[len(df),'ServerTimeStamp'] = 'NA'\n",
    "    if conv3 == False:\n",
    "        dic = {'PrimaryKey' : '27', 'Value': str(conv_3)}\n",
    "        df.loc[len(df)+1,'PrimaryKey'] = '29'\n",
    "        df.loc[len(df),'Value'] = str(conv_3)\n",
    "        df.loc[len(df),'DataType'] = 'NA'\n",
    "        df.loc[len(df),'StatusCode'] = 'NA'\n",
    "        df.loc[len(df),'SourceTimeStamp'] = 'NA'\n",
    "        df.loc[len(df),'ServerTimeStamp'] = 'NA'\n",
    "   \n",
    "    conv1 = False # reset conv for the next round\n",
    "    conv2 = False\n",
    "    conv3 = False\n",
    "print(conv_1)\n",
    "print(conv_2)\n",
    "print(conv_3)"
   ],
   "cell_type": "code",
   "metadata": {
    "scrolled": true
   },
   "execution_count": 210,
   "outputs": [
    {
     "output_type": "stream",
     "name": "stdout",
     "text": [
      "300\n363\n380\n"
     ]
    }
   ]
  },
  {
   "cell_type": "markdown",
   "metadata": {},
   "source": [
    "## Export individual data-sample to .csv"
   ]
  },
  {
   "cell_type": "code",
   "execution_count": 211,
   "metadata": {},
   "outputs": [
    {
     "output_type": "stream",
     "name": "stdout",
     "text": [
      "The data is saved at ../01_Data/201030/use_case6/Processed/Samples/sample_x.csv\n"
     ]
    }
   ],
   "source": [
    "for i in range(len(d)):\n",
    "    if i > 0: # always ignore the first sample due to data-acquisition misalligment\n",
    "        d['df' + str(i)].to_csv(path_sample_save + 'sample_' + str(i) + '.csv')\n",
    "print('The data is saved at ' + path_sample_save + 'sample_x.csv')"
   ]
  },
  {
   "cell_type": "markdown",
   "metadata": {},
   "source": [
    "## Testing area"
   ]
  },
  {
   "cell_type": "code",
   "execution_count": 212,
   "metadata": {},
   "outputs": [],
   "source": [
    "#d['df67']"
   ]
  },
  {
   "cell_type": "code",
   "execution_count": 213,
   "metadata": {},
   "outputs": [],
   "source": [
    "# list_range = list(range(run_list[0],run_list[1]))\n",
    "# print(list_range)"
   ]
  },
  {
   "cell_type": "code",
   "execution_count": 214,
   "metadata": {},
   "outputs": [],
   "source": [
    "# data_merge.iloc[list_range]"
   ]
  },
  {
   "cell_type": "code",
   "execution_count": 215,
   "metadata": {
    "scrolled": true
   },
   "outputs": [],
   "source": [
    "# data_rp.loc[:, 'PrimaryKey'] = '529_z'\n",
    "# data_rp"
   ]
  },
  {
   "cell_type": "code",
   "execution_count": 216,
   "metadata": {},
   "outputs": [],
   "source": [
    "# %matplotlib notebook \n",
    "# data_gate.head(400).plot(x='SourceTimeStamp', y= 'Value')\n",
    "# plt.xticks(rotation=45)"
   ]
  },
  {
   "cell_type": "code",
   "execution_count": 217,
   "metadata": {},
   "outputs": [],
   "source": [
    "# %matplotlib notebook \n",
    "# data_rp.head(200).plot( y= 'Value')\n",
    "# plt.xticks(rotation=45)"
   ]
  }
 ],
 "metadata": {
  "kernelspec": {
   "display_name": "Python 3",
   "language": "python",
   "name": "python3"
  },
  "language_info": {
   "codemirror_mode": {
    "name": "ipython",
    "version": 3
   },
   "file_extension": ".py",
   "mimetype": "text/x-python",
   "name": "python",
   "nbconvert_exporter": "python",
   "pygments_lexer": "ipython3",
   "version": "3.8.5-final"
  }
 },
 "nbformat": 4,
 "nbformat_minor": 4
}