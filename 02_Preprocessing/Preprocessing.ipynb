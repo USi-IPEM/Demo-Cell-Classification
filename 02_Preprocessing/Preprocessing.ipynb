{
 "cells": [
  {
   "cell_type": "code",
   "execution_count": 15,
   "metadata": {},
   "outputs": [
    {
     "output_type": "stream",
     "name": "stdout",
     "text": [
      "d:\\05_Projekte\\04_Research\\08_ManuBrain\\01_Lab\\Demo-Cell-Classification\\02_Preprocessing\n"
     ]
    }
   ],
   "source": [
    "## Current path display\n",
    "\n",
    "import os\n",
    "current_path = os.getcwd()\n",
    "print(current_path)"
   ]
  },
  {
   "cell_type": "code",
   "execution_count": 16,
   "metadata": {},
   "outputs": [],
   "source": [
    "import numpy as np\n",
    "import pandas as pd\n",
    "import matplotlib.pyplot as plt\n",
    "from datetime import datetime\n",
    "from datetime import timedelta  "
   ]
  },
  {
   "cell_type": "markdown",
   "metadata": {},
   "source": [
    "## Functions "
   ]
  },
  {
   "cell_type": "code",
   "execution_count": 17,
   "metadata": {},
   "outputs": [],
   "source": [
    "# return tag from data\n",
    "def fc_tag (data,index):\n",
    "    return data.at[index,'d'].split('=')[2] # [2] equivalent a tag column data en txt file\n",
    "\n",
    "# update tag in main table\n",
    "def fc_tag_update(data, tag):\n",
    "    for i in range(len(tag)):\n",
    "        i = i + 1 \n",
    "        data = data.replace({'PrimaryKey':i}, fc_tag(tag,i), regex = False)\n",
    "    return data\n",
    "\n",
    "#Sync TimeStamp\n",
    "\n",
    "def fc_sync_timestamp2(data,ServerTimeStamp,delta_time): #Requires df, column-name and delta-time\n",
    "    for date in data[ServerTimeStamp]:\n",
    "        source = datetime.fromisoformat(str(date).replace('Z','+00:00'))\n",
    "        date_sync = source - delta_time\n",
    "        data[ServerTimeStamp] = date_sync\n",
    "    return data\n",
    "\n",
    "def fc_sync_timestamp(data,ServerTimeStamp,delta_time): #Requires df, column-name and delta-time\n",
    "    for i in range(len(data)): \n",
    "        source = datetime.fromisoformat(str(data.at[i,ServerTimeStamp]).replace('Z','+00:00'))\n",
    "        date_sync = source - delta_time\n",
    "        data.at[i,ServerTimeStamp] = date_sync\n",
    "    return data"
   ]
  },
  {
   "cell_type": "markdown",
   "metadata": {},
   "source": [
    "## Paths from data set"
   ]
  },
  {
   "cell_type": "code",
   "execution_count": 18,
   "metadata": {},
   "outputs": [],
   "source": [
    "date = 201026\n",
    "uc_num = 1\n",
    "\n",
    "path = str(date) + '/use_case' + str(uc_num)\n",
    "\n",
    "# Conveyor_belt\n",
    "path_data_conv = '../01_Data/' + path + '/Conveyor Speed/DataLogger.csv'\n",
    "path_tag_conv = '../01_Data/' + path + '/Conveyor Speed/tagconfig.txt'\n",
    "\n",
    "# Gate\n",
    "path_data_gate = '../01_Data/' + path + '/Gate/DataLogger.csv'\n",
    "path_tag_gate = '../01_Data/' + path + '/Gate/tagconfig.txt'\n",
    "\n",
    "# Quality_Control\n",
    "path_data_qc = '../01_Data/' + path + '/Quality Control/DataLogger.csv'\n",
    "path_tag_qc = '../01_Data/' + path + '/Quality Control/tagconfig.txt'\n",
    "\n",
    "# Robot_Position\n",
    "path_data_rp = '../01_Data/' + path + '/Robot Position/DataLogger.csv'\n",
    "path_tag_rp = '../01_Data/' + path + '/Robot Position/tagconfig.txt'\n",
    "\n",
    "# Store\n",
    "path_data_st = '../01_Data/' + path + '/Store/DataLogger.csv'\n",
    "path_tag_st = '../01_Data/' + path + '/Store/tagconfig.txt'\n",
    "\n",
    "# Flag\n",
    "path_data_flag = '../01_Data/' + path + '/Flag/DataLogger.csv'\n",
    "path_tag_flag = '../01_Data/' + path + '/Flag/tagconfig.txt'\n",
    "\n",
    "# Processed data\n",
    "\n",
    "path_data_save = '../01_Data/' + path + '/Processed/'\n",
    "path_sample_save = '../01_Data/' + path + '/Processed/Samples/'\n"
   ]
  },
  {
   "cell_type": "markdown",
   "metadata": {},
   "source": [
    "## Import data from csv"
   ]
  },
  {
   "cell_type": "code",
   "execution_count": 19,
   "metadata": {},
   "outputs": [],
   "source": [
    "# Conveyor_belt\n",
    "data_conv =  pd.read_csv(path_data_conv, delimiter = ',')\n",
    "#df_conv = pd.DataFrame(pd.read_csv(path_data_conv, delimiter = ','))\n",
    "\n",
    "# Gate\n",
    "data_gate =  pd.read_csv(path_data_gate, delimiter = ',')\n",
    "#df_gate = pd.DataFrame(pd.read_csv(path_data_gate, delimiter = ','))\n",
    "\n",
    "# Quality_Control\n",
    "data_qc =  pd.read_csv(path_data_qc, delimiter = ',')\n",
    "#df_qc = pd.DataFrame(pd.read_csv(path_data_qc, delimiter = ','))\n",
    "\n",
    "# Robot_Position\n",
    "data_rp =  pd.read_csv(path_data_rp, delimiter = ',')\n",
    "#df_rp = pd.DataFrame(pd.read_csv(path_data_rp, delimiter = ','))\n",
    "\n",
    "# Store\n",
    "data_st =  pd.read_csv(path_data_st, delimiter = ',')\n",
    "#df_st = pd.DataFrame(pd.read_csv(path_data_st, delimiter = ','))\n",
    "\n",
    "# Flag\n",
    "data_flag =  pd.read_csv(path_data_flag, delimiter = ',')\n",
    "#df_flag = pd.DataFrame(pd.read_csv(path_data_st, delimiter = ','))"
   ]
  },
  {
   "cell_type": "markdown",
   "metadata": {},
   "source": [
    "## Import data tags"
   ]
  },
  {
   "cell_type": "code",
   "execution_count": 20,
   "metadata": {},
   "outputs": [],
   "source": [
    "# Conveyor_belt\n",
    "tag_conv =  pd.read_fwf(path_tag_conv, sep=\" \", header=None, names=['a','b','c','d'])\n",
    "tag_conv = tag_conv.drop([0]) # delete first row (trash)\n",
    "\n",
    "# Gate\n",
    "tag_gate =  pd.read_fwf(path_tag_gate, sep=\" \", header=None, names=['a','b','c','d'])\n",
    "tag_gate = tag_gate.drop([0]) # delete first row (trash)\n",
    "\n",
    "# Quality_Control\n",
    "tag_qc =  pd.read_fwf(path_tag_qc, sep=\" \", header=None, names=['a','b','c','d'])\n",
    "tag_qc = tag_qc.drop([0]) # delete first row (trash)\n",
    "\n",
    "# Robot_Position\n",
    "tag_rp =  pd.read_fwf(path_tag_rp, sep=\" \", header=None, names=['a','b','c','d'])\n",
    "tag_rp = tag_rp.drop([0]) # delete first row (trash)\n",
    "\n",
    "# Robot_Position\n",
    "tag_st =  pd.read_fwf(path_tag_st, sep=\" \", header=None, names=['a','b','c','d'])\n",
    "tag_st = tag_st.drop([0]) # delete first row (trash)\n",
    "\n",
    "# Flag\n",
    "tag_flag =  pd.read_fwf(path_tag_flag, sep=\" \", header=None, names=['a','b','c','d'])\n",
    "tag_flag = tag_flag.drop([0]) # delete first row (trash)"
   ]
  },
  {
   "cell_type": "markdown",
   "metadata": {},
   "source": [
    "## Update tags"
   ]
  },
  {
   "cell_type": "code",
   "execution_count": 21,
   "metadata": {},
   "outputs": [],
   "source": [
    "# Conveyor_belt\n",
    "data_conv = fc_tag_update(data_conv, tag_conv)\n",
    "\n",
    "# Gate\n",
    "data_gate = fc_tag_update(data_gate, tag_gate)\n",
    "\n",
    "# Quality_Control\n",
    "data_qc = fc_tag_update(data_qc, tag_qc)\n",
    "\n",
    "# Robot_Position\n",
    "data_rp = fc_tag_update(data_rp, tag_rp)\n",
    "\n",
    "# Store\n",
    "data_st = fc_tag_update(data_st, tag_st)\n",
    "\n",
    "# Flag\n",
    "data_flag = fc_tag_update(data_st, tag_st)"
   ]
  },
  {
   "cell_type": "markdown",
   "metadata": {},
   "source": [
    "## Syncronize ServerTimeStamp"
   ]
  },
  {
   "cell_type": "code",
   "execution_count": 22,
   "metadata": {},
   "outputs": [],
   "source": [
    "delta_time_PLC = timedelta(seconds=67)\n",
    "delta_time_SIM = timedelta(seconds=0)"
   ]
  },
  {
   "cell_type": "code",
   "execution_count": 23,
   "metadata": {},
   "outputs": [
    {
     "output_type": "execute_result",
     "data": {
      "text/plain": [
       "  PrimaryKey DataType  Value  StatusCode           SourceTimeStamp  \\\n",
       "0         27   0x0004    414  0x002f0000  2020-10-26T11:44:21.542Z   \n",
       "1         27   0x0004    414  0x00000000  2020-10-26T11:44:21.791Z   \n",
       "2         28   0x0004    551  0x002f0000  2020-10-26T11:44:21.544Z   \n",
       "3         28   0x0004    551  0x00000000  2020-10-26T11:44:21.793Z   \n",
       "4         29   0x0004    584  0x002f0000  2020-10-26T11:44:21.545Z   \n",
       "5         29   0x0004    584  0x00000000  2020-10-26T11:44:21.793Z   \n",
       "\n",
       "                    ServerTimeStamp  \n",
       "0  2020-10-26 11:43:14.542000+00:00  \n",
       "1  2020-10-26 11:43:14.791000+00:00  \n",
       "2  2020-10-26 11:43:14.544000+00:00  \n",
       "3  2020-10-26 11:43:14.793000+00:00  \n",
       "4  2020-10-26 11:43:14.545000+00:00  \n",
       "5  2020-10-26 11:43:14.793000+00:00  "
      ],
      "text/html": "<div>\n<style scoped>\n    .dataframe tbody tr th:only-of-type {\n        vertical-align: middle;\n    }\n\n    .dataframe tbody tr th {\n        vertical-align: top;\n    }\n\n    .dataframe thead th {\n        text-align: right;\n    }\n</style>\n<table border=\"1\" class=\"dataframe\">\n  <thead>\n    <tr style=\"text-align: right;\">\n      <th></th>\n      <th>PrimaryKey</th>\n      <th>DataType</th>\n      <th>Value</th>\n      <th>StatusCode</th>\n      <th>SourceTimeStamp</th>\n      <th>ServerTimeStamp</th>\n    </tr>\n  </thead>\n  <tbody>\n    <tr>\n      <th>0</th>\n      <td>27</td>\n      <td>0x0004</td>\n      <td>414</td>\n      <td>0x002f0000</td>\n      <td>2020-10-26T11:44:21.542Z</td>\n      <td>2020-10-26 11:43:14.542000+00:00</td>\n    </tr>\n    <tr>\n      <th>1</th>\n      <td>27</td>\n      <td>0x0004</td>\n      <td>414</td>\n      <td>0x00000000</td>\n      <td>2020-10-26T11:44:21.791Z</td>\n      <td>2020-10-26 11:43:14.791000+00:00</td>\n    </tr>\n    <tr>\n      <th>2</th>\n      <td>28</td>\n      <td>0x0004</td>\n      <td>551</td>\n      <td>0x002f0000</td>\n      <td>2020-10-26T11:44:21.544Z</td>\n      <td>2020-10-26 11:43:14.544000+00:00</td>\n    </tr>\n    <tr>\n      <th>3</th>\n      <td>28</td>\n      <td>0x0004</td>\n      <td>551</td>\n      <td>0x00000000</td>\n      <td>2020-10-26T11:44:21.793Z</td>\n      <td>2020-10-26 11:43:14.793000+00:00</td>\n    </tr>\n    <tr>\n      <th>4</th>\n      <td>29</td>\n      <td>0x0004</td>\n      <td>584</td>\n      <td>0x002f0000</td>\n      <td>2020-10-26T11:44:21.545Z</td>\n      <td>2020-10-26 11:43:14.545000+00:00</td>\n    </tr>\n    <tr>\n      <th>5</th>\n      <td>29</td>\n      <td>0x0004</td>\n      <td>584</td>\n      <td>0x00000000</td>\n      <td>2020-10-26T11:44:21.793Z</td>\n      <td>2020-10-26 11:43:14.793000+00:00</td>\n    </tr>\n  </tbody>\n</table>\n</div>"
     },
     "metadata": {},
     "execution_count": 23
    }
   ],
   "source": [
    "data_conv = fc_sync_timestamp(data_conv,'ServerTimeStamp',delta_time_PLC)\n",
    "data_conv"
   ]
  },
  {
   "cell_type": "code",
   "execution_count": 24,
   "metadata": {},
   "outputs": [
    {
     "output_type": "execute_result",
     "data": {
      "text/plain": [
       "      PrimaryKey DataType Value  StatusCode           SourceTimeStamp  \\\n",
       "0          Speed   0x000b     0  0x00000000  2020-10-26T11:29:48.816Z   \n",
       "1          Speed   0x000b     0  0x00000000  2020-10-26T11:29:49.116Z   \n",
       "2       Position   0x000b   0.3  0x00000000  2020-10-26T11:29:48.816Z   \n",
       "3       Position   0x000b   0.3  0x00000000  2020-10-26T11:29:49.116Z   \n",
       "4           Safe   0x0001  true  0x00000000  2020-10-26T11:29:48.816Z   \n",
       "...          ...      ...   ...         ...                       ...   \n",
       "12406      Speed   0x000b     0  0x00000000  2020-10-26T11:50:29.616Z   \n",
       "12407   Position   0x000b   0.3  0x00000000  2020-10-26T11:50:29.316Z   \n",
       "12408   Position   0x000b   0.3  0x00000000  2020-10-26T11:50:29.616Z   \n",
       "12409       Safe   0x0001  true  0x00000000  2020-10-26T11:50:29.316Z   \n",
       "12410       Safe   0x0001  true  0x00000000  2020-10-26T11:50:29.616Z   \n",
       "\n",
       "                        ServerTimeStamp  \n",
       "0      2020-10-26 11:29:48.816000+00:00  \n",
       "1      2020-10-26 11:29:49.116000+00:00  \n",
       "2      2020-10-26 11:29:48.816000+00:00  \n",
       "3      2020-10-26 11:29:49.116000+00:00  \n",
       "4      2020-10-26 11:29:48.816000+00:00  \n",
       "...                                 ...  \n",
       "12406  2020-10-26 11:50:29.616000+00:00  \n",
       "12407  2020-10-26 11:50:29.316000+00:00  \n",
       "12408  2020-10-26 11:50:29.616000+00:00  \n",
       "12409  2020-10-26 11:50:29.316000+00:00  \n",
       "12410  2020-10-26 11:50:29.616000+00:00  \n",
       "\n",
       "[12411 rows x 6 columns]"
      ],
      "text/html": "<div>\n<style scoped>\n    .dataframe tbody tr th:only-of-type {\n        vertical-align: middle;\n    }\n\n    .dataframe tbody tr th {\n        vertical-align: top;\n    }\n\n    .dataframe thead th {\n        text-align: right;\n    }\n</style>\n<table border=\"1\" class=\"dataframe\">\n  <thead>\n    <tr style=\"text-align: right;\">\n      <th></th>\n      <th>PrimaryKey</th>\n      <th>DataType</th>\n      <th>Value</th>\n      <th>StatusCode</th>\n      <th>SourceTimeStamp</th>\n      <th>ServerTimeStamp</th>\n    </tr>\n  </thead>\n  <tbody>\n    <tr>\n      <th>0</th>\n      <td>Speed</td>\n      <td>0x000b</td>\n      <td>0</td>\n      <td>0x00000000</td>\n      <td>2020-10-26T11:29:48.816Z</td>\n      <td>2020-10-26 11:29:48.816000+00:00</td>\n    </tr>\n    <tr>\n      <th>1</th>\n      <td>Speed</td>\n      <td>0x000b</td>\n      <td>0</td>\n      <td>0x00000000</td>\n      <td>2020-10-26T11:29:49.116Z</td>\n      <td>2020-10-26 11:29:49.116000+00:00</td>\n    </tr>\n    <tr>\n      <th>2</th>\n      <td>Position</td>\n      <td>0x000b</td>\n      <td>0.3</td>\n      <td>0x00000000</td>\n      <td>2020-10-26T11:29:48.816Z</td>\n      <td>2020-10-26 11:29:48.816000+00:00</td>\n    </tr>\n    <tr>\n      <th>3</th>\n      <td>Position</td>\n      <td>0x000b</td>\n      <td>0.3</td>\n      <td>0x00000000</td>\n      <td>2020-10-26T11:29:49.116Z</td>\n      <td>2020-10-26 11:29:49.116000+00:00</td>\n    </tr>\n    <tr>\n      <th>4</th>\n      <td>Safe</td>\n      <td>0x0001</td>\n      <td>true</td>\n      <td>0x00000000</td>\n      <td>2020-10-26T11:29:48.816Z</td>\n      <td>2020-10-26 11:29:48.816000+00:00</td>\n    </tr>\n    <tr>\n      <th>...</th>\n      <td>...</td>\n      <td>...</td>\n      <td>...</td>\n      <td>...</td>\n      <td>...</td>\n      <td>...</td>\n    </tr>\n    <tr>\n      <th>12406</th>\n      <td>Speed</td>\n      <td>0x000b</td>\n      <td>0</td>\n      <td>0x00000000</td>\n      <td>2020-10-26T11:50:29.616Z</td>\n      <td>2020-10-26 11:50:29.616000+00:00</td>\n    </tr>\n    <tr>\n      <th>12407</th>\n      <td>Position</td>\n      <td>0x000b</td>\n      <td>0.3</td>\n      <td>0x00000000</td>\n      <td>2020-10-26T11:50:29.316Z</td>\n      <td>2020-10-26 11:50:29.316000+00:00</td>\n    </tr>\n    <tr>\n      <th>12408</th>\n      <td>Position</td>\n      <td>0x000b</td>\n      <td>0.3</td>\n      <td>0x00000000</td>\n      <td>2020-10-26T11:50:29.616Z</td>\n      <td>2020-10-26 11:50:29.616000+00:00</td>\n    </tr>\n    <tr>\n      <th>12409</th>\n      <td>Safe</td>\n      <td>0x0001</td>\n      <td>true</td>\n      <td>0x00000000</td>\n      <td>2020-10-26T11:50:29.316Z</td>\n      <td>2020-10-26 11:50:29.316000+00:00</td>\n    </tr>\n    <tr>\n      <th>12410</th>\n      <td>Safe</td>\n      <td>0x0001</td>\n      <td>true</td>\n      <td>0x00000000</td>\n      <td>2020-10-26T11:50:29.616Z</td>\n      <td>2020-10-26 11:50:29.616000+00:00</td>\n    </tr>\n  </tbody>\n</table>\n<p>12411 rows × 6 columns</p>\n</div>"
     },
     "metadata": {},
     "execution_count": 24
    }
   ],
   "source": [
    "data_gate = fc_sync_timestamp(data_gate,'ServerTimeStamp',delta_time_SIM)\n",
    "data_gate"
   ]
  },
  {
   "cell_type": "code",
   "execution_count": 25,
   "metadata": {},
   "outputs": [
    {
     "output_type": "execute_result",
     "data": {
      "text/plain": [
       "        PrimaryKey DataType     Value  StatusCode           SourceTimeStamp  \\\n",
       "0      DistanceAbs   0x000b  1.256839  0x00000000  2020-10-26T11:29:51.220Z   \n",
       "1      DistanceAbs   0x000b  1.256839  0x00000000  2020-10-26T11:29:51.520Z   \n",
       "2        DistanceX   0x000b  0.650723  0x00000000  2020-10-26T11:29:51.220Z   \n",
       "3        DistanceX   0x000b  0.650723  0x00000000  2020-10-26T11:29:51.520Z   \n",
       "4        DistanceY   0x000b  1.075269  0x00000000  2020-10-26T11:29:51.220Z   \n",
       "...            ...      ...       ...         ...                       ...   \n",
       "16543    DistanceX   0x000b  1.084538  0x00000000  2020-10-26T11:50:32.020Z   \n",
       "16544    DistanceY   0x000b  0.645161  0x00000000  2020-10-26T11:50:31.720Z   \n",
       "16545    DistanceY   0x000b  0.645161  0x00000000  2020-10-26T11:50:32.020Z   \n",
       "16546   ResultCode   0x0006  0.000000  0x00000000  2020-10-26T11:50:31.720Z   \n",
       "16547   ResultCode   0x0006  0.000000  0x00000000  2020-10-26T11:50:32.020Z   \n",
       "\n",
       "                        ServerTimeStamp  \n",
       "0      2020-10-26 11:29:51.220000+00:00  \n",
       "1      2020-10-26 11:29:51.520000+00:00  \n",
       "2      2020-10-26 11:29:51.220000+00:00  \n",
       "3      2020-10-26 11:29:51.520000+00:00  \n",
       "4      2020-10-26 11:29:51.220000+00:00  \n",
       "...                                 ...  \n",
       "16543  2020-10-26 11:50:32.020000+00:00  \n",
       "16544  2020-10-26 11:50:31.720000+00:00  \n",
       "16545  2020-10-26 11:50:32.020000+00:00  \n",
       "16546  2020-10-26 11:50:31.720000+00:00  \n",
       "16547  2020-10-26 11:50:32.020000+00:00  \n",
       "\n",
       "[16548 rows x 6 columns]"
      ],
      "text/html": "<div>\n<style scoped>\n    .dataframe tbody tr th:only-of-type {\n        vertical-align: middle;\n    }\n\n    .dataframe tbody tr th {\n        vertical-align: top;\n    }\n\n    .dataframe thead th {\n        text-align: right;\n    }\n</style>\n<table border=\"1\" class=\"dataframe\">\n  <thead>\n    <tr style=\"text-align: right;\">\n      <th></th>\n      <th>PrimaryKey</th>\n      <th>DataType</th>\n      <th>Value</th>\n      <th>StatusCode</th>\n      <th>SourceTimeStamp</th>\n      <th>ServerTimeStamp</th>\n    </tr>\n  </thead>\n  <tbody>\n    <tr>\n      <th>0</th>\n      <td>DistanceAbs</td>\n      <td>0x000b</td>\n      <td>1.256839</td>\n      <td>0x00000000</td>\n      <td>2020-10-26T11:29:51.220Z</td>\n      <td>2020-10-26 11:29:51.220000+00:00</td>\n    </tr>\n    <tr>\n      <th>1</th>\n      <td>DistanceAbs</td>\n      <td>0x000b</td>\n      <td>1.256839</td>\n      <td>0x00000000</td>\n      <td>2020-10-26T11:29:51.520Z</td>\n      <td>2020-10-26 11:29:51.520000+00:00</td>\n    </tr>\n    <tr>\n      <th>2</th>\n      <td>DistanceX</td>\n      <td>0x000b</td>\n      <td>0.650723</td>\n      <td>0x00000000</td>\n      <td>2020-10-26T11:29:51.220Z</td>\n      <td>2020-10-26 11:29:51.220000+00:00</td>\n    </tr>\n    <tr>\n      <th>3</th>\n      <td>DistanceX</td>\n      <td>0x000b</td>\n      <td>0.650723</td>\n      <td>0x00000000</td>\n      <td>2020-10-26T11:29:51.520Z</td>\n      <td>2020-10-26 11:29:51.520000+00:00</td>\n    </tr>\n    <tr>\n      <th>4</th>\n      <td>DistanceY</td>\n      <td>0x000b</td>\n      <td>1.075269</td>\n      <td>0x00000000</td>\n      <td>2020-10-26T11:29:51.220Z</td>\n      <td>2020-10-26 11:29:51.220000+00:00</td>\n    </tr>\n    <tr>\n      <th>...</th>\n      <td>...</td>\n      <td>...</td>\n      <td>...</td>\n      <td>...</td>\n      <td>...</td>\n      <td>...</td>\n    </tr>\n    <tr>\n      <th>16543</th>\n      <td>DistanceX</td>\n      <td>0x000b</td>\n      <td>1.084538</td>\n      <td>0x00000000</td>\n      <td>2020-10-26T11:50:32.020Z</td>\n      <td>2020-10-26 11:50:32.020000+00:00</td>\n    </tr>\n    <tr>\n      <th>16544</th>\n      <td>DistanceY</td>\n      <td>0x000b</td>\n      <td>0.645161</td>\n      <td>0x00000000</td>\n      <td>2020-10-26T11:50:31.720Z</td>\n      <td>2020-10-26 11:50:31.720000+00:00</td>\n    </tr>\n    <tr>\n      <th>16545</th>\n      <td>DistanceY</td>\n      <td>0x000b</td>\n      <td>0.645161</td>\n      <td>0x00000000</td>\n      <td>2020-10-26T11:50:32.020Z</td>\n      <td>2020-10-26 11:50:32.020000+00:00</td>\n    </tr>\n    <tr>\n      <th>16546</th>\n      <td>ResultCode</td>\n      <td>0x0006</td>\n      <td>0.000000</td>\n      <td>0x00000000</td>\n      <td>2020-10-26T11:50:31.720Z</td>\n      <td>2020-10-26 11:50:31.720000+00:00</td>\n    </tr>\n    <tr>\n      <th>16547</th>\n      <td>ResultCode</td>\n      <td>0x0006</td>\n      <td>0.000000</td>\n      <td>0x00000000</td>\n      <td>2020-10-26T11:50:32.020Z</td>\n      <td>2020-10-26 11:50:32.020000+00:00</td>\n    </tr>\n  </tbody>\n</table>\n<p>16548 rows × 6 columns</p>\n</div>"
     },
     "metadata": {},
     "execution_count": 25
    }
   ],
   "source": [
    "data_qc = fc_sync_timestamp(data_qc,'ServerTimeStamp',delta_time_SIM)\n",
    "data_qc"
   ]
  },
  {
   "cell_type": "code",
   "execution_count": 26,
   "metadata": {},
   "outputs": [
    {
     "output_type": "execute_result",
     "data": {
      "text/plain": [
       "      PrimaryKey DataType       Value  StatusCode           SourceTimeStamp  \\\n",
       "0            527   0x0007  3198142682  0x00000000  2020-10-26T11:31:00.072Z   \n",
       "1            527   0x0007  3198143274  0x00000000  2020-10-26T11:31:00.294Z   \n",
       "2            528   0x0007  3187231536  0x00000000  2020-10-26T11:31:00.074Z   \n",
       "3            528   0x0007  3187293072  0x00000000  2020-10-26T11:31:00.294Z   \n",
       "4            529   0x0007  1053888573  0x00000000  2020-10-26T11:31:00.077Z   \n",
       "...          ...      ...         ...         ...                       ...   \n",
       "14567        527   0x0007  1024646293  0x00000000  2020-10-26T11:51:40.305Z   \n",
       "14568        528   0x0007  3190346370  0x00000000  2020-10-26T11:51:40.044Z   \n",
       "14569        528   0x0007  3190345988  0x00000000  2020-10-26T11:51:40.295Z   \n",
       "14570        529   0x0007  1054209776  0x00000000  2020-10-26T11:51:40.042Z   \n",
       "14571        529   0x0007  1054209565  0x00000000  2020-10-26T11:51:40.292Z   \n",
       "\n",
       "                        ServerTimeStamp  \n",
       "0      2020-10-26 11:29:53.072000+00:00  \n",
       "1      2020-10-26 11:29:53.294000+00:00  \n",
       "2      2020-10-26 11:29:53.074000+00:00  \n",
       "3      2020-10-26 11:29:53.294000+00:00  \n",
       "4      2020-10-26 11:29:53.077000+00:00  \n",
       "...                                 ...  \n",
       "14567  2020-10-26 11:50:33.305000+00:00  \n",
       "14568  2020-10-26 11:50:33.044000+00:00  \n",
       "14569  2020-10-26 11:50:33.295000+00:00  \n",
       "14570  2020-10-26 11:50:33.042000+00:00  \n",
       "14571  2020-10-26 11:50:33.292000+00:00  \n",
       "\n",
       "[14572 rows x 6 columns]"
      ],
      "text/html": "<div>\n<style scoped>\n    .dataframe tbody tr th:only-of-type {\n        vertical-align: middle;\n    }\n\n    .dataframe tbody tr th {\n        vertical-align: top;\n    }\n\n    .dataframe thead th {\n        text-align: right;\n    }\n</style>\n<table border=\"1\" class=\"dataframe\">\n  <thead>\n    <tr style=\"text-align: right;\">\n      <th></th>\n      <th>PrimaryKey</th>\n      <th>DataType</th>\n      <th>Value</th>\n      <th>StatusCode</th>\n      <th>SourceTimeStamp</th>\n      <th>ServerTimeStamp</th>\n    </tr>\n  </thead>\n  <tbody>\n    <tr>\n      <th>0</th>\n      <td>527</td>\n      <td>0x0007</td>\n      <td>3198142682</td>\n      <td>0x00000000</td>\n      <td>2020-10-26T11:31:00.072Z</td>\n      <td>2020-10-26 11:29:53.072000+00:00</td>\n    </tr>\n    <tr>\n      <th>1</th>\n      <td>527</td>\n      <td>0x0007</td>\n      <td>3198143274</td>\n      <td>0x00000000</td>\n      <td>2020-10-26T11:31:00.294Z</td>\n      <td>2020-10-26 11:29:53.294000+00:00</td>\n    </tr>\n    <tr>\n      <th>2</th>\n      <td>528</td>\n      <td>0x0007</td>\n      <td>3187231536</td>\n      <td>0x00000000</td>\n      <td>2020-10-26T11:31:00.074Z</td>\n      <td>2020-10-26 11:29:53.074000+00:00</td>\n    </tr>\n    <tr>\n      <th>3</th>\n      <td>528</td>\n      <td>0x0007</td>\n      <td>3187293072</td>\n      <td>0x00000000</td>\n      <td>2020-10-26T11:31:00.294Z</td>\n      <td>2020-10-26 11:29:53.294000+00:00</td>\n    </tr>\n    <tr>\n      <th>4</th>\n      <td>529</td>\n      <td>0x0007</td>\n      <td>1053888573</td>\n      <td>0x00000000</td>\n      <td>2020-10-26T11:31:00.077Z</td>\n      <td>2020-10-26 11:29:53.077000+00:00</td>\n    </tr>\n    <tr>\n      <th>...</th>\n      <td>...</td>\n      <td>...</td>\n      <td>...</td>\n      <td>...</td>\n      <td>...</td>\n      <td>...</td>\n    </tr>\n    <tr>\n      <th>14567</th>\n      <td>527</td>\n      <td>0x0007</td>\n      <td>1024646293</td>\n      <td>0x00000000</td>\n      <td>2020-10-26T11:51:40.305Z</td>\n      <td>2020-10-26 11:50:33.305000+00:00</td>\n    </tr>\n    <tr>\n      <th>14568</th>\n      <td>528</td>\n      <td>0x0007</td>\n      <td>3190346370</td>\n      <td>0x00000000</td>\n      <td>2020-10-26T11:51:40.044Z</td>\n      <td>2020-10-26 11:50:33.044000+00:00</td>\n    </tr>\n    <tr>\n      <th>14569</th>\n      <td>528</td>\n      <td>0x0007</td>\n      <td>3190345988</td>\n      <td>0x00000000</td>\n      <td>2020-10-26T11:51:40.295Z</td>\n      <td>2020-10-26 11:50:33.295000+00:00</td>\n    </tr>\n    <tr>\n      <th>14570</th>\n      <td>529</td>\n      <td>0x0007</td>\n      <td>1054209776</td>\n      <td>0x00000000</td>\n      <td>2020-10-26T11:51:40.042Z</td>\n      <td>2020-10-26 11:50:33.042000+00:00</td>\n    </tr>\n    <tr>\n      <th>14571</th>\n      <td>529</td>\n      <td>0x0007</td>\n      <td>1054209565</td>\n      <td>0x00000000</td>\n      <td>2020-10-26T11:51:40.292Z</td>\n      <td>2020-10-26 11:50:33.292000+00:00</td>\n    </tr>\n  </tbody>\n</table>\n<p>14572 rows × 6 columns</p>\n</div>"
     },
     "metadata": {},
     "execution_count": 26
    }
   ],
   "source": [
    "data_rp = fc_sync_timestamp(data_rp,'ServerTimeStamp',delta_time_PLC)\n",
    "data_rp"
   ]
  },
  {
   "cell_type": "code",
   "execution_count": 27,
   "metadata": {},
   "outputs": [
    {
     "output_type": "execute_result",
     "data": {
      "text/plain": [
       "     PrimaryKey DataType  Value  StatusCode           SourceTimeStamp  \\\n",
       "0      DiscSize   0x0003      0  0x00000000  2020-10-26T11:29:55.519Z   \n",
       "1      DiscSize   0x0003      0  0x00000000  2020-10-26T11:29:55.819Z   \n",
       "2      DiscSize   0x0003      0  0x00000000  2020-10-26T11:29:56.119Z   \n",
       "3      DiscSize   0x0003      0  0x00000000  2020-10-26T11:29:56.419Z   \n",
       "4      DiscSize   0x0003      0  0x00000000  2020-10-26T11:29:56.719Z   \n",
       "...         ...      ...    ...         ...                       ...   \n",
       "4130   DiscSize   0x0003      2  0x00000000  2020-10-26T11:50:34.519Z   \n",
       "4131   DiscSize   0x0003      2  0x00000000  2020-10-26T11:50:34.819Z   \n",
       "4132   DiscSize   0x0003      2  0x00000000  2020-10-26T11:50:35.119Z   \n",
       "4133   DiscSize   0x0003      2  0x00000000  2020-10-26T11:50:35.419Z   \n",
       "4134   DiscSize   0x0003      2  0x00000000  2020-10-26T11:50:35.719Z   \n",
       "\n",
       "                       ServerTimeStamp  \n",
       "0     2020-10-26 11:29:55.519000+00:00  \n",
       "1     2020-10-26 11:29:55.819000+00:00  \n",
       "2     2020-10-26 11:29:56.119000+00:00  \n",
       "3     2020-10-26 11:29:56.419000+00:00  \n",
       "4     2020-10-26 11:29:56.719000+00:00  \n",
       "...                                ...  \n",
       "4130  2020-10-26 11:50:34.519000+00:00  \n",
       "4131  2020-10-26 11:50:34.819000+00:00  \n",
       "4132  2020-10-26 11:50:35.119000+00:00  \n",
       "4133  2020-10-26 11:50:35.419000+00:00  \n",
       "4134  2020-10-26 11:50:35.719000+00:00  \n",
       "\n",
       "[4135 rows x 6 columns]"
      ],
      "text/html": "<div>\n<style scoped>\n    .dataframe tbody tr th:only-of-type {\n        vertical-align: middle;\n    }\n\n    .dataframe tbody tr th {\n        vertical-align: top;\n    }\n\n    .dataframe thead th {\n        text-align: right;\n    }\n</style>\n<table border=\"1\" class=\"dataframe\">\n  <thead>\n    <tr style=\"text-align: right;\">\n      <th></th>\n      <th>PrimaryKey</th>\n      <th>DataType</th>\n      <th>Value</th>\n      <th>StatusCode</th>\n      <th>SourceTimeStamp</th>\n      <th>ServerTimeStamp</th>\n    </tr>\n  </thead>\n  <tbody>\n    <tr>\n      <th>0</th>\n      <td>DiscSize</td>\n      <td>0x0003</td>\n      <td>0</td>\n      <td>0x00000000</td>\n      <td>2020-10-26T11:29:55.519Z</td>\n      <td>2020-10-26 11:29:55.519000+00:00</td>\n    </tr>\n    <tr>\n      <th>1</th>\n      <td>DiscSize</td>\n      <td>0x0003</td>\n      <td>0</td>\n      <td>0x00000000</td>\n      <td>2020-10-26T11:29:55.819Z</td>\n      <td>2020-10-26 11:29:55.819000+00:00</td>\n    </tr>\n    <tr>\n      <th>2</th>\n      <td>DiscSize</td>\n      <td>0x0003</td>\n      <td>0</td>\n      <td>0x00000000</td>\n      <td>2020-10-26T11:29:56.119Z</td>\n      <td>2020-10-26 11:29:56.119000+00:00</td>\n    </tr>\n    <tr>\n      <th>3</th>\n      <td>DiscSize</td>\n      <td>0x0003</td>\n      <td>0</td>\n      <td>0x00000000</td>\n      <td>2020-10-26T11:29:56.419Z</td>\n      <td>2020-10-26 11:29:56.419000+00:00</td>\n    </tr>\n    <tr>\n      <th>4</th>\n      <td>DiscSize</td>\n      <td>0x0003</td>\n      <td>0</td>\n      <td>0x00000000</td>\n      <td>2020-10-26T11:29:56.719Z</td>\n      <td>2020-10-26 11:29:56.719000+00:00</td>\n    </tr>\n    <tr>\n      <th>...</th>\n      <td>...</td>\n      <td>...</td>\n      <td>...</td>\n      <td>...</td>\n      <td>...</td>\n      <td>...</td>\n    </tr>\n    <tr>\n      <th>4130</th>\n      <td>DiscSize</td>\n      <td>0x0003</td>\n      <td>2</td>\n      <td>0x00000000</td>\n      <td>2020-10-26T11:50:34.519Z</td>\n      <td>2020-10-26 11:50:34.519000+00:00</td>\n    </tr>\n    <tr>\n      <th>4131</th>\n      <td>DiscSize</td>\n      <td>0x0003</td>\n      <td>2</td>\n      <td>0x00000000</td>\n      <td>2020-10-26T11:50:34.819Z</td>\n      <td>2020-10-26 11:50:34.819000+00:00</td>\n    </tr>\n    <tr>\n      <th>4132</th>\n      <td>DiscSize</td>\n      <td>0x0003</td>\n      <td>2</td>\n      <td>0x00000000</td>\n      <td>2020-10-26T11:50:35.119Z</td>\n      <td>2020-10-26 11:50:35.119000+00:00</td>\n    </tr>\n    <tr>\n      <th>4133</th>\n      <td>DiscSize</td>\n      <td>0x0003</td>\n      <td>2</td>\n      <td>0x00000000</td>\n      <td>2020-10-26T11:50:35.419Z</td>\n      <td>2020-10-26 11:50:35.419000+00:00</td>\n    </tr>\n    <tr>\n      <th>4134</th>\n      <td>DiscSize</td>\n      <td>0x0003</td>\n      <td>2</td>\n      <td>0x00000000</td>\n      <td>2020-10-26T11:50:35.719Z</td>\n      <td>2020-10-26 11:50:35.719000+00:00</td>\n    </tr>\n  </tbody>\n</table>\n<p>4135 rows × 6 columns</p>\n</div>"
     },
     "metadata": {},
     "execution_count": 27
    }
   ],
   "source": [
    "data_st = fc_sync_timestamp(data_st,'ServerTimeStamp',delta_time_SIM)\n",
    "data_st"
   ]
  },
  {
   "cell_type": "code",
   "execution_count": 28,
   "metadata": {},
   "outputs": [
    {
     "output_type": "execute_result",
     "data": {
      "text/plain": [
       "     PrimaryKey DataType  Value  StatusCode           SourceTimeStamp  \\\n",
       "0      DiscSize   0x0003      0  0x00000000  2020-10-26T11:29:55.519Z   \n",
       "1      DiscSize   0x0003      0  0x00000000  2020-10-26T11:29:55.819Z   \n",
       "2      DiscSize   0x0003      0  0x00000000  2020-10-26T11:29:56.119Z   \n",
       "3      DiscSize   0x0003      0  0x00000000  2020-10-26T11:29:56.419Z   \n",
       "4      DiscSize   0x0003      0  0x00000000  2020-10-26T11:29:56.719Z   \n",
       "...         ...      ...    ...         ...                       ...   \n",
       "4130   DiscSize   0x0003      2  0x00000000  2020-10-26T11:50:34.519Z   \n",
       "4131   DiscSize   0x0003      2  0x00000000  2020-10-26T11:50:34.819Z   \n",
       "4132   DiscSize   0x0003      2  0x00000000  2020-10-26T11:50:35.119Z   \n",
       "4133   DiscSize   0x0003      2  0x00000000  2020-10-26T11:50:35.419Z   \n",
       "4134   DiscSize   0x0003      2  0x00000000  2020-10-26T11:50:35.719Z   \n",
       "\n",
       "                       ServerTimeStamp  \n",
       "0     2020-10-26 11:28:48.519000+00:00  \n",
       "1     2020-10-26 11:28:48.819000+00:00  \n",
       "2     2020-10-26 11:28:49.119000+00:00  \n",
       "3     2020-10-26 11:28:49.419000+00:00  \n",
       "4     2020-10-26 11:28:49.719000+00:00  \n",
       "...                                ...  \n",
       "4130  2020-10-26 11:49:27.519000+00:00  \n",
       "4131  2020-10-26 11:49:27.819000+00:00  \n",
       "4132  2020-10-26 11:49:28.119000+00:00  \n",
       "4133  2020-10-26 11:49:28.419000+00:00  \n",
       "4134  2020-10-26 11:49:28.719000+00:00  \n",
       "\n",
       "[4135 rows x 6 columns]"
      ],
      "text/html": "<div>\n<style scoped>\n    .dataframe tbody tr th:only-of-type {\n        vertical-align: middle;\n    }\n\n    .dataframe tbody tr th {\n        vertical-align: top;\n    }\n\n    .dataframe thead th {\n        text-align: right;\n    }\n</style>\n<table border=\"1\" class=\"dataframe\">\n  <thead>\n    <tr style=\"text-align: right;\">\n      <th></th>\n      <th>PrimaryKey</th>\n      <th>DataType</th>\n      <th>Value</th>\n      <th>StatusCode</th>\n      <th>SourceTimeStamp</th>\n      <th>ServerTimeStamp</th>\n    </tr>\n  </thead>\n  <tbody>\n    <tr>\n      <th>0</th>\n      <td>DiscSize</td>\n      <td>0x0003</td>\n      <td>0</td>\n      <td>0x00000000</td>\n      <td>2020-10-26T11:29:55.519Z</td>\n      <td>2020-10-26 11:28:48.519000+00:00</td>\n    </tr>\n    <tr>\n      <th>1</th>\n      <td>DiscSize</td>\n      <td>0x0003</td>\n      <td>0</td>\n      <td>0x00000000</td>\n      <td>2020-10-26T11:29:55.819Z</td>\n      <td>2020-10-26 11:28:48.819000+00:00</td>\n    </tr>\n    <tr>\n      <th>2</th>\n      <td>DiscSize</td>\n      <td>0x0003</td>\n      <td>0</td>\n      <td>0x00000000</td>\n      <td>2020-10-26T11:29:56.119Z</td>\n      <td>2020-10-26 11:28:49.119000+00:00</td>\n    </tr>\n    <tr>\n      <th>3</th>\n      <td>DiscSize</td>\n      <td>0x0003</td>\n      <td>0</td>\n      <td>0x00000000</td>\n      <td>2020-10-26T11:29:56.419Z</td>\n      <td>2020-10-26 11:28:49.419000+00:00</td>\n    </tr>\n    <tr>\n      <th>4</th>\n      <td>DiscSize</td>\n      <td>0x0003</td>\n      <td>0</td>\n      <td>0x00000000</td>\n      <td>2020-10-26T11:29:56.719Z</td>\n      <td>2020-10-26 11:28:49.719000+00:00</td>\n    </tr>\n    <tr>\n      <th>...</th>\n      <td>...</td>\n      <td>...</td>\n      <td>...</td>\n      <td>...</td>\n      <td>...</td>\n      <td>...</td>\n    </tr>\n    <tr>\n      <th>4130</th>\n      <td>DiscSize</td>\n      <td>0x0003</td>\n      <td>2</td>\n      <td>0x00000000</td>\n      <td>2020-10-26T11:50:34.519Z</td>\n      <td>2020-10-26 11:49:27.519000+00:00</td>\n    </tr>\n    <tr>\n      <th>4131</th>\n      <td>DiscSize</td>\n      <td>0x0003</td>\n      <td>2</td>\n      <td>0x00000000</td>\n      <td>2020-10-26T11:50:34.819Z</td>\n      <td>2020-10-26 11:49:27.819000+00:00</td>\n    </tr>\n    <tr>\n      <th>4132</th>\n      <td>DiscSize</td>\n      <td>0x0003</td>\n      <td>2</td>\n      <td>0x00000000</td>\n      <td>2020-10-26T11:50:35.119Z</td>\n      <td>2020-10-26 11:49:28.119000+00:00</td>\n    </tr>\n    <tr>\n      <th>4133</th>\n      <td>DiscSize</td>\n      <td>0x0003</td>\n      <td>2</td>\n      <td>0x00000000</td>\n      <td>2020-10-26T11:50:35.419Z</td>\n      <td>2020-10-26 11:49:28.419000+00:00</td>\n    </tr>\n    <tr>\n      <th>4134</th>\n      <td>DiscSize</td>\n      <td>0x0003</td>\n      <td>2</td>\n      <td>0x00000000</td>\n      <td>2020-10-26T11:50:35.719Z</td>\n      <td>2020-10-26 11:49:28.719000+00:00</td>\n    </tr>\n  </tbody>\n</table>\n<p>4135 rows × 6 columns</p>\n</div>"
     },
     "metadata": {},
     "execution_count": 28
    }
   ],
   "source": [
    "data_flag = fc_sync_timestamp(data_st,'ServerTimeStamp',delta_time_PLC)\n",
    "data_flag"
   ]
  },
  {
   "cell_type": "markdown",
   "metadata": {},
   "source": [
    "## Merge Data Sets"
   ]
  },
  {
   "cell_type": "code",
   "execution_count": 29,
   "metadata": {},
   "outputs": [],
   "source": [
    "data_set = [data_conv, data_gate, data_qc, data_rp, data_st, data_flag]\n",
    "data_merge = pd.concat(data_set, keys=['conv', 'gate', 'qc', 'rp', 'store', 'flag'])\n",
    "# Sort the data_set by SourceTimeStamp, reset index and delete aux column\n",
    "data_merge = data_merge.sort_values(by='ServerTimeStamp').reset_index().drop('level_1',1)\n",
    "#del data_merge['level_1'] #delete aux column"
   ]
  },
  {
   "cell_type": "code",
   "execution_count": 30,
   "metadata": {},
   "outputs": [
    {
     "output_type": "execute_result",
     "data": {
      "text/plain": [
       "      level_0 PrimaryKey DataType       Value  StatusCode  \\\n",
       "0       store   DiscSize   0x0003           0  0x00000000   \n",
       "1        flag   DiscSize   0x0003           0  0x00000000   \n",
       "2       store   DiscSize   0x0003           0  0x00000000   \n",
       "3        flag   DiscSize   0x0003           0  0x00000000   \n",
       "4       store   DiscSize   0x0003           0  0x00000000   \n",
       "...       ...        ...      ...         ...         ...   \n",
       "51802      rp        528   0x0007  3190346370  0x00000000   \n",
       "51803      rp        527   0x0007  1024648491  0x00000000   \n",
       "51804      rp        529   0x0007  1054209565  0x00000000   \n",
       "51805      rp        528   0x0007  3190345988  0x00000000   \n",
       "51806      rp        527   0x0007  1024646293  0x00000000   \n",
       "\n",
       "                SourceTimeStamp                   ServerTimeStamp  \n",
       "0      2020-10-26T11:29:55.519Z  2020-10-26 11:28:48.519000+00:00  \n",
       "1      2020-10-26T11:29:55.519Z  2020-10-26 11:28:48.519000+00:00  \n",
       "2      2020-10-26T11:29:55.819Z  2020-10-26 11:28:48.819000+00:00  \n",
       "3      2020-10-26T11:29:55.819Z  2020-10-26 11:28:48.819000+00:00  \n",
       "4      2020-10-26T11:29:56.119Z  2020-10-26 11:28:49.119000+00:00  \n",
       "...                         ...                               ...  \n",
       "51802  2020-10-26T11:51:40.044Z  2020-10-26 11:50:33.044000+00:00  \n",
       "51803  2020-10-26T11:51:40.044Z  2020-10-26 11:50:33.044000+00:00  \n",
       "51804  2020-10-26T11:51:40.292Z  2020-10-26 11:50:33.292000+00:00  \n",
       "51805  2020-10-26T11:51:40.295Z  2020-10-26 11:50:33.295000+00:00  \n",
       "51806  2020-10-26T11:51:40.305Z  2020-10-26 11:50:33.305000+00:00  \n",
       "\n",
       "[51807 rows x 7 columns]"
      ],
      "text/html": "<div>\n<style scoped>\n    .dataframe tbody tr th:only-of-type {\n        vertical-align: middle;\n    }\n\n    .dataframe tbody tr th {\n        vertical-align: top;\n    }\n\n    .dataframe thead th {\n        text-align: right;\n    }\n</style>\n<table border=\"1\" class=\"dataframe\">\n  <thead>\n    <tr style=\"text-align: right;\">\n      <th></th>\n      <th>level_0</th>\n      <th>PrimaryKey</th>\n      <th>DataType</th>\n      <th>Value</th>\n      <th>StatusCode</th>\n      <th>SourceTimeStamp</th>\n      <th>ServerTimeStamp</th>\n    </tr>\n  </thead>\n  <tbody>\n    <tr>\n      <th>0</th>\n      <td>store</td>\n      <td>DiscSize</td>\n      <td>0x0003</td>\n      <td>0</td>\n      <td>0x00000000</td>\n      <td>2020-10-26T11:29:55.519Z</td>\n      <td>2020-10-26 11:28:48.519000+00:00</td>\n    </tr>\n    <tr>\n      <th>1</th>\n      <td>flag</td>\n      <td>DiscSize</td>\n      <td>0x0003</td>\n      <td>0</td>\n      <td>0x00000000</td>\n      <td>2020-10-26T11:29:55.519Z</td>\n      <td>2020-10-26 11:28:48.519000+00:00</td>\n    </tr>\n    <tr>\n      <th>2</th>\n      <td>store</td>\n      <td>DiscSize</td>\n      <td>0x0003</td>\n      <td>0</td>\n      <td>0x00000000</td>\n      <td>2020-10-26T11:29:55.819Z</td>\n      <td>2020-10-26 11:28:48.819000+00:00</td>\n    </tr>\n    <tr>\n      <th>3</th>\n      <td>flag</td>\n      <td>DiscSize</td>\n      <td>0x0003</td>\n      <td>0</td>\n      <td>0x00000000</td>\n      <td>2020-10-26T11:29:55.819Z</td>\n      <td>2020-10-26 11:28:48.819000+00:00</td>\n    </tr>\n    <tr>\n      <th>4</th>\n      <td>store</td>\n      <td>DiscSize</td>\n      <td>0x0003</td>\n      <td>0</td>\n      <td>0x00000000</td>\n      <td>2020-10-26T11:29:56.119Z</td>\n      <td>2020-10-26 11:28:49.119000+00:00</td>\n    </tr>\n    <tr>\n      <th>...</th>\n      <td>...</td>\n      <td>...</td>\n      <td>...</td>\n      <td>...</td>\n      <td>...</td>\n      <td>...</td>\n      <td>...</td>\n    </tr>\n    <tr>\n      <th>51802</th>\n      <td>rp</td>\n      <td>528</td>\n      <td>0x0007</td>\n      <td>3190346370</td>\n      <td>0x00000000</td>\n      <td>2020-10-26T11:51:40.044Z</td>\n      <td>2020-10-26 11:50:33.044000+00:00</td>\n    </tr>\n    <tr>\n      <th>51803</th>\n      <td>rp</td>\n      <td>527</td>\n      <td>0x0007</td>\n      <td>1024648491</td>\n      <td>0x00000000</td>\n      <td>2020-10-26T11:51:40.044Z</td>\n      <td>2020-10-26 11:50:33.044000+00:00</td>\n    </tr>\n    <tr>\n      <th>51804</th>\n      <td>rp</td>\n      <td>529</td>\n      <td>0x0007</td>\n      <td>1054209565</td>\n      <td>0x00000000</td>\n      <td>2020-10-26T11:51:40.292Z</td>\n      <td>2020-10-26 11:50:33.292000+00:00</td>\n    </tr>\n    <tr>\n      <th>51805</th>\n      <td>rp</td>\n      <td>528</td>\n      <td>0x0007</td>\n      <td>3190345988</td>\n      <td>0x00000000</td>\n      <td>2020-10-26T11:51:40.295Z</td>\n      <td>2020-10-26 11:50:33.295000+00:00</td>\n    </tr>\n    <tr>\n      <th>51806</th>\n      <td>rp</td>\n      <td>527</td>\n      <td>0x0007</td>\n      <td>1024646293</td>\n      <td>0x00000000</td>\n      <td>2020-10-26T11:51:40.305Z</td>\n      <td>2020-10-26 11:50:33.305000+00:00</td>\n    </tr>\n  </tbody>\n</table>\n<p>51807 rows × 7 columns</p>\n</div>"
     },
     "metadata": {},
     "execution_count": 30
    }
   ],
   "source": [
    "data_merge"
   ]
  },
  {
   "cell_type": "markdown",
   "metadata": {},
   "source": [
    "## Export Data to csv"
   ]
  },
  {
   "cell_type": "code",
   "execution_count": 31,
   "metadata": {},
   "outputs": [
    {
     "output_type": "error",
     "ename": "FileNotFoundError",
     "evalue": "[Errno 2] No such file or directory: '../01_Data/201026/use_case1/Processed/data_merge.csv'",
     "traceback": [
      "\u001b[1;31m---------------------------------------------------------------------------\u001b[0m",
      "\u001b[1;31mFileNotFoundError\u001b[0m                         Traceback (most recent call last)",
      "\u001b[1;32m<ipython-input-31-b980f1547b8f>\u001b[0m in \u001b[0;36m<module>\u001b[1;34m\u001b[0m\n\u001b[1;32m----> 1\u001b[1;33m \u001b[0mdata_merge\u001b[0m\u001b[1;33m.\u001b[0m\u001b[0mto_csv\u001b[0m\u001b[1;33m(\u001b[0m\u001b[0mpath_data_save\u001b[0m \u001b[1;33m+\u001b[0m \u001b[1;34m'data_merge.csv'\u001b[0m\u001b[1;33m)\u001b[0m\u001b[1;33m\u001b[0m\u001b[1;33m\u001b[0m\u001b[0m\n\u001b[0m\u001b[0;32m      2\u001b[0m \u001b[0mprint\u001b[0m\u001b[1;33m(\u001b[0m\u001b[1;34m'The data is saved at '\u001b[0m \u001b[1;33m+\u001b[0m \u001b[0mpath_data_save\u001b[0m \u001b[1;33m+\u001b[0m \u001b[1;34m'data_merge.csv'\u001b[0m\u001b[1;33m)\u001b[0m\u001b[1;33m\u001b[0m\u001b[1;33m\u001b[0m\u001b[0m\n",
      "\u001b[1;32mC:\\ProgramData\\Anaconda3\\envs\\Demozelle_v2\\lib\\site-packages\\pandas\\core\\generic.py\u001b[0m in \u001b[0;36mto_csv\u001b[1;34m(self, path_or_buf, sep, na_rep, float_format, columns, header, index, index_label, mode, encoding, compression, quoting, quotechar, line_terminator, chunksize, date_format, doublequote, escapechar, decimal, errors)\u001b[0m\n\u001b[0;32m   3165\u001b[0m             \u001b[0mdecimal\u001b[0m\u001b[1;33m=\u001b[0m\u001b[0mdecimal\u001b[0m\u001b[1;33m,\u001b[0m\u001b[1;33m\u001b[0m\u001b[1;33m\u001b[0m\u001b[0m\n\u001b[0;32m   3166\u001b[0m         )\n\u001b[1;32m-> 3167\u001b[1;33m         \u001b[0mformatter\u001b[0m\u001b[1;33m.\u001b[0m\u001b[0msave\u001b[0m\u001b[1;33m(\u001b[0m\u001b[1;33m)\u001b[0m\u001b[1;33m\u001b[0m\u001b[1;33m\u001b[0m\u001b[0m\n\u001b[0m\u001b[0;32m   3168\u001b[0m \u001b[1;33m\u001b[0m\u001b[0m\n\u001b[0;32m   3169\u001b[0m         \u001b[1;32mif\u001b[0m \u001b[0mpath_or_buf\u001b[0m \u001b[1;32mis\u001b[0m \u001b[1;32mNone\u001b[0m\u001b[1;33m:\u001b[0m\u001b[1;33m\u001b[0m\u001b[1;33m\u001b[0m\u001b[0m\n",
      "\u001b[1;32mC:\\ProgramData\\Anaconda3\\envs\\Demozelle_v2\\lib\\site-packages\\pandas\\io\\formats\\csvs.py\u001b[0m in \u001b[0;36msave\u001b[1;34m(self)\u001b[0m\n\u001b[0;32m    183\u001b[0m             \u001b[0mclose\u001b[0m \u001b[1;33m=\u001b[0m \u001b[1;32mFalse\u001b[0m\u001b[1;33m\u001b[0m\u001b[1;33m\u001b[0m\u001b[0m\n\u001b[0;32m    184\u001b[0m         \u001b[1;32melse\u001b[0m\u001b[1;33m:\u001b[0m\u001b[1;33m\u001b[0m\u001b[1;33m\u001b[0m\u001b[0m\n\u001b[1;32m--> 185\u001b[1;33m             f, handles = get_handle(\n\u001b[0m\u001b[0;32m    186\u001b[0m                 \u001b[0mself\u001b[0m\u001b[1;33m.\u001b[0m\u001b[0mpath_or_buf\u001b[0m\u001b[1;33m,\u001b[0m\u001b[1;33m\u001b[0m\u001b[1;33m\u001b[0m\u001b[0m\n\u001b[0;32m    187\u001b[0m                 \u001b[0mself\u001b[0m\u001b[1;33m.\u001b[0m\u001b[0mmode\u001b[0m\u001b[1;33m,\u001b[0m\u001b[1;33m\u001b[0m\u001b[1;33m\u001b[0m\u001b[0m\n",
      "\u001b[1;32mC:\\ProgramData\\Anaconda3\\envs\\Demozelle_v2\\lib\\site-packages\\pandas\\io\\common.py\u001b[0m in \u001b[0;36mget_handle\u001b[1;34m(path_or_buf, mode, encoding, compression, memory_map, is_text, errors)\u001b[0m\n\u001b[0;32m    491\u001b[0m         \u001b[1;32mif\u001b[0m \u001b[0mencoding\u001b[0m\u001b[1;33m:\u001b[0m\u001b[1;33m\u001b[0m\u001b[1;33m\u001b[0m\u001b[0m\n\u001b[0;32m    492\u001b[0m             \u001b[1;31m# Encoding\u001b[0m\u001b[1;33m\u001b[0m\u001b[1;33m\u001b[0m\u001b[1;33m\u001b[0m\u001b[0m\n\u001b[1;32m--> 493\u001b[1;33m             \u001b[0mf\u001b[0m \u001b[1;33m=\u001b[0m \u001b[0mopen\u001b[0m\u001b[1;33m(\u001b[0m\u001b[0mpath_or_buf\u001b[0m\u001b[1;33m,\u001b[0m \u001b[0mmode\u001b[0m\u001b[1;33m,\u001b[0m \u001b[0mencoding\u001b[0m\u001b[1;33m=\u001b[0m\u001b[0mencoding\u001b[0m\u001b[1;33m,\u001b[0m \u001b[0merrors\u001b[0m\u001b[1;33m=\u001b[0m\u001b[0merrors\u001b[0m\u001b[1;33m,\u001b[0m \u001b[0mnewline\u001b[0m\u001b[1;33m=\u001b[0m\u001b[1;34m\"\"\u001b[0m\u001b[1;33m)\u001b[0m\u001b[1;33m\u001b[0m\u001b[1;33m\u001b[0m\u001b[0m\n\u001b[0m\u001b[0;32m    494\u001b[0m         \u001b[1;32melif\u001b[0m \u001b[0mis_text\u001b[0m\u001b[1;33m:\u001b[0m\u001b[1;33m\u001b[0m\u001b[1;33m\u001b[0m\u001b[0m\n\u001b[0;32m    495\u001b[0m             \u001b[1;31m# No explicit encoding\u001b[0m\u001b[1;33m\u001b[0m\u001b[1;33m\u001b[0m\u001b[1;33m\u001b[0m\u001b[0m\n",
      "\u001b[1;31mFileNotFoundError\u001b[0m: [Errno 2] No such file or directory: '../01_Data/201026/use_case1/Processed/data_merge.csv'"
     ]
    }
   ],
   "source": [
    "data_merge.to_csv(path_data_save + 'data_merge.csv')\n",
    "print('The data is saved at ' + path_data_save + 'data_merge.csv')"
   ]
  },
  {
   "cell_type": "code",
   "execution_count": 17,
   "metadata": {},
   "outputs": [
    {
     "output_type": "execute_result",
     "data": {
      "text/plain": [
       "83195"
      ]
     },
     "metadata": {},
     "execution_count": 17
    }
   ],
   "source": [
    "len(data_merge)"
   ]
  },
  {
   "cell_type": "markdown",
   "metadata": {},
   "source": [
    "## Determine the starting point of data set"
   ]
  },
  {
   "cell_type": "markdown",
   "metadata": {},
   "source": [
    "#Based on change of DistanceAbs in Data- Set\n",
    "var_actual = 0\n",
    "run_list = [0]\n",
    "for i in range(len(data_merge)):\n",
    "    var_previous = var_actual\n",
    "    if data_merge.at[i,'PrimaryKey'] == 'DistanceAbs':  # if 'PrimaryKey' value = 'DistanceAbs':\n",
    "        var_actual = data_merge.at[i,'Value'] # value of current DistanceAbs\n",
    "    if var_previous != var_actual:\n",
    "        run_list.append(i) #i append to list # This list will tell at how many i contains one sample    "
   ]
  },
  {
   "cell_type": "code",
   "execution_count": 18,
   "metadata": {},
   "outputs": [],
   "source": [
    "# Based on grabbing the white disk\n",
    "var_actual = 99\n",
    "disk_actual = 99 # Initial value\n",
    "run_list = [0]\n",
    "disk = False\n",
    "storage_down = False\n",
    "rob_x = 0\n",
    "rob_y = 0\n",
    "rob_z = 0\n",
    "rob_pos = 0\n",
    "pos = [0]*(len(data_merge)-2)\n",
    "for i in range(len(data_merge)-2): # len(data_merge)-2 is considered to avoid border errors\n",
    "    #var_previous = var_actual\n",
    "    #rob_pos = fc_rob_pos(i, data_merge) # review robot position\n",
    "    pos[i] = 0\n",
    "    if data_merge.at[i,'PrimaryKey'] == 'DiscSize':  # if 'PrimaryKey' value = 'DiskSize':\n",
    "        disk_previous = disk_actual\n",
    "        disk_actual = data_merge.at[i,'Value'] # value of current DiskSize\n",
    "        #print(disk_previous, disk_actual, i)\n",
    "        if disk_previous != 2 and disk_actual == 2: # Varialbe 0: unkown; 1: Black disk; 2: white disk\n",
    "            disk = True\n",
    "            #print('New white disk here ' + str(i))\n",
    "    if data_merge.at[i,'PrimaryKey'] == '527':  # if 'PrimaryKey' value = 'x coordinate':\n",
    "        rob_x = data_merge.at[i,'Value'] # value of current 'x coordinate'\n",
    "        #print('x = ' + str(rob_x) + '--' + str(i))\n",
    "    if data_merge.at[i,'PrimaryKey'] == '528':  # if 'PrimaryKey' value = 'y coordinate':\n",
    "        rob_y = data_merge.at[i,'Value'] # value of current 'x coordinate'\n",
    "        #print('y = ' + str(rob_y) + '--' + str(i))\n",
    "    if data_merge.at[i,'PrimaryKey'] == '529':  # if 'PrimaryKey' value = 'z coordinate':\n",
    "        rob_z = data_merge.at[i,'Value'] # value of current 'x coordinate'\n",
    "        #print('z = ' + str(rob_z) + '--' + str(i))\n",
    "    if rob_x > 3100000000 and rob_y > 3100000000 and rob_z < 1051200000: #Robot in storage. Picking up the disk\n",
    "        rob_pos = 1\n",
    "        pos[i] = 1\n",
    "        #print('pos 1 - ' + str(i))\n",
    "    if rob_x < 1052000000 and rob_y > 3100000000 and rob_z < 1052000000 and rob_z > 1051200000 : #Robot in storage. Placing down the disk\n",
    "        rob_pos = 2\n",
    "        pos[i] = 2\n",
    "        #print('pos 2 - ' + str(i))\n",
    "    #print(rob_pos)\n",
    "    if rob_pos == 1: # Robot picking up a disk\n",
    "        storage_down = True\n",
    "        #print(storage_down,i)  \n",
    "    if disk == True and storage_down == True:\n",
    "        #var_actual = rob_pos\n",
    "        disk = False\n",
    "        storage_down = False\n",
    "        run_list.append(i) #i append to list # This list will tell at how many i contains one sample\n",
    "        #print(i)\n",
    "    #if var_previous != var_actual:\n",
    "        #run_list.append(i) #i append to list # This list will tell at how many i contains one sample   \n",
    " "
   ]
  },
  {
   "cell_type": "code",
   "execution_count": 19,
   "metadata": {},
   "outputs": [
    {
     "output_type": "stream",
     "name": "stdout",
     "text": [
      "[0, 2653, 2688, 3642, 4586, 5434, 5568, 6464, 7405, 8349, 9292, 10236, 11084, 11226, 12028, 12159, 13055, 13999, 14943, 15874, 16818, 17761, 18692, 19646, 20590, 21523, 22467, 23408, 24352, 25286, 26230, 27171, 28115, 28963, 29097, 29993, 30934, 31878, 32822, 33766, 34710, 36277, 37125, 37221, 38152, 38979, 39923, 40867, 41715, 41853, 42659, 42801, 43603, 43735, 44630, 45574, 46518, 47459, 48393, 49347, 50195, 50333, 51222, 52165, 53013, 53158, 54043, 54984, 55918, 56872, 57720, 57857, 58747, 59691, 60635, 61579, 62523, 63371, 63503, 64312, 64447, 65342, 66296, 67240, 68088, 68210, 69115, 70059, 71003, 71944, 72805, 72927, 73746, 73871, 74776, 75720, 76661, 77605, 78549, 79503, 80437, 81378]\n102\n"
     ]
    }
   ],
   "source": [
    "print(run_list) # Starting points. \n",
    "print(len(run_list))"
   ]
  },
  {
   "cell_type": "code",
   "execution_count": 20,
   "metadata": {},
   "outputs": [],
   "source": [
    "# data_merge.iloc[list(range(0,3))]"
   ]
  },
  {
   "cell_type": "code",
   "execution_count": 21,
   "metadata": {},
   "outputs": [
    {
     "output_type": "execute_result",
     "data": {
      "text/plain": [
       "      level_0 PrimaryKey DataType       Value  StatusCode  \\\n",
       "0        gate   Position   0x000b         0.3  0x00000000   \n",
       "1        gate      Speed   0x000b           0  0x00000000   \n",
       "2        gate       Safe   0x0001        true  0x00000000   \n",
       "3        gate      Speed   0x000b           0  0x00000000   \n",
       "4        gate       Safe   0x0001        true  0x00000000   \n",
       "...       ...        ...      ...         ...         ...   \n",
       "83190      rp        528   0x0007  3190259491  0x00000000   \n",
       "83191      rp        527   0x0007  3182876373  0x00000000   \n",
       "83192      rp        529   0x0007  1054422942  0x00000000   \n",
       "83193      rp        528   0x0007  3190440406  0x00000000   \n",
       "83194      rp        527   0x0007  3181613994  0x00000000   \n",
       "\n",
       "                SourceTimeStamp                   ServerTimeStamp  RobPos  \n",
       "0      2020-10-12T09:26:48.068Z  2020-10-12 09:25:53.068000+00:00     0.0  \n",
       "1      2020-10-12T09:26:48.068Z  2020-10-12 09:25:53.068000+00:00     0.0  \n",
       "2      2020-10-12T09:26:48.068Z  2020-10-12 09:25:53.068000+00:00     0.0  \n",
       "3      2020-10-12T09:26:48.368Z  2020-10-12 09:25:53.368000+00:00     0.0  \n",
       "4      2020-10-12T09:26:48.368Z  2020-10-12 09:25:53.368000+00:00     0.0  \n",
       "...                         ...                               ...     ...  \n",
       "83190  2020-10-12T10:07:04.987Z  2020-10-12 10:07:04.987000+00:00     0.0  \n",
       "83191  2020-10-12T10:07:04.988Z  2020-10-12 10:07:04.988000+00:00     0.0  \n",
       "83192  2020-10-12T10:07:05.228Z  2020-10-12 10:07:05.228000+00:00     0.0  \n",
       "83193  2020-10-12T10:07:05.230Z  2020-10-12 10:07:05.230000+00:00     NaN  \n",
       "83194  2020-10-12T10:07:05.233Z  2020-10-12 10:07:05.233000+00:00     NaN  \n",
       "\n",
       "[83195 rows x 8 columns]"
      ],
      "text/html": "<div>\n<style scoped>\n    .dataframe tbody tr th:only-of-type {\n        vertical-align: middle;\n    }\n\n    .dataframe tbody tr th {\n        vertical-align: top;\n    }\n\n    .dataframe thead th {\n        text-align: right;\n    }\n</style>\n<table border=\"1\" class=\"dataframe\">\n  <thead>\n    <tr style=\"text-align: right;\">\n      <th></th>\n      <th>level_0</th>\n      <th>PrimaryKey</th>\n      <th>DataType</th>\n      <th>Value</th>\n      <th>StatusCode</th>\n      <th>SourceTimeStamp</th>\n      <th>ServerTimeStamp</th>\n      <th>RobPos</th>\n    </tr>\n  </thead>\n  <tbody>\n    <tr>\n      <th>0</th>\n      <td>gate</td>\n      <td>Position</td>\n      <td>0x000b</td>\n      <td>0.3</td>\n      <td>0x00000000</td>\n      <td>2020-10-12T09:26:48.068Z</td>\n      <td>2020-10-12 09:25:53.068000+00:00</td>\n      <td>0.0</td>\n    </tr>\n    <tr>\n      <th>1</th>\n      <td>gate</td>\n      <td>Speed</td>\n      <td>0x000b</td>\n      <td>0</td>\n      <td>0x00000000</td>\n      <td>2020-10-12T09:26:48.068Z</td>\n      <td>2020-10-12 09:25:53.068000+00:00</td>\n      <td>0.0</td>\n    </tr>\n    <tr>\n      <th>2</th>\n      <td>gate</td>\n      <td>Safe</td>\n      <td>0x0001</td>\n      <td>true</td>\n      <td>0x00000000</td>\n      <td>2020-10-12T09:26:48.068Z</td>\n      <td>2020-10-12 09:25:53.068000+00:00</td>\n      <td>0.0</td>\n    </tr>\n    <tr>\n      <th>3</th>\n      <td>gate</td>\n      <td>Speed</td>\n      <td>0x000b</td>\n      <td>0</td>\n      <td>0x00000000</td>\n      <td>2020-10-12T09:26:48.368Z</td>\n      <td>2020-10-12 09:25:53.368000+00:00</td>\n      <td>0.0</td>\n    </tr>\n    <tr>\n      <th>4</th>\n      <td>gate</td>\n      <td>Safe</td>\n      <td>0x0001</td>\n      <td>true</td>\n      <td>0x00000000</td>\n      <td>2020-10-12T09:26:48.368Z</td>\n      <td>2020-10-12 09:25:53.368000+00:00</td>\n      <td>0.0</td>\n    </tr>\n    <tr>\n      <th>...</th>\n      <td>...</td>\n      <td>...</td>\n      <td>...</td>\n      <td>...</td>\n      <td>...</td>\n      <td>...</td>\n      <td>...</td>\n      <td>...</td>\n    </tr>\n    <tr>\n      <th>83190</th>\n      <td>rp</td>\n      <td>528</td>\n      <td>0x0007</td>\n      <td>3190259491</td>\n      <td>0x00000000</td>\n      <td>2020-10-12T10:07:04.987Z</td>\n      <td>2020-10-12 10:07:04.987000+00:00</td>\n      <td>0.0</td>\n    </tr>\n    <tr>\n      <th>83191</th>\n      <td>rp</td>\n      <td>527</td>\n      <td>0x0007</td>\n      <td>3182876373</td>\n      <td>0x00000000</td>\n      <td>2020-10-12T10:07:04.988Z</td>\n      <td>2020-10-12 10:07:04.988000+00:00</td>\n      <td>0.0</td>\n    </tr>\n    <tr>\n      <th>83192</th>\n      <td>rp</td>\n      <td>529</td>\n      <td>0x0007</td>\n      <td>1054422942</td>\n      <td>0x00000000</td>\n      <td>2020-10-12T10:07:05.228Z</td>\n      <td>2020-10-12 10:07:05.228000+00:00</td>\n      <td>0.0</td>\n    </tr>\n    <tr>\n      <th>83193</th>\n      <td>rp</td>\n      <td>528</td>\n      <td>0x0007</td>\n      <td>3190440406</td>\n      <td>0x00000000</td>\n      <td>2020-10-12T10:07:05.230Z</td>\n      <td>2020-10-12 10:07:05.230000+00:00</td>\n      <td>NaN</td>\n    </tr>\n    <tr>\n      <th>83194</th>\n      <td>rp</td>\n      <td>527</td>\n      <td>0x0007</td>\n      <td>3181613994</td>\n      <td>0x00000000</td>\n      <td>2020-10-12T10:07:05.233Z</td>\n      <td>2020-10-12 10:07:05.233000+00:00</td>\n      <td>NaN</td>\n    </tr>\n  </tbody>\n</table>\n<p>83195 rows × 8 columns</p>\n</div>"
     },
     "metadata": {},
     "execution_count": 21
    }
   ],
   "source": [
    "df_robpos = pd.DataFrame(pos,columns=['RobPos']) # Position of robot. 0: not important; 1: Robot in storage. Picking up the disk; 2:Robot in storage. Placing down the disk\n",
    "data_merge = pd.concat([data_merge, df_robpos], axis=1, sort=False)\n",
    "data_merge"
   ]
  },
  {
   "cell_type": "markdown",
   "metadata": {},
   "source": [
    "The list contains the point i when the value is different. To consider the point where the value remains, consider i-1"
   ]
  },
  {
   "cell_type": "code",
   "execution_count": 22,
   "metadata": {},
   "outputs": [
    {
     "output_type": "stream",
     "name": "stdout",
     "text": [
      "Dictionary lenght is:101\n"
     ]
    }
   ],
   "source": [
    "d = {} # Dictionary that holds the sub-data-sets given by the starting point\n",
    "for i in range(len(run_list)-1): # Ignores the last value (set of values)\n",
    "    list_range = list(range(run_list[i],run_list[i+1]))\n",
    "    d['df{0}'.format(i)] = data_merge.iloc[list_range]\n",
    "    \n",
    "print('Dictionary lenght is:' + str(len(d)))"
   ]
  },
  {
   "cell_type": "markdown",
   "metadata": {},
   "source": [
    "## Assure conv_speed per sample "
   ]
  },
  {
   "cell_type": "code",
   "execution_count": 23,
   "metadata": {
    "scrolled": true
   },
   "outputs": [
    {
     "output_type": "stream",
     "name": "stdout",
     "text": [
      "300\n363\n380\n"
     ]
    }
   ],
   "source": [
    "conv_1 = 0\n",
    "conv_2 = 0\n",
    "conv_3 = 0\n",
    "conv1 = False\n",
    "conv2 = False\n",
    "conv3 = False\n",
    "for j in range(len(d)): # as many samples saved in dictionary\n",
    "    df = d['df'+ str(j)]\n",
    "    for i in range(len(df)): # as many row in the dataFrame\n",
    "        #print(df.iat[i,1])\n",
    "        if df.iat[i,1] == '27': # conv1\n",
    "            conv_1 = df.iat[i,3]\n",
    "            conv1 = True # the value shows at least once in the data set\n",
    "        if df.iat[i,1] == '28': # conv2\n",
    "            conv_2 = df.iat[i,3]\n",
    "            conv2 = True\n",
    "        if df.iat[i,1] == '29': # conv3\n",
    "            conv_3 = df.iat[i,3]\n",
    "            conv3 = True\n",
    "    if conv1 == False: # The value did not occur in this sample. Copy value from previous samples into this one\n",
    "        dic = {'PrimaryKey' : '27', 'Value': str(conv_1)}\n",
    "        df.loc[len(df)+1,'PrimaryKey'] = '27'\n",
    "        df.loc[len(df),'Value'] = str(conv_1)\n",
    "        df.loc[len(df),'DataType'] = 'NA'\n",
    "        df.loc[len(df),'StatusCode'] = 'NA'\n",
    "        df.loc[len(df),'SourceTimeStamp'] = 'NA'\n",
    "        df.loc[len(df),'ServerTimeStamp'] = 'NA'\n",
    "    if conv2 == False:\n",
    "        dic = {'PrimaryKey' : '27', 'Value': str(conv_2)}\n",
    "        df.loc[len(df)+1,'PrimaryKey'] = '28'\n",
    "        df.loc[len(df),'Value'] = str(conv_2)\n",
    "        df.loc[len(df),'DataType'] = 'NA'\n",
    "        df.loc[len(df),'StatusCode'] = 'NA'\n",
    "        df.loc[len(df),'SourceTimeStamp'] = 'NA'\n",
    "        df.loc[len(df),'ServerTimeStamp'] = 'NA'\n",
    "    if conv3 == False:\n",
    "        dic = {'PrimaryKey' : '27', 'Value': str(conv_3)}\n",
    "        df.loc[len(df)+1,'PrimaryKey'] = '29'\n",
    "        df.loc[len(df),'Value'] = str(conv_3)\n",
    "        df.loc[len(df),'DataType'] = 'NA'\n",
    "        df.loc[len(df),'StatusCode'] = 'NA'\n",
    "        df.loc[len(df),'SourceTimeStamp'] = 'NA'\n",
    "        df.loc[len(df),'ServerTimeStamp'] = 'NA'\n",
    "   \n",
    "    conv1 = False # reset conv for the next round\n",
    "    conv2 = False\n",
    "    conv3 = False\n",
    "print(conv_1)\n",
    "print(conv_2)\n",
    "print(conv_3)"
   ]
  },
  {
   "cell_type": "markdown",
   "metadata": {},
   "source": [
    "## Export individual data-sample to .csv"
   ]
  },
  {
   "cell_type": "code",
   "execution_count": 24,
   "metadata": {},
   "outputs": [
    {
     "output_type": "stream",
     "name": "stdout",
     "text": [
      "The data is saved at ../01_Data/201012/use_case2/Processed/Samples/sample_x.csv\n"
     ]
    }
   ],
   "source": [
    "for i in range(len(d)):\n",
    "    if i > 0: # always ignore the first sample due to data-acquisition misalligment\n",
    "        d['df' + str(i)].to_csv(path_sample_save + 'sample_' + str(i) + '.csv')\n",
    "print('The data is saved at ' + path_sample_save + 'sample_x.csv')"
   ]
  },
  {
   "cell_type": "markdown",
   "metadata": {},
   "source": [
    "## Testing area"
   ]
  },
  {
   "cell_type": "code",
   "execution_count": 25,
   "metadata": {},
   "outputs": [],
   "source": [
    "#d['df67']"
   ]
  },
  {
   "cell_type": "code",
   "execution_count": 26,
   "metadata": {},
   "outputs": [],
   "source": [
    "# list_range = list(range(run_list[0],run_list[1]))\n",
    "# print(list_range)"
   ]
  },
  {
   "cell_type": "code",
   "execution_count": 27,
   "metadata": {},
   "outputs": [],
   "source": [
    "# data_merge.iloc[list_range]"
   ]
  },
  {
   "cell_type": "code",
   "execution_count": 28,
   "metadata": {
    "scrolled": true
   },
   "outputs": [],
   "source": [
    "# data_rp.loc[:, 'PrimaryKey'] = '529_z'\n",
    "# data_rp"
   ]
  },
  {
   "cell_type": "code",
   "execution_count": 29,
   "metadata": {},
   "outputs": [],
   "source": [
    "# %matplotlib notebook \n",
    "# data_gate.head(400).plot(x='SourceTimeStamp', y= 'Value')\n",
    "# plt.xticks(rotation=45)"
   ]
  },
  {
   "cell_type": "code",
   "execution_count": 30,
   "metadata": {},
   "outputs": [],
   "source": [
    "# %matplotlib notebook \n",
    "# data_rp.head(200).plot( y= 'Value')\n",
    "# plt.xticks(rotation=45)"
   ]
  }
 ],
 "metadata": {
  "kernelspec": {
   "display_name": "Python 3",
   "language": "python",
   "name": "python3"
  },
  "language_info": {
   "codemirror_mode": {
    "name": "ipython",
    "version": 3
   },
   "file_extension": ".py",
   "mimetype": "text/x-python",
   "name": "python",
   "nbconvert_exporter": "python",
   "pygments_lexer": "ipython3",
   "version": "3.8.5-final"
  }
 },
 "nbformat": 4,
 "nbformat_minor": 4
}