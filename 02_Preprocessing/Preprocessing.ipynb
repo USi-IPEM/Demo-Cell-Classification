{
 "cells": [
  {
   "cell_type": "code",
   "execution_count": 1,
   "metadata": {},
   "outputs": [
    {
     "output_type": "stream",
     "name": "stdout",
     "text": [
      "d:\\05_Projekte\\04_Research\\08_ManuBrain\\01_Lab\\Demo-Cell-Classification\\02_Preprocessing\n"
     ]
    }
   ],
   "source": [
    "## Current path display\n",
    "\n",
    "import os\n",
    "current_path = os.getcwd()\n",
    "print(current_path)"
   ]
  },
  {
   "cell_type": "code",
   "execution_count": 2,
   "metadata": {},
   "outputs": [],
   "source": [
    "import numpy as np\n",
    "import pandas as pd\n",
    "import matplotlib.pyplot as plt\n",
    "from datetime import datetime\n",
    "from datetime import timedelta  "
   ]
  },
  {
   "cell_type": "markdown",
   "metadata": {},
   "source": [
    "## Functions "
   ]
  },
  {
   "cell_type": "code",
   "execution_count": 3,
   "metadata": {},
   "outputs": [],
   "source": [
    "# return tag from data\n",
    "def fc_tag (data,index):\n",
    "    return data.at[index,'d'].split('=')[2] # [2] equivalent a tag column data en txt file\n",
    "\n",
    "# update tag in main table\n",
    "def fc_tag_update(data, tag):\n",
    "    for i in range(len(tag)):\n",
    "        i = i + 1 \n",
    "        data = data.replace({'PrimaryKey':i}, fc_tag(tag,i), regex = False)\n",
    "    return data\n",
    "\n",
    "#Sync TimeStamp\n",
    "\n",
    "def fc_sync_timestamp2(data,ServerTimeStamp,delta_time): #Requires df, column-name and delta-time\n",
    "    for date in data[ServerTimeStamp]:\n",
    "        source = datetime.fromisoformat(str(date).replace('Z','+00:00'))\n",
    "        date_sync = source - delta_time\n",
    "        data[ServerTimeStamp] = date_sync\n",
    "    return data\n",
    "\n",
    "def fc_sync_timestamp(data,ServerTimeStamp,delta_time): #Requires df, column-name and delta-time\n",
    "    for i in range(len(data)): \n",
    "        source = datetime.fromisoformat(str(data.at[i,ServerTimeStamp]).replace('Z','+00:00'))\n",
    "        date_sync = source - delta_time\n",
    "        data.at[i,ServerTimeStamp] = date_sync\n",
    "    return data"
   ]
  },
  {
   "cell_type": "markdown",
   "metadata": {},
   "source": [
    "## Paths from data set"
   ]
  },
  {
   "cell_type": "code",
   "execution_count": 4,
   "metadata": {},
   "outputs": [],
   "source": [
    "date = 201027\n",
    "uc_num = 1\n",
    "\n",
    "path = str(date) + '/use_case' + str(uc_num)\n",
    "\n",
    "# Conveyor_belt\n",
    "path_data_conv = '../01_Data/' + path + '/Conveyor Speed/DataLogger.csv'\n",
    "path_tag_conv = '../01_Data/' + path + '/Conveyor Speed/tagconfig.txt'\n",
    "\n",
    "# Gate\n",
    "path_data_gate = '../01_Data/' + path + '/Gate/DataLogger.csv'\n",
    "path_tag_gate = '../01_Data/' + path + '/Gate/tagconfig.txt'\n",
    "\n",
    "# Quality_Control\n",
    "path_data_qc = '../01_Data/' + path + '/Quality Control/DataLogger.csv'\n",
    "path_tag_qc = '../01_Data/' + path + '/Quality Control/tagconfig.txt'\n",
    "\n",
    "# Robot_Position\n",
    "path_data_rp = '../01_Data/' + path + '/Robot Position/DataLogger.csv'\n",
    "path_tag_rp = '../01_Data/' + path + '/Robot Position/tagconfig.txt'\n",
    "\n",
    "# Store\n",
    "path_data_st = '../01_Data/' + path + '/Store/DataLogger.csv'\n",
    "path_tag_st = '../01_Data/' + path + '/Store/tagconfig.txt'\n",
    "\n",
    "# Flag\n",
    "path_data_flag = '../01_Data/' + path + '/Flag/DataLogger.csv'\n",
    "path_tag_flag = '../01_Data/' + path + '/Flag/tagconfig.txt'\n",
    "\n",
    "# Processed data\n",
    "\n",
    "path_data_save = '../01_Data/' + path + '/Processed/'\n",
    "path_sample_save = '../01_Data/' + path + '/Processed/Samples/'\n"
   ]
  },
  {
   "cell_type": "markdown",
   "metadata": {},
   "source": [
    "## Import data from csv"
   ]
  },
  {
   "cell_type": "code",
   "execution_count": 5,
   "metadata": {},
   "outputs": [],
   "source": [
    "# Conveyor_belt\n",
    "data_conv =  pd.read_csv(path_data_conv, delimiter = ',')\n",
    "#df_conv = pd.DataFrame(pd.read_csv(path_data_conv, delimiter = ','))\n",
    "\n",
    "# Gate\n",
    "data_gate =  pd.read_csv(path_data_gate, delimiter = ',')\n",
    "#df_gate = pd.DataFrame(pd.read_csv(path_data_gate, delimiter = ','))\n",
    "\n",
    "# Quality_Control\n",
    "data_qc =  pd.read_csv(path_data_qc, delimiter = ',')\n",
    "#df_qc = pd.DataFrame(pd.read_csv(path_data_qc, delimiter = ','))\n",
    "\n",
    "# Robot_Position\n",
    "data_rp =  pd.read_csv(path_data_rp, delimiter = ',')\n",
    "#df_rp = pd.DataFrame(pd.read_csv(path_data_rp, delimiter = ','))\n",
    "\n",
    "# Store\n",
    "data_st =  pd.read_csv(path_data_st, delimiter = ',')\n",
    "#df_st = pd.DataFrame(pd.read_csv(path_data_st, delimiter = ','))\n",
    "\n",
    "# Flag\n",
    "data_flag =  pd.read_csv(path_data_flag, delimiter = ',')\n",
    "#df_flag = pd.DataFrame(pd.read_csv(path_data_st, delimiter = ','))"
   ]
  },
  {
   "cell_type": "markdown",
   "metadata": {},
   "source": [
    "## Import data tags"
   ]
  },
  {
   "cell_type": "code",
   "execution_count": 6,
   "metadata": {},
   "outputs": [],
   "source": [
    "# Conveyor_belt\n",
    "tag_conv =  pd.read_fwf(path_tag_conv, sep=\" \", header=None, names=['a','b','c','d'])\n",
    "tag_conv = tag_conv.drop([0]) # delete first row (trash)\n",
    "\n",
    "# Gate\n",
    "tag_gate =  pd.read_fwf(path_tag_gate, sep=\" \", header=None, names=['a','b','c','d'])\n",
    "tag_gate = tag_gate.drop([0]) # delete first row (trash)\n",
    "\n",
    "# Quality_Control\n",
    "tag_qc =  pd.read_fwf(path_tag_qc, sep=\" \", header=None, names=['a','b','c','d'])\n",
    "tag_qc = tag_qc.drop([0]) # delete first row (trash)\n",
    "\n",
    "# Robot_Position\n",
    "tag_rp =  pd.read_fwf(path_tag_rp, sep=\" \", header=None, names=['a','b','c','d'])\n",
    "tag_rp = tag_rp.drop([0]) # delete first row (trash)\n",
    "\n",
    "# Robot_Position\n",
    "tag_st =  pd.read_fwf(path_tag_st, sep=\" \", header=None, names=['a','b','c','d'])\n",
    "tag_st = tag_st.drop([0]) # delete first row (trash)\n",
    "\n",
    "# Flag\n",
    "tag_flag =  pd.read_fwf(path_tag_flag, sep=\" \", header=None, names=['a','b','c','d'])\n",
    "tag_flag = tag_flag.drop([0]) # delete first row (trash)"
   ]
  },
  {
   "cell_type": "markdown",
   "metadata": {},
   "source": [
    "## Update tags"
   ]
  },
  {
   "cell_type": "code",
   "execution_count": 7,
   "metadata": {},
   "outputs": [],
   "source": [
    "# Conveyor_belt\n",
    "data_conv = fc_tag_update(data_conv, tag_conv)\n",
    "\n",
    "# Gate\n",
    "data_gate = fc_tag_update(data_gate, tag_gate)\n",
    "\n",
    "# Quality_Control\n",
    "data_qc = fc_tag_update(data_qc, tag_qc)\n",
    "\n",
    "# Robot_Position\n",
    "data_rp = fc_tag_update(data_rp, tag_rp)\n",
    "\n",
    "# Store\n",
    "data_st = fc_tag_update(data_st, tag_st)\n",
    "\n",
    "# Flag\n",
    "data_flag = fc_tag_update(data_flag, tag_flag)"
   ]
  },
  {
   "cell_type": "markdown",
   "metadata": {},
   "source": [
    "## Syncronize ServerTimeStamp"
   ]
  },
  {
   "cell_type": "code",
   "execution_count": 8,
   "metadata": {},
   "outputs": [],
   "source": [
    "delta_time_PLC = timedelta(seconds=67)\n",
    "delta_time_SIM = timedelta(seconds=0)"
   ]
  },
  {
   "cell_type": "code",
   "execution_count": 9,
   "metadata": {},
   "outputs": [
    {
     "output_type": "execute_result",
     "data": {
      "text/plain": [
       "Empty DataFrame\n",
       "Columns: [PrimaryKey, DataType, Value, StatusCode, SourceTimeStamp, ServerTimeStamp]\n",
       "Index: []"
      ],
      "text/html": "<div>\n<style scoped>\n    .dataframe tbody tr th:only-of-type {\n        vertical-align: middle;\n    }\n\n    .dataframe tbody tr th {\n        vertical-align: top;\n    }\n\n    .dataframe thead th {\n        text-align: right;\n    }\n</style>\n<table border=\"1\" class=\"dataframe\">\n  <thead>\n    <tr style=\"text-align: right;\">\n      <th></th>\n      <th>PrimaryKey</th>\n      <th>DataType</th>\n      <th>Value</th>\n      <th>StatusCode</th>\n      <th>SourceTimeStamp</th>\n      <th>ServerTimeStamp</th>\n    </tr>\n  </thead>\n  <tbody>\n  </tbody>\n</table>\n</div>"
     },
     "metadata": {},
     "execution_count": 9
    }
   ],
   "source": [
    "data_conv = fc_sync_timestamp(data_conv,'ServerTimeStamp',delta_time_PLC)\n",
    "data_conv"
   ]
  },
  {
   "cell_type": "code",
   "execution_count": 10,
   "metadata": {},
   "outputs": [
    {
     "output_type": "execute_result",
     "data": {
      "text/plain": [
       "      PrimaryKey DataType  Value  StatusCode           SourceTimeStamp  \\\n",
       "0          Speed   0x000b    -30  0x00000000  2020-10-27T15:05:24.596Z   \n",
       "1          Speed   0x000b    -30  0x00000000  2020-10-27T15:05:24.896Z   \n",
       "2           Safe   0x0001  false  0x00000000  2020-10-27T15:05:24.596Z   \n",
       "3           Safe   0x0001  false  0x00000000  2020-10-27T15:05:24.896Z   \n",
       "4       Position   0x000b   31.6  0x00000000  2020-10-27T15:05:24.596Z   \n",
       "...          ...      ...    ...         ...                       ...   \n",
       "21517   Position   0x000b    0.3  0x00000000  2020-10-27T15:41:15.896Z   \n",
       "21518   Position   0x000b    0.3  0x00000000  2020-10-27T15:41:16.196Z   \n",
       "21519      Speed   0x000b      0  0x00000000  2020-10-27T15:41:16.496Z   \n",
       "21520       Safe   0x0001   true  0x00000000  2020-10-27T15:41:16.496Z   \n",
       "21521   Position   0x000b    0.3  0x00000000  2020-10-27T15:41:16.496Z   \n",
       "\n",
       "                        ServerTimeStamp  \n",
       "0      2020-10-27 15:05:24.596000+00:00  \n",
       "1      2020-10-27 15:05:24.896000+00:00  \n",
       "2      2020-10-27 15:05:24.596000+00:00  \n",
       "3      2020-10-27 15:05:24.896000+00:00  \n",
       "4      2020-10-27 15:05:24.596000+00:00  \n",
       "...                                 ...  \n",
       "21517  2020-10-27 15:41:15.896000+00:00  \n",
       "21518  2020-10-27 15:41:16.196000+00:00  \n",
       "21519  2020-10-27 15:41:16.496000+00:00  \n",
       "21520  2020-10-27 15:41:16.496000+00:00  \n",
       "21521  2020-10-27 15:41:16.496000+00:00  \n",
       "\n",
       "[21522 rows x 6 columns]"
      ],
      "text/html": "<div>\n<style scoped>\n    .dataframe tbody tr th:only-of-type {\n        vertical-align: middle;\n    }\n\n    .dataframe tbody tr th {\n        vertical-align: top;\n    }\n\n    .dataframe thead th {\n        text-align: right;\n    }\n</style>\n<table border=\"1\" class=\"dataframe\">\n  <thead>\n    <tr style=\"text-align: right;\">\n      <th></th>\n      <th>PrimaryKey</th>\n      <th>DataType</th>\n      <th>Value</th>\n      <th>StatusCode</th>\n      <th>SourceTimeStamp</th>\n      <th>ServerTimeStamp</th>\n    </tr>\n  </thead>\n  <tbody>\n    <tr>\n      <th>0</th>\n      <td>Speed</td>\n      <td>0x000b</td>\n      <td>-30</td>\n      <td>0x00000000</td>\n      <td>2020-10-27T15:05:24.596Z</td>\n      <td>2020-10-27 15:05:24.596000+00:00</td>\n    </tr>\n    <tr>\n      <th>1</th>\n      <td>Speed</td>\n      <td>0x000b</td>\n      <td>-30</td>\n      <td>0x00000000</td>\n      <td>2020-10-27T15:05:24.896Z</td>\n      <td>2020-10-27 15:05:24.896000+00:00</td>\n    </tr>\n    <tr>\n      <th>2</th>\n      <td>Safe</td>\n      <td>0x0001</td>\n      <td>false</td>\n      <td>0x00000000</td>\n      <td>2020-10-27T15:05:24.596Z</td>\n      <td>2020-10-27 15:05:24.596000+00:00</td>\n    </tr>\n    <tr>\n      <th>3</th>\n      <td>Safe</td>\n      <td>0x0001</td>\n      <td>false</td>\n      <td>0x00000000</td>\n      <td>2020-10-27T15:05:24.896Z</td>\n      <td>2020-10-27 15:05:24.896000+00:00</td>\n    </tr>\n    <tr>\n      <th>4</th>\n      <td>Position</td>\n      <td>0x000b</td>\n      <td>31.6</td>\n      <td>0x00000000</td>\n      <td>2020-10-27T15:05:24.596Z</td>\n      <td>2020-10-27 15:05:24.596000+00:00</td>\n    </tr>\n    <tr>\n      <th>...</th>\n      <td>...</td>\n      <td>...</td>\n      <td>...</td>\n      <td>...</td>\n      <td>...</td>\n      <td>...</td>\n    </tr>\n    <tr>\n      <th>21517</th>\n      <td>Position</td>\n      <td>0x000b</td>\n      <td>0.3</td>\n      <td>0x00000000</td>\n      <td>2020-10-27T15:41:15.896Z</td>\n      <td>2020-10-27 15:41:15.896000+00:00</td>\n    </tr>\n    <tr>\n      <th>21518</th>\n      <td>Position</td>\n      <td>0x000b</td>\n      <td>0.3</td>\n      <td>0x00000000</td>\n      <td>2020-10-27T15:41:16.196Z</td>\n      <td>2020-10-27 15:41:16.196000+00:00</td>\n    </tr>\n    <tr>\n      <th>21519</th>\n      <td>Speed</td>\n      <td>0x000b</td>\n      <td>0</td>\n      <td>0x00000000</td>\n      <td>2020-10-27T15:41:16.496Z</td>\n      <td>2020-10-27 15:41:16.496000+00:00</td>\n    </tr>\n    <tr>\n      <th>21520</th>\n      <td>Safe</td>\n      <td>0x0001</td>\n      <td>true</td>\n      <td>0x00000000</td>\n      <td>2020-10-27T15:41:16.496Z</td>\n      <td>2020-10-27 15:41:16.496000+00:00</td>\n    </tr>\n    <tr>\n      <th>21521</th>\n      <td>Position</td>\n      <td>0x000b</td>\n      <td>0.3</td>\n      <td>0x00000000</td>\n      <td>2020-10-27T15:41:16.496Z</td>\n      <td>2020-10-27 15:41:16.496000+00:00</td>\n    </tr>\n  </tbody>\n</table>\n<p>21522 rows × 6 columns</p>\n</div>"
     },
     "metadata": {},
     "execution_count": 10
    }
   ],
   "source": [
    "data_gate = fc_sync_timestamp(data_gate,'ServerTimeStamp',delta_time_SIM)\n",
    "data_gate"
   ]
  },
  {
   "cell_type": "code",
   "execution_count": 11,
   "metadata": {},
   "outputs": [
    {
     "output_type": "execute_result",
     "data": {
      "text/plain": [
       "        PrimaryKey DataType     Value  StatusCode           SourceTimeStamp  \\\n",
       "0      DistanceAbs   0x000b  0.000000  0x00000000  2020-10-27T15:05:26.732Z   \n",
       "1      DistanceAbs   0x000b  0.000000  0x00000000  2020-10-27T15:05:27.032Z   \n",
       "2        DistanceX   0x000b  0.000000  0x00000000  2020-10-27T15:05:26.732Z   \n",
       "3        DistanceX   0x000b  0.000000  0x00000000  2020-10-27T15:05:27.032Z   \n",
       "4        DistanceY   0x000b  0.000000  0x00000000  2020-10-27T15:05:26.732Z   \n",
       "...            ...      ...       ...         ...                       ...   \n",
       "28687    DistanceX   0x000b  0.433815  0x00000000  2020-10-27T15:41:18.332Z   \n",
       "28688    DistanceY   0x000b  0.215054  0x00000000  2020-10-27T15:41:18.032Z   \n",
       "28689    DistanceY   0x000b  0.215054  0x00000000  2020-10-27T15:41:18.332Z   \n",
       "28690   ResultCode   0x0006  0.000000  0x00000000  2020-10-27T15:41:18.032Z   \n",
       "28691   ResultCode   0x0006  0.000000  0x00000000  2020-10-27T15:41:18.332Z   \n",
       "\n",
       "                        ServerTimeStamp  \n",
       "0      2020-10-27 15:05:26.732000+00:00  \n",
       "1      2020-10-27 15:05:27.032000+00:00  \n",
       "2      2020-10-27 15:05:26.732000+00:00  \n",
       "3      2020-10-27 15:05:27.032000+00:00  \n",
       "4      2020-10-27 15:05:26.732000+00:00  \n",
       "...                                 ...  \n",
       "28687  2020-10-27 15:41:18.332000+00:00  \n",
       "28688  2020-10-27 15:41:18.032000+00:00  \n",
       "28689  2020-10-27 15:41:18.332000+00:00  \n",
       "28690  2020-10-27 15:41:18.032000+00:00  \n",
       "28691  2020-10-27 15:41:18.332000+00:00  \n",
       "\n",
       "[28692 rows x 6 columns]"
      ],
      "text/html": "<div>\n<style scoped>\n    .dataframe tbody tr th:only-of-type {\n        vertical-align: middle;\n    }\n\n    .dataframe tbody tr th {\n        vertical-align: top;\n    }\n\n    .dataframe thead th {\n        text-align: right;\n    }\n</style>\n<table border=\"1\" class=\"dataframe\">\n  <thead>\n    <tr style=\"text-align: right;\">\n      <th></th>\n      <th>PrimaryKey</th>\n      <th>DataType</th>\n      <th>Value</th>\n      <th>StatusCode</th>\n      <th>SourceTimeStamp</th>\n      <th>ServerTimeStamp</th>\n    </tr>\n  </thead>\n  <tbody>\n    <tr>\n      <th>0</th>\n      <td>DistanceAbs</td>\n      <td>0x000b</td>\n      <td>0.000000</td>\n      <td>0x00000000</td>\n      <td>2020-10-27T15:05:26.732Z</td>\n      <td>2020-10-27 15:05:26.732000+00:00</td>\n    </tr>\n    <tr>\n      <th>1</th>\n      <td>DistanceAbs</td>\n      <td>0x000b</td>\n      <td>0.000000</td>\n      <td>0x00000000</td>\n      <td>2020-10-27T15:05:27.032Z</td>\n      <td>2020-10-27 15:05:27.032000+00:00</td>\n    </tr>\n    <tr>\n      <th>2</th>\n      <td>DistanceX</td>\n      <td>0x000b</td>\n      <td>0.000000</td>\n      <td>0x00000000</td>\n      <td>2020-10-27T15:05:26.732Z</td>\n      <td>2020-10-27 15:05:26.732000+00:00</td>\n    </tr>\n    <tr>\n      <th>3</th>\n      <td>DistanceX</td>\n      <td>0x000b</td>\n      <td>0.000000</td>\n      <td>0x00000000</td>\n      <td>2020-10-27T15:05:27.032Z</td>\n      <td>2020-10-27 15:05:27.032000+00:00</td>\n    </tr>\n    <tr>\n      <th>4</th>\n      <td>DistanceY</td>\n      <td>0x000b</td>\n      <td>0.000000</td>\n      <td>0x00000000</td>\n      <td>2020-10-27T15:05:26.732Z</td>\n      <td>2020-10-27 15:05:26.732000+00:00</td>\n    </tr>\n    <tr>\n      <th>...</th>\n      <td>...</td>\n      <td>...</td>\n      <td>...</td>\n      <td>...</td>\n      <td>...</td>\n      <td>...</td>\n    </tr>\n    <tr>\n      <th>28687</th>\n      <td>DistanceX</td>\n      <td>0x000b</td>\n      <td>0.433815</td>\n      <td>0x00000000</td>\n      <td>2020-10-27T15:41:18.332Z</td>\n      <td>2020-10-27 15:41:18.332000+00:00</td>\n    </tr>\n    <tr>\n      <th>28688</th>\n      <td>DistanceY</td>\n      <td>0x000b</td>\n      <td>0.215054</td>\n      <td>0x00000000</td>\n      <td>2020-10-27T15:41:18.032Z</td>\n      <td>2020-10-27 15:41:18.032000+00:00</td>\n    </tr>\n    <tr>\n      <th>28689</th>\n      <td>DistanceY</td>\n      <td>0x000b</td>\n      <td>0.215054</td>\n      <td>0x00000000</td>\n      <td>2020-10-27T15:41:18.332Z</td>\n      <td>2020-10-27 15:41:18.332000+00:00</td>\n    </tr>\n    <tr>\n      <th>28690</th>\n      <td>ResultCode</td>\n      <td>0x0006</td>\n      <td>0.000000</td>\n      <td>0x00000000</td>\n      <td>2020-10-27T15:41:18.032Z</td>\n      <td>2020-10-27 15:41:18.032000+00:00</td>\n    </tr>\n    <tr>\n      <th>28691</th>\n      <td>ResultCode</td>\n      <td>0x0006</td>\n      <td>0.000000</td>\n      <td>0x00000000</td>\n      <td>2020-10-27T15:41:18.332Z</td>\n      <td>2020-10-27 15:41:18.332000+00:00</td>\n    </tr>\n  </tbody>\n</table>\n<p>28692 rows × 6 columns</p>\n</div>"
     },
     "metadata": {},
     "execution_count": 11
    }
   ],
   "source": [
    "data_qc = fc_sync_timestamp(data_qc,'ServerTimeStamp',delta_time_SIM)\n",
    "data_qc"
   ]
  },
  {
   "cell_type": "code",
   "execution_count": 12,
   "metadata": {},
   "outputs": [
    {
     "output_type": "execute_result",
     "data": {
      "text/plain": [
       "      PrimaryKey DataType       Value  StatusCode           SourceTimeStamp  \\\n",
       "0            527   0x0007  1050956941  0x00000000  2020-10-27T15:06:35.382Z   \n",
       "1            527   0x0007  1050958021  0x00000000  2020-10-27T15:06:35.628Z   \n",
       "2            528   0x0007  3190244164  0x00000000  2020-10-27T15:06:35.382Z   \n",
       "3            528   0x0007  3190243986  0x00000000  2020-10-27T15:06:35.628Z   \n",
       "4            529   0x0007  1051537273  0x00000000  2020-10-27T15:06:35.385Z   \n",
       "...          ...      ...         ...         ...                       ...   \n",
       "25665        527   0x0007  3196290032  0x00000000  2020-10-27T15:42:26.627Z   \n",
       "25666        528   0x0007  3188549527  0x00000000  2020-10-27T15:42:26.377Z   \n",
       "25667        528   0x0007  3190340140  0x00000000  2020-10-27T15:42:26.625Z   \n",
       "25668        529   0x0007  1054308511  0x00000000  2020-10-27T15:42:26.374Z   \n",
       "25669        529   0x0007  1054601533  0x00000000  2020-10-27T15:42:26.624Z   \n",
       "\n",
       "                        ServerTimeStamp  \n",
       "0      2020-10-27 15:05:28.382000+00:00  \n",
       "1      2020-10-27 15:05:28.628000+00:00  \n",
       "2      2020-10-27 15:05:28.382000+00:00  \n",
       "3      2020-10-27 15:05:28.628000+00:00  \n",
       "4      2020-10-27 15:05:28.385000+00:00  \n",
       "...                                 ...  \n",
       "25665  2020-10-27 15:41:19.627000+00:00  \n",
       "25666  2020-10-27 15:41:19.377000+00:00  \n",
       "25667  2020-10-27 15:41:19.625000+00:00  \n",
       "25668  2020-10-27 15:41:19.374000+00:00  \n",
       "25669  2020-10-27 15:41:19.624000+00:00  \n",
       "\n",
       "[25670 rows x 6 columns]"
      ],
      "text/html": "<div>\n<style scoped>\n    .dataframe tbody tr th:only-of-type {\n        vertical-align: middle;\n    }\n\n    .dataframe tbody tr th {\n        vertical-align: top;\n    }\n\n    .dataframe thead th {\n        text-align: right;\n    }\n</style>\n<table border=\"1\" class=\"dataframe\">\n  <thead>\n    <tr style=\"text-align: right;\">\n      <th></th>\n      <th>PrimaryKey</th>\n      <th>DataType</th>\n      <th>Value</th>\n      <th>StatusCode</th>\n      <th>SourceTimeStamp</th>\n      <th>ServerTimeStamp</th>\n    </tr>\n  </thead>\n  <tbody>\n    <tr>\n      <th>0</th>\n      <td>527</td>\n      <td>0x0007</td>\n      <td>1050956941</td>\n      <td>0x00000000</td>\n      <td>2020-10-27T15:06:35.382Z</td>\n      <td>2020-10-27 15:05:28.382000+00:00</td>\n    </tr>\n    <tr>\n      <th>1</th>\n      <td>527</td>\n      <td>0x0007</td>\n      <td>1050958021</td>\n      <td>0x00000000</td>\n      <td>2020-10-27T15:06:35.628Z</td>\n      <td>2020-10-27 15:05:28.628000+00:00</td>\n    </tr>\n    <tr>\n      <th>2</th>\n      <td>528</td>\n      <td>0x0007</td>\n      <td>3190244164</td>\n      <td>0x00000000</td>\n      <td>2020-10-27T15:06:35.382Z</td>\n      <td>2020-10-27 15:05:28.382000+00:00</td>\n    </tr>\n    <tr>\n      <th>3</th>\n      <td>528</td>\n      <td>0x0007</td>\n      <td>3190243986</td>\n      <td>0x00000000</td>\n      <td>2020-10-27T15:06:35.628Z</td>\n      <td>2020-10-27 15:05:28.628000+00:00</td>\n    </tr>\n    <tr>\n      <th>4</th>\n      <td>529</td>\n      <td>0x0007</td>\n      <td>1051537273</td>\n      <td>0x00000000</td>\n      <td>2020-10-27T15:06:35.385Z</td>\n      <td>2020-10-27 15:05:28.385000+00:00</td>\n    </tr>\n    <tr>\n      <th>...</th>\n      <td>...</td>\n      <td>...</td>\n      <td>...</td>\n      <td>...</td>\n      <td>...</td>\n      <td>...</td>\n    </tr>\n    <tr>\n      <th>25665</th>\n      <td>527</td>\n      <td>0x0007</td>\n      <td>3196290032</td>\n      <td>0x00000000</td>\n      <td>2020-10-27T15:42:26.627Z</td>\n      <td>2020-10-27 15:41:19.627000+00:00</td>\n    </tr>\n    <tr>\n      <th>25666</th>\n      <td>528</td>\n      <td>0x0007</td>\n      <td>3188549527</td>\n      <td>0x00000000</td>\n      <td>2020-10-27T15:42:26.377Z</td>\n      <td>2020-10-27 15:41:19.377000+00:00</td>\n    </tr>\n    <tr>\n      <th>25667</th>\n      <td>528</td>\n      <td>0x0007</td>\n      <td>3190340140</td>\n      <td>0x00000000</td>\n      <td>2020-10-27T15:42:26.625Z</td>\n      <td>2020-10-27 15:41:19.625000+00:00</td>\n    </tr>\n    <tr>\n      <th>25668</th>\n      <td>529</td>\n      <td>0x0007</td>\n      <td>1054308511</td>\n      <td>0x00000000</td>\n      <td>2020-10-27T15:42:26.374Z</td>\n      <td>2020-10-27 15:41:19.374000+00:00</td>\n    </tr>\n    <tr>\n      <th>25669</th>\n      <td>529</td>\n      <td>0x0007</td>\n      <td>1054601533</td>\n      <td>0x00000000</td>\n      <td>2020-10-27T15:42:26.624Z</td>\n      <td>2020-10-27 15:41:19.624000+00:00</td>\n    </tr>\n  </tbody>\n</table>\n<p>25670 rows × 6 columns</p>\n</div>"
     },
     "metadata": {},
     "execution_count": 12
    }
   ],
   "source": [
    "data_rp = fc_sync_timestamp(data_rp,'ServerTimeStamp',delta_time_PLC)\n",
    "data_rp"
   ]
  },
  {
   "cell_type": "code",
   "execution_count": 13,
   "metadata": {},
   "outputs": [
    {
     "output_type": "execute_result",
     "data": {
      "text/plain": [
       "     PrimaryKey DataType  Value  StatusCode           SourceTimeStamp  \\\n",
       "0      DiscSize   0x0003      2  0x00000000  2020-10-27T15:05:30.485Z   \n",
       "1      DiscSize   0x0003      2  0x00000000  2020-10-27T15:05:30.785Z   \n",
       "2      DiscSize   0x0003      2  0x00000000  2020-10-27T15:05:31.085Z   \n",
       "3      DiscSize   0x0003      2  0x00000000  2020-10-27T15:05:31.385Z   \n",
       "4      DiscSize   0x0003      2  0x00000000  2020-10-27T15:05:31.685Z   \n",
       "...         ...      ...    ...         ...                       ...   \n",
       "7168   DiscSize   0x0003      1  0x00000000  2020-10-27T15:41:20.885Z   \n",
       "7169   DiscSize   0x0003      1  0x00000000  2020-10-27T15:41:21.185Z   \n",
       "7170   DiscSize   0x0003      1  0x00000000  2020-10-27T15:41:21.485Z   \n",
       "7171   DiscSize   0x0003      1  0x00000000  2020-10-27T15:41:21.785Z   \n",
       "7172   DiscSize   0x0003      1  0x00000000  2020-10-27T15:41:22.085Z   \n",
       "\n",
       "                       ServerTimeStamp  \n",
       "0     2020-10-27 15:05:30.485000+00:00  \n",
       "1     2020-10-27 15:05:30.785000+00:00  \n",
       "2     2020-10-27 15:05:31.085000+00:00  \n",
       "3     2020-10-27 15:05:31.385000+00:00  \n",
       "4     2020-10-27 15:05:31.685000+00:00  \n",
       "...                                ...  \n",
       "7168  2020-10-27 15:41:20.885000+00:00  \n",
       "7169  2020-10-27 15:41:21.185000+00:00  \n",
       "7170  2020-10-27 15:41:21.485000+00:00  \n",
       "7171  2020-10-27 15:41:21.785000+00:00  \n",
       "7172  2020-10-27 15:41:22.085000+00:00  \n",
       "\n",
       "[7173 rows x 6 columns]"
      ],
      "text/html": "<div>\n<style scoped>\n    .dataframe tbody tr th:only-of-type {\n        vertical-align: middle;\n    }\n\n    .dataframe tbody tr th {\n        vertical-align: top;\n    }\n\n    .dataframe thead th {\n        text-align: right;\n    }\n</style>\n<table border=\"1\" class=\"dataframe\">\n  <thead>\n    <tr style=\"text-align: right;\">\n      <th></th>\n      <th>PrimaryKey</th>\n      <th>DataType</th>\n      <th>Value</th>\n      <th>StatusCode</th>\n      <th>SourceTimeStamp</th>\n      <th>ServerTimeStamp</th>\n    </tr>\n  </thead>\n  <tbody>\n    <tr>\n      <th>0</th>\n      <td>DiscSize</td>\n      <td>0x0003</td>\n      <td>2</td>\n      <td>0x00000000</td>\n      <td>2020-10-27T15:05:30.485Z</td>\n      <td>2020-10-27 15:05:30.485000+00:00</td>\n    </tr>\n    <tr>\n      <th>1</th>\n      <td>DiscSize</td>\n      <td>0x0003</td>\n      <td>2</td>\n      <td>0x00000000</td>\n      <td>2020-10-27T15:05:30.785Z</td>\n      <td>2020-10-27 15:05:30.785000+00:00</td>\n    </tr>\n    <tr>\n      <th>2</th>\n      <td>DiscSize</td>\n      <td>0x0003</td>\n      <td>2</td>\n      <td>0x00000000</td>\n      <td>2020-10-27T15:05:31.085Z</td>\n      <td>2020-10-27 15:05:31.085000+00:00</td>\n    </tr>\n    <tr>\n      <th>3</th>\n      <td>DiscSize</td>\n      <td>0x0003</td>\n      <td>2</td>\n      <td>0x00000000</td>\n      <td>2020-10-27T15:05:31.385Z</td>\n      <td>2020-10-27 15:05:31.385000+00:00</td>\n    </tr>\n    <tr>\n      <th>4</th>\n      <td>DiscSize</td>\n      <td>0x0003</td>\n      <td>2</td>\n      <td>0x00000000</td>\n      <td>2020-10-27T15:05:31.685Z</td>\n      <td>2020-10-27 15:05:31.685000+00:00</td>\n    </tr>\n    <tr>\n      <th>...</th>\n      <td>...</td>\n      <td>...</td>\n      <td>...</td>\n      <td>...</td>\n      <td>...</td>\n      <td>...</td>\n    </tr>\n    <tr>\n      <th>7168</th>\n      <td>DiscSize</td>\n      <td>0x0003</td>\n      <td>1</td>\n      <td>0x00000000</td>\n      <td>2020-10-27T15:41:20.885Z</td>\n      <td>2020-10-27 15:41:20.885000+00:00</td>\n    </tr>\n    <tr>\n      <th>7169</th>\n      <td>DiscSize</td>\n      <td>0x0003</td>\n      <td>1</td>\n      <td>0x00000000</td>\n      <td>2020-10-27T15:41:21.185Z</td>\n      <td>2020-10-27 15:41:21.185000+00:00</td>\n    </tr>\n    <tr>\n      <th>7170</th>\n      <td>DiscSize</td>\n      <td>0x0003</td>\n      <td>1</td>\n      <td>0x00000000</td>\n      <td>2020-10-27T15:41:21.485Z</td>\n      <td>2020-10-27 15:41:21.485000+00:00</td>\n    </tr>\n    <tr>\n      <th>7171</th>\n      <td>DiscSize</td>\n      <td>0x0003</td>\n      <td>1</td>\n      <td>0x00000000</td>\n      <td>2020-10-27T15:41:21.785Z</td>\n      <td>2020-10-27 15:41:21.785000+00:00</td>\n    </tr>\n    <tr>\n      <th>7172</th>\n      <td>DiscSize</td>\n      <td>0x0003</td>\n      <td>1</td>\n      <td>0x00000000</td>\n      <td>2020-10-27T15:41:22.085Z</td>\n      <td>2020-10-27 15:41:22.085000+00:00</td>\n    </tr>\n  </tbody>\n</table>\n<p>7173 rows × 6 columns</p>\n</div>"
     },
     "metadata": {},
     "execution_count": 13
    }
   ],
   "source": [
    "data_st = fc_sync_timestamp(data_st,'ServerTimeStamp',delta_time_SIM)\n",
    "data_st"
   ]
  },
  {
   "cell_type": "code",
   "execution_count": 14,
   "metadata": {},
   "outputs": [
    {
     "output_type": "execute_result",
     "data": {
      "text/plain": [
       "    PrimaryKey DataType  Value  StatusCode           SourceTimeStamp  \\\n",
       "0          561   0x0001   true  0x00000000  2020-10-27T15:06:29.626Z   \n",
       "1          560   0x0004      0  0x00000000  2020-10-27T15:06:29.629Z   \n",
       "2          560   0x0004      1  0x00000000  2020-10-27T15:06:35.128Z   \n",
       "3          561   0x0001  false  0x00000000  2020-10-27T15:06:35.878Z   \n",
       "4          560   0x0004      2  0x00000000  2020-10-27T15:06:41.627Z   \n",
       "..         ...      ...    ...         ...                       ...   \n",
       "623        560   0x0004      3  0x00000000  2020-10-27T15:42:03.378Z   \n",
       "624        560   0x0004      0  0x00000000  2020-10-27T15:42:10.136Z   \n",
       "625        561   0x0001   true  0x00000000  2020-10-27T15:42:10.879Z   \n",
       "626        560   0x0004      1  0x00000000  2020-10-27T15:42:17.379Z   \n",
       "627        561   0x0001  false  0x00000000  2020-10-27T15:42:18.126Z   \n",
       "\n",
       "                      ServerTimeStamp  \n",
       "0    2020-10-27 15:05:22.626000+00:00  \n",
       "1    2020-10-27 15:05:22.629000+00:00  \n",
       "2    2020-10-27 15:05:28.128000+00:00  \n",
       "3    2020-10-27 15:05:28.878000+00:00  \n",
       "4    2020-10-27 15:05:34.627000+00:00  \n",
       "..                                ...  \n",
       "623  2020-10-27 15:40:56.378000+00:00  \n",
       "624  2020-10-27 15:41:03.136000+00:00  \n",
       "625  2020-10-27 15:41:03.879000+00:00  \n",
       "626  2020-10-27 15:41:10.379000+00:00  \n",
       "627  2020-10-27 15:41:11.126000+00:00  \n",
       "\n",
       "[628 rows x 6 columns]"
      ],
      "text/html": "<div>\n<style scoped>\n    .dataframe tbody tr th:only-of-type {\n        vertical-align: middle;\n    }\n\n    .dataframe tbody tr th {\n        vertical-align: top;\n    }\n\n    .dataframe thead th {\n        text-align: right;\n    }\n</style>\n<table border=\"1\" class=\"dataframe\">\n  <thead>\n    <tr style=\"text-align: right;\">\n      <th></th>\n      <th>PrimaryKey</th>\n      <th>DataType</th>\n      <th>Value</th>\n      <th>StatusCode</th>\n      <th>SourceTimeStamp</th>\n      <th>ServerTimeStamp</th>\n    </tr>\n  </thead>\n  <tbody>\n    <tr>\n      <th>0</th>\n      <td>561</td>\n      <td>0x0001</td>\n      <td>true</td>\n      <td>0x00000000</td>\n      <td>2020-10-27T15:06:29.626Z</td>\n      <td>2020-10-27 15:05:22.626000+00:00</td>\n    </tr>\n    <tr>\n      <th>1</th>\n      <td>560</td>\n      <td>0x0004</td>\n      <td>0</td>\n      <td>0x00000000</td>\n      <td>2020-10-27T15:06:29.629Z</td>\n      <td>2020-10-27 15:05:22.629000+00:00</td>\n    </tr>\n    <tr>\n      <th>2</th>\n      <td>560</td>\n      <td>0x0004</td>\n      <td>1</td>\n      <td>0x00000000</td>\n      <td>2020-10-27T15:06:35.128Z</td>\n      <td>2020-10-27 15:05:28.128000+00:00</td>\n    </tr>\n    <tr>\n      <th>3</th>\n      <td>561</td>\n      <td>0x0001</td>\n      <td>false</td>\n      <td>0x00000000</td>\n      <td>2020-10-27T15:06:35.878Z</td>\n      <td>2020-10-27 15:05:28.878000+00:00</td>\n    </tr>\n    <tr>\n      <th>4</th>\n      <td>560</td>\n      <td>0x0004</td>\n      <td>2</td>\n      <td>0x00000000</td>\n      <td>2020-10-27T15:06:41.627Z</td>\n      <td>2020-10-27 15:05:34.627000+00:00</td>\n    </tr>\n    <tr>\n      <th>...</th>\n      <td>...</td>\n      <td>...</td>\n      <td>...</td>\n      <td>...</td>\n      <td>...</td>\n      <td>...</td>\n    </tr>\n    <tr>\n      <th>623</th>\n      <td>560</td>\n      <td>0x0004</td>\n      <td>3</td>\n      <td>0x00000000</td>\n      <td>2020-10-27T15:42:03.378Z</td>\n      <td>2020-10-27 15:40:56.378000+00:00</td>\n    </tr>\n    <tr>\n      <th>624</th>\n      <td>560</td>\n      <td>0x0004</td>\n      <td>0</td>\n      <td>0x00000000</td>\n      <td>2020-10-27T15:42:10.136Z</td>\n      <td>2020-10-27 15:41:03.136000+00:00</td>\n    </tr>\n    <tr>\n      <th>625</th>\n      <td>561</td>\n      <td>0x0001</td>\n      <td>true</td>\n      <td>0x00000000</td>\n      <td>2020-10-27T15:42:10.879Z</td>\n      <td>2020-10-27 15:41:03.879000+00:00</td>\n    </tr>\n    <tr>\n      <th>626</th>\n      <td>560</td>\n      <td>0x0004</td>\n      <td>1</td>\n      <td>0x00000000</td>\n      <td>2020-10-27T15:42:17.379Z</td>\n      <td>2020-10-27 15:41:10.379000+00:00</td>\n    </tr>\n    <tr>\n      <th>627</th>\n      <td>561</td>\n      <td>0x0001</td>\n      <td>false</td>\n      <td>0x00000000</td>\n      <td>2020-10-27T15:42:18.126Z</td>\n      <td>2020-10-27 15:41:11.126000+00:00</td>\n    </tr>\n  </tbody>\n</table>\n<p>628 rows × 6 columns</p>\n</div>"
     },
     "metadata": {},
     "execution_count": 14
    }
   ],
   "source": [
    "data_flag = fc_sync_timestamp(data_flag,'ServerTimeStamp',delta_time_PLC)\n",
    "data_flag"
   ]
  },
  {
   "cell_type": "markdown",
   "metadata": {},
   "source": [
    "## Merge Data Sets"
   ]
  },
  {
   "cell_type": "code",
   "execution_count": 15,
   "metadata": {},
   "outputs": [],
   "source": [
    "data_set = [data_conv, data_gate, data_qc, data_rp, data_st, data_flag]\n",
    "data_merge = pd.concat(data_set, keys=['conv', 'gate', 'qc', 'rp', 'store', 'flag'])\n",
    "# Sort the data_set by SourceTimeStamp, reset index and delete aux column\n",
    "data_merge = data_merge.sort_values(by='ServerTimeStamp').reset_index().drop('level_1',1)\n",
    "#del data_merge['level_1'] #delete aux column"
   ]
  },
  {
   "cell_type": "code",
   "execution_count": 16,
   "metadata": {},
   "outputs": [
    {
     "output_type": "execute_result",
     "data": {
      "text/plain": [
       "      level_0 PrimaryKey DataType  Value  StatusCode  \\\n",
       "0        flag        561   0x0001   true  0x00000000   \n",
       "1        flag        560   0x0004      0  0x00000000   \n",
       "2        gate      Speed   0x000b    -30  0x00000000   \n",
       "3        gate       Safe   0x0001  false  0x00000000   \n",
       "4        gate   Position   0x000b   31.6  0x00000000   \n",
       "...       ...        ...      ...    ...         ...   \n",
       "83680   store   DiscSize   0x0003      1  0x00000000   \n",
       "83681   store   DiscSize   0x0003      1  0x00000000   \n",
       "83682   store   DiscSize   0x0003      1  0x00000000   \n",
       "83683   store   DiscSize   0x0003      1  0x00000000   \n",
       "83684   store   DiscSize   0x0003      1  0x00000000   \n",
       "\n",
       "                SourceTimeStamp                   ServerTimeStamp  \n",
       "0      2020-10-27T15:06:29.626Z  2020-10-27 15:05:22.626000+00:00  \n",
       "1      2020-10-27T15:06:29.629Z  2020-10-27 15:05:22.629000+00:00  \n",
       "2      2020-10-27T15:05:24.596Z  2020-10-27 15:05:24.596000+00:00  \n",
       "3      2020-10-27T15:05:24.596Z  2020-10-27 15:05:24.596000+00:00  \n",
       "4      2020-10-27T15:05:24.596Z  2020-10-27 15:05:24.596000+00:00  \n",
       "...                         ...                               ...  \n",
       "83680  2020-10-27T15:41:20.885Z  2020-10-27 15:41:20.885000+00:00  \n",
       "83681  2020-10-27T15:41:21.185Z  2020-10-27 15:41:21.185000+00:00  \n",
       "83682  2020-10-27T15:41:21.485Z  2020-10-27 15:41:21.485000+00:00  \n",
       "83683  2020-10-27T15:41:21.785Z  2020-10-27 15:41:21.785000+00:00  \n",
       "83684  2020-10-27T15:41:22.085Z  2020-10-27 15:41:22.085000+00:00  \n",
       "\n",
       "[83685 rows x 7 columns]"
      ],
      "text/html": "<div>\n<style scoped>\n    .dataframe tbody tr th:only-of-type {\n        vertical-align: middle;\n    }\n\n    .dataframe tbody tr th {\n        vertical-align: top;\n    }\n\n    .dataframe thead th {\n        text-align: right;\n    }\n</style>\n<table border=\"1\" class=\"dataframe\">\n  <thead>\n    <tr style=\"text-align: right;\">\n      <th></th>\n      <th>level_0</th>\n      <th>PrimaryKey</th>\n      <th>DataType</th>\n      <th>Value</th>\n      <th>StatusCode</th>\n      <th>SourceTimeStamp</th>\n      <th>ServerTimeStamp</th>\n    </tr>\n  </thead>\n  <tbody>\n    <tr>\n      <th>0</th>\n      <td>flag</td>\n      <td>561</td>\n      <td>0x0001</td>\n      <td>true</td>\n      <td>0x00000000</td>\n      <td>2020-10-27T15:06:29.626Z</td>\n      <td>2020-10-27 15:05:22.626000+00:00</td>\n    </tr>\n    <tr>\n      <th>1</th>\n      <td>flag</td>\n      <td>560</td>\n      <td>0x0004</td>\n      <td>0</td>\n      <td>0x00000000</td>\n      <td>2020-10-27T15:06:29.629Z</td>\n      <td>2020-10-27 15:05:22.629000+00:00</td>\n    </tr>\n    <tr>\n      <th>2</th>\n      <td>gate</td>\n      <td>Speed</td>\n      <td>0x000b</td>\n      <td>-30</td>\n      <td>0x00000000</td>\n      <td>2020-10-27T15:05:24.596Z</td>\n      <td>2020-10-27 15:05:24.596000+00:00</td>\n    </tr>\n    <tr>\n      <th>3</th>\n      <td>gate</td>\n      <td>Safe</td>\n      <td>0x0001</td>\n      <td>false</td>\n      <td>0x00000000</td>\n      <td>2020-10-27T15:05:24.596Z</td>\n      <td>2020-10-27 15:05:24.596000+00:00</td>\n    </tr>\n    <tr>\n      <th>4</th>\n      <td>gate</td>\n      <td>Position</td>\n      <td>0x000b</td>\n      <td>31.6</td>\n      <td>0x00000000</td>\n      <td>2020-10-27T15:05:24.596Z</td>\n      <td>2020-10-27 15:05:24.596000+00:00</td>\n    </tr>\n    <tr>\n      <th>...</th>\n      <td>...</td>\n      <td>...</td>\n      <td>...</td>\n      <td>...</td>\n      <td>...</td>\n      <td>...</td>\n      <td>...</td>\n    </tr>\n    <tr>\n      <th>83680</th>\n      <td>store</td>\n      <td>DiscSize</td>\n      <td>0x0003</td>\n      <td>1</td>\n      <td>0x00000000</td>\n      <td>2020-10-27T15:41:20.885Z</td>\n      <td>2020-10-27 15:41:20.885000+00:00</td>\n    </tr>\n    <tr>\n      <th>83681</th>\n      <td>store</td>\n      <td>DiscSize</td>\n      <td>0x0003</td>\n      <td>1</td>\n      <td>0x00000000</td>\n      <td>2020-10-27T15:41:21.185Z</td>\n      <td>2020-10-27 15:41:21.185000+00:00</td>\n    </tr>\n    <tr>\n      <th>83682</th>\n      <td>store</td>\n      <td>DiscSize</td>\n      <td>0x0003</td>\n      <td>1</td>\n      <td>0x00000000</td>\n      <td>2020-10-27T15:41:21.485Z</td>\n      <td>2020-10-27 15:41:21.485000+00:00</td>\n    </tr>\n    <tr>\n      <th>83683</th>\n      <td>store</td>\n      <td>DiscSize</td>\n      <td>0x0003</td>\n      <td>1</td>\n      <td>0x00000000</td>\n      <td>2020-10-27T15:41:21.785Z</td>\n      <td>2020-10-27 15:41:21.785000+00:00</td>\n    </tr>\n    <tr>\n      <th>83684</th>\n      <td>store</td>\n      <td>DiscSize</td>\n      <td>0x0003</td>\n      <td>1</td>\n      <td>0x00000000</td>\n      <td>2020-10-27T15:41:22.085Z</td>\n      <td>2020-10-27 15:41:22.085000+00:00</td>\n    </tr>\n  </tbody>\n</table>\n<p>83685 rows × 7 columns</p>\n</div>"
     },
     "metadata": {},
     "execution_count": 16
    }
   ],
   "source": [
    "data_merge"
   ]
  },
  {
   "cell_type": "markdown",
   "metadata": {},
   "source": [
    "## Export Data to csv"
   ]
  },
  {
   "cell_type": "code",
   "execution_count": 17,
   "metadata": {},
   "outputs": [
    {
     "output_type": "stream",
     "name": "stdout",
     "text": [
      "The data is saved at ../01_Data/201027/use_case1/Processed/data_merge.csv\n"
     ]
    }
   ],
   "source": [
    "data_merge.to_csv(path_data_save + 'data_merge.csv')\n",
    "print('The data is saved at ' + path_data_save + 'data_merge.csv')"
   ]
  },
  {
   "cell_type": "code",
   "execution_count": 18,
   "metadata": {},
   "outputs": [
    {
     "output_type": "execute_result",
     "data": {
      "text/plain": [
       "83685"
      ]
     },
     "metadata": {},
     "execution_count": 18
    }
   ],
   "source": [
    "len(data_merge)"
   ]
  },
  {
   "cell_type": "markdown",
   "metadata": {},
   "source": [
    "## Determine the starting point of data set"
   ]
  },
  {
   "cell_type": "markdown",
   "metadata": {},
   "source": [
    "#Based on change of DistanceAbs in Data- Set\n",
    "var_actual = 0\n",
    "run_list = [0]\n",
    "for i in range(len(data_merge)):\n",
    "    var_previous = var_actual\n",
    "    if data_merge.at[i,'PrimaryKey'] == 'DistanceAbs':  # if 'PrimaryKey' value = 'DistanceAbs':\n",
    "        var_actual = data_merge.at[i,'Value'] # value of current DistanceAbs\n",
    "    if var_previous != var_actual:\n",
    "        run_list.append(i) #i append to list # This list will tell at how many i contains one sample    "
   ]
  },
  {
   "source": [
    "# Based on grabbing the white disk\n",
    "var_actual = 99\n",
    "disk_actual = 99 # Initial value\n",
    "run_list = [0]\n",
    "disk = False\n",
    "storage_down = False\n",
    "rob_x = 0\n",
    "rob_y = 0\n",
    "rob_z = 0\n",
    "rob_pos = 0\n",
    "pos = [0]*(len(data_merge)-2)\n",
    "for i in range(len(data_merge)-2): # len(data_merge)-2 is considered to avoid border errors\n",
    "    #var_previous = var_actual\n",
    "    #rob_pos = fc_rob_pos(i, data_merge) # review robot position\n",
    "    pos[i] = 0\n",
    "    if data_merge.at[i,'PrimaryKey'] == 'DiscSize':  # if 'PrimaryKey' value = 'DiskSize':\n",
    "        disk_previous = disk_actual\n",
    "        disk_actual = data_merge.at[i,'Value'] # value of current DiskSize\n",
    "        #print(disk_previous, disk_actual, i)\n",
    "        if disk_previous != 2 and disk_actual == 2: # Varialbe 0: unkown; 1: Black disk; 2: white disk\n",
    "            disk = True\n",
    "            #print('New white disk here ' + str(i))\n",
    "    if data_merge.at[i,'PrimaryKey'] == '527':  # if 'PrimaryKey' value = 'x coordinate':\n",
    "        rob_x = data_merge.at[i,'Value'] # value of current 'x coordinate'\n",
    "        #print('x = ' + str(rob_x) + '--' + str(i))\n",
    "    if data_merge.at[i,'PrimaryKey'] == '528':  # if 'PrimaryKey' value = 'y coordinate':\n",
    "        rob_y = data_merge.at[i,'Value'] # value of current 'x coordinate'\n",
    "        #print('y = ' + str(rob_y) + '--' + str(i))\n",
    "    if data_merge.at[i,'PrimaryKey'] == '529':  # if 'PrimaryKey' value = 'z coordinate':\n",
    "        rob_z = data_merge.at[i,'Value'] # value of current 'x coordinate'\n",
    "        #print('z = ' + str(rob_z) + '--' + str(i))\n",
    "    if rob_x > 3100000000 and rob_y > 3100000000 and rob_z < 1051200000: #Robot in storage. Picking up the disk\n",
    "        rob_pos = 1\n",
    "        pos[i] = 1\n",
    "        #print('pos 1 - ' + str(i))\n",
    "    if rob_x < 1052000000 and rob_y > 3100000000 and rob_z < 1052000000 and rob_z > 1051200000 : #Robot in storage. Placing down the disk\n",
    "        rob_pos = 2\n",
    "        pos[i] = 2\n",
    "        #print('pos 2 - ' + str(i))\n",
    "    #print(rob_pos)\n",
    "    if rob_pos == 1: # Robot picking up a disk\n",
    "        storage_down = True\n",
    "        #print(storage_down,i)  \n",
    "    if disk == True and storage_down == True:\n",
    "        #var_actual = rob_pos\n",
    "        disk = False\n",
    "        storage_down = False\n",
    "        run_list.append(i) #i append to list # This list will tell at how many i contains one sample\n",
    "        #print(i)\n",
    "    #if var_previous != var_actual:\n",
    "        #run_list.append(i) #i append to list # This list will tell at how many i contains one sample   \n",
    " "
   ],
   "cell_type": "markdown",
   "metadata": {}
  },
  {
   "source": [
    "# Based on grabbing the white disk\n",
    "run_list = [0]\n",
    "rob_pos_actual = 99\n",
    "rob_pos_old = 0\n",
    "gripper_actual = 99\n",
    "gripper_old = 0\n",
    "gripper = False\n",
    "rob_pos = False\n",
    "for i in range(len(data_merge)-2): # len(data_merge)-2 is considered to avoid border errors\n",
    "    #var_previous = var_actual\n",
    "    #rob_pos = fc_rob_pos(i, data_merge) # review robot position\n",
    "    if data_merge.at[i,'PrimaryKey'] == '561':  # if 'PrimaryKey' value = 'gripper open (0), close (1)':\n",
    "        gripper_old = gripper_actual\n",
    "        gripper_actual = data_merge.at[i,'Value'] # value of current 'x coordinate'\n",
    "        if gripper_old != gripper_actual:\n",
    "            gripper = True\n",
    "    if data_merge.at[i,'PrimaryKey'] == '560':  # if 'PrimaryKey' value = 'position of robot based in certain conditions':\n",
    "        # 0: Black disk in store\n",
    "        # 1: Black disk in gate\n",
    "        # 2: White disk in store\n",
    "        # 3: White disk in gate\n",
    "        rob_pos_old = rob_pos_actual\n",
    "        rob_pos_actual = int(data_merge.at[i,'Value']) # value of current 'x coordinate'\n",
    "        if rob_pos_old != rob_pos_actual and rob_pos_actual == 2:\n",
    "            rob_pos = True\n",
    "    if rob_pos == True and gripper == True:\n",
    "        rob_pos = False\n",
    "        gripper = False\n",
    "        run_list.append(i) #i append to list # This list will tell at how many i contains one sample\n",
    "        #print(i)\n",
    " "
   ],
   "cell_type": "code",
   "metadata": {},
   "execution_count": 19,
   "outputs": []
  },
  {
   "cell_type": "code",
   "execution_count": 20,
   "metadata": {},
   "outputs": [
    {
     "output_type": "stream",
     "name": "stdout",
     "text": [
      "[0, 303, 1355, 2418, 3470, 4529, 5581, 6641, 7693, 8756, 9808, 10870, 11922, 12985, 14876, 15928, 16980, 18043, 19095, 20154, 21206, 22266, 23318, 24381, 25433, 26495, 27558, 28609, 29672, 30725, 31783, 32854, 33906, 34968, 36020, 37094, 38146, 39213, 40265, 41328, 42380, 43442, 44494, 45557, 46609, 47672, 48724, 49784, 50835, 51895, 52947, 54010, 55062, 56124, 57187, 58240, 59302, 60354, 61406, 62469, 63525, 64577, 65641, 66692, 67766, 68817, 69880, 70932, 71991, 73043, 74103, 75155, 76218, 77271, 78333, 79385, 80436, 81499, 82551]\n79\n"
     ]
    }
   ],
   "source": [
    "print(run_list) # Starting points. \n",
    "print(len(run_list))"
   ]
  },
  {
   "cell_type": "code",
   "execution_count": 21,
   "metadata": {},
   "outputs": [],
   "source": [
    "# data_merge.iloc[list(range(0,3))]"
   ]
  },
  {
   "cell_type": "code",
   "execution_count": 23,
   "metadata": {},
   "outputs": [
    {
     "output_type": "execute_result",
     "data": {
      "text/plain": [
       "      level_0 PrimaryKey DataType  Value  StatusCode  \\\n",
       "0        flag        561   0x0001   true  0x00000000   \n",
       "1        flag        560   0x0004      0  0x00000000   \n",
       "2        gate      Speed   0x000b    -30  0x00000000   \n",
       "3        gate       Safe   0x0001  false  0x00000000   \n",
       "4        gate   Position   0x000b   31.6  0x00000000   \n",
       "...       ...        ...      ...    ...         ...   \n",
       "83680   store   DiscSize   0x0003      1  0x00000000   \n",
       "83681   store   DiscSize   0x0003      1  0x00000000   \n",
       "83682   store   DiscSize   0x0003      1  0x00000000   \n",
       "83683   store   DiscSize   0x0003      1  0x00000000   \n",
       "83684   store   DiscSize   0x0003      1  0x00000000   \n",
       "\n",
       "                SourceTimeStamp                   ServerTimeStamp  \n",
       "0      2020-10-27T15:06:29.626Z  2020-10-27 15:05:22.626000+00:00  \n",
       "1      2020-10-27T15:06:29.629Z  2020-10-27 15:05:22.629000+00:00  \n",
       "2      2020-10-27T15:05:24.596Z  2020-10-27 15:05:24.596000+00:00  \n",
       "3      2020-10-27T15:05:24.596Z  2020-10-27 15:05:24.596000+00:00  \n",
       "4      2020-10-27T15:05:24.596Z  2020-10-27 15:05:24.596000+00:00  \n",
       "...                         ...                               ...  \n",
       "83680  2020-10-27T15:41:20.885Z  2020-10-27 15:41:20.885000+00:00  \n",
       "83681  2020-10-27T15:41:21.185Z  2020-10-27 15:41:21.185000+00:00  \n",
       "83682  2020-10-27T15:41:21.485Z  2020-10-27 15:41:21.485000+00:00  \n",
       "83683  2020-10-27T15:41:21.785Z  2020-10-27 15:41:21.785000+00:00  \n",
       "83684  2020-10-27T15:41:22.085Z  2020-10-27 15:41:22.085000+00:00  \n",
       "\n",
       "[83685 rows x 7 columns]"
      ],
      "text/html": "<div>\n<style scoped>\n    .dataframe tbody tr th:only-of-type {\n        vertical-align: middle;\n    }\n\n    .dataframe tbody tr th {\n        vertical-align: top;\n    }\n\n    .dataframe thead th {\n        text-align: right;\n    }\n</style>\n<table border=\"1\" class=\"dataframe\">\n  <thead>\n    <tr style=\"text-align: right;\">\n      <th></th>\n      <th>level_0</th>\n      <th>PrimaryKey</th>\n      <th>DataType</th>\n      <th>Value</th>\n      <th>StatusCode</th>\n      <th>SourceTimeStamp</th>\n      <th>ServerTimeStamp</th>\n    </tr>\n  </thead>\n  <tbody>\n    <tr>\n      <th>0</th>\n      <td>flag</td>\n      <td>561</td>\n      <td>0x0001</td>\n      <td>true</td>\n      <td>0x00000000</td>\n      <td>2020-10-27T15:06:29.626Z</td>\n      <td>2020-10-27 15:05:22.626000+00:00</td>\n    </tr>\n    <tr>\n      <th>1</th>\n      <td>flag</td>\n      <td>560</td>\n      <td>0x0004</td>\n      <td>0</td>\n      <td>0x00000000</td>\n      <td>2020-10-27T15:06:29.629Z</td>\n      <td>2020-10-27 15:05:22.629000+00:00</td>\n    </tr>\n    <tr>\n      <th>2</th>\n      <td>gate</td>\n      <td>Speed</td>\n      <td>0x000b</td>\n      <td>-30</td>\n      <td>0x00000000</td>\n      <td>2020-10-27T15:05:24.596Z</td>\n      <td>2020-10-27 15:05:24.596000+00:00</td>\n    </tr>\n    <tr>\n      <th>3</th>\n      <td>gate</td>\n      <td>Safe</td>\n      <td>0x0001</td>\n      <td>false</td>\n      <td>0x00000000</td>\n      <td>2020-10-27T15:05:24.596Z</td>\n      <td>2020-10-27 15:05:24.596000+00:00</td>\n    </tr>\n    <tr>\n      <th>4</th>\n      <td>gate</td>\n      <td>Position</td>\n      <td>0x000b</td>\n      <td>31.6</td>\n      <td>0x00000000</td>\n      <td>2020-10-27T15:05:24.596Z</td>\n      <td>2020-10-27 15:05:24.596000+00:00</td>\n    </tr>\n    <tr>\n      <th>...</th>\n      <td>...</td>\n      <td>...</td>\n      <td>...</td>\n      <td>...</td>\n      <td>...</td>\n      <td>...</td>\n      <td>...</td>\n    </tr>\n    <tr>\n      <th>83680</th>\n      <td>store</td>\n      <td>DiscSize</td>\n      <td>0x0003</td>\n      <td>1</td>\n      <td>0x00000000</td>\n      <td>2020-10-27T15:41:20.885Z</td>\n      <td>2020-10-27 15:41:20.885000+00:00</td>\n    </tr>\n    <tr>\n      <th>83681</th>\n      <td>store</td>\n      <td>DiscSize</td>\n      <td>0x0003</td>\n      <td>1</td>\n      <td>0x00000000</td>\n      <td>2020-10-27T15:41:21.185Z</td>\n      <td>2020-10-27 15:41:21.185000+00:00</td>\n    </tr>\n    <tr>\n      <th>83682</th>\n      <td>store</td>\n      <td>DiscSize</td>\n      <td>0x0003</td>\n      <td>1</td>\n      <td>0x00000000</td>\n      <td>2020-10-27T15:41:21.485Z</td>\n      <td>2020-10-27 15:41:21.485000+00:00</td>\n    </tr>\n    <tr>\n      <th>83683</th>\n      <td>store</td>\n      <td>DiscSize</td>\n      <td>0x0003</td>\n      <td>1</td>\n      <td>0x00000000</td>\n      <td>2020-10-27T15:41:21.785Z</td>\n      <td>2020-10-27 15:41:21.785000+00:00</td>\n    </tr>\n    <tr>\n      <th>83684</th>\n      <td>store</td>\n      <td>DiscSize</td>\n      <td>0x0003</td>\n      <td>1</td>\n      <td>0x00000000</td>\n      <td>2020-10-27T15:41:22.085Z</td>\n      <td>2020-10-27 15:41:22.085000+00:00</td>\n    </tr>\n  </tbody>\n</table>\n<p>83685 rows × 7 columns</p>\n</div>"
     },
     "metadata": {},
     "execution_count": 23
    }
   ],
   "source": [
    "#df_robpos = pd.DataFrame(pos,columns=['RobPos']) # Position of robot. 0: not important; 1: Robot in storage. Picking up the disk; 2:Robot in storage. Placing down the disk\n",
    "#data_merge = pd.concat([data_merge, df_robpos], axis=1, sort=False)\n",
    "data_merge"
   ]
  },
  {
   "cell_type": "markdown",
   "metadata": {},
   "source": [
    "The list contains the point i when the value is different. To consider the point where the value remains, consider i-1"
   ]
  },
  {
   "cell_type": "code",
   "execution_count": 24,
   "metadata": {},
   "outputs": [
    {
     "output_type": "stream",
     "name": "stdout",
     "text": [
      "Dictionary lenght is:78\n"
     ]
    }
   ],
   "source": [
    "d = {} # Dictionary that holds the sub-data-sets given by the starting point\n",
    "for i in range(len(run_list)-1): # Ignores the last value (set of values)\n",
    "    list_range = list(range(run_list[i],run_list[i+1]))\n",
    "    d['df{0}'.format(i)] = data_merge.iloc[list_range]\n",
    "    \n",
    "print('Dictionary lenght is:' + str(len(d)))"
   ]
  },
  {
   "cell_type": "markdown",
   "metadata": {},
   "source": [
    "## Assure conv_speed per sample "
   ]
  },
  {
   "cell_type": "code",
   "execution_count": 25,
   "metadata": {
    "scrolled": true
   },
   "outputs": [
    {
     "output_type": "stream",
     "name": "stdout",
     "text": [
      "0\n0\n0\n"
     ]
    }
   ],
   "source": [
    "conv_1 = 0\n",
    "conv_2 = 0\n",
    "conv_3 = 0\n",
    "conv1 = False\n",
    "conv2 = False\n",
    "conv3 = False\n",
    "for j in range(len(d)): # as many samples saved in dictionary\n",
    "    df = d['df'+ str(j)]\n",
    "    for i in range(len(df)): # as many row in the dataFrame\n",
    "        #print(df.iat[i,1])\n",
    "        if df.iat[i,1] == '27': # conv1\n",
    "            conv_1 = df.iat[i,3]\n",
    "            conv1 = True # the value shows at least once in the data set\n",
    "        if df.iat[i,1] == '28': # conv2\n",
    "            conv_2 = df.iat[i,3]\n",
    "            conv2 = True\n",
    "        if df.iat[i,1] == '29': # conv3\n",
    "            conv_3 = df.iat[i,3]\n",
    "            conv3 = True\n",
    "    if conv1 == False: # The value did not occur in this sample. Copy value from previous samples into this one\n",
    "        dic = {'PrimaryKey' : '27', 'Value': str(conv_1)}\n",
    "        df.loc[len(df)+1,'PrimaryKey'] = '27'\n",
    "        df.loc[len(df),'Value'] = str(conv_1)\n",
    "        df.loc[len(df),'DataType'] = 'NA'\n",
    "        df.loc[len(df),'StatusCode'] = 'NA'\n",
    "        df.loc[len(df),'SourceTimeStamp'] = 'NA'\n",
    "        df.loc[len(df),'ServerTimeStamp'] = 'NA'\n",
    "    if conv2 == False:\n",
    "        dic = {'PrimaryKey' : '27', 'Value': str(conv_2)}\n",
    "        df.loc[len(df)+1,'PrimaryKey'] = '28'\n",
    "        df.loc[len(df),'Value'] = str(conv_2)\n",
    "        df.loc[len(df),'DataType'] = 'NA'\n",
    "        df.loc[len(df),'StatusCode'] = 'NA'\n",
    "        df.loc[len(df),'SourceTimeStamp'] = 'NA'\n",
    "        df.loc[len(df),'ServerTimeStamp'] = 'NA'\n",
    "    if conv3 == False:\n",
    "        dic = {'PrimaryKey' : '27', 'Value': str(conv_3)}\n",
    "        df.loc[len(df)+1,'PrimaryKey'] = '29'\n",
    "        df.loc[len(df),'Value'] = str(conv_3)\n",
    "        df.loc[len(df),'DataType'] = 'NA'\n",
    "        df.loc[len(df),'StatusCode'] = 'NA'\n",
    "        df.loc[len(df),'SourceTimeStamp'] = 'NA'\n",
    "        df.loc[len(df),'ServerTimeStamp'] = 'NA'\n",
    "   \n",
    "    conv1 = False # reset conv for the next round\n",
    "    conv2 = False\n",
    "    conv3 = False\n",
    "print(conv_1)\n",
    "print(conv_2)\n",
    "print(conv_3)"
   ]
  },
  {
   "cell_type": "markdown",
   "metadata": {},
   "source": [
    "## Export individual data-sample to .csv"
   ]
  },
  {
   "cell_type": "code",
   "execution_count": 26,
   "metadata": {},
   "outputs": [
    {
     "output_type": "stream",
     "name": "stdout",
     "text": [
      "The data is saved at ../01_Data/201027/use_case1/Processed/Samples/sample_x.csv\n"
     ]
    }
   ],
   "source": [
    "for i in range(len(d)):\n",
    "    if i > 0: # always ignore the first sample due to data-acquisition misalligment\n",
    "        d['df' + str(i)].to_csv(path_sample_save + 'sample_' + str(i) + '.csv')\n",
    "print('The data is saved at ' + path_sample_save + 'sample_x.csv')"
   ]
  },
  {
   "cell_type": "markdown",
   "metadata": {},
   "source": [
    "## Testing area"
   ]
  },
  {
   "cell_type": "code",
   "execution_count": 27,
   "metadata": {},
   "outputs": [],
   "source": [
    "#d['df67']"
   ]
  },
  {
   "cell_type": "code",
   "execution_count": 28,
   "metadata": {},
   "outputs": [],
   "source": [
    "# list_range = list(range(run_list[0],run_list[1]))\n",
    "# print(list_range)"
   ]
  },
  {
   "cell_type": "code",
   "execution_count": 29,
   "metadata": {},
   "outputs": [],
   "source": [
    "# data_merge.iloc[list_range]"
   ]
  },
  {
   "cell_type": "code",
   "execution_count": 30,
   "metadata": {
    "scrolled": true
   },
   "outputs": [],
   "source": [
    "# data_rp.loc[:, 'PrimaryKey'] = '529_z'\n",
    "# data_rp"
   ]
  },
  {
   "cell_type": "code",
   "execution_count": 31,
   "metadata": {},
   "outputs": [],
   "source": [
    "# %matplotlib notebook \n",
    "# data_gate.head(400).plot(x='SourceTimeStamp', y= 'Value')\n",
    "# plt.xticks(rotation=45)"
   ]
  },
  {
   "cell_type": "code",
   "execution_count": 32,
   "metadata": {},
   "outputs": [],
   "source": [
    "# %matplotlib notebook \n",
    "# data_rp.head(200).plot( y= 'Value')\n",
    "# plt.xticks(rotation=45)"
   ]
  }
 ],
 "metadata": {
  "kernelspec": {
   "display_name": "Python 3",
   "language": "python",
   "name": "python3"
  },
  "language_info": {
   "codemirror_mode": {
    "name": "ipython",
    "version": 3
   },
   "file_extension": ".py",
   "mimetype": "text/x-python",
   "name": "python",
   "nbconvert_exporter": "python",
   "pygments_lexer": "ipython3",
   "version": "3.8.5-final"
  }
 },
 "nbformat": 4,
 "nbformat_minor": 4
}